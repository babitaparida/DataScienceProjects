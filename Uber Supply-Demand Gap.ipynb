{
 "cells": [
  {
   "cell_type": "markdown",
   "metadata": {},
   "source": [
    "### 1.Importing pandas, numpy,matplotlib and seaborn libraries"
   ]
  },
  {
   "cell_type": "code",
   "execution_count": 1,
   "metadata": {},
   "outputs": [],
   "source": [
    "import pandas as pd\n",
    "import numpy as np\n",
    "import matplotlib.pyplot as plt\n",
    "import seaborn as sns\n",
    "%matplotlib inline"
   ]
  },
  {
   "cell_type": "markdown",
   "metadata": {},
   "source": [
    "### 2.Data Reading and Inspection the CSV file"
   ]
  },
  {
   "cell_type": "code",
   "execution_count": 2,
   "metadata": {},
   "outputs": [
    {
     "data": {
      "text/html": [
       "<div>\n",
       "<style scoped>\n",
       "    .dataframe tbody tr th:only-of-type {\n",
       "        vertical-align: middle;\n",
       "    }\n",
       "\n",
       "    .dataframe tbody tr th {\n",
       "        vertical-align: top;\n",
       "    }\n",
       "\n",
       "    .dataframe thead th {\n",
       "        text-align: right;\n",
       "    }\n",
       "</style>\n",
       "<table border=\"1\" class=\"dataframe\">\n",
       "  <thead>\n",
       "    <tr style=\"text-align: right;\">\n",
       "      <th></th>\n",
       "      <th>Request id</th>\n",
       "      <th>Pickup point</th>\n",
       "      <th>Driver id</th>\n",
       "      <th>Status</th>\n",
       "      <th>Request timestamp</th>\n",
       "      <th>Drop timestamp</th>\n",
       "    </tr>\n",
       "  </thead>\n",
       "  <tbody>\n",
       "    <tr>\n",
       "      <th>0</th>\n",
       "      <td>619</td>\n",
       "      <td>Airport</td>\n",
       "      <td>1.0</td>\n",
       "      <td>Trip Completed</td>\n",
       "      <td>11/7/2016 11:51</td>\n",
       "      <td>11/7/2016 13:00</td>\n",
       "    </tr>\n",
       "    <tr>\n",
       "      <th>1</th>\n",
       "      <td>867</td>\n",
       "      <td>Airport</td>\n",
       "      <td>1.0</td>\n",
       "      <td>Trip Completed</td>\n",
       "      <td>11/7/2016 17:57</td>\n",
       "      <td>11/7/2016 18:47</td>\n",
       "    </tr>\n",
       "    <tr>\n",
       "      <th>2</th>\n",
       "      <td>1807</td>\n",
       "      <td>City</td>\n",
       "      <td>1.0</td>\n",
       "      <td>Trip Completed</td>\n",
       "      <td>12/7/2016 9:17</td>\n",
       "      <td>12/7/2016 9:58</td>\n",
       "    </tr>\n",
       "    <tr>\n",
       "      <th>3</th>\n",
       "      <td>2532</td>\n",
       "      <td>Airport</td>\n",
       "      <td>1.0</td>\n",
       "      <td>Trip Completed</td>\n",
       "      <td>12/7/2016 21:08</td>\n",
       "      <td>12/7/2016 22:03</td>\n",
       "    </tr>\n",
       "    <tr>\n",
       "      <th>4</th>\n",
       "      <td>3112</td>\n",
       "      <td>City</td>\n",
       "      <td>1.0</td>\n",
       "      <td>Trip Completed</td>\n",
       "      <td>13-07-2016 08:33:16</td>\n",
       "      <td>13-07-2016 09:25:47</td>\n",
       "    </tr>\n",
       "  </tbody>\n",
       "</table>\n",
       "</div>"
      ],
      "text/plain": [
       "   Request id Pickup point  Driver id          Status    Request timestamp  \\\n",
       "0         619      Airport        1.0  Trip Completed      11/7/2016 11:51   \n",
       "1         867      Airport        1.0  Trip Completed      11/7/2016 17:57   \n",
       "2        1807         City        1.0  Trip Completed       12/7/2016 9:17   \n",
       "3        2532      Airport        1.0  Trip Completed      12/7/2016 21:08   \n",
       "4        3112         City        1.0  Trip Completed  13-07-2016 08:33:16   \n",
       "\n",
       "        Drop timestamp  \n",
       "0      11/7/2016 13:00  \n",
       "1      11/7/2016 18:47  \n",
       "2       12/7/2016 9:58  \n",
       "3      12/7/2016 22:03  \n",
       "4  13-07-2016 09:25:47  "
      ]
     },
     "execution_count": 2,
     "metadata": {},
     "output_type": "execute_result"
    }
   ],
   "source": [
    "uber = pd.read_csv(\"Uber Request Data.csv\",encoding=\"ISO-8859-1\",delimiter = \",\")\n",
    "uber.head()"
   ]
  },
  {
   "cell_type": "code",
   "execution_count": 3,
   "metadata": {},
   "outputs": [
    {
     "name": "stdout",
     "output_type": "stream",
     "text": [
      "<class 'pandas.core.frame.DataFrame'>\n",
      "RangeIndex: 6745 entries, 0 to 6744\n",
      "Data columns (total 6 columns):\n",
      "Request id           6745 non-null int64\n",
      "Pickup point         6745 non-null object\n",
      "Driver id            4095 non-null float64\n",
      "Status               6745 non-null object\n",
      "Request timestamp    6745 non-null object\n",
      "Drop timestamp       2831 non-null object\n",
      "dtypes: float64(1), int64(1), object(4)\n",
      "memory usage: 316.2+ KB\n"
     ]
    }
   ],
   "source": [
    "uber.info()"
   ]
  },
  {
   "cell_type": "markdown",
   "metadata": {},
   "source": [
    "## 3.Cleaning the Data\n",
    "  #### 1.Column name has white spaces ,let's convert it with _\n",
    "  #### 2.Inspect duplicate values\n",
    "  #### 3.Inspect Null Values\n",
    "  #### 4. Fill NaN with 0 for Driver Id\n",
    "  #### 5.Convert Request_timestamp and Drop_timestamp  in order to have correct datetime format\n",
    "  "
   ]
  },
  {
   "cell_type": "markdown",
   "metadata": {},
   "source": [
    "#### 1.Column name has white spaces ,let's convert it with _"
   ]
  },
  {
   "cell_type": "code",
   "execution_count": 4,
   "metadata": {},
   "outputs": [
    {
     "data": {
      "text/html": [
       "<div>\n",
       "<style scoped>\n",
       "    .dataframe tbody tr th:only-of-type {\n",
       "        vertical-align: middle;\n",
       "    }\n",
       "\n",
       "    .dataframe tbody tr th {\n",
       "        vertical-align: top;\n",
       "    }\n",
       "\n",
       "    .dataframe thead th {\n",
       "        text-align: right;\n",
       "    }\n",
       "</style>\n",
       "<table border=\"1\" class=\"dataframe\">\n",
       "  <thead>\n",
       "    <tr style=\"text-align: right;\">\n",
       "      <th></th>\n",
       "      <th>Request_id</th>\n",
       "      <th>Pickup_point</th>\n",
       "      <th>Driver_id</th>\n",
       "      <th>Status</th>\n",
       "      <th>Request_timestamp</th>\n",
       "      <th>Drop_timestamp</th>\n",
       "    </tr>\n",
       "  </thead>\n",
       "  <tbody>\n",
       "    <tr>\n",
       "      <th>0</th>\n",
       "      <td>619</td>\n",
       "      <td>Airport</td>\n",
       "      <td>1.0</td>\n",
       "      <td>Trip Completed</td>\n",
       "      <td>11/7/2016 11:51</td>\n",
       "      <td>11/7/2016 13:00</td>\n",
       "    </tr>\n",
       "    <tr>\n",
       "      <th>1</th>\n",
       "      <td>867</td>\n",
       "      <td>Airport</td>\n",
       "      <td>1.0</td>\n",
       "      <td>Trip Completed</td>\n",
       "      <td>11/7/2016 17:57</td>\n",
       "      <td>11/7/2016 18:47</td>\n",
       "    </tr>\n",
       "    <tr>\n",
       "      <th>2</th>\n",
       "      <td>1807</td>\n",
       "      <td>City</td>\n",
       "      <td>1.0</td>\n",
       "      <td>Trip Completed</td>\n",
       "      <td>12/7/2016 9:17</td>\n",
       "      <td>12/7/2016 9:58</td>\n",
       "    </tr>\n",
       "    <tr>\n",
       "      <th>3</th>\n",
       "      <td>2532</td>\n",
       "      <td>Airport</td>\n",
       "      <td>1.0</td>\n",
       "      <td>Trip Completed</td>\n",
       "      <td>12/7/2016 21:08</td>\n",
       "      <td>12/7/2016 22:03</td>\n",
       "    </tr>\n",
       "    <tr>\n",
       "      <th>4</th>\n",
       "      <td>3112</td>\n",
       "      <td>City</td>\n",
       "      <td>1.0</td>\n",
       "      <td>Trip Completed</td>\n",
       "      <td>13-07-2016 08:33:16</td>\n",
       "      <td>13-07-2016 09:25:47</td>\n",
       "    </tr>\n",
       "  </tbody>\n",
       "</table>\n",
       "</div>"
      ],
      "text/plain": [
       "   Request_id Pickup_point  Driver_id          Status    Request_timestamp  \\\n",
       "0         619      Airport        1.0  Trip Completed      11/7/2016 11:51   \n",
       "1         867      Airport        1.0  Trip Completed      11/7/2016 17:57   \n",
       "2        1807         City        1.0  Trip Completed       12/7/2016 9:17   \n",
       "3        2532      Airport        1.0  Trip Completed      12/7/2016 21:08   \n",
       "4        3112         City        1.0  Trip Completed  13-07-2016 08:33:16   \n",
       "\n",
       "        Drop_timestamp  \n",
       "0      11/7/2016 13:00  \n",
       "1      11/7/2016 18:47  \n",
       "2       12/7/2016 9:58  \n",
       "3      12/7/2016 22:03  \n",
       "4  13-07-2016 09:25:47  "
      ]
     },
     "execution_count": 4,
     "metadata": {},
     "output_type": "execute_result"
    }
   ],
   "source": [
    "uber.columns = uber.columns.str.replace(' ', '_')\n",
    "uber.head()"
   ]
  },
  {
   "cell_type": "markdown",
   "metadata": {},
   "source": [
    "####   2.Inspect duplicate values"
   ]
  },
  {
   "cell_type": "code",
   "execution_count": 5,
   "metadata": {
    "scrolled": true
   },
   "outputs": [
    {
     "data": {
      "text/plain": [
       "Request_id           0.0\n",
       "Pickup_point         0.0\n",
       "Driver_id            0.0\n",
       "Status               0.0\n",
       "Request_timestamp    0.0\n",
       "Drop_timestamp       0.0\n",
       "dtype: float64"
      ]
     },
     "execution_count": 5,
     "metadata": {},
     "output_type": "execute_result"
    }
   ],
   "source": [
    "uber[uber.duplicated(['Request_id'], keep=False)].sum()"
   ]
  },
  {
   "cell_type": "markdown",
   "metadata": {},
   "source": [
    "#### 3.Inspect Null Values"
   ]
  },
  {
   "cell_type": "code",
   "execution_count": 6,
   "metadata": {},
   "outputs": [
    {
     "data": {
      "text/plain": [
       "Request_id              0\n",
       "Pickup_point            0\n",
       "Driver_id            2650\n",
       "Status                  0\n",
       "Request_timestamp       0\n",
       "Drop_timestamp       3914\n",
       "dtype: int64"
      ]
     },
     "execution_count": 6,
     "metadata": {},
     "output_type": "execute_result"
    }
   ],
   "source": [
    "# Write your code for column-wise null count here\n",
    "uber.isnull().sum(axis=0)"
   ]
  },
  {
   "cell_type": "markdown",
   "metadata": {},
   "source": [
    " #### 4. Fill NaN with 0 for Driver Id"
   ]
  },
  {
   "cell_type": "code",
   "execution_count": 7,
   "metadata": {},
   "outputs": [],
   "source": [
    "uber.Driver_id.fillna(0,inplace=True)\n"
   ]
  },
  {
   "cell_type": "code",
   "execution_count": 8,
   "metadata": {},
   "outputs": [
    {
     "data": {
      "text/plain": [
       "Request_id              0\n",
       "Pickup_point            0\n",
       "Driver_id               0\n",
       "Status                  0\n",
       "Request_timestamp       0\n",
       "Drop_timestamp       3914\n",
       "dtype: int64"
      ]
     },
     "execution_count": 8,
     "metadata": {},
     "output_type": "execute_result"
    }
   ],
   "source": [
    "uber.isnull().sum(axis=0)"
   ]
  },
  {
   "cell_type": "markdown",
   "metadata": {},
   "source": [
    "#### 5.Convert Request_timestamp and Drop_timestamp  in order to have correct datetime format"
   ]
  },
  {
   "cell_type": "code",
   "execution_count": 9,
   "metadata": {
    "scrolled": true
   },
   "outputs": [
    {
     "data": {
      "text/html": [
       "<div>\n",
       "<style scoped>\n",
       "    .dataframe tbody tr th:only-of-type {\n",
       "        vertical-align: middle;\n",
       "    }\n",
       "\n",
       "    .dataframe tbody tr th {\n",
       "        vertical-align: top;\n",
       "    }\n",
       "\n",
       "    .dataframe thead th {\n",
       "        text-align: right;\n",
       "    }\n",
       "</style>\n",
       "<table border=\"1\" class=\"dataframe\">\n",
       "  <thead>\n",
       "    <tr style=\"text-align: right;\">\n",
       "      <th></th>\n",
       "      <th>Request_id</th>\n",
       "      <th>Pickup_point</th>\n",
       "      <th>Driver_id</th>\n",
       "      <th>Status</th>\n",
       "      <th>Request_timestamp</th>\n",
       "      <th>Drop_timestamp</th>\n",
       "    </tr>\n",
       "  </thead>\n",
       "  <tbody>\n",
       "    <tr>\n",
       "      <th>0</th>\n",
       "      <td>619</td>\n",
       "      <td>Airport</td>\n",
       "      <td>1.0</td>\n",
       "      <td>Trip Completed</td>\n",
       "      <td>2016-11-07 11:51:00</td>\n",
       "      <td>2016-11-07 13:00:00</td>\n",
       "    </tr>\n",
       "    <tr>\n",
       "      <th>1</th>\n",
       "      <td>867</td>\n",
       "      <td>Airport</td>\n",
       "      <td>1.0</td>\n",
       "      <td>Trip Completed</td>\n",
       "      <td>2016-11-07 17:57:00</td>\n",
       "      <td>2016-11-07 18:47:00</td>\n",
       "    </tr>\n",
       "    <tr>\n",
       "      <th>2</th>\n",
       "      <td>1807</td>\n",
       "      <td>City</td>\n",
       "      <td>1.0</td>\n",
       "      <td>Trip Completed</td>\n",
       "      <td>2016-12-07 09:17:00</td>\n",
       "      <td>2016-12-07 09:58:00</td>\n",
       "    </tr>\n",
       "    <tr>\n",
       "      <th>3</th>\n",
       "      <td>2532</td>\n",
       "      <td>Airport</td>\n",
       "      <td>1.0</td>\n",
       "      <td>Trip Completed</td>\n",
       "      <td>2016-12-07 21:08:00</td>\n",
       "      <td>2016-12-07 22:03:00</td>\n",
       "    </tr>\n",
       "    <tr>\n",
       "      <th>4</th>\n",
       "      <td>3112</td>\n",
       "      <td>City</td>\n",
       "      <td>1.0</td>\n",
       "      <td>Trip Completed</td>\n",
       "      <td>2016-07-13 08:33:16</td>\n",
       "      <td>2016-07-13 09:25:47</td>\n",
       "    </tr>\n",
       "    <tr>\n",
       "      <th>5</th>\n",
       "      <td>3879</td>\n",
       "      <td>Airport</td>\n",
       "      <td>1.0</td>\n",
       "      <td>Trip Completed</td>\n",
       "      <td>2016-07-13 21:57:28</td>\n",
       "      <td>2016-07-13 22:28:59</td>\n",
       "    </tr>\n",
       "    <tr>\n",
       "      <th>6</th>\n",
       "      <td>4270</td>\n",
       "      <td>Airport</td>\n",
       "      <td>1.0</td>\n",
       "      <td>Trip Completed</td>\n",
       "      <td>2016-07-14 06:15:32</td>\n",
       "      <td>2016-07-14 07:13:15</td>\n",
       "    </tr>\n",
       "    <tr>\n",
       "      <th>7</th>\n",
       "      <td>5510</td>\n",
       "      <td>Airport</td>\n",
       "      <td>1.0</td>\n",
       "      <td>Trip Completed</td>\n",
       "      <td>2016-07-15 05:11:52</td>\n",
       "      <td>2016-07-15 06:07:52</td>\n",
       "    </tr>\n",
       "    <tr>\n",
       "      <th>8</th>\n",
       "      <td>6248</td>\n",
       "      <td>City</td>\n",
       "      <td>1.0</td>\n",
       "      <td>Trip Completed</td>\n",
       "      <td>2016-07-15 17:57:27</td>\n",
       "      <td>2016-07-15 18:50:51</td>\n",
       "    </tr>\n",
       "    <tr>\n",
       "      <th>9</th>\n",
       "      <td>267</td>\n",
       "      <td>City</td>\n",
       "      <td>2.0</td>\n",
       "      <td>Trip Completed</td>\n",
       "      <td>2016-11-07 06:46:00</td>\n",
       "      <td>2016-11-07 07:25:00</td>\n",
       "    </tr>\n",
       "    <tr>\n",
       "      <th>10</th>\n",
       "      <td>1467</td>\n",
       "      <td>Airport</td>\n",
       "      <td>2.0</td>\n",
       "      <td>Trip Completed</td>\n",
       "      <td>2016-12-07 05:08:00</td>\n",
       "      <td>2016-12-07 06:02:00</td>\n",
       "    </tr>\n",
       "    <tr>\n",
       "      <th>11</th>\n",
       "      <td>1983</td>\n",
       "      <td>City</td>\n",
       "      <td>2.0</td>\n",
       "      <td>Trip Completed</td>\n",
       "      <td>2016-12-07 12:30:00</td>\n",
       "      <td>2016-12-07 12:57:00</td>\n",
       "    </tr>\n",
       "    <tr>\n",
       "      <th>12</th>\n",
       "      <td>2784</td>\n",
       "      <td>Airport</td>\n",
       "      <td>2.0</td>\n",
       "      <td>Trip Completed</td>\n",
       "      <td>2016-07-13 04:49:20</td>\n",
       "      <td>2016-07-13 05:23:03</td>\n",
       "    </tr>\n",
       "    <tr>\n",
       "      <th>13</th>\n",
       "      <td>3075</td>\n",
       "      <td>City</td>\n",
       "      <td>2.0</td>\n",
       "      <td>Trip Completed</td>\n",
       "      <td>2016-07-13 08:02:53</td>\n",
       "      <td>2016-07-13 09:16:19</td>\n",
       "    </tr>\n",
       "    <tr>\n",
       "      <th>14</th>\n",
       "      <td>3379</td>\n",
       "      <td>City</td>\n",
       "      <td>2.0</td>\n",
       "      <td>Trip Completed</td>\n",
       "      <td>2016-07-13 14:23:02</td>\n",
       "      <td>2016-07-13 15:35:18</td>\n",
       "    </tr>\n",
       "    <tr>\n",
       "      <th>15</th>\n",
       "      <td>3482</td>\n",
       "      <td>Airport</td>\n",
       "      <td>2.0</td>\n",
       "      <td>Trip Completed</td>\n",
       "      <td>2016-07-13 17:23:18</td>\n",
       "      <td>2016-07-13 18:20:51</td>\n",
       "    </tr>\n",
       "    <tr>\n",
       "      <th>16</th>\n",
       "      <td>4652</td>\n",
       "      <td>City</td>\n",
       "      <td>2.0</td>\n",
       "      <td>Trip Completed</td>\n",
       "      <td>2016-07-14 12:01:02</td>\n",
       "      <td>2016-07-14 12:36:46</td>\n",
       "    </tr>\n",
       "    <tr>\n",
       "      <th>17</th>\n",
       "      <td>5335</td>\n",
       "      <td>Airport</td>\n",
       "      <td>2.0</td>\n",
       "      <td>Trip Completed</td>\n",
       "      <td>2016-07-14 22:24:13</td>\n",
       "      <td>2016-07-14 23:18:52</td>\n",
       "    </tr>\n",
       "    <tr>\n",
       "      <th>18</th>\n",
       "      <td>535</td>\n",
       "      <td>Airport</td>\n",
       "      <td>3.0</td>\n",
       "      <td>Trip Completed</td>\n",
       "      <td>2016-11-07 10:00:00</td>\n",
       "      <td>2016-11-07 10:31:00</td>\n",
       "    </tr>\n",
       "    <tr>\n",
       "      <th>19</th>\n",
       "      <td>960</td>\n",
       "      <td>Airport</td>\n",
       "      <td>3.0</td>\n",
       "      <td>Trip Completed</td>\n",
       "      <td>2016-11-07 18:45:00</td>\n",
       "      <td>2016-11-07 19:23:00</td>\n",
       "    </tr>\n",
       "    <tr>\n",
       "      <th>20</th>\n",
       "      <td>1934</td>\n",
       "      <td>Airport</td>\n",
       "      <td>3.0</td>\n",
       "      <td>Trip Completed</td>\n",
       "      <td>2016-12-07 11:17:00</td>\n",
       "      <td>2016-12-07 12:23:00</td>\n",
       "    </tr>\n",
       "    <tr>\n",
       "      <th>21</th>\n",
       "      <td>2083</td>\n",
       "      <td>Airport</td>\n",
       "      <td>3.0</td>\n",
       "      <td>Trip Completed</td>\n",
       "      <td>2016-12-07 15:46:00</td>\n",
       "      <td>2016-12-07 16:40:00</td>\n",
       "    </tr>\n",
       "    <tr>\n",
       "      <th>22</th>\n",
       "      <td>2211</td>\n",
       "      <td>Airport</td>\n",
       "      <td>3.0</td>\n",
       "      <td>Trip Completed</td>\n",
       "      <td>2016-12-07 18:00:00</td>\n",
       "      <td>2016-12-07 18:28:00</td>\n",
       "    </tr>\n",
       "    <tr>\n",
       "      <th>23</th>\n",
       "      <td>3096</td>\n",
       "      <td>Airport</td>\n",
       "      <td>3.0</td>\n",
       "      <td>Trip Completed</td>\n",
       "      <td>2016-07-13 08:17:29</td>\n",
       "      <td>2016-07-13 09:22:37</td>\n",
       "    </tr>\n",
       "    <tr>\n",
       "      <th>24</th>\n",
       "      <td>3881</td>\n",
       "      <td>Airport</td>\n",
       "      <td>3.0</td>\n",
       "      <td>Trip Completed</td>\n",
       "      <td>2016-07-13 21:54:18</td>\n",
       "      <td>2016-07-13 22:51:23</td>\n",
       "    </tr>\n",
       "    <tr>\n",
       "      <th>25</th>\n",
       "      <td>5254</td>\n",
       "      <td>City</td>\n",
       "      <td>3.0</td>\n",
       "      <td>Trip Completed</td>\n",
       "      <td>2016-07-14 21:23:03</td>\n",
       "      <td>2016-07-14 22:25:19</td>\n",
       "    </tr>\n",
       "    <tr>\n",
       "      <th>26</th>\n",
       "      <td>5434</td>\n",
       "      <td>City</td>\n",
       "      <td>3.0</td>\n",
       "      <td>Trip Completed</td>\n",
       "      <td>2016-07-15 02:41:38</td>\n",
       "      <td>2016-07-15 03:24:43</td>\n",
       "    </tr>\n",
       "    <tr>\n",
       "      <th>27</th>\n",
       "      <td>5916</td>\n",
       "      <td>City</td>\n",
       "      <td>3.0</td>\n",
       "      <td>Trip Completed</td>\n",
       "      <td>2016-07-15 10:00:43</td>\n",
       "      <td>2016-07-15 10:53:06</td>\n",
       "    </tr>\n",
       "    <tr>\n",
       "      <th>28</th>\n",
       "      <td>669</td>\n",
       "      <td>City</td>\n",
       "      <td>4.0</td>\n",
       "      <td>Trip Completed</td>\n",
       "      <td>2016-11-07 13:08:00</td>\n",
       "      <td>2016-11-07 13:49:00</td>\n",
       "    </tr>\n",
       "    <tr>\n",
       "      <th>29</th>\n",
       "      <td>1567</td>\n",
       "      <td>Airport</td>\n",
       "      <td>4.0</td>\n",
       "      <td>Trip Completed</td>\n",
       "      <td>2016-12-07 06:21:00</td>\n",
       "      <td>2016-12-07 07:10:00</td>\n",
       "    </tr>\n",
       "    <tr>\n",
       "      <th>...</th>\n",
       "      <td>...</td>\n",
       "      <td>...</td>\n",
       "      <td>...</td>\n",
       "      <td>...</td>\n",
       "      <td>...</td>\n",
       "      <td>...</td>\n",
       "    </tr>\n",
       "    <tr>\n",
       "      <th>270</th>\n",
       "      <td>2473</td>\n",
       "      <td>Airport</td>\n",
       "      <td>27.0</td>\n",
       "      <td>Trip Completed</td>\n",
       "      <td>2016-12-07 20:43:00</td>\n",
       "      <td>2016-12-07 21:20:00</td>\n",
       "    </tr>\n",
       "    <tr>\n",
       "      <th>271</th>\n",
       "      <td>2869</td>\n",
       "      <td>Airport</td>\n",
       "      <td>27.0</td>\n",
       "      <td>Trip Completed</td>\n",
       "      <td>2016-07-13 05:50:09</td>\n",
       "      <td>2016-07-13 06:27:07</td>\n",
       "    </tr>\n",
       "    <tr>\n",
       "      <th>272</th>\n",
       "      <td>3742</td>\n",
       "      <td>Airport</td>\n",
       "      <td>27.0</td>\n",
       "      <td>Trip Completed</td>\n",
       "      <td>2016-07-13 20:24:23</td>\n",
       "      <td>2016-07-13 20:48:05</td>\n",
       "    </tr>\n",
       "    <tr>\n",
       "      <th>273</th>\n",
       "      <td>4440</td>\n",
       "      <td>Airport</td>\n",
       "      <td>27.0</td>\n",
       "      <td>Trip Completed</td>\n",
       "      <td>2016-07-14 08:26:29</td>\n",
       "      <td>2016-07-14 09:00:36</td>\n",
       "    </tr>\n",
       "    <tr>\n",
       "      <th>274</th>\n",
       "      <td>5234</td>\n",
       "      <td>City</td>\n",
       "      <td>27.0</td>\n",
       "      <td>Trip Completed</td>\n",
       "      <td>2016-07-14 21:09:47</td>\n",
       "      <td>2016-07-14 21:52:37</td>\n",
       "    </tr>\n",
       "    <tr>\n",
       "      <th>275</th>\n",
       "      <td>6354</td>\n",
       "      <td>Airport</td>\n",
       "      <td>27.0</td>\n",
       "      <td>Trip Completed</td>\n",
       "      <td>2016-07-15 18:59:01</td>\n",
       "      <td>2016-07-15 19:35:10</td>\n",
       "    </tr>\n",
       "    <tr>\n",
       "      <th>276</th>\n",
       "      <td>6638</td>\n",
       "      <td>City</td>\n",
       "      <td>27.0</td>\n",
       "      <td>Trip Completed</td>\n",
       "      <td>2016-07-15 21:59:10</td>\n",
       "      <td>2016-07-15 23:13:18</td>\n",
       "    </tr>\n",
       "    <tr>\n",
       "      <th>277</th>\n",
       "      <td>84</td>\n",
       "      <td>City</td>\n",
       "      <td>28.0</td>\n",
       "      <td>Trip Completed</td>\n",
       "      <td>2016-11-07 04:50:00</td>\n",
       "      <td>2016-11-07 05:26:00</td>\n",
       "    </tr>\n",
       "    <tr>\n",
       "      <th>278</th>\n",
       "      <td>1199</td>\n",
       "      <td>City</td>\n",
       "      <td>28.0</td>\n",
       "      <td>Trip Completed</td>\n",
       "      <td>2016-11-07 21:17:00</td>\n",
       "      <td>2016-11-07 21:53:00</td>\n",
       "    </tr>\n",
       "    <tr>\n",
       "      <th>279</th>\n",
       "      <td>1676</td>\n",
       "      <td>Airport</td>\n",
       "      <td>28.0</td>\n",
       "      <td>Trip Completed</td>\n",
       "      <td>2016-12-07 07:44:00</td>\n",
       "      <td>2016-12-07 08:40:00</td>\n",
       "    </tr>\n",
       "    <tr>\n",
       "      <th>280</th>\n",
       "      <td>2774</td>\n",
       "      <td>City</td>\n",
       "      <td>28.0</td>\n",
       "      <td>Trip Completed</td>\n",
       "      <td>2016-07-13 04:33:38</td>\n",
       "      <td>2016-07-13 05:13:54</td>\n",
       "    </tr>\n",
       "    <tr>\n",
       "      <th>281</th>\n",
       "      <td>3220</td>\n",
       "      <td>Airport</td>\n",
       "      <td>28.0</td>\n",
       "      <td>Trip Completed</td>\n",
       "      <td>2016-07-13 09:51:41</td>\n",
       "      <td>2016-07-13 10:24:39</td>\n",
       "    </tr>\n",
       "    <tr>\n",
       "      <th>282</th>\n",
       "      <td>3718</td>\n",
       "      <td>Airport</td>\n",
       "      <td>28.0</td>\n",
       "      <td>Trip Completed</td>\n",
       "      <td>2016-07-13 19:56:20</td>\n",
       "      <td>2016-07-13 20:47:17</td>\n",
       "    </tr>\n",
       "    <tr>\n",
       "      <th>283</th>\n",
       "      <td>4904</td>\n",
       "      <td>Airport</td>\n",
       "      <td>28.0</td>\n",
       "      <td>Trip Completed</td>\n",
       "      <td>2016-07-14 18:02:23</td>\n",
       "      <td>2016-07-14 18:58:49</td>\n",
       "    </tr>\n",
       "    <tr>\n",
       "      <th>284</th>\n",
       "      <td>6527</td>\n",
       "      <td>Airport</td>\n",
       "      <td>28.0</td>\n",
       "      <td>Trip Completed</td>\n",
       "      <td>2016-07-15 20:54:01</td>\n",
       "      <td>2016-07-15 21:53:29</td>\n",
       "    </tr>\n",
       "    <tr>\n",
       "      <th>285</th>\n",
       "      <td>6710</td>\n",
       "      <td>City</td>\n",
       "      <td>28.0</td>\n",
       "      <td>Trip Completed</td>\n",
       "      <td>2016-07-15 23:02:36</td>\n",
       "      <td>2016-07-16 00:12:12</td>\n",
       "    </tr>\n",
       "    <tr>\n",
       "      <th>286</th>\n",
       "      <td>1584</td>\n",
       "      <td>Airport</td>\n",
       "      <td>29.0</td>\n",
       "      <td>Trip Completed</td>\n",
       "      <td>2016-12-07 06:26:00</td>\n",
       "      <td>2016-12-07 07:18:00</td>\n",
       "    </tr>\n",
       "    <tr>\n",
       "      <th>287</th>\n",
       "      <td>1966</td>\n",
       "      <td>Airport</td>\n",
       "      <td>29.0</td>\n",
       "      <td>Trip Completed</td>\n",
       "      <td>2016-12-07 12:05:00</td>\n",
       "      <td>2016-12-07 13:12:00</td>\n",
       "    </tr>\n",
       "    <tr>\n",
       "      <th>288</th>\n",
       "      <td>2827</td>\n",
       "      <td>City</td>\n",
       "      <td>29.0</td>\n",
       "      <td>Trip Completed</td>\n",
       "      <td>2016-07-13 05:18:31</td>\n",
       "      <td>2016-07-13 06:18:22</td>\n",
       "    </tr>\n",
       "    <tr>\n",
       "      <th>289</th>\n",
       "      <td>2945</td>\n",
       "      <td>Airport</td>\n",
       "      <td>29.0</td>\n",
       "      <td>Trip Completed</td>\n",
       "      <td>2016-07-13 06:34:13</td>\n",
       "      <td>2016-07-13 07:28:05</td>\n",
       "    </tr>\n",
       "    <tr>\n",
       "      <th>290</th>\n",
       "      <td>3365</td>\n",
       "      <td>City</td>\n",
       "      <td>29.0</td>\n",
       "      <td>Trip Completed</td>\n",
       "      <td>2016-07-13 13:47:14</td>\n",
       "      <td>2016-07-13 14:51:51</td>\n",
       "    </tr>\n",
       "    <tr>\n",
       "      <th>291</th>\n",
       "      <td>3548</td>\n",
       "      <td>Airport</td>\n",
       "      <td>29.0</td>\n",
       "      <td>Trip Completed</td>\n",
       "      <td>2016-07-13 18:07:42</td>\n",
       "      <td>2016-07-13 19:12:22</td>\n",
       "    </tr>\n",
       "    <tr>\n",
       "      <th>292</th>\n",
       "      <td>3753</td>\n",
       "      <td>City</td>\n",
       "      <td>29.0</td>\n",
       "      <td>Trip Completed</td>\n",
       "      <td>2016-07-13 20:30:08</td>\n",
       "      <td>2016-07-13 21:42:32</td>\n",
       "    </tr>\n",
       "    <tr>\n",
       "      <th>293</th>\n",
       "      <td>4569</td>\n",
       "      <td>Airport</td>\n",
       "      <td>29.0</td>\n",
       "      <td>Trip Completed</td>\n",
       "      <td>2016-07-14 09:48:17</td>\n",
       "      <td>2016-07-14 10:49:39</td>\n",
       "    </tr>\n",
       "    <tr>\n",
       "      <th>294</th>\n",
       "      <td>6309</td>\n",
       "      <td>Airport</td>\n",
       "      <td>29.0</td>\n",
       "      <td>Trip Completed</td>\n",
       "      <td>2016-07-15 18:29:54</td>\n",
       "      <td>2016-07-15 19:42:21</td>\n",
       "    </tr>\n",
       "    <tr>\n",
       "      <th>295</th>\n",
       "      <td>6437</td>\n",
       "      <td>City</td>\n",
       "      <td>29.0</td>\n",
       "      <td>Trip Completed</td>\n",
       "      <td>2016-07-15 19:53:52</td>\n",
       "      <td>2016-07-15 20:26:32</td>\n",
       "    </tr>\n",
       "    <tr>\n",
       "      <th>296</th>\n",
       "      <td>517</td>\n",
       "      <td>Airport</td>\n",
       "      <td>30.0</td>\n",
       "      <td>Trip Completed</td>\n",
       "      <td>2016-11-07 09:45:00</td>\n",
       "      <td>2016-11-07 10:24:00</td>\n",
       "    </tr>\n",
       "    <tr>\n",
       "      <th>297</th>\n",
       "      <td>1406</td>\n",
       "      <td>Airport</td>\n",
       "      <td>30.0</td>\n",
       "      <td>Trip Completed</td>\n",
       "      <td>2016-12-07 03:02:00</td>\n",
       "      <td>2016-12-07 03:55:00</td>\n",
       "    </tr>\n",
       "    <tr>\n",
       "      <th>298</th>\n",
       "      <td>1643</td>\n",
       "      <td>Airport</td>\n",
       "      <td>30.0</td>\n",
       "      <td>Trip Completed</td>\n",
       "      <td>2016-12-07 07:18:00</td>\n",
       "      <td>2016-12-07 08:10:00</td>\n",
       "    </tr>\n",
       "    <tr>\n",
       "      <th>299</th>\n",
       "      <td>2108</td>\n",
       "      <td>Airport</td>\n",
       "      <td>30.0</td>\n",
       "      <td>Trip Completed</td>\n",
       "      <td>2016-12-07 16:14:00</td>\n",
       "      <td>2016-12-07 16:48:00</td>\n",
       "    </tr>\n",
       "  </tbody>\n",
       "</table>\n",
       "<p>300 rows × 6 columns</p>\n",
       "</div>"
      ],
      "text/plain": [
       "     Request_id Pickup_point  Driver_id          Status   Request_timestamp  \\\n",
       "0           619      Airport        1.0  Trip Completed 2016-11-07 11:51:00   \n",
       "1           867      Airport        1.0  Trip Completed 2016-11-07 17:57:00   \n",
       "2          1807         City        1.0  Trip Completed 2016-12-07 09:17:00   \n",
       "3          2532      Airport        1.0  Trip Completed 2016-12-07 21:08:00   \n",
       "4          3112         City        1.0  Trip Completed 2016-07-13 08:33:16   \n",
       "5          3879      Airport        1.0  Trip Completed 2016-07-13 21:57:28   \n",
       "6          4270      Airport        1.0  Trip Completed 2016-07-14 06:15:32   \n",
       "7          5510      Airport        1.0  Trip Completed 2016-07-15 05:11:52   \n",
       "8          6248         City        1.0  Trip Completed 2016-07-15 17:57:27   \n",
       "9           267         City        2.0  Trip Completed 2016-11-07 06:46:00   \n",
       "10         1467      Airport        2.0  Trip Completed 2016-12-07 05:08:00   \n",
       "11         1983         City        2.0  Trip Completed 2016-12-07 12:30:00   \n",
       "12         2784      Airport        2.0  Trip Completed 2016-07-13 04:49:20   \n",
       "13         3075         City        2.0  Trip Completed 2016-07-13 08:02:53   \n",
       "14         3379         City        2.0  Trip Completed 2016-07-13 14:23:02   \n",
       "15         3482      Airport        2.0  Trip Completed 2016-07-13 17:23:18   \n",
       "16         4652         City        2.0  Trip Completed 2016-07-14 12:01:02   \n",
       "17         5335      Airport        2.0  Trip Completed 2016-07-14 22:24:13   \n",
       "18          535      Airport        3.0  Trip Completed 2016-11-07 10:00:00   \n",
       "19          960      Airport        3.0  Trip Completed 2016-11-07 18:45:00   \n",
       "20         1934      Airport        3.0  Trip Completed 2016-12-07 11:17:00   \n",
       "21         2083      Airport        3.0  Trip Completed 2016-12-07 15:46:00   \n",
       "22         2211      Airport        3.0  Trip Completed 2016-12-07 18:00:00   \n",
       "23         3096      Airport        3.0  Trip Completed 2016-07-13 08:17:29   \n",
       "24         3881      Airport        3.0  Trip Completed 2016-07-13 21:54:18   \n",
       "25         5254         City        3.0  Trip Completed 2016-07-14 21:23:03   \n",
       "26         5434         City        3.0  Trip Completed 2016-07-15 02:41:38   \n",
       "27         5916         City        3.0  Trip Completed 2016-07-15 10:00:43   \n",
       "28          669         City        4.0  Trip Completed 2016-11-07 13:08:00   \n",
       "29         1567      Airport        4.0  Trip Completed 2016-12-07 06:21:00   \n",
       "..          ...          ...        ...             ...                 ...   \n",
       "270        2473      Airport       27.0  Trip Completed 2016-12-07 20:43:00   \n",
       "271        2869      Airport       27.0  Trip Completed 2016-07-13 05:50:09   \n",
       "272        3742      Airport       27.0  Trip Completed 2016-07-13 20:24:23   \n",
       "273        4440      Airport       27.0  Trip Completed 2016-07-14 08:26:29   \n",
       "274        5234         City       27.0  Trip Completed 2016-07-14 21:09:47   \n",
       "275        6354      Airport       27.0  Trip Completed 2016-07-15 18:59:01   \n",
       "276        6638         City       27.0  Trip Completed 2016-07-15 21:59:10   \n",
       "277          84         City       28.0  Trip Completed 2016-11-07 04:50:00   \n",
       "278        1199         City       28.0  Trip Completed 2016-11-07 21:17:00   \n",
       "279        1676      Airport       28.0  Trip Completed 2016-12-07 07:44:00   \n",
       "280        2774         City       28.0  Trip Completed 2016-07-13 04:33:38   \n",
       "281        3220      Airport       28.0  Trip Completed 2016-07-13 09:51:41   \n",
       "282        3718      Airport       28.0  Trip Completed 2016-07-13 19:56:20   \n",
       "283        4904      Airport       28.0  Trip Completed 2016-07-14 18:02:23   \n",
       "284        6527      Airport       28.0  Trip Completed 2016-07-15 20:54:01   \n",
       "285        6710         City       28.0  Trip Completed 2016-07-15 23:02:36   \n",
       "286        1584      Airport       29.0  Trip Completed 2016-12-07 06:26:00   \n",
       "287        1966      Airport       29.0  Trip Completed 2016-12-07 12:05:00   \n",
       "288        2827         City       29.0  Trip Completed 2016-07-13 05:18:31   \n",
       "289        2945      Airport       29.0  Trip Completed 2016-07-13 06:34:13   \n",
       "290        3365         City       29.0  Trip Completed 2016-07-13 13:47:14   \n",
       "291        3548      Airport       29.0  Trip Completed 2016-07-13 18:07:42   \n",
       "292        3753         City       29.0  Trip Completed 2016-07-13 20:30:08   \n",
       "293        4569      Airport       29.0  Trip Completed 2016-07-14 09:48:17   \n",
       "294        6309      Airport       29.0  Trip Completed 2016-07-15 18:29:54   \n",
       "295        6437         City       29.0  Trip Completed 2016-07-15 19:53:52   \n",
       "296         517      Airport       30.0  Trip Completed 2016-11-07 09:45:00   \n",
       "297        1406      Airport       30.0  Trip Completed 2016-12-07 03:02:00   \n",
       "298        1643      Airport       30.0  Trip Completed 2016-12-07 07:18:00   \n",
       "299        2108      Airport       30.0  Trip Completed 2016-12-07 16:14:00   \n",
       "\n",
       "         Drop_timestamp  \n",
       "0   2016-11-07 13:00:00  \n",
       "1   2016-11-07 18:47:00  \n",
       "2   2016-12-07 09:58:00  \n",
       "3   2016-12-07 22:03:00  \n",
       "4   2016-07-13 09:25:47  \n",
       "5   2016-07-13 22:28:59  \n",
       "6   2016-07-14 07:13:15  \n",
       "7   2016-07-15 06:07:52  \n",
       "8   2016-07-15 18:50:51  \n",
       "9   2016-11-07 07:25:00  \n",
       "10  2016-12-07 06:02:00  \n",
       "11  2016-12-07 12:57:00  \n",
       "12  2016-07-13 05:23:03  \n",
       "13  2016-07-13 09:16:19  \n",
       "14  2016-07-13 15:35:18  \n",
       "15  2016-07-13 18:20:51  \n",
       "16  2016-07-14 12:36:46  \n",
       "17  2016-07-14 23:18:52  \n",
       "18  2016-11-07 10:31:00  \n",
       "19  2016-11-07 19:23:00  \n",
       "20  2016-12-07 12:23:00  \n",
       "21  2016-12-07 16:40:00  \n",
       "22  2016-12-07 18:28:00  \n",
       "23  2016-07-13 09:22:37  \n",
       "24  2016-07-13 22:51:23  \n",
       "25  2016-07-14 22:25:19  \n",
       "26  2016-07-15 03:24:43  \n",
       "27  2016-07-15 10:53:06  \n",
       "28  2016-11-07 13:49:00  \n",
       "29  2016-12-07 07:10:00  \n",
       "..                  ...  \n",
       "270 2016-12-07 21:20:00  \n",
       "271 2016-07-13 06:27:07  \n",
       "272 2016-07-13 20:48:05  \n",
       "273 2016-07-14 09:00:36  \n",
       "274 2016-07-14 21:52:37  \n",
       "275 2016-07-15 19:35:10  \n",
       "276 2016-07-15 23:13:18  \n",
       "277 2016-11-07 05:26:00  \n",
       "278 2016-11-07 21:53:00  \n",
       "279 2016-12-07 08:40:00  \n",
       "280 2016-07-13 05:13:54  \n",
       "281 2016-07-13 10:24:39  \n",
       "282 2016-07-13 20:47:17  \n",
       "283 2016-07-14 18:58:49  \n",
       "284 2016-07-15 21:53:29  \n",
       "285 2016-07-16 00:12:12  \n",
       "286 2016-12-07 07:18:00  \n",
       "287 2016-12-07 13:12:00  \n",
       "288 2016-07-13 06:18:22  \n",
       "289 2016-07-13 07:28:05  \n",
       "290 2016-07-13 14:51:51  \n",
       "291 2016-07-13 19:12:22  \n",
       "292 2016-07-13 21:42:32  \n",
       "293 2016-07-14 10:49:39  \n",
       "294 2016-07-15 19:42:21  \n",
       "295 2016-07-15 20:26:32  \n",
       "296 2016-11-07 10:24:00  \n",
       "297 2016-12-07 03:55:00  \n",
       "298 2016-12-07 08:10:00  \n",
       "299 2016-12-07 16:48:00  \n",
       "\n",
       "[300 rows x 6 columns]"
      ]
     },
     "execution_count": 9,
     "metadata": {},
     "output_type": "execute_result"
    }
   ],
   "source": [
    "uber[\"Request_timestamp\"]=pd.to_datetime(uber.Request_timestamp)\n",
    "uber[\"Drop_timestamp\"]=pd.to_datetime(uber.Drop_timestamp)\n",
    "uber.head(300)"
   ]
  },
  {
   "cell_type": "code",
   "execution_count": 10,
   "metadata": {},
   "outputs": [
    {
     "data": {
      "text/plain": [
       "Request_id              0\n",
       "Pickup_point            0\n",
       "Driver_id               0\n",
       "Status                  0\n",
       "Request_timestamp       0\n",
       "Drop_timestamp       3914\n",
       "dtype: int64"
      ]
     },
     "execution_count": 10,
     "metadata": {},
     "output_type": "execute_result"
    }
   ],
   "source": [
    "uber.isnull().sum(axis=0)"
   ]
  },
  {
   "cell_type": "markdown",
   "metadata": {},
   "source": [
    "### 6.Add hour and Day column which would be used for further analysis"
   ]
  },
  {
   "cell_type": "code",
   "execution_count": 11,
   "metadata": {},
   "outputs": [
    {
     "data": {
      "text/html": [
       "<div>\n",
       "<style scoped>\n",
       "    .dataframe tbody tr th:only-of-type {\n",
       "        vertical-align: middle;\n",
       "    }\n",
       "\n",
       "    .dataframe tbody tr th {\n",
       "        vertical-align: top;\n",
       "    }\n",
       "\n",
       "    .dataframe thead th {\n",
       "        text-align: right;\n",
       "    }\n",
       "</style>\n",
       "<table border=\"1\" class=\"dataframe\">\n",
       "  <thead>\n",
       "    <tr style=\"text-align: right;\">\n",
       "      <th></th>\n",
       "      <th>Request_id</th>\n",
       "      <th>Pickup_point</th>\n",
       "      <th>Driver_id</th>\n",
       "      <th>Status</th>\n",
       "      <th>Request_timestamp</th>\n",
       "      <th>Drop_timestamp</th>\n",
       "      <th>Req_hr</th>\n",
       "      <th>Req_day</th>\n",
       "    </tr>\n",
       "  </thead>\n",
       "  <tbody>\n",
       "    <tr>\n",
       "      <th>0</th>\n",
       "      <td>619</td>\n",
       "      <td>Airport</td>\n",
       "      <td>1.0</td>\n",
       "      <td>Trip Completed</td>\n",
       "      <td>2016-11-07 11:51:00</td>\n",
       "      <td>2016-11-07 13:00:00</td>\n",
       "      <td>11</td>\n",
       "      <td>7</td>\n",
       "    </tr>\n",
       "    <tr>\n",
       "      <th>1</th>\n",
       "      <td>867</td>\n",
       "      <td>Airport</td>\n",
       "      <td>1.0</td>\n",
       "      <td>Trip Completed</td>\n",
       "      <td>2016-11-07 17:57:00</td>\n",
       "      <td>2016-11-07 18:47:00</td>\n",
       "      <td>17</td>\n",
       "      <td>7</td>\n",
       "    </tr>\n",
       "    <tr>\n",
       "      <th>2</th>\n",
       "      <td>1807</td>\n",
       "      <td>City</td>\n",
       "      <td>1.0</td>\n",
       "      <td>Trip Completed</td>\n",
       "      <td>2016-12-07 09:17:00</td>\n",
       "      <td>2016-12-07 09:58:00</td>\n",
       "      <td>9</td>\n",
       "      <td>7</td>\n",
       "    </tr>\n",
       "    <tr>\n",
       "      <th>3</th>\n",
       "      <td>2532</td>\n",
       "      <td>Airport</td>\n",
       "      <td>1.0</td>\n",
       "      <td>Trip Completed</td>\n",
       "      <td>2016-12-07 21:08:00</td>\n",
       "      <td>2016-12-07 22:03:00</td>\n",
       "      <td>21</td>\n",
       "      <td>7</td>\n",
       "    </tr>\n",
       "    <tr>\n",
       "      <th>4</th>\n",
       "      <td>3112</td>\n",
       "      <td>City</td>\n",
       "      <td>1.0</td>\n",
       "      <td>Trip Completed</td>\n",
       "      <td>2016-07-13 08:33:16</td>\n",
       "      <td>2016-07-13 09:25:47</td>\n",
       "      <td>8</td>\n",
       "      <td>13</td>\n",
       "    </tr>\n",
       "  </tbody>\n",
       "</table>\n",
       "</div>"
      ],
      "text/plain": [
       "   Request_id Pickup_point  Driver_id          Status   Request_timestamp  \\\n",
       "0         619      Airport        1.0  Trip Completed 2016-11-07 11:51:00   \n",
       "1         867      Airport        1.0  Trip Completed 2016-11-07 17:57:00   \n",
       "2        1807         City        1.0  Trip Completed 2016-12-07 09:17:00   \n",
       "3        2532      Airport        1.0  Trip Completed 2016-12-07 21:08:00   \n",
       "4        3112         City        1.0  Trip Completed 2016-07-13 08:33:16   \n",
       "\n",
       "       Drop_timestamp  Req_hr  Req_day  \n",
       "0 2016-11-07 13:00:00      11        7  \n",
       "1 2016-11-07 18:47:00      17        7  \n",
       "2 2016-12-07 09:58:00       9        7  \n",
       "3 2016-12-07 22:03:00      21        7  \n",
       "4 2016-07-13 09:25:47       8       13  "
      ]
     },
     "execution_count": 11,
     "metadata": {},
     "output_type": "execute_result"
    }
   ],
   "source": [
    "#Extract Hour and day from request time\n",
    "uber[\"Req_hr\"]=uber.Request_timestamp.dt.hour\n",
    "uber[\"Req_day\"]=uber.Request_timestamp.dt.day\n",
    "uber.head()"
   ]
  },
  {
   "cell_type": "code",
   "execution_count": 12,
   "metadata": {},
   "outputs": [
    {
     "data": {
      "text/plain": [
       "Request_id              0\n",
       "Pickup_point            0\n",
       "Driver_id               0\n",
       "Status                  0\n",
       "Request_timestamp       0\n",
       "Drop_timestamp       3914\n",
       "Req_hr                  0\n",
       "Req_day                 0\n",
       "dtype: int64"
      ]
     },
     "execution_count": 12,
     "metadata": {},
     "output_type": "execute_result"
    }
   ],
   "source": [
    "uber.isnull().sum(axis=0)"
   ]
  },
  {
   "cell_type": "markdown",
   "metadata": {},
   "source": [
    "### 7.UNIVARIATE ANALYSIS \n",
    "#### plotting the frequency of cancelled, trip completed and No cars available by hour and pickup point"
   ]
  },
  {
   "cell_type": "code",
   "execution_count": 13,
   "metadata": {},
   "outputs": [
    {
     "data": {
      "text/plain": [
       "Req_hr  Status           \n",
       "0       Cancelled              3\n",
       "        No Cars Available     56\n",
       "        Trip Completed        40\n",
       "1       Cancelled              4\n",
       "        No Cars Available     56\n",
       "        Trip Completed        25\n",
       "2       Cancelled              5\n",
       "        No Cars Available     57\n",
       "        Trip Completed        37\n",
       "3       Cancelled              2\n",
       "        No Cars Available     56\n",
       "        Trip Completed        34\n",
       "4       Cancelled             51\n",
       "        No Cars Available     74\n",
       "        Trip Completed        78\n",
       "5       Cancelled            176\n",
       "        No Cars Available     84\n",
       "        Trip Completed       185\n",
       "6       Cancelled            145\n",
       "        No Cars Available     86\n",
       "        Trip Completed       167\n",
       "7       Cancelled            169\n",
       "        No Cars Available     63\n",
       "        Trip Completed       174\n",
       "8       Cancelled            178\n",
       "        No Cars Available     90\n",
       "        Trip Completed       155\n",
       "9       Cancelled            175\n",
       "        No Cars Available     83\n",
       "        Trip Completed       173\n",
       "                            ... \n",
       "14      Cancelled             11\n",
       "        No Cars Available     37\n",
       "        Trip Completed        88\n",
       "15      Cancelled             21\n",
       "        No Cars Available     48\n",
       "        Trip Completed       102\n",
       "16      Cancelled             22\n",
       "        No Cars Available     46\n",
       "        Trip Completed        91\n",
       "17      Cancelled             35\n",
       "        No Cars Available    232\n",
       "        Trip Completed       151\n",
       "18      Cancelled             24\n",
       "        No Cars Available    322\n",
       "        Trip Completed       164\n",
       "19      Cancelled             24\n",
       "        No Cars Available    283\n",
       "        Trip Completed       166\n",
       "20      Cancelled             41\n",
       "        No Cars Available    290\n",
       "        Trip Completed       161\n",
       "21      Cancelled             42\n",
       "        No Cars Available    265\n",
       "        Trip Completed       142\n",
       "22      Cancelled             12\n",
       "        No Cars Available    138\n",
       "        Trip Completed       154\n",
       "23      Cancelled             10\n",
       "        No Cars Available     81\n",
       "        Trip Completed       103\n",
       "Name: Status, Length: 72, dtype: int64"
      ]
     },
     "execution_count": 13,
     "metadata": {},
     "output_type": "execute_result"
    }
   ],
   "source": [
    "#uber.groupby(['Req_hr']).size()\n",
    "\n",
    "uber.groupby(['Req_hr','Status'])['Status'].count()"
   ]
  },
  {
   "cell_type": "code",
   "execution_count": 14,
   "metadata": {},
   "outputs": [
    {
     "data": {
      "image/png": "[encoded data removed]",
      "text/plain": [
       "<Figure size 1800x432 with 1 Axes>"
      ]
     },
     "metadata": {
      "needs_background": "light"
     },
     "output_type": "display_data"
    }
   ],
   "source": [
    "plt.figure(figsize=(25, 6))\n",
    "sns.countplot(x=\"Req_hr\",hue='Status', data=uber)\n",
    "plt.xlabel('Hours', fontsize=12)\n",
    "plt.ylabel('Number of Requests', fontsize=12)\n",
    "plt.title(\"Trip Hour with status\")\n",
    "plt.show();"
   ]
  },
  {
   "cell_type": "markdown",
   "metadata": {},
   "source": [
    "### Observations of above plot\n",
    "#### <font color='Red'>No Cars Available is more at 18:00 PM</font>\n",
    "#### <font color='Red'>Cancellation is more at moring 5AM to 9AM</font>\n",
    "#### Let us have a look against Pickup_point"
   ]
  },
  {
   "cell_type": "code",
   "execution_count": 15,
   "metadata": {},
   "outputs": [
    {
     "data": {
      "text/plain": [
       "Pickup_point  Status           \n",
       "Airport       Cancelled             198\n",
       "              No Cars Available    1713\n",
       "              Trip Completed       1327\n",
       "City          Cancelled            1066\n",
       "              No Cars Available     937\n",
       "              Trip Completed       1504\n",
       "Name: Status, dtype: int64"
      ]
     },
     "execution_count": 15,
     "metadata": {},
     "output_type": "execute_result"
    }
   ],
   "source": [
    "uber.groupby(['Pickup_point','Status'])['Status'].count()"
   ]
  },
  {
   "cell_type": "code",
   "execution_count": 16,
   "metadata": {},
   "outputs": [
    {
     "data": {
      "image/png": "[encoded data removed]",
      "text/plain": [
       "<Figure size 1440x432 with 1 Axes>"
      ]
     },
     "metadata": {
      "needs_background": "light"
     },
     "output_type": "display_data"
    }
   ],
   "source": [
    "plt.figure(figsize=(20, 6))\n",
    "sns.countplot(x='Req_hr',hue='Pickup_point', data=uber)\n",
    "plt.xlabel('Hours', fontsize=12)\n",
    "plt.ylabel('Number of Requests', fontsize=12)\n",
    "plt.title(\"Trip with Pickup_point\")\n",
    "plt.show();"
   ]
  },
  {
   "cell_type": "markdown",
   "metadata": {},
   "source": [
    "### Identify the most problematic types of requests\n",
    "#### <font color='Red'>No Cars Available is more at 18:00 PM from Airport</font>\n",
    "#### <font color='Red'>Cancellation is more at moring 5AM to 9AM from City</font>\n",
    "#### Let us have a look against Pickup_point"
   ]
  },
  {
   "cell_type": "markdown",
   "metadata": {},
   "source": [
    "### 8.Univariate Segmented Analysis\n",
    "#### Identify the most problematic Time Slots i.e. Early_Morning_Rush,Morning_Rush,Daytime_Rush,Evening_Rush,Late_Night_Rush\n",
    "#### UDF to create Time_slots"
   ]
  },
  {
   "cell_type": "code",
   "execution_count": 17,
   "metadata": {},
   "outputs": [
    {
     "data": {
      "text/html": [
       "<div>\n",
       "<style scoped>\n",
       "    .dataframe tbody tr th:only-of-type {\n",
       "        vertical-align: middle;\n",
       "    }\n",
       "\n",
       "    .dataframe tbody tr th {\n",
       "        vertical-align: top;\n",
       "    }\n",
       "\n",
       "    .dataframe thead th {\n",
       "        text-align: right;\n",
       "    }\n",
       "</style>\n",
       "<table border=\"1\" class=\"dataframe\">\n",
       "  <thead>\n",
       "    <tr style=\"text-align: right;\">\n",
       "      <th></th>\n",
       "      <th>Request_id</th>\n",
       "      <th>Pickup_point</th>\n",
       "      <th>Driver_id</th>\n",
       "      <th>Status</th>\n",
       "      <th>Request_timestamp</th>\n",
       "      <th>Drop_timestamp</th>\n",
       "      <th>Req_hr</th>\n",
       "      <th>Req_day</th>\n",
       "      <th>Time_slots</th>\n",
       "    </tr>\n",
       "  </thead>\n",
       "  <tbody>\n",
       "    <tr>\n",
       "      <th>0</th>\n",
       "      <td>619</td>\n",
       "      <td>Airport</td>\n",
       "      <td>1.0</td>\n",
       "      <td>Trip Completed</td>\n",
       "      <td>2016-11-07 11:51:00</td>\n",
       "      <td>2016-11-07 13:00:00</td>\n",
       "      <td>11</td>\n",
       "      <td>7</td>\n",
       "      <td>Daytime_Rush</td>\n",
       "    </tr>\n",
       "    <tr>\n",
       "      <th>1</th>\n",
       "      <td>867</td>\n",
       "      <td>Airport</td>\n",
       "      <td>1.0</td>\n",
       "      <td>Trip Completed</td>\n",
       "      <td>2016-11-07 17:57:00</td>\n",
       "      <td>2016-11-07 18:47:00</td>\n",
       "      <td>17</td>\n",
       "      <td>7</td>\n",
       "      <td>Evening_Rush</td>\n",
       "    </tr>\n",
       "    <tr>\n",
       "      <th>2</th>\n",
       "      <td>1807</td>\n",
       "      <td>City</td>\n",
       "      <td>1.0</td>\n",
       "      <td>Trip Completed</td>\n",
       "      <td>2016-12-07 09:17:00</td>\n",
       "      <td>2016-12-07 09:58:00</td>\n",
       "      <td>9</td>\n",
       "      <td>7</td>\n",
       "      <td>Morning_Rush</td>\n",
       "    </tr>\n",
       "    <tr>\n",
       "      <th>3</th>\n",
       "      <td>2532</td>\n",
       "      <td>Airport</td>\n",
       "      <td>1.0</td>\n",
       "      <td>Trip Completed</td>\n",
       "      <td>2016-12-07 21:08:00</td>\n",
       "      <td>2016-12-07 22:03:00</td>\n",
       "      <td>21</td>\n",
       "      <td>7</td>\n",
       "      <td>Evening_Rush</td>\n",
       "    </tr>\n",
       "    <tr>\n",
       "      <th>4</th>\n",
       "      <td>3112</td>\n",
       "      <td>City</td>\n",
       "      <td>1.0</td>\n",
       "      <td>Trip Completed</td>\n",
       "      <td>2016-07-13 08:33:16</td>\n",
       "      <td>2016-07-13 09:25:47</td>\n",
       "      <td>8</td>\n",
       "      <td>13</td>\n",
       "      <td>Morning_Rush</td>\n",
       "    </tr>\n",
       "    <tr>\n",
       "      <th>5</th>\n",
       "      <td>3879</td>\n",
       "      <td>Airport</td>\n",
       "      <td>1.0</td>\n",
       "      <td>Trip Completed</td>\n",
       "      <td>2016-07-13 21:57:28</td>\n",
       "      <td>2016-07-13 22:28:59</td>\n",
       "      <td>21</td>\n",
       "      <td>13</td>\n",
       "      <td>Evening_Rush</td>\n",
       "    </tr>\n",
       "    <tr>\n",
       "      <th>6</th>\n",
       "      <td>4270</td>\n",
       "      <td>Airport</td>\n",
       "      <td>1.0</td>\n",
       "      <td>Trip Completed</td>\n",
       "      <td>2016-07-14 06:15:32</td>\n",
       "      <td>2016-07-14 07:13:15</td>\n",
       "      <td>6</td>\n",
       "      <td>14</td>\n",
       "      <td>Morning_Rush</td>\n",
       "    </tr>\n",
       "    <tr>\n",
       "      <th>7</th>\n",
       "      <td>5510</td>\n",
       "      <td>Airport</td>\n",
       "      <td>1.0</td>\n",
       "      <td>Trip Completed</td>\n",
       "      <td>2016-07-15 05:11:52</td>\n",
       "      <td>2016-07-15 06:07:52</td>\n",
       "      <td>5</td>\n",
       "      <td>15</td>\n",
       "      <td>Morning_Rush</td>\n",
       "    </tr>\n",
       "    <tr>\n",
       "      <th>8</th>\n",
       "      <td>6248</td>\n",
       "      <td>City</td>\n",
       "      <td>1.0</td>\n",
       "      <td>Trip Completed</td>\n",
       "      <td>2016-07-15 17:57:27</td>\n",
       "      <td>2016-07-15 18:50:51</td>\n",
       "      <td>17</td>\n",
       "      <td>15</td>\n",
       "      <td>Evening_Rush</td>\n",
       "    </tr>\n",
       "    <tr>\n",
       "      <th>9</th>\n",
       "      <td>267</td>\n",
       "      <td>City</td>\n",
       "      <td>2.0</td>\n",
       "      <td>Trip Completed</td>\n",
       "      <td>2016-11-07 06:46:00</td>\n",
       "      <td>2016-11-07 07:25:00</td>\n",
       "      <td>6</td>\n",
       "      <td>7</td>\n",
       "      <td>Morning_Rush</td>\n",
       "    </tr>\n",
       "  </tbody>\n",
       "</table>\n",
       "</div>"
      ],
      "text/plain": [
       "   Request_id Pickup_point  Driver_id          Status   Request_timestamp  \\\n",
       "0         619      Airport        1.0  Trip Completed 2016-11-07 11:51:00   \n",
       "1         867      Airport        1.0  Trip Completed 2016-11-07 17:57:00   \n",
       "2        1807         City        1.0  Trip Completed 2016-12-07 09:17:00   \n",
       "3        2532      Airport        1.0  Trip Completed 2016-12-07 21:08:00   \n",
       "4        3112         City        1.0  Trip Completed 2016-07-13 08:33:16   \n",
       "5        3879      Airport        1.0  Trip Completed 2016-07-13 21:57:28   \n",
       "6        4270      Airport        1.0  Trip Completed 2016-07-14 06:15:32   \n",
       "7        5510      Airport        1.0  Trip Completed 2016-07-15 05:11:52   \n",
       "8        6248         City        1.0  Trip Completed 2016-07-15 17:57:27   \n",
       "9         267         City        2.0  Trip Completed 2016-11-07 06:46:00   \n",
       "\n",
       "       Drop_timestamp  Req_hr  Req_day    Time_slots  \n",
       "0 2016-11-07 13:00:00      11        7  Daytime_Rush  \n",
       "1 2016-11-07 18:47:00      17        7  Evening_Rush  \n",
       "2 2016-12-07 09:58:00       9        7  Morning_Rush  \n",
       "3 2016-12-07 22:03:00      21        7  Evening_Rush  \n",
       "4 2016-07-13 09:25:47       8       13  Morning_Rush  \n",
       "5 2016-07-13 22:28:59      21       13  Evening_Rush  \n",
       "6 2016-07-14 07:13:15       6       14  Morning_Rush  \n",
       "7 2016-07-15 06:07:52       5       15  Morning_Rush  \n",
       "8 2016-07-15 18:50:51      17       15  Evening_Rush  \n",
       "9 2016-11-07 07:25:00       6        7  Morning_Rush  "
      ]
     },
     "execution_count": 17,
     "metadata": {},
     "output_type": "execute_result"
    }
   ],
   "source": [
    "def func(uber):\n",
    "    if uber['Req_hr'] < 5:\n",
    "        return 'Early_Morning_Rush'\n",
    "    elif uber['Req_hr'] < 10:\n",
    "        return 'Morning_Rush' \n",
    "    elif uber['Req_hr'] < 17:\n",
    "        return 'Daytime_Rush' \n",
    "    elif uber['Req_hr'] < 22:\n",
    "        return 'Evening_Rush' \n",
    "    else:\n",
    "        return 'Late_Night_Rush'\n",
    "\n",
    "uber['Time_slots'] = uber.apply(func, axis=1)\n",
    "uber.head(10)"
   ]
  },
  {
   "cell_type": "markdown",
   "metadata": {},
   "source": [
    "#### Number of requests made in each slots with status"
   ]
  },
  {
   "cell_type": "code",
   "execution_count": 18,
   "metadata": {},
   "outputs": [
    {
     "data": {
      "text/plain": [
       "Time_slots          Status           \n",
       "Daytime_Rush        Cancelled             168\n",
       "                    No Cars Available     334\n",
       "                    Trip Completed        722\n",
       "Early_Morning_Rush  Cancelled              65\n",
       "                    No Cars Available     299\n",
       "                    Trip Completed        214\n",
       "Evening_Rush        Cancelled             166\n",
       "                    No Cars Available    1392\n",
       "                    Trip Completed        784\n",
       "Late_Night_Rush     Cancelled              22\n",
       "                    No Cars Available     219\n",
       "                    Trip Completed        257\n",
       "Morning_Rush        Cancelled             843\n",
       "                    No Cars Available     406\n",
       "                    Trip Completed        854\n",
       "Name: Status, dtype: int64"
      ]
     },
     "execution_count": 18,
     "metadata": {},
     "output_type": "execute_result"
    }
   ],
   "source": [
    "uber.groupby(['Time_slots','Status'])['Status'].count()"
   ]
  },
  {
   "cell_type": "code",
   "execution_count": 19,
   "metadata": {},
   "outputs": [
    {
     "data": {
      "image/png": "[encoded data removed]",
      "text/plain": [
       "<Figure size 720x360 with 1 Axes>"
      ]
     },
     "metadata": {
      "needs_background": "light"
     },
     "output_type": "display_data"
    }
   ],
   "source": [
    "plt.figure(figsize=(10, 5))\n",
    "sns.countplot(x='Time_slots',hue='Status', data=uber)\n",
    "plt.xlabel('Time Slots', fontsize=12)\n",
    "plt.ylabel('Number of Requests', fontsize=12)\n",
    "plt.title(\"Trip with differnt Time Slots\")\n",
    "plt.show();"
   ]
  },
  {
   "cell_type": "markdown",
   "metadata": {},
   "source": [
    "# Bivariate Analysis\n",
    "\n",
    "## Supply Demand Analysis\n",
    "### Plotting the total number of requests by Status for all highly impacted time segments to do demand supply analysis.\n",
    "#### <font color='Red'>Problem statement 1:Morning Cancellation is High </font>"
   ]
  },
  {
   "cell_type": "code",
   "execution_count": 20,
   "metadata": {},
   "outputs": [
    {
     "data": {
      "text/html": [
       "<div>\n",
       "<style scoped>\n",
       "    .dataframe tbody tr th:only-of-type {\n",
       "        vertical-align: middle;\n",
       "    }\n",
       "\n",
       "    .dataframe tbody tr th {\n",
       "        vertical-align: top;\n",
       "    }\n",
       "\n",
       "    .dataframe thead th {\n",
       "        text-align: right;\n",
       "    }\n",
       "</style>\n",
       "<table border=\"1\" class=\"dataframe\">\n",
       "  <thead>\n",
       "    <tr style=\"text-align: right;\">\n",
       "      <th></th>\n",
       "      <th>Pickup_point</th>\n",
       "      <th>Status</th>\n",
       "    </tr>\n",
       "  </thead>\n",
       "  <tbody>\n",
       "    <tr>\n",
       "      <th>2</th>\n",
       "      <td>City</td>\n",
       "      <td>Trip Completed</td>\n",
       "    </tr>\n",
       "    <tr>\n",
       "      <th>4</th>\n",
       "      <td>City</td>\n",
       "      <td>Trip Completed</td>\n",
       "    </tr>\n",
       "    <tr>\n",
       "      <th>6</th>\n",
       "      <td>Airport</td>\n",
       "      <td>Trip Completed</td>\n",
       "    </tr>\n",
       "    <tr>\n",
       "      <th>7</th>\n",
       "      <td>Airport</td>\n",
       "      <td>Trip Completed</td>\n",
       "    </tr>\n",
       "    <tr>\n",
       "      <th>9</th>\n",
       "      <td>City</td>\n",
       "      <td>Trip Completed</td>\n",
       "    </tr>\n",
       "  </tbody>\n",
       "</table>\n",
       "</div>"
      ],
      "text/plain": [
       "  Pickup_point          Status\n",
       "2         City  Trip Completed\n",
       "4         City  Trip Completed\n",
       "6      Airport  Trip Completed\n",
       "7      Airport  Trip Completed\n",
       "9         City  Trip Completed"
      ]
     },
     "execution_count": 20,
     "metadata": {},
     "output_type": "execute_result"
    }
   ],
   "source": [
    "uber_morning_data=uber.loc[(uber['Time_slots'] == 'Morning_Rush')][['Pickup_point','Status']]\n",
    "uber_morning_data.head()"
   ]
  },
  {
   "cell_type": "code",
   "execution_count": 21,
   "metadata": {},
   "outputs": [
    {
     "data": {
      "text/plain": [
       "Pickup_point  Status           \n",
       "Airport       Cancelled             23\n",
       "              No Cars Available     21\n",
       "              Trip Completed       382\n",
       "City          Cancelled            820\n",
       "              No Cars Available    385\n",
       "              Trip Completed       472\n",
       "Name: Status, dtype: int64"
      ]
     },
     "execution_count": 21,
     "metadata": {},
     "output_type": "execute_result"
    }
   ],
   "source": [
    "uber_morning_data.groupby(['Pickup_point','Status'])['Status'].count()"
   ]
  },
  {
   "cell_type": "code",
   "execution_count": 22,
   "metadata": {},
   "outputs": [
    {
     "data": {
      "image/png": "[encoded data removed]",
      "text/plain": [
       "<Figure size 720x720 with 1 Axes>"
      ]
     },
     "metadata": {
      "needs_background": "light"
     },
     "output_type": "display_data"
    }
   ],
   "source": [
    "plt.figure(figsize=(10, 10))\n",
    "sns.countplot(x='Pickup_point',hue='Status', data=uber_morning_data)\n",
    "plt.xlabel('Pickup Point', fontsize=12)\n",
    "plt.ylabel('Number of Requests', fontsize=12)\n",
    "plt.title(\"Morning Pickup point with differnt Status\")\n",
    "plt.show();"
   ]
  },
  {
   "cell_type": "markdown",
   "metadata": {},
   "source": [
    "### Observations from the above plot \n",
    "#### Gap is the most severe from City in Morning , let us analyse more on this\n",
    " \n"
   ]
  },
  {
   "cell_type": "code",
   "execution_count": 23,
   "metadata": {},
   "outputs": [
    {
     "data": {
      "text/plain": [
       "Cancelled            820\n",
       "Trip Completed       472\n",
       "No Cars Available    385\n",
       "Name: Status, dtype: int64"
      ]
     },
     "execution_count": 23,
     "metadata": {},
     "output_type": "execute_result"
    }
   ],
   "source": [
    "\n",
    "Uber_Morning_Problem=uber_morning_data.loc[uber_morning_data['Pickup_point'] == \"City\"]\\\n",
    "[['Pickup_point','Status']]\n",
    "Uber_Morning_Problem.Status.value_counts()"
   ]
  },
  {
   "cell_type": "code",
   "execution_count": 24,
   "metadata": {},
   "outputs": [
    {
     "data": {
      "text/plain": [
       "1677"
      ]
     },
     "execution_count": 24,
     "metadata": {},
     "output_type": "execute_result"
    }
   ],
   "source": [
    "len(Uber_Morning_Problem[(Uber_Morning_Problem['Pickup_point'] == \"City\")])"
   ]
  },
  {
   "cell_type": "code",
   "execution_count": 25,
   "metadata": {
    "scrolled": true
   },
   "outputs": [
    {
     "data": {
      "image/png": "[encoded data removed]",
      "text/plain": [
       "<Figure size 1440x360 with 1 Axes>"
      ]
     },
     "metadata": {
      "needs_background": "light"
     },
     "output_type": "display_data"
    }
   ],
   "source": [
    "plt.figure(figsize=(20, 5))\n",
    "sns.countplot(x='Status',data=Uber_Morning_Problem)\n",
    "plt.xlabel('Status', fontsize=12)\n",
    "plt.ylabel('Number of Requests', fontsize=12)\n",
    "plt.title(\"Morning Pickup from City with differnt Status\")\n",
    "plt.show();"
   ]
  },
  {
   "cell_type": "markdown",
   "metadata": {},
   "source": [
    "#### Percentage Break up of Morning between Pickup point and status "
   ]
  },
  {
   "cell_type": "code",
   "execution_count": 26,
   "metadata": {
    "scrolled": true
   },
   "outputs": [
    {
     "data": {
      "image/png": "[encoded data removed]",
      "text/plain": [
       "<Figure size 432x288 with 1 Axes>"
      ]
     },
     "metadata": {},
     "output_type": "display_data"
    }
   ],
   "source": [
    "labels = Uber_Morning_Problem['Status'].astype('category').cat.categories.tolist()\n",
    "counts = Uber_Morning_Problem['Status'].value_counts()\n",
    "sizes = [counts[var_cat] for var_cat in labels]\n",
    "colors = [\"#ff7f0e\",\"#2ca02c\",\"#1f77b4\"]\n",
    "explode = (0.1, 0, 0)\n",
    "plt.pie(sizes, labels=labels,explode=explode,colors=colors, autopct='%1.1f%%', shadow=True) \n",
    "plt.title(\"Uber Supply Demand in Morning Rush from City\")\n",
    "plt.show()"
   ]
  },
  {
   "cell_type": "markdown",
   "metadata": {},
   "source": [
    "#### <font color ='Red'> Demand for Morning Rush is 1677</font>\n",
    "#### <font color ='Red'> Supply  for Morning Rush is 472 </font>\n",
    "\n",
    "  ##### Total Requests     1677\n",
    "  ##### Cancelled              820\n",
    "  ##### Trip Completed     472\n",
    "  ##### No Cars Available 385\n"
   ]
  },
  {
   "cell_type": "markdown",
   "metadata": {},
   "source": [
    "#### <font color='Red'> Problem statement 2:Evening  'No cars available' is high</font>"
   ]
  },
  {
   "cell_type": "code",
   "execution_count": 27,
   "metadata": {},
   "outputs": [
    {
     "data": {
      "text/html": [
       "<div>\n",
       "<style scoped>\n",
       "    .dataframe tbody tr th:only-of-type {\n",
       "        vertical-align: middle;\n",
       "    }\n",
       "\n",
       "    .dataframe tbody tr th {\n",
       "        vertical-align: top;\n",
       "    }\n",
       "\n",
       "    .dataframe thead th {\n",
       "        text-align: right;\n",
       "    }\n",
       "</style>\n",
       "<table border=\"1\" class=\"dataframe\">\n",
       "  <thead>\n",
       "    <tr style=\"text-align: right;\">\n",
       "      <th></th>\n",
       "      <th>Pickup_point</th>\n",
       "      <th>Status</th>\n",
       "    </tr>\n",
       "  </thead>\n",
       "  <tbody>\n",
       "    <tr>\n",
       "      <th>1</th>\n",
       "      <td>Airport</td>\n",
       "      <td>Trip Completed</td>\n",
       "    </tr>\n",
       "    <tr>\n",
       "      <th>3</th>\n",
       "      <td>Airport</td>\n",
       "      <td>Trip Completed</td>\n",
       "    </tr>\n",
       "    <tr>\n",
       "      <th>5</th>\n",
       "      <td>Airport</td>\n",
       "      <td>Trip Completed</td>\n",
       "    </tr>\n",
       "    <tr>\n",
       "      <th>8</th>\n",
       "      <td>City</td>\n",
       "      <td>Trip Completed</td>\n",
       "    </tr>\n",
       "    <tr>\n",
       "      <th>15</th>\n",
       "      <td>Airport</td>\n",
       "      <td>Trip Completed</td>\n",
       "    </tr>\n",
       "  </tbody>\n",
       "</table>\n",
       "</div>"
      ],
      "text/plain": [
       "   Pickup_point          Status\n",
       "1       Airport  Trip Completed\n",
       "3       Airport  Trip Completed\n",
       "5       Airport  Trip Completed\n",
       "8          City  Trip Completed\n",
       "15      Airport  Trip Completed"
      ]
     },
     "execution_count": 27,
     "metadata": {},
     "output_type": "execute_result"
    }
   ],
   "source": [
    "uber_evening_data=uber.loc[(uber['Time_slots'] == 'Evening_Rush')] [['Pickup_point','Status']]\n",
    "uber_evening_data.head()"
   ]
  },
  {
   "cell_type": "code",
   "execution_count": 28,
   "metadata": {},
   "outputs": [
    {
     "data": {
      "text/plain": [
       "Pickup_point  Status           \n",
       "Airport       Cancelled             106\n",
       "              No Cars Available    1321\n",
       "              Trip Completed        373\n",
       "City          Cancelled              60\n",
       "              No Cars Available      71\n",
       "              Trip Completed        411\n",
       "Name: Status, dtype: int64"
      ]
     },
     "execution_count": 28,
     "metadata": {},
     "output_type": "execute_result"
    }
   ],
   "source": [
    "uber_evening_data.groupby(['Pickup_point','Status'])['Status'].count()"
   ]
  },
  {
   "cell_type": "code",
   "execution_count": 29,
   "metadata": {},
   "outputs": [
    {
     "data": {
      "image/png": "[encoded data removed]",
      "text/plain": [
       "<Figure size 720x720 with 1 Axes>"
      ]
     },
     "metadata": {
      "needs_background": "light"
     },
     "output_type": "display_data"
    }
   ],
   "source": [
    "plt.figure(figsize=(10, 10))\n",
    "sns.countplot(x='Pickup_point',hue='Status', data=uber_evening_data)\n",
    "plt.xlabel('Pickup Point', fontsize=12)\n",
    "plt.ylabel('Number of Requests', fontsize=12)\n",
    "plt.title(\"Evening Pickup point with differnt Status\")\n",
    "plt.show();"
   ]
  },
  {
   "cell_type": "markdown",
   "metadata": {},
   "source": [
    "### Observations from the above plot \n",
    "#### Gap is the most severe from Airport in Evening , let us analyse more on this"
   ]
  },
  {
   "cell_type": "code",
   "execution_count": 30,
   "metadata": {},
   "outputs": [
    {
     "data": {
      "text/plain": [
       "No Cars Available    1321\n",
       "Trip Completed        373\n",
       "Cancelled             106\n",
       "Name: Status, dtype: int64"
      ]
     },
     "execution_count": 30,
     "metadata": {},
     "output_type": "execute_result"
    }
   ],
   "source": [
    "Uber_Evening_Problem=uber_evening_data.loc[uber_evening_data['Pickup_point'] == \"Airport\"]\\\n",
    "[['Pickup_point','Status']]\n",
    "Uber_Evening_Problem.Status.value_counts()"
   ]
  },
  {
   "cell_type": "code",
   "execution_count": 31,
   "metadata": {},
   "outputs": [
    {
     "data": {
      "text/plain": [
       "1800"
      ]
     },
     "execution_count": 31,
     "metadata": {},
     "output_type": "execute_result"
    }
   ],
   "source": [
    "len(Uber_Evening_Problem[(Uber_Evening_Problem['Pickup_point'] == \"Airport\")])"
   ]
  },
  {
   "cell_type": "code",
   "execution_count": 32,
   "metadata": {},
   "outputs": [
    {
     "data": {
      "image/png": "[encoded data removed]",
      "text/plain": [
       "<Figure size 1440x360 with 1 Axes>"
      ]
     },
     "metadata": {
      "needs_background": "light"
     },
     "output_type": "display_data"
    }
   ],
   "source": [
    "plt.figure(figsize=(20, 5))\n",
    "sns.countplot(x='Status',data=Uber_Evening_Problem)\n",
    "plt.xlabel('Status', fontsize=12)\n",
    "plt.ylabel('Number of Requests', fontsize=12)\n",
    "plt.title(\"Evening Pickup from Airport with differnt Status\")\n",
    "plt.show();"
   ]
  },
  {
   "cell_type": "markdown",
   "metadata": {},
   "source": [
    "#### Percentage break up of evening pick up from airport between Pickup point and Status"
   ]
  },
  {
   "cell_type": "code",
   "execution_count": 33,
   "metadata": {},
   "outputs": [
    {
     "data": {
      "image/png": "[encoded data removed]",
      "text/plain": [
       "<Figure size 432x288 with 1 Axes>"
      ]
     },
     "metadata": {},
     "output_type": "display_data"
    }
   ],
   "source": [
    "labels = Uber_Evening_Problem['Status'].astype('category').cat.categories.tolist()\n",
    "counts = Uber_Evening_Problem['Status'].value_counts()\n",
    "sizes = [counts[var_cat] for var_cat in labels]\n",
    "colors = [\"#ff7f0e\",\"#2ca02c\",\"#1f77b4\"]\n",
    "explode = (0.1, 0, 0)\n",
    "plt.pie(sizes, labels=labels,explode=explode,colors=colors, autopct='%1.1f%%', shadow=True) \n",
    "plt.title(\"Uber Supply Demand in Evening Rush from Airport\")\n",
    "plt.show()"
   ]
  },
  {
   "cell_type": "markdown",
   "metadata": {},
   "source": [
    "#### <font color ='Red'> Demand for Evening Rush is 1800</font>\n",
    "#### <font color ='Red'> Supply  for Evening Rush is 373 </font>\n",
    "\n",
    "  ##### Total Requests     1800\n",
    "  ##### Cancelled              106\n",
    "  ##### Trip Completed     373\n",
    "  ##### No Cars Available 1321"
   ]
  },
  {
   "cell_type": "markdown",
   "metadata": {},
   "source": [
    "## <Font color=\"Green\"> 1.Major Gap is from Airport to City in evening rush with is much higher rate of \"No Cars Available\" irrespective of the demand is more</font>\n",
    "## <Font color=\"Green\">2. The other gap is from City to Airport in morning rush is higher rate of \"Cancelled\"     </font>"
   ]
  }
 ],
 "metadata": {
  "kernelspec": {
   "display_name": "Python 3",
   "language": "python",
   "name": "python3"
  },
  "language_info": {
   "codemirror_mode": {
    "name": "ipython",
    "version": 3
   },
   "file_extension": ".py",
   "mimetype": "text/x-python",
   "name": "python",
   "nbconvert_exporter": "python",
   "pygments_lexer": "ipython3",
   "version": "3.6.6"
  }
 },
 "nbformat": 4,
 "nbformat_minor": 2
}
