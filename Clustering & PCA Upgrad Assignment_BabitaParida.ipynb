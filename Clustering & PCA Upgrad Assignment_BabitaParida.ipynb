{
 "cells": [
  {
   "cell_type": "markdown",
   "metadata": {},
   "source": [
    "# Clustering & PCA Assignment\n",
    "### The main task is to categorise the countries using some socio-economic and health factors that determine the overall development of the country. \n",
    "### Then you need to suggest the countries which the CEO needs to focus on the most."
   ]
  },
  {
   "cell_type": "code",
   "execution_count": 1,
   "metadata": {},
   "outputs": [],
   "source": [
    "# Importing Pandas and NumPy\n",
    "import pandas as pd\n",
    "import numpy as np\n",
    "import matplotlib.pyplot as plt\n",
    "import seaborn as sns\n",
    "%matplotlib inline\n",
    "# To perform KMeans clustering \n",
    "from sklearn.cluster import KMeans\n",
    "\n",
    "# To perform Hierarchical clustering\n",
    "from scipy.cluster.hierarchy import linkage\n",
    "from scipy.cluster.hierarchy import dendrogram\n",
    "from scipy.cluster.hierarchy import cut_tree"
   ]
  },
  {
   "cell_type": "markdown",
   "metadata": {},
   "source": [
    "### Importing DataSet and read the data"
   ]
  },
  {
   "cell_type": "code",
   "execution_count": 2,
   "metadata": {},
   "outputs": [
    {
     "data": {
      "text/html": [
       "<div>\n",
       "<style scoped>\n",
       "    .dataframe tbody tr th:only-of-type {\n",
       "        vertical-align: middle;\n",
       "    }\n",
       "\n",
       "    .dataframe tbody tr th {\n",
       "        vertical-align: top;\n",
       "    }\n",
       "\n",
       "    .dataframe thead th {\n",
       "        text-align: right;\n",
       "    }\n",
       "</style>\n",
       "<table border=\"1\" class=\"dataframe\">\n",
       "  <thead>\n",
       "    <tr style=\"text-align: right;\">\n",
       "      <th></th>\n",
       "      <th>child_mort</th>\n",
       "      <th>exports</th>\n",
       "      <th>health</th>\n",
       "      <th>imports</th>\n",
       "      <th>income</th>\n",
       "      <th>inflation</th>\n",
       "      <th>life_expec</th>\n",
       "      <th>total_fer</th>\n",
       "      <th>gdpp</th>\n",
       "    </tr>\n",
       "    <tr>\n",
       "      <th>country</th>\n",
       "      <th></th>\n",
       "      <th></th>\n",
       "      <th></th>\n",
       "      <th></th>\n",
       "      <th></th>\n",
       "      <th></th>\n",
       "      <th></th>\n",
       "      <th></th>\n",
       "      <th></th>\n",
       "    </tr>\n",
       "  </thead>\n",
       "  <tbody>\n",
       "    <tr>\n",
       "      <th>Afghanistan</th>\n",
       "      <td>90.2</td>\n",
       "      <td>10.0</td>\n",
       "      <td>7.58</td>\n",
       "      <td>44.9</td>\n",
       "      <td>1610</td>\n",
       "      <td>9.44</td>\n",
       "      <td>56.2</td>\n",
       "      <td>5.82</td>\n",
       "      <td>553</td>\n",
       "    </tr>\n",
       "    <tr>\n",
       "      <th>Albania</th>\n",
       "      <td>16.6</td>\n",
       "      <td>28.0</td>\n",
       "      <td>6.55</td>\n",
       "      <td>48.6</td>\n",
       "      <td>9930</td>\n",
       "      <td>4.49</td>\n",
       "      <td>76.3</td>\n",
       "      <td>1.65</td>\n",
       "      <td>4090</td>\n",
       "    </tr>\n",
       "    <tr>\n",
       "      <th>Algeria</th>\n",
       "      <td>27.3</td>\n",
       "      <td>38.4</td>\n",
       "      <td>4.17</td>\n",
       "      <td>31.4</td>\n",
       "      <td>12900</td>\n",
       "      <td>16.10</td>\n",
       "      <td>76.5</td>\n",
       "      <td>2.89</td>\n",
       "      <td>4460</td>\n",
       "    </tr>\n",
       "    <tr>\n",
       "      <th>Angola</th>\n",
       "      <td>119.0</td>\n",
       "      <td>62.3</td>\n",
       "      <td>2.85</td>\n",
       "      <td>42.9</td>\n",
       "      <td>5900</td>\n",
       "      <td>22.40</td>\n",
       "      <td>60.1</td>\n",
       "      <td>6.16</td>\n",
       "      <td>3530</td>\n",
       "    </tr>\n",
       "    <tr>\n",
       "      <th>Antigua and Barbuda</th>\n",
       "      <td>10.3</td>\n",
       "      <td>45.5</td>\n",
       "      <td>6.03</td>\n",
       "      <td>58.9</td>\n",
       "      <td>19100</td>\n",
       "      <td>1.44</td>\n",
       "      <td>76.8</td>\n",
       "      <td>2.13</td>\n",
       "      <td>12200</td>\n",
       "    </tr>\n",
       "  </tbody>\n",
       "</table>\n",
       "</div>"
      ],
      "text/plain": [
       "                     child_mort  exports  health  imports  income  inflation  \\\n",
       "country                                                                        \n",
       "Afghanistan                90.2     10.0    7.58     44.9    1610       9.44   \n",
       "Albania                    16.6     28.0    6.55     48.6    9930       4.49   \n",
       "Algeria                    27.3     38.4    4.17     31.4   12900      16.10   \n",
       "Angola                    119.0     62.3    2.85     42.9    5900      22.40   \n",
       "Antigua and Barbuda        10.3     45.5    6.03     58.9   19100       1.44   \n",
       "\n",
       "                     life_expec  total_fer   gdpp  \n",
       "country                                            \n",
       "Afghanistan                56.2       5.82    553  \n",
       "Albania                    76.3       1.65   4090  \n",
       "Algeria                    76.5       2.89   4460  \n",
       "Angola                     60.1       6.16   3530  \n",
       "Antigua and Barbuda        76.8       2.13  12200  "
      ]
     },
     "execution_count": 2,
     "metadata": {},
     "output_type": "execute_result"
    }
   ],
   "source": [
    "# Importing the dataset\n",
    "country_data = pd.read_csv(\"Country-data.csv\",sep = ',',index_col = 0,encoding = \"ISO-8859-1\")\n",
    "country_data.head()"
   ]
  },
  {
   "cell_type": "code",
   "execution_count": 3,
   "metadata": {},
   "outputs": [
    {
     "name": "stdout",
     "output_type": "stream",
     "text": [
      "<class 'pandas.core.frame.DataFrame'>\n",
      "Index: 167 entries, Afghanistan to Zambia\n",
      "Data columns (total 9 columns):\n",
      "child_mort    167 non-null float64\n",
      "exports       167 non-null float64\n",
      "health        167 non-null float64\n",
      "imports       167 non-null float64\n",
      "income        167 non-null int64\n",
      "inflation     167 non-null float64\n",
      "life_expec    167 non-null float64\n",
      "total_fer     167 non-null float64\n",
      "gdpp          167 non-null int64\n",
      "dtypes: float64(7), int64(2)\n",
      "memory usage: 13.0+ KB\n"
     ]
    }
   ],
   "source": [
    "country_data.info()"
   ]
  },
  {
   "cell_type": "markdown",
   "metadata": {},
   "source": [
    "## Inspect to find column wise null count"
   ]
  },
  {
   "cell_type": "code",
   "execution_count": 4,
   "metadata": {},
   "outputs": [
    {
     "data": {
      "text/plain": [
       "child_mort    0\n",
       "exports       0\n",
       "health        0\n",
       "imports       0\n",
       "income        0\n",
       "inflation     0\n",
       "life_expec    0\n",
       "total_fer     0\n",
       "gdpp          0\n",
       "dtype: int64"
      ]
     },
     "execution_count": 4,
     "metadata": {},
     "output_type": "execute_result"
    }
   ],
   "source": [
    "# Write your code for column-wise null count here\n",
    "country_data.isnull().sum(axis=0)"
   ]
  },
  {
   "cell_type": "markdown",
   "metadata": {},
   "source": [
    "## Check for missing values"
   ]
  },
  {
   "cell_type": "code",
   "execution_count": 5,
   "metadata": {},
   "outputs": [
    {
     "data": {
      "text/plain": [
       "child_mort    0.0\n",
       "exports       0.0\n",
       "health        0.0\n",
       "imports       0.0\n",
       "income        0.0\n",
       "inflation     0.0\n",
       "life_expec    0.0\n",
       "total_fer     0.0\n",
       "gdpp          0.0\n",
       "dtype: float64"
      ]
     },
     "execution_count": 5,
     "metadata": {},
     "output_type": "execute_result"
    }
   ],
   "source": [
    "# Checking the percentage of missing values\n",
    "round(100*(country_data.isnull().sum()/len(country_data.index)), 2)"
   ]
  },
  {
   "cell_type": "markdown",
   "metadata": {},
   "source": [
    "### Checking for Outliers"
   ]
  },
  {
   "cell_type": "code",
   "execution_count": 6,
   "metadata": {},
   "outputs": [
    {
     "data": {
      "text/html": [
       "<div>\n",
       "<style scoped>\n",
       "    .dataframe tbody tr th:only-of-type {\n",
       "        vertical-align: middle;\n",
       "    }\n",
       "\n",
       "    .dataframe tbody tr th {\n",
       "        vertical-align: top;\n",
       "    }\n",
       "\n",
       "    .dataframe thead th {\n",
       "        text-align: right;\n",
       "    }\n",
       "</style>\n",
       "<table border=\"1\" class=\"dataframe\">\n",
       "  <thead>\n",
       "    <tr style=\"text-align: right;\">\n",
       "      <th></th>\n",
       "      <th>child_mort</th>\n",
       "      <th>exports</th>\n",
       "      <th>health</th>\n",
       "      <th>imports</th>\n",
       "      <th>income</th>\n",
       "      <th>inflation</th>\n",
       "      <th>life_expec</th>\n",
       "      <th>total_fer</th>\n",
       "      <th>gdpp</th>\n",
       "    </tr>\n",
       "  </thead>\n",
       "  <tbody>\n",
       "    <tr>\n",
       "      <th>count</th>\n",
       "      <td>167.000000</td>\n",
       "      <td>167.000000</td>\n",
       "      <td>167.000000</td>\n",
       "      <td>167.000000</td>\n",
       "      <td>167.000000</td>\n",
       "      <td>167.000000</td>\n",
       "      <td>167.000000</td>\n",
       "      <td>167.000000</td>\n",
       "      <td>167.000000</td>\n",
       "    </tr>\n",
       "    <tr>\n",
       "      <th>mean</th>\n",
       "      <td>38.270060</td>\n",
       "      <td>41.108976</td>\n",
       "      <td>6.815689</td>\n",
       "      <td>46.890215</td>\n",
       "      <td>17144.688623</td>\n",
       "      <td>7.781832</td>\n",
       "      <td>70.555689</td>\n",
       "      <td>2.947964</td>\n",
       "      <td>12964.155689</td>\n",
       "    </tr>\n",
       "    <tr>\n",
       "      <th>std</th>\n",
       "      <td>40.328931</td>\n",
       "      <td>27.412010</td>\n",
       "      <td>2.746837</td>\n",
       "      <td>24.209589</td>\n",
       "      <td>19278.067698</td>\n",
       "      <td>10.570704</td>\n",
       "      <td>8.893172</td>\n",
       "      <td>1.513848</td>\n",
       "      <td>18328.704809</td>\n",
       "    </tr>\n",
       "    <tr>\n",
       "      <th>min</th>\n",
       "      <td>2.600000</td>\n",
       "      <td>0.109000</td>\n",
       "      <td>1.810000</td>\n",
       "      <td>0.065900</td>\n",
       "      <td>609.000000</td>\n",
       "      <td>-4.210000</td>\n",
       "      <td>32.100000</td>\n",
       "      <td>1.150000</td>\n",
       "      <td>231.000000</td>\n",
       "    </tr>\n",
       "    <tr>\n",
       "      <th>25%</th>\n",
       "      <td>8.250000</td>\n",
       "      <td>23.800000</td>\n",
       "      <td>4.920000</td>\n",
       "      <td>30.200000</td>\n",
       "      <td>3355.000000</td>\n",
       "      <td>1.810000</td>\n",
       "      <td>65.300000</td>\n",
       "      <td>1.795000</td>\n",
       "      <td>1330.000000</td>\n",
       "    </tr>\n",
       "    <tr>\n",
       "      <th>50%</th>\n",
       "      <td>19.300000</td>\n",
       "      <td>35.000000</td>\n",
       "      <td>6.320000</td>\n",
       "      <td>43.300000</td>\n",
       "      <td>9960.000000</td>\n",
       "      <td>5.390000</td>\n",
       "      <td>73.100000</td>\n",
       "      <td>2.410000</td>\n",
       "      <td>4660.000000</td>\n",
       "    </tr>\n",
       "    <tr>\n",
       "      <th>75%</th>\n",
       "      <td>62.100000</td>\n",
       "      <td>51.350000</td>\n",
       "      <td>8.600000</td>\n",
       "      <td>58.750000</td>\n",
       "      <td>22800.000000</td>\n",
       "      <td>10.750000</td>\n",
       "      <td>76.800000</td>\n",
       "      <td>3.880000</td>\n",
       "      <td>14050.000000</td>\n",
       "    </tr>\n",
       "    <tr>\n",
       "      <th>90%</th>\n",
       "      <td>100.220000</td>\n",
       "      <td>70.800000</td>\n",
       "      <td>10.940000</td>\n",
       "      <td>75.420000</td>\n",
       "      <td>41220.000000</td>\n",
       "      <td>16.640000</td>\n",
       "      <td>80.400000</td>\n",
       "      <td>5.322000</td>\n",
       "      <td>41840.000000</td>\n",
       "    </tr>\n",
       "    <tr>\n",
       "      <th>95%</th>\n",
       "      <td>116.000000</td>\n",
       "      <td>80.570000</td>\n",
       "      <td>11.570000</td>\n",
       "      <td>81.140000</td>\n",
       "      <td>48290.000000</td>\n",
       "      <td>20.870000</td>\n",
       "      <td>81.400000</td>\n",
       "      <td>5.861000</td>\n",
       "      <td>48610.000000</td>\n",
       "    </tr>\n",
       "    <tr>\n",
       "      <th>99%</th>\n",
       "      <td>153.400000</td>\n",
       "      <td>160.480000</td>\n",
       "      <td>13.474000</td>\n",
       "      <td>146.080000</td>\n",
       "      <td>84374.000000</td>\n",
       "      <td>41.478000</td>\n",
       "      <td>82.370000</td>\n",
       "      <td>6.563600</td>\n",
       "      <td>79088.000000</td>\n",
       "    </tr>\n",
       "    <tr>\n",
       "      <th>max</th>\n",
       "      <td>208.000000</td>\n",
       "      <td>200.000000</td>\n",
       "      <td>17.900000</td>\n",
       "      <td>174.000000</td>\n",
       "      <td>125000.000000</td>\n",
       "      <td>104.000000</td>\n",
       "      <td>82.800000</td>\n",
       "      <td>7.490000</td>\n",
       "      <td>105000.000000</td>\n",
       "    </tr>\n",
       "  </tbody>\n",
       "</table>\n",
       "</div>"
      ],
      "text/plain": [
       "       child_mort     exports      health     imports         income  \\\n",
       "count  167.000000  167.000000  167.000000  167.000000     167.000000   \n",
       "mean    38.270060   41.108976    6.815689   46.890215   17144.688623   \n",
       "std     40.328931   27.412010    2.746837   24.209589   19278.067698   \n",
       "min      2.600000    0.109000    1.810000    0.065900     609.000000   \n",
       "25%      8.250000   23.800000    4.920000   30.200000    3355.000000   \n",
       "50%     19.300000   35.000000    6.320000   43.300000    9960.000000   \n",
       "75%     62.100000   51.350000    8.600000   58.750000   22800.000000   \n",
       "90%    100.220000   70.800000   10.940000   75.420000   41220.000000   \n",
       "95%    116.000000   80.570000   11.570000   81.140000   48290.000000   \n",
       "99%    153.400000  160.480000   13.474000  146.080000   84374.000000   \n",
       "max    208.000000  200.000000   17.900000  174.000000  125000.000000   \n",
       "\n",
       "        inflation  life_expec   total_fer           gdpp  \n",
       "count  167.000000  167.000000  167.000000     167.000000  \n",
       "mean     7.781832   70.555689    2.947964   12964.155689  \n",
       "std     10.570704    8.893172    1.513848   18328.704809  \n",
       "min     -4.210000   32.100000    1.150000     231.000000  \n",
       "25%      1.810000   65.300000    1.795000    1330.000000  \n",
       "50%      5.390000   73.100000    2.410000    4660.000000  \n",
       "75%     10.750000   76.800000    3.880000   14050.000000  \n",
       "90%     16.640000   80.400000    5.322000   41840.000000  \n",
       "95%     20.870000   81.400000    5.861000   48610.000000  \n",
       "99%     41.478000   82.370000    6.563600   79088.000000  \n",
       "max    104.000000   82.800000    7.490000  105000.000000  "
      ]
     },
     "execution_count": 6,
     "metadata": {},
     "output_type": "execute_result"
    }
   ],
   "source": [
    "# Checking for outliers in the continuous variables\n",
    "num_country_data = country_data[['child_mort','exports','health','imports','income','inflation','life_expec','total_fer','gdpp']]\n",
    "# Checking outliers at 25%,50%,75%,90%,95% and 99%\n",
    "num_country_data.describe(percentiles=[.25,.5,.75,.90,.95,.99])"
   ]
  },
  {
   "cell_type": "markdown",
   "metadata": {},
   "source": [
    "## Find the outliers\n",
    "### Mostly all columns have outliers"
   ]
  },
  {
   "cell_type": "code",
   "execution_count": 7,
   "metadata": {},
   "outputs": [
    {
     "name": "stdout",
     "output_type": "stream",
     "text": [
      "child_mort       53.850\n",
      "exports          27.550\n",
      "health            3.680\n",
      "imports          28.550\n",
      "income        19445.000\n",
      "inflation         8.940\n",
      "life_expec       11.500\n",
      "total_fer         2.085\n",
      "gdpp          12720.000\n",
      "dtype: float64\n"
     ]
    }
   ],
   "source": [
    "Q1 = num_country_data.quantile(0.25)\n",
    "Q3 = num_country_data.quantile(0.75)\n",
    "IQR = Q3 - Q1\n",
    "print(IQR)"
   ]
  },
  {
   "cell_type": "markdown",
   "metadata": {},
   "source": [
    "## Let us do outlier treatment after PCA so that less number of columns would be treated."
   ]
  },
  {
   "cell_type": "markdown",
   "metadata": {},
   "source": [
    "## Let us check the correlation between the variables before performing PCA"
   ]
  },
  {
   "cell_type": "code",
   "execution_count": 8,
   "metadata": {},
   "outputs": [
    {
     "data": {
      "text/plain": [
       "<matplotlib.axes._subplots.AxesSubplot at 0xb2937f0>"
      ]
     },
     "execution_count": 8,
     "metadata": {},
     "output_type": "execute_result"
    },
    {
     "data": {
      "image/png": "[encoded data removed]",
      "text/plain": [
       "<Figure size 1440x720 with 2 Axes>"
      ]
     },
     "metadata": {
      "needs_background": "light"
     },
     "output_type": "display_data"
    }
   ],
   "source": [
    "#plot heatmap for all the varuables in dataframe to find co-relation\n",
    "plt.figure(figsize=(20,10))\n",
    "sns.heatmap(country_data.corr(),annot=True)"
   ]
  },
  {
   "cell_type": "markdown",
   "metadata": {},
   "source": [
    "### child_mort and total_fer are highly correlated\n",
    "### exports and imports are highly correlated. It also has some co-relation with income and gdpp\n",
    "### income has correlation with gdpp. Also have with exports and life_expec.\n",
    "### gdpp has co-relation with life_expec and exports too\n",
    "\n",
    "## No need to drop highly correlated variables as they will be taken care by PCA\n",
    "## Hence we should go for PCA(Principal Component Analysis) for dimensionality reduction\n"
   ]
  },
  {
   "cell_type": "code",
   "execution_count": 9,
   "metadata": {},
   "outputs": [
    {
     "name": "stdout",
     "output_type": "stream",
     "text": [
      "<class 'pandas.core.frame.DataFrame'>\n",
      "Index: 167 entries, Afghanistan to Zambia\n",
      "Data columns (total 9 columns):\n",
      "child_mort    167 non-null float64\n",
      "exports       167 non-null float64\n",
      "health        167 non-null float64\n",
      "imports       167 non-null float64\n",
      "income        167 non-null int64\n",
      "inflation     167 non-null float64\n",
      "life_expec    167 non-null float64\n",
      "total_fer     167 non-null float64\n",
      "gdpp          167 non-null int64\n",
      "dtypes: float64(7), int64(2)\n",
      "memory usage: 13.0+ KB\n"
     ]
    }
   ],
   "source": [
    "# Normalising continuous features\n",
    "df = country_data[['child_mort','exports','health','imports','income','inflation','life_expec','total_fer','gdpp']]\n",
    "df.info()"
   ]
  },
  {
   "cell_type": "markdown",
   "metadata": {},
   "source": [
    "### Standadisation using StandardScaler"
   ]
  },
  {
   "cell_type": "code",
   "execution_count": 10,
   "metadata": {},
   "outputs": [
    {
     "data": {
      "text/plain": [
       "9"
      ]
     },
     "execution_count": 10,
     "metadata": {},
     "output_type": "execute_result"
    }
   ],
   "source": [
    "# Importing standardscalar module  \n",
    "from sklearn.preprocessing import StandardScaler\n",
    "# Standardize the feature matrix\n",
    "X_std = StandardScaler().fit_transform(df)\n",
    "X_std.shape[1]"
   ]
  },
  {
   "cell_type": "markdown",
   "metadata": {},
   "source": [
    "### Covariance Matrix"
   ]
  },
  {
   "cell_type": "code",
   "execution_count": 11,
   "metadata": {
    "scrolled": true
   },
   "outputs": [
    {
     "name": "stdout",
     "output_type": "stream",
     "text": [
      "NumPy covariance matrix: \n",
      "[[ 1.0060241  -0.32000945 -0.2016093  -0.12797725 -0.52747354  0.29001277\n",
      "  -0.89201752  0.85358942 -0.485942  ]\n",
      " [-0.32000945  1.0060241  -0.11509761  0.74182289  0.51989676 -0.10794074\n",
      "   0.3182181  -0.32193832  0.42124719]\n",
      " [-0.2016093  -0.11509761  1.0060241   0.09629328  0.1303592  -0.2569142\n",
      "   0.21196135 -0.19785877  0.34804965]\n",
      " [-0.12797725  0.74182289  0.09629328  1.0060241   0.12314364 -0.2484822\n",
      "   0.05471819 -0.16000656  0.11619394]\n",
      " [-0.52747354  0.51989676  0.1303592   0.12314364  1.0060241  -0.14864609\n",
      "   0.61564899 -0.50486319  0.90096644]\n",
      " [ 0.29001277 -0.10794074 -0.2569142  -0.2484822  -0.14864609  1.0060241\n",
      "  -0.24114897  0.31883023 -0.22296618]\n",
      " [-0.89201752  0.3182181   0.21196135  0.05471819  0.61564899 -0.24114897\n",
      "   1.0060241  -0.76545827  0.60370413]\n",
      " [ 0.85358942 -0.32193832 -0.19785877 -0.16000656 -0.50486319  0.31883023\n",
      "  -0.76545827  1.0060241  -0.45765069]\n",
      " [-0.485942    0.42124719  0.34804965  0.11619394  0.90096644 -0.22296618\n",
      "   0.60370413 -0.45765069  1.0060241 ]]\n"
     ]
    }
   ],
   "source": [
    "print('NumPy covariance matrix: \\n%s' %np.cov(X_std.T))"
   ]
  },
  {
   "cell_type": "markdown",
   "metadata": {},
   "source": [
    "### Eigendecomposition on covariance matrix\n",
    "### Find Eigenvectors and Eigen values"
   ]
  },
  {
   "cell_type": "code",
   "execution_count": 12,
   "metadata": {},
   "outputs": [
    {
     "name": "stdout",
     "output_type": "stream",
     "text": [
      "Eigenvectors \n",
      "[[-0.41951945  0.19288394 -0.02954353  0.37065326  0.16896968  0.20062815\n",
      "   0.3275418   0.68274306 -0.07948854]\n",
      " [ 0.28389698  0.61316349  0.14476069  0.00309102 -0.05761584 -0.05933283\n",
      "  -0.12308207  0.01419742 -0.70730269]\n",
      " [ 0.15083782 -0.24308678 -0.59663237  0.4618975  -0.51800037  0.00727646\n",
      "   0.11308797 -0.07249683 -0.24983051]\n",
      " [ 0.16148244  0.67182064 -0.29992674 -0.07190746 -0.25537642 -0.03003154\n",
      "   0.09903717  0.02894642  0.59218953]\n",
      " [ 0.39844111  0.02253553  0.3015475   0.39215904  0.2471496   0.16034699\n",
      "   0.61298247 -0.35262369  0.09556237]\n",
      " [-0.19317293 -0.00840447  0.64251951  0.15044176 -0.7148691   0.06628537\n",
      "  -0.02523614  0.01153775  0.10463252]\n",
      " [ 0.42583938 -0.22270674  0.11391854 -0.20379723 -0.1082198  -0.60112652\n",
      "   0.29403981  0.50466425  0.01848639]\n",
      " [-0.40372896  0.15523311  0.01954925  0.37830365  0.13526221 -0.75068875\n",
      "  -0.02633585 -0.29335267  0.02882643]\n",
      " [ 0.39264482 -0.0460224   0.12297749  0.53199457  0.18016662  0.01677876\n",
      "  -0.62564572  0.24969636  0.24299776]]\n",
      "\n",
      "Eigenvalues \n",
      "[4.16057017 1.55566165 1.1774338  1.00077724 0.66459866 0.224928\n",
      " 0.06727787 0.08884738 0.1141221 ]\n"
     ]
    }
   ],
   "source": [
    "#Perform eigendecomposition on covariance matrix\n",
    "cov_mat = np.cov(X_std.T)\n",
    "eig_vals, eig_vecs = np.linalg.eig(cov_mat)\n",
    "print('Eigenvectors \\n%s' %eig_vecs)\n",
    "print('\\nEigenvalues \\n%s' %eig_vals)"
   ]
  },
  {
   "cell_type": "markdown",
   "metadata": {},
   "source": [
    "## Explained variance through Scree plot"
   ]
  },
  {
   "cell_type": "code",
   "execution_count": 13,
   "metadata": {},
   "outputs": [
    {
     "name": "stdout",
     "output_type": "stream",
     "text": [
      "[0.4595174  0.17181626 0.13004259 0.11053162 0.07340211 0.02484235\n",
      " 0.0126043  0.00981282 0.00743056]\n"
     ]
    }
   ],
   "source": [
    "# Importing PCA \n",
    "from sklearn.decomposition import PCA \n",
    "#Fitting the PCA algorithm with our Data\n",
    "pca = PCA().fit(X_std)\n",
    "print(pca.explained_variance_ratio_)"
   ]
  },
  {
   "cell_type": "code",
   "execution_count": 14,
   "metadata": {},
   "outputs": [
    {
     "data": {
      "image/png": "[encoded data removed]",
      "text/plain": [
       "<Figure size 432x288 with 1 Axes>"
      ]
     },
     "metadata": {
      "needs_background": "light"
     },
     "output_type": "display_data"
    }
   ],
   "source": [
    "#Plotting the Cumulative Summation of the Explained Variance\n",
    "plt.figure()\n",
    "plt.plot(np.cumsum(pca.explained_variance_ratio_))\n",
    "plt.xlabel('Number of Components')\n",
    "plt.ylabel('Variance (%)') #for each component\n",
    "plt.title('Dataset Explained Variance')\n",
    "plt.show()"
   ]
  },
  {
   "cell_type": "markdown",
   "metadata": {},
   "source": [
    "## Performing IncreamentalPCA"
   ]
  },
  {
   "cell_type": "code",
   "execution_count": 15,
   "metadata": {},
   "outputs": [],
   "source": [
    "#Using incremental PCA for efficiency - saves a lot of time on larger datasets\n",
    "from sklearn.decomposition import IncrementalPCA\n",
    "pca_final = IncrementalPCA(n_components=4)"
   ]
  },
  {
   "cell_type": "code",
   "execution_count": 16,
   "metadata": {},
   "outputs": [
    {
     "data": {
      "text/plain": [
       "(167, 4)"
      ]
     },
     "execution_count": 16,
     "metadata": {},
     "output_type": "execute_result"
    }
   ],
   "source": [
    "df_incre_pca = pca_final.fit_transform(X_std)\n",
    "df_incre_pca.shape"
   ]
  },
  {
   "cell_type": "markdown",
   "metadata": {},
   "source": [
    "## PCA Scree plot shows 4 components at 95%"
   ]
  },
  {
   "cell_type": "code",
   "execution_count": 17,
   "metadata": {
    "scrolled": true
   },
   "outputs": [
    {
     "name": "stdout",
     "output_type": "stream",
     "text": [
      "<class 'pandas.core.frame.DataFrame'>\n",
      "RangeIndex: 167 entries, 0 to 166\n",
      "Data columns (total 4 columns):\n",
      "0    167 non-null float64\n",
      "1    167 non-null float64\n",
      "2    167 non-null float64\n",
      "3    167 non-null float64\n",
      "dtypes: float64(4)\n",
      "memory usage: 5.3 KB\n"
     ]
    }
   ],
   "source": [
    "pca = PCA(n_components=4)\n",
    "pca_2d =pca.fit_transform(X_std)\n",
    "pca_df_2d = pd.DataFrame(pca_2d)\n",
    "pca_df_2d.info()"
   ]
  },
  {
   "cell_type": "markdown",
   "metadata": {},
   "source": [
    "#### Original dataframe"
   ]
  },
  {
   "cell_type": "code",
   "execution_count": 18,
   "metadata": {},
   "outputs": [
    {
     "name": "stdout",
     "output_type": "stream",
     "text": [
      "(167, 9)\n"
     ]
    }
   ],
   "source": [
    "print(X_std.shape)"
   ]
  },
  {
   "cell_type": "markdown",
   "metadata": {},
   "source": [
    "#### dataframe after dimensionality reduction after PCA"
   ]
  },
  {
   "cell_type": "code",
   "execution_count": 19,
   "metadata": {},
   "outputs": [
    {
     "name": "stdout",
     "output_type": "stream",
     "text": [
      "(167, 4)\n"
     ]
    }
   ],
   "source": [
    "print(pca_df_2d.shape)"
   ]
  },
  {
   "cell_type": "code",
   "execution_count": 20,
   "metadata": {},
   "outputs": [
    {
     "data": {
      "text/html": [
       "<div>\n",
       "<style scoped>\n",
       "    .dataframe tbody tr th:only-of-type {\n",
       "        vertical-align: middle;\n",
       "    }\n",
       "\n",
       "    .dataframe tbody tr th {\n",
       "        vertical-align: top;\n",
       "    }\n",
       "\n",
       "    .dataframe thead th {\n",
       "        text-align: right;\n",
       "    }\n",
       "</style>\n",
       "<table border=\"1\" class=\"dataframe\">\n",
       "  <thead>\n",
       "    <tr style=\"text-align: right;\">\n",
       "      <th></th>\n",
       "      <th>0</th>\n",
       "      <th>1</th>\n",
       "      <th>2</th>\n",
       "      <th>3</th>\n",
       "    </tr>\n",
       "  </thead>\n",
       "  <tbody>\n",
       "    <tr>\n",
       "      <th>0</th>\n",
       "      <td>-2.913025</td>\n",
       "      <td>0.095621</td>\n",
       "      <td>-0.718118</td>\n",
       "      <td>1.005255</td>\n",
       "    </tr>\n",
       "    <tr>\n",
       "      <th>1</th>\n",
       "      <td>0.429911</td>\n",
       "      <td>-0.588156</td>\n",
       "      <td>-0.333486</td>\n",
       "      <td>-1.161059</td>\n",
       "    </tr>\n",
       "    <tr>\n",
       "      <th>2</th>\n",
       "      <td>-0.285225</td>\n",
       "      <td>-0.455174</td>\n",
       "      <td>1.221505</td>\n",
       "      <td>-0.868115</td>\n",
       "    </tr>\n",
       "    <tr>\n",
       "      <th>3</th>\n",
       "      <td>-2.932423</td>\n",
       "      <td>1.695555</td>\n",
       "      <td>1.525044</td>\n",
       "      <td>0.839625</td>\n",
       "    </tr>\n",
       "    <tr>\n",
       "      <th>4</th>\n",
       "      <td>1.033576</td>\n",
       "      <td>0.136659</td>\n",
       "      <td>-0.225721</td>\n",
       "      <td>-0.847063</td>\n",
       "    </tr>\n",
       "  </tbody>\n",
       "</table>\n",
       "</div>"
      ],
      "text/plain": [
       "          0         1         2         3\n",
       "0 -2.913025  0.095621 -0.718118  1.005255\n",
       "1  0.429911 -0.588156 -0.333486 -1.161059\n",
       "2 -0.285225 -0.455174  1.221505 -0.868115\n",
       "3 -2.932423  1.695555  1.525044  0.839625\n",
       "4  1.033576  0.136659 -0.225721 -0.847063"
      ]
     },
     "execution_count": 20,
     "metadata": {},
     "output_type": "execute_result"
    }
   ],
   "source": [
    "pca_df_2d.head()"
   ]
  },
  {
   "cell_type": "code",
   "execution_count": 21,
   "metadata": {},
   "outputs": [
    {
     "name": "stdout",
     "output_type": "stream",
     "text": [
      "[[0.41951945 0.28389698 0.15083782 0.16148244 0.39844111 0.19317293\n",
      "  0.42583938 0.40372896 0.39264482]\n",
      " [0.19288394 0.61316349 0.24308678 0.67182064 0.02253553 0.00840447\n",
      "  0.22270674 0.15523311 0.0460224 ]\n",
      " [0.02954353 0.14476069 0.59663237 0.29992674 0.3015475  0.64251951\n",
      "  0.11391854 0.01954925 0.12297749]\n",
      " [0.37065326 0.00309102 0.4618975  0.07190746 0.39215904 0.15044176\n",
      "  0.20379723 0.37830365 0.53199457]]\n"
     ]
    }
   ],
   "source": [
    "print(abs(pca.components_))"
   ]
  },
  {
   "cell_type": "code",
   "execution_count": 22,
   "metadata": {},
   "outputs": [
    {
     "name": "stdout",
     "output_type": "stream",
     "text": [
      "     child_mort   exports    health   imports    income  inflation  \\\n",
      "PC1   -0.419519  0.283897  0.150838  0.161482  0.398441  -0.193173   \n",
      "PC2    0.192884  0.613163 -0.243087  0.671821  0.022536  -0.008404   \n",
      "PC3   -0.029544  0.144761 -0.596632 -0.299927  0.301548   0.642520   \n",
      "PC4    0.370653  0.003091  0.461897 -0.071907  0.392159   0.150442   \n",
      "\n",
      "     life_expec  total_fer      gdpp  \n",
      "PC1    0.425839  -0.403729  0.392645  \n",
      "PC2   -0.222707   0.155233 -0.046022  \n",
      "PC3    0.113919   0.019549  0.122977  \n",
      "PC4   -0.203797   0.378304  0.531995  \n"
     ]
    }
   ],
   "source": [
    "print (pd.DataFrame(pca.components_,columns=df.columns,index = ['PC1', 'PC2','PC3', 'PC4']))"
   ]
  },
  {
   "cell_type": "code",
   "execution_count": 23,
   "metadata": {},
   "outputs": [
    {
     "data": {
      "text/html": [
       "<div>\n",
       "<style scoped>\n",
       "    .dataframe tbody tr th:only-of-type {\n",
       "        vertical-align: middle;\n",
       "    }\n",
       "\n",
       "    .dataframe tbody tr th {\n",
       "        vertical-align: top;\n",
       "    }\n",
       "\n",
       "    .dataframe thead th {\n",
       "        text-align: right;\n",
       "    }\n",
       "</style>\n",
       "<table border=\"1\" class=\"dataframe\">\n",
       "  <thead>\n",
       "    <tr style=\"text-align: right;\">\n",
       "      <th></th>\n",
       "      <th>child_mort</th>\n",
       "      <th>exports</th>\n",
       "      <th>health</th>\n",
       "      <th>imports</th>\n",
       "      <th>income</th>\n",
       "      <th>inflation</th>\n",
       "      <th>life_expec</th>\n",
       "      <th>total_fer</th>\n",
       "      <th>gdpp</th>\n",
       "    </tr>\n",
       "  </thead>\n",
       "  <tbody>\n",
       "    <tr>\n",
       "      <th>PC1</th>\n",
       "      <td>-0.419519</td>\n",
       "      <td>0.283897</td>\n",
       "      <td>0.150838</td>\n",
       "      <td>0.161482</td>\n",
       "      <td>0.398441</td>\n",
       "      <td>-0.193173</td>\n",
       "      <td>0.425839</td>\n",
       "      <td>-0.403729</td>\n",
       "      <td>0.392645</td>\n",
       "    </tr>\n",
       "    <tr>\n",
       "      <th>PC2</th>\n",
       "      <td>0.192884</td>\n",
       "      <td>0.613163</td>\n",
       "      <td>-0.243087</td>\n",
       "      <td>0.671821</td>\n",
       "      <td>0.022536</td>\n",
       "      <td>-0.008404</td>\n",
       "      <td>-0.222707</td>\n",
       "      <td>0.155233</td>\n",
       "      <td>-0.046022</td>\n",
       "    </tr>\n",
       "    <tr>\n",
       "      <th>PC3</th>\n",
       "      <td>-0.029544</td>\n",
       "      <td>0.144761</td>\n",
       "      <td>-0.596632</td>\n",
       "      <td>-0.299927</td>\n",
       "      <td>0.301548</td>\n",
       "      <td>0.642520</td>\n",
       "      <td>0.113919</td>\n",
       "      <td>0.019549</td>\n",
       "      <td>0.122977</td>\n",
       "    </tr>\n",
       "    <tr>\n",
       "      <th>PC4</th>\n",
       "      <td>0.370653</td>\n",
       "      <td>0.003091</td>\n",
       "      <td>0.461897</td>\n",
       "      <td>-0.071907</td>\n",
       "      <td>0.392159</td>\n",
       "      <td>0.150442</td>\n",
       "      <td>-0.203797</td>\n",
       "      <td>0.378304</td>\n",
       "      <td>0.531995</td>\n",
       "    </tr>\n",
       "  </tbody>\n",
       "</table>\n",
       "</div>"
      ],
      "text/plain": [
       "     child_mort   exports    health   imports    income  inflation  \\\n",
       "PC1   -0.419519  0.283897  0.150838  0.161482  0.398441  -0.193173   \n",
       "PC2    0.192884  0.613163 -0.243087  0.671821  0.022536  -0.008404   \n",
       "PC3   -0.029544  0.144761 -0.596632 -0.299927  0.301548   0.642520   \n",
       "PC4    0.370653  0.003091  0.461897 -0.071907  0.392159   0.150442   \n",
       "\n",
       "     life_expec  total_fer      gdpp  \n",
       "PC1    0.425839  -0.403729  0.392645  \n",
       "PC2   -0.222707   0.155233 -0.046022  \n",
       "PC3    0.113919   0.019549  0.122977  \n",
       "PC4   -0.203797   0.378304  0.531995  "
      ]
     },
     "execution_count": 23,
     "metadata": {},
     "output_type": "execute_result"
    }
   ],
   "source": [
    "pca_original_df=pd.DataFrame(pca.components_,columns=df.columns,index = ['PC1', 'PC2','PC3', 'PC4'])\n",
    "pca_original_df.head()"
   ]
  },
  {
   "cell_type": "markdown",
   "metadata": {},
   "source": [
    "#### Dataframe created with 4 principal components with Country as index"
   ]
  },
  {
   "cell_type": "code",
   "execution_count": 24,
   "metadata": {},
   "outputs": [
    {
     "data": {
      "text/html": [
       "<div>\n",
       "<style scoped>\n",
       "    .dataframe tbody tr th:only-of-type {\n",
       "        vertical-align: middle;\n",
       "    }\n",
       "\n",
       "    .dataframe tbody tr th {\n",
       "        vertical-align: top;\n",
       "    }\n",
       "\n",
       "    .dataframe thead th {\n",
       "        text-align: right;\n",
       "    }\n",
       "</style>\n",
       "<table border=\"1\" class=\"dataframe\">\n",
       "  <thead>\n",
       "    <tr style=\"text-align: right;\">\n",
       "      <th></th>\n",
       "      <th>PC1</th>\n",
       "      <th>PC2</th>\n",
       "      <th>PC3</th>\n",
       "      <th>PC4</th>\n",
       "    </tr>\n",
       "    <tr>\n",
       "      <th>country</th>\n",
       "      <th></th>\n",
       "      <th></th>\n",
       "      <th></th>\n",
       "      <th></th>\n",
       "    </tr>\n",
       "  </thead>\n",
       "  <tbody>\n",
       "    <tr>\n",
       "      <th>Afghanistan</th>\n",
       "      <td>-2.913025</td>\n",
       "      <td>0.095621</td>\n",
       "      <td>-0.718118</td>\n",
       "      <td>1.005255</td>\n",
       "    </tr>\n",
       "    <tr>\n",
       "      <th>Albania</th>\n",
       "      <td>0.429911</td>\n",
       "      <td>-0.588156</td>\n",
       "      <td>-0.333486</td>\n",
       "      <td>-1.161059</td>\n",
       "    </tr>\n",
       "    <tr>\n",
       "      <th>Algeria</th>\n",
       "      <td>-0.285225</td>\n",
       "      <td>-0.455174</td>\n",
       "      <td>1.221505</td>\n",
       "      <td>-0.868115</td>\n",
       "    </tr>\n",
       "    <tr>\n",
       "      <th>Angola</th>\n",
       "      <td>-2.932423</td>\n",
       "      <td>1.695555</td>\n",
       "      <td>1.525044</td>\n",
       "      <td>0.839625</td>\n",
       "    </tr>\n",
       "    <tr>\n",
       "      <th>Antigua and Barbuda</th>\n",
       "      <td>1.033576</td>\n",
       "      <td>0.136659</td>\n",
       "      <td>-0.225721</td>\n",
       "      <td>-0.847063</td>\n",
       "    </tr>\n",
       "  </tbody>\n",
       "</table>\n",
       "</div>"
      ],
      "text/plain": [
       "                          PC1       PC2       PC3       PC4\n",
       "country                                                    \n",
       "Afghanistan         -2.913025  0.095621 -0.718118  1.005255\n",
       "Albania              0.429911 -0.588156 -0.333486 -1.161059\n",
       "Algeria             -0.285225 -0.455174  1.221505 -0.868115\n",
       "Angola              -2.932423  1.695555  1.525044  0.839625\n",
       "Antigua and Barbuda  1.033576  0.136659 -0.225721 -0.847063"
      ]
     },
     "execution_count": 24,
     "metadata": {},
     "output_type": "execute_result"
    }
   ],
   "source": [
    "pca_df_2d.index = country_data.index\n",
    "pca_df_2d.columns = ['PC1', 'PC2','PC3', 'PC4']\n",
    "pca_df_2d.head()"
   ]
  },
  {
   "cell_type": "code",
   "execution_count": 25,
   "metadata": {},
   "outputs": [
    {
     "name": "stdout",
     "output_type": "stream",
     "text": [
      "<class 'pandas.core.frame.DataFrame'>\n",
      "Index: 167 entries, Afghanistan to Zambia\n",
      "Data columns (total 4 columns):\n",
      "PC1    167 non-null float64\n",
      "PC2    167 non-null float64\n",
      "PC3    167 non-null float64\n",
      "PC4    167 non-null float64\n",
      "dtypes: float64(4)\n",
      "memory usage: 6.5+ KB\n"
     ]
    }
   ],
   "source": [
    "pca_df_2d.info()"
   ]
  },
  {
   "cell_type": "code",
   "execution_count": 26,
   "metadata": {},
   "outputs": [
    {
     "data": {
      "text/html": [
       "<div>\n",
       "<style scoped>\n",
       "    .dataframe tbody tr th:only-of-type {\n",
       "        vertical-align: middle;\n",
       "    }\n",
       "\n",
       "    .dataframe tbody tr th {\n",
       "        vertical-align: top;\n",
       "    }\n",
       "\n",
       "    .dataframe thead th {\n",
       "        text-align: right;\n",
       "    }\n",
       "</style>\n",
       "<table border=\"1\" class=\"dataframe\">\n",
       "  <thead>\n",
       "    <tr style=\"text-align: right;\">\n",
       "      <th></th>\n",
       "      <th>PC1</th>\n",
       "      <th>PC2</th>\n",
       "      <th>PC3</th>\n",
       "      <th>PC4</th>\n",
       "    </tr>\n",
       "    <tr>\n",
       "      <th>country</th>\n",
       "      <th></th>\n",
       "      <th></th>\n",
       "      <th></th>\n",
       "      <th></th>\n",
       "    </tr>\n",
       "  </thead>\n",
       "  <tbody>\n",
       "    <tr>\n",
       "      <th>Afghanistan</th>\n",
       "      <td>-2.913025</td>\n",
       "      <td>0.095621</td>\n",
       "      <td>-0.718118</td>\n",
       "      <td>1.005255</td>\n",
       "    </tr>\n",
       "    <tr>\n",
       "      <th>Albania</th>\n",
       "      <td>0.429911</td>\n",
       "      <td>-0.588156</td>\n",
       "      <td>-0.333486</td>\n",
       "      <td>-1.161059</td>\n",
       "    </tr>\n",
       "    <tr>\n",
       "      <th>Algeria</th>\n",
       "      <td>-0.285225</td>\n",
       "      <td>-0.455174</td>\n",
       "      <td>1.221505</td>\n",
       "      <td>-0.868115</td>\n",
       "    </tr>\n",
       "    <tr>\n",
       "      <th>Angola</th>\n",
       "      <td>-2.932423</td>\n",
       "      <td>1.695555</td>\n",
       "      <td>1.525044</td>\n",
       "      <td>0.839625</td>\n",
       "    </tr>\n",
       "    <tr>\n",
       "      <th>Antigua and Barbuda</th>\n",
       "      <td>1.033576</td>\n",
       "      <td>0.136659</td>\n",
       "      <td>-0.225721</td>\n",
       "      <td>-0.847063</td>\n",
       "    </tr>\n",
       "    <tr>\n",
       "      <th>Argentina</th>\n",
       "      <td>0.022407</td>\n",
       "      <td>-1.779187</td>\n",
       "      <td>0.869997</td>\n",
       "      <td>-0.036967</td>\n",
       "    </tr>\n",
       "    <tr>\n",
       "      <th>Armenia</th>\n",
       "      <td>-0.101584</td>\n",
       "      <td>-0.568252</td>\n",
       "      <td>0.242092</td>\n",
       "      <td>-1.466266</td>\n",
       "    </tr>\n",
       "    <tr>\n",
       "      <th>Australia</th>\n",
       "      <td>2.342165</td>\n",
       "      <td>-1.988459</td>\n",
       "      <td>0.190344</td>\n",
       "      <td>1.105038</td>\n",
       "    </tr>\n",
       "    <tr>\n",
       "      <th>Austria</th>\n",
       "      <td>2.973764</td>\n",
       "      <td>-0.734689</td>\n",
       "      <td>-0.519766</td>\n",
       "      <td>1.205442</td>\n",
       "    </tr>\n",
       "    <tr>\n",
       "      <th>Azerbaijan</th>\n",
       "      <td>-0.181487</td>\n",
       "      <td>-0.402866</td>\n",
       "      <td>0.867459</td>\n",
       "      <td>-0.438773</td>\n",
       "    </tr>\n",
       "  </tbody>\n",
       "</table>\n",
       "</div>"
      ],
      "text/plain": [
       "                          PC1       PC2       PC3       PC4\n",
       "country                                                    \n",
       "Afghanistan         -2.913025  0.095621 -0.718118  1.005255\n",
       "Albania              0.429911 -0.588156 -0.333486 -1.161059\n",
       "Algeria             -0.285225 -0.455174  1.221505 -0.868115\n",
       "Angola              -2.932423  1.695555  1.525044  0.839625\n",
       "Antigua and Barbuda  1.033576  0.136659 -0.225721 -0.847063\n",
       "Argentina            0.022407 -1.779187  0.869997 -0.036967\n",
       "Armenia             -0.101584 -0.568252  0.242092 -1.466266\n",
       "Australia            2.342165 -1.988459  0.190344  1.105038\n",
       "Austria              2.973764 -0.734689 -0.519766  1.205442\n",
       "Azerbaijan          -0.181487 -0.402866  0.867459 -0.438773"
      ]
     },
     "execution_count": 26,
     "metadata": {},
     "output_type": "execute_result"
    }
   ],
   "source": [
    "pca_df_2d.head(10)"
   ]
  },
  {
   "cell_type": "markdown",
   "metadata": {},
   "source": [
    "### Outlier treatment after PCA"
   ]
  },
  {
   "cell_type": "code",
   "execution_count": 31,
   "metadata": {},
   "outputs": [
    {
     "name": "stdout",
     "output_type": "stream",
     "text": [
      "PC1    2.606598\n",
      "PC2    1.305523\n",
      "PC3    0.924423\n",
      "PC4    1.494510\n",
      "dtype: float64\n"
     ]
    }
   ],
   "source": [
    "Q1 = pca_df_2d.quantile(0.25)\n",
    "Q3 = pca_df_2d.quantile(0.75)\n",
    "IQR = Q3 - Q1\n",
    "print(IQR)"
   ]
  },
  {
   "cell_type": "markdown",
   "metadata": {},
   "source": [
    "## Find outlier countries"
   ]
  },
  {
   "cell_type": "code",
   "execution_count": 32,
   "metadata": {
    "scrolled": true
   },
   "outputs": [
    {
     "name": "stdout",
     "output_type": "stream",
     "text": [
      "<class 'pandas.core.frame.DataFrame'>\n",
      "Index: 18 entries, Brunei to Venezuela\n",
      "Data columns (total 4 columns):\n",
      "PC1    18 non-null float64\n",
      "PC2    18 non-null float64\n",
      "PC3    18 non-null float64\n",
      "PC4    18 non-null float64\n",
      "dtypes: float64(4)\n",
      "memory usage: 720.0+ bytes\n"
     ]
    }
   ],
   "source": [
    "pca_df_2d_outlier = pca_df_2d[((pca_df_2d < (Q1 - 1.5 * IQR)) |(pca_df_2d > (Q3 + 1.5 * IQR))).any(axis=1)]\n",
    "pca_df_2d_outlier.info()"
   ]
  },
  {
   "cell_type": "markdown",
   "metadata": {},
   "source": [
    "### Box plots for the individual column"
   ]
  },
  {
   "cell_type": "code",
   "execution_count": 29,
   "metadata": {
    "scrolled": true
   },
   "outputs": [
    {
     "data": {
      "image/png": "[encoded data removed]",
      "text/plain": [
       "<Figure size 432x288 with 1 Axes>"
      ]
     },
     "metadata": {
      "needs_background": "light"
     },
     "output_type": "display_data"
    }
   ],
   "source": [
    "# outlier treatment for PC1\n",
    "plt.boxplot(pca_df_2d.PC1)\n",
    "\n",
    "# outlier treatment for PC2\n",
    "plt.boxplot(pca_df_2d.PC2)\n",
    "\n",
    "# outlier treatment for PC3\n",
    "plt.boxplot(pca_df_2d.PC3)\n",
    "\n",
    "# outlier treatment for PC4\n",
    "plt.boxplot(pca_df_2d.PC4)\n",
    "\n"
   ]
  },
  {
   "cell_type": "markdown",
   "metadata": {},
   "source": [
    "### As per Outlier analysis through IQR, there are 18 data points which are outliers . Hence, we move them to a different dataframe. \n",
    "### Only consider the data without outliers for K-means clustering"
   ]
  },
  {
   "cell_type": "code",
   "execution_count": 33,
   "metadata": {
    "scrolled": true
   },
   "outputs": [
    {
     "name": "stdout",
     "output_type": "stream",
     "text": [
      "<class 'pandas.core.frame.DataFrame'>\n",
      "Index: 149 entries, Afghanistan to Zambia\n",
      "Data columns (total 4 columns):\n",
      "PC1    149 non-null float64\n",
      "PC2    149 non-null float64\n",
      "PC3    149 non-null float64\n",
      "PC4    149 non-null float64\n",
      "dtypes: float64(4)\n",
      "memory usage: 5.8+ KB\n"
     ]
    }
   ],
   "source": [
    "pca_df_2d_noutlier = pca_df_2d[~((pca_df_2d < (Q1 - 1.5 * IQR)) |(pca_df_2d > (Q3 + 1.5 * IQR))).any(axis=1)]\n",
    "pca_df_2d_noutlier.info()"
   ]
  },
  {
   "cell_type": "markdown",
   "metadata": {},
   "source": [
    "## variance explained by each principal component\n"
   ]
  },
  {
   "cell_type": "code",
   "execution_count": 34,
   "metadata": {},
   "outputs": [
    {
     "name": "stdout",
     "output_type": "stream",
     "text": [
      "[0.4595174  0.17181626 0.13004259 0.11053162]\n"
     ]
    }
   ],
   "source": [
    "print(pca.explained_variance_ratio_) "
   ]
  },
  {
   "cell_type": "markdown",
   "metadata": {},
   "source": [
    "# 87% variance achieved"
   ]
  },
  {
   "cell_type": "code",
   "execution_count": 35,
   "metadata": {},
   "outputs": [
    {
     "name": "stdout",
     "output_type": "stream",
     "text": [
      "[45.95 63.13 76.13 87.18]\n"
     ]
    }
   ],
   "source": [
    "#Cumulative Variance explains\n",
    "var1=np.cumsum(np.round(pca.explained_variance_ratio_, decimals=4)*100)\n",
    "print (var1)"
   ]
  },
  {
   "cell_type": "markdown",
   "metadata": {},
   "source": [
    "# Let us plot the variance explained by each principal component. "
   ]
  },
  {
   "cell_type": "code",
   "execution_count": 36,
   "metadata": {},
   "outputs": [
    {
     "data": {
      "image/png": "[encoded data removed]",
      "text/plain": [
       "<Figure size 432x288 with 1 Axes>"
      ]
     },
     "metadata": {
      "needs_background": "light"
     },
     "output_type": "display_data"
    }
   ],
   "source": [
    "df = pd.DataFrame({'var':pca.explained_variance_ratio_,\n",
    "             'PC':['PC1', 'PC2','PC3', 'PC4']})\n",
    "sns.barplot(x='PC',y=\"var\", \n",
    "           data=df, color=\"c\");"
   ]
  },
  {
   "cell_type": "markdown",
   "metadata": {},
   "source": [
    "## Plotting PC1 and PC2 based on Countries"
   ]
  },
  {
   "cell_type": "code",
   "execution_count": 37,
   "metadata": {},
   "outputs": [
    {
     "data": {
      "image/png": "[encoded data removed]",
      "text/plain": [
       "<Figure size 1152x720 with 1 Axes>"
      ]
     },
     "metadata": {
      "needs_background": "light"
     },
     "output_type": "display_data"
    }
   ],
   "source": [
    "%matplotlib inline\n",
    "\n",
    "ax = pca_df_2d_noutlier.plot(kind='scatter', x='PC1', y='PC2', figsize=(16,10))\n",
    "\n",
    "for i, country in enumerate(pca_df_2d_noutlier.index):\n",
    "    ax.annotate(country, (pca_df_2d_noutlier.iloc[i].PC1, pca_df_2d_noutlier.iloc[i].PC2))"
   ]
  },
  {
   "cell_type": "code",
   "execution_count": 38,
   "metadata": {},
   "outputs": [],
   "source": [
    "#craeating correlation matrix for the principal components\n",
    "corrmat = np.corrcoef(pca_df_2d_noutlier.transpose())"
   ]
  },
  {
   "cell_type": "code",
   "execution_count": 39,
   "metadata": {},
   "outputs": [
    {
     "data": {
      "text/plain": [
       "<matplotlib.axes._subplots.AxesSubplot at 0x69311d0>"
      ]
     },
     "execution_count": 39,
     "metadata": {},
     "output_type": "execute_result"
    },
    {
     "data": {
      "image/png": "[encoded data removed]",
      "text/plain": [
       "<Figure size 1440x720 with 2 Axes>"
      ]
     },
     "metadata": {
      "needs_background": "light"
     },
     "output_type": "display_data"
    }
   ],
   "source": [
    "#plotting the correlation matrix\n",
    "%matplotlib inline\n",
    "plt.figure(figsize = (20,10))\n",
    "sns.heatmap(corrmat,annot = True)"
   ]
  },
  {
   "cell_type": "markdown",
   "metadata": {},
   "source": [
    "## Max and Min correlation after PCA which is indeed very close to 0\n",
    "## max corr: 0.0 , min corr:  -0.32678048277261856"
   ]
  },
  {
   "cell_type": "code",
   "execution_count": 40,
   "metadata": {},
   "outputs": [
    {
     "name": "stdout",
     "output_type": "stream",
     "text": [
      "max corr: 0.0 , min corr:  -0.32678048277261856\n"
     ]
    }
   ],
   "source": [
    "# 1s -> 0s in diagonals\n",
    "corrmat_nodiag = corrmat - np.diagflat(corrmat.diagonal())\n",
    "print(\"max corr:\",corrmat_nodiag.max(), \", min corr: \", corrmat_nodiag.min(),)\n",
    "# we see that correlations are indeed very close to 0"
   ]
  },
  {
   "cell_type": "markdown",
   "metadata": {},
   "source": [
    "## Different statistics before K-means"
   ]
  },
  {
   "cell_type": "markdown",
   "metadata": {},
   "source": [
    "## Hopkins Statistics:\n",
    "The Hopkins statistic, is a statistic which gives a value which indicates the cluster tendency, in other words: how well the data can be clustered.\n",
    "\n",
    "- If the value is between {0.01, ...,0.3}, the data is regularly spaced.\n",
    "\n",
    "- If the value is around 0.5, it is random.\n",
    "\n",
    "- If the value is between {0.7, ..., 0.99}, it has a high tendency to cluster."
   ]
  },
  {
   "cell_type": "code",
   "execution_count": 41,
   "metadata": {},
   "outputs": [],
   "source": [
    "from sklearn.neighbors import NearestNeighbors\n",
    "from random import sample\n",
    "from numpy.random import uniform\n",
    "import numpy as np\n",
    "from math import isnan\n",
    " \n",
    "def hopkins(X):\n",
    "    d = X.shape[1]\n",
    "    #d = len(vars) # columns\n",
    "    n = len(X) # rows\n",
    "    m = int(0.1 * n) \n",
    "    nbrs = NearestNeighbors(n_neighbors=1).fit(X.values)\n",
    " \n",
    "    rand_X = sample(range(0, n, 1), m)\n",
    " \n",
    "    ujd = []\n",
    "    wjd = []\n",
    "    for j in range(0, m):\n",
    "        u_dist, _ = nbrs.kneighbors(uniform(np.amin(X,axis=0),np.amax(X,axis=0),d).reshape(1, -1), 2, return_distance=True)\n",
    "        ujd.append(u_dist[0][1])\n",
    "        w_dist, _ = nbrs.kneighbors(X.iloc[rand_X[j]].values.reshape(1, -1), 2, return_distance=True)\n",
    "        wjd.append(w_dist[0][1])\n",
    " \n",
    "    H = sum(ujd) / (sum(ujd) + sum(wjd))\n",
    "    if isnan(H):\n",
    "        print(ujd, wjd)\n",
    "        H = 0\n",
    " \n",
    "    return H"
   ]
  },
  {
   "cell_type": "code",
   "execution_count": 42,
   "metadata": {},
   "outputs": [
    {
     "data": {
      "text/plain": [
       "0.7536543935622947"
      ]
     },
     "execution_count": 42,
     "metadata": {},
     "output_type": "execute_result"
    }
   ],
   "source": [
    "hopkins(pca_df_2d_noutlier)"
   ]
  },
  {
   "cell_type": "markdown",
   "metadata": {},
   "source": [
    "## Hopkins statistics is 0.76\n",
    "## it means data has a high tendency to cluster"
   ]
  },
  {
   "cell_type": "markdown",
   "metadata": {},
   "source": [
    "## Silhouette_score"
   ]
  },
  {
   "cell_type": "code",
   "execution_count": 43,
   "metadata": {},
   "outputs": [
    {
     "name": "stdout",
     "output_type": "stream",
     "text": [
      "For n_clusters=2, The Silhouette Coefficient is 0.3920772075961265\n",
      "For n_clusters=3, The Silhouette Coefficient is 0.37829681633756984\n",
      "For n_clusters=4, The Silhouette Coefficient is 0.3150226073522795\n",
      "For n_clusters=5, The Silhouette Coefficient is 0.28748321087001993\n",
      "For n_clusters=6, The Silhouette Coefficient is 0.27666540621494445\n",
      "For n_clusters=7, The Silhouette Coefficient is 0.27549369872996793\n",
      "For n_clusters=8, The Silhouette Coefficient is 0.28327378066219006\n",
      "For n_clusters=9, The Silhouette Coefficient is 0.2922181145229547\n",
      "For n_clusters=10, The Silhouette Coefficient is 0.2716209859579776\n",
      "For n_clusters=11, The Silhouette Coefficient is 0.282558827990012\n",
      "For n_clusters=12, The Silhouette Coefficient is 0.2553972456660434\n",
      "For n_clusters=13, The Silhouette Coefficient is 0.24332797072688578\n",
      "For n_clusters=14, The Silhouette Coefficient is 0.2556030165663792\n"
     ]
    },
    {
     "data": {
      "image/png": "[encoded data removed]",
      "text/plain": [
       "<Figure size 432x288 with 1 Axes>"
      ]
     },
     "metadata": {
      "needs_background": "light"
     },
     "output_type": "display_data"
    }
   ],
   "source": [
    "from sklearn.metrics import silhouette_score\n",
    "sse_ = []\n",
    "for k in range(2, 15):\n",
    "    kmeans = KMeans(n_clusters=k).fit(pca_df_2d_noutlier)\n",
    "    label = kmeans.labels_\n",
    "    sil_coeff = silhouette_score(pca_df_2d_noutlier, label, metric='euclidean')\n",
    "    print(\"For n_clusters={}, The Silhouette Coefficient is {}\".format(k, sil_coeff))\n",
    "   \n",
    "    sse_.append([k, silhouette_score(pca_df_2d_noutlier, kmeans.labels_)])\n",
    "    plt.plot(pd.DataFrame(sse_)[0], pd.DataFrame(sse_)[1]);"
   ]
  },
  {
   "cell_type": "markdown",
   "metadata": {},
   "source": [
    "### SSD for Elbow Curve to find optimal K"
   ]
  },
  {
   "cell_type": "code",
   "execution_count": 44,
   "metadata": {},
   "outputs": [
    {
     "name": "stdout",
     "output_type": "stream",
     "text": [
      "850.0209064381256\n",
      "479.15021037431524\n",
      "317.64772375027746\n",
      "261.7125630834427\n",
      "228.67753082509273\n",
      "203.38396368483762\n",
      "182.56469686213788\n",
      "162.2469761936927\n",
      "142.57693919056305\n",
      "134.9747717334663\n",
      "127.61438139799564\n",
      "118.16459511928862\n",
      "112.71142253869449\n",
      "107.04927643794082\n"
     ]
    }
   ],
   "source": [
    "  \n",
    "Sum_of_squared_distances = []\n",
    "K = range(1,15)\n",
    "for k in K:\n",
    "    km = KMeans(n_clusters=k)\n",
    "    km = km.fit(pca_df_2d_noutlier)\n",
    "    print(km.inertia_)\n",
    "    Sum_of_squared_distances.append(km.inertia_)\n"
   ]
  },
  {
   "cell_type": "code",
   "execution_count": 45,
   "metadata": {},
   "outputs": [
    {
     "data": {
      "image/png": "[encoded data removed]",
      "text/plain": [
       "<Figure size 432x288 with 1 Axes>"
      ]
     },
     "metadata": {
      "needs_background": "light"
     },
     "output_type": "display_data"
    }
   ],
   "source": [
    "plt.plot(K, Sum_of_squared_distances, 'bx-')\n",
    "plt.xlabel('k')\n",
    "plt.ylabel('Sum_of_squared_distances')\n",
    "plt.title('Elbow Method For Optimal k')\n",
    "plt.show()"
   ]
  },
  {
   "cell_type": "markdown",
   "metadata": {},
   "source": [
    "### Optimal cluster looks to be "
   ]
  },
  {
   "cell_type": "code",
   "execution_count": 46,
   "metadata": {},
   "outputs": [
    {
     "name": "stdout",
     "output_type": "stream",
     "text": [
      "KMeans(algorithm='auto', copy_x=True, init='k-means++', max_iter=100,\n",
      "    n_clusters=4, n_init=10, n_jobs=1, precompute_distances='auto',\n",
      "    random_state=None, tol=0.0001, verbose=0)\n"
     ]
    }
   ],
   "source": [
    "# Kmeans with K=4\n",
    "kmeans = KMeans(n_clusters = 4, max_iter=100)\n",
    "clusters=kmeans.fit(pca_df_2d_noutlier)\n",
    "print(clusters)"
   ]
  },
  {
   "cell_type": "code",
   "execution_count": 47,
   "metadata": {},
   "outputs": [
    {
     "name": "stdout",
     "output_type": "stream",
     "text": [
      "[1 2 3 1 2 3 3 0 0 3 2 2 3 2 2 0 2 1 2 3 2 1 3 2 1 1 2 1 0 2 1 1 3 3 3 1 1\n",
      " 1 2 1 2 2 2 0 3 3 3 2 1 1 2 2 0 0 1 1 2 0 1 0 2 3 1 1 2 1 2 0 3 3 3 3 0 0\n",
      " 0 3 0 2 3 1 2 1 2 2 2 2 2 1 1 2 2 1 1 2 2 2 3 1 3 1 3 0 0 1 0 1 2 2 3 3 2\n",
      " 0 2 3 1 2 1 2 1 2 0 2 1 2 0 3 2 1 2 0 0 3 1 2 1 1 3 2 3 2 1 2 0 3 3 2 2 1\n",
      " 1]\n"
     ]
    }
   ],
   "source": [
    "y_kmeans = kmeans.predict(pca_df_2d_noutlier)\n",
    "print(y_kmeans)"
   ]
  },
  {
   "cell_type": "code",
   "execution_count": 48,
   "metadata": {
    "scrolled": true
   },
   "outputs": [
    {
     "name": "stdout",
     "output_type": "stream",
     "text": [
      "labels [1 2 3 1 2 3 3 0 0 3 2 2 3 2 2 0 2 1 2 3 2 1 3 2 1 1 2 1 0 2 1 1 3 3 3 1 1\n",
      " 1 2 1 2 2 2 0 3 3 3 2 1 1 2 2 0 0 1 1 2 0 1 0 2 3 1 1 2 1 2 0 3 3 3 3 0 0\n",
      " 0 3 0 2 3 1 2 1 2 2 2 2 2 1 1 2 2 1 1 2 2 2 3 1 3 1 3 0 0 1 0 1 2 2 3 3 2\n",
      " 0 2 3 1 2 1 2 1 2 0 2 1 2 0 3 2 1 2 0 0 3 1 2 1 1 3 2 3 2 1 2 0 3 3 2 2 1\n",
      " 1]\n",
      "[[ 2.57601111 -1.0274813  -0.32907331  1.01227449]\n",
      " [-2.46833083  0.38684134 -0.08491951  0.63547169]\n",
      " [ 0.66881767  0.26447497 -0.336698   -0.77397846]\n",
      " [-0.40484085 -0.83561253  0.43249652 -0.73645176]]\n"
     ]
    }
   ],
   "source": [
    "labels = kmeans.predict(pca_df_2d_noutlier)\n",
    "centroids = kmeans.cluster_centers_\n",
    "labels1=kmeans.labels_\n",
    "print ('labels',labels1)\n",
    "print (centroids)"
   ]
  },
  {
   "cell_type": "code",
   "execution_count": 49,
   "metadata": {},
   "outputs": [
    {
     "data": {
      "image/png": "[encoded data removed]",
      "text/plain": [
       "<Figure size 432x288 with 1 Axes>"
      ]
     },
     "metadata": {
      "needs_background": "light"
     },
     "output_type": "display_data"
    }
   ],
   "source": [
    "plt.scatter(pca_df_2d_noutlier.iloc[:,0], pca_df_2d_noutlier.iloc[:,1], c=y_kmeans, cmap=plt.cm.Paired) \n",
    "plt.scatter(centroids[:, 0], centroids[:, 1], c='blue', s=50, alpha=0.5);\n",
    "plt.show() "
   ]
  },
  {
   "cell_type": "markdown",
   "metadata": {},
   "source": [
    "## Assign the clusters back to the data frame"
   ]
  },
  {
   "cell_type": "code",
   "execution_count": 50,
   "metadata": {
    "scrolled": true
   },
   "outputs": [
    {
     "name": "stderr",
     "output_type": "stream",
     "text": [
      "C:\\Users\\parida\\AppData\\Local\\Continuum\\anaconda3\\lib\\site-packages\\ipykernel_launcher.py:1: SettingWithCopyWarning: \n",
      "A value is trying to be set on a copy of a slice from a DataFrame.\n",
      "Try using .loc[row_indexer,col_indexer] = value instead\n",
      "\n",
      "See the caveats in the documentation: http://pandas.pydata.org/pandas-docs/stable/indexing.html#indexing-view-versus-copy\n",
      "  \"\"\"Entry point for launching an IPython kernel.\n"
     ]
    },
    {
     "data": {
      "text/html": [
       "<div>\n",
       "<style scoped>\n",
       "    .dataframe tbody tr th:only-of-type {\n",
       "        vertical-align: middle;\n",
       "    }\n",
       "\n",
       "    .dataframe tbody tr th {\n",
       "        vertical-align: top;\n",
       "    }\n",
       "\n",
       "    .dataframe thead th {\n",
       "        text-align: right;\n",
       "    }\n",
       "</style>\n",
       "<table border=\"1\" class=\"dataframe\">\n",
       "  <thead>\n",
       "    <tr style=\"text-align: right;\">\n",
       "      <th></th>\n",
       "      <th>PC1</th>\n",
       "      <th>PC2</th>\n",
       "      <th>PC3</th>\n",
       "      <th>PC4</th>\n",
       "      <th>cluster</th>\n",
       "    </tr>\n",
       "    <tr>\n",
       "      <th>country</th>\n",
       "      <th></th>\n",
       "      <th></th>\n",
       "      <th></th>\n",
       "      <th></th>\n",
       "      <th></th>\n",
       "    </tr>\n",
       "  </thead>\n",
       "  <tbody>\n",
       "    <tr>\n",
       "      <th>Afghanistan</th>\n",
       "      <td>-2.913025</td>\n",
       "      <td>0.095621</td>\n",
       "      <td>-0.718118</td>\n",
       "      <td>1.005255</td>\n",
       "      <td>1</td>\n",
       "    </tr>\n",
       "    <tr>\n",
       "      <th>Albania</th>\n",
       "      <td>0.429911</td>\n",
       "      <td>-0.588156</td>\n",
       "      <td>-0.333486</td>\n",
       "      <td>-1.161059</td>\n",
       "      <td>2</td>\n",
       "    </tr>\n",
       "    <tr>\n",
       "      <th>Algeria</th>\n",
       "      <td>-0.285225</td>\n",
       "      <td>-0.455174</td>\n",
       "      <td>1.221505</td>\n",
       "      <td>-0.868115</td>\n",
       "      <td>3</td>\n",
       "    </tr>\n",
       "    <tr>\n",
       "      <th>Angola</th>\n",
       "      <td>-2.932423</td>\n",
       "      <td>1.695555</td>\n",
       "      <td>1.525044</td>\n",
       "      <td>0.839625</td>\n",
       "      <td>1</td>\n",
       "    </tr>\n",
       "    <tr>\n",
       "      <th>Antigua and Barbuda</th>\n",
       "      <td>1.033576</td>\n",
       "      <td>0.136659</td>\n",
       "      <td>-0.225721</td>\n",
       "      <td>-0.847063</td>\n",
       "      <td>2</td>\n",
       "    </tr>\n",
       "  </tbody>\n",
       "</table>\n",
       "</div>"
      ],
      "text/plain": [
       "                          PC1       PC2       PC3       PC4  cluster\n",
       "country                                                             \n",
       "Afghanistan         -2.913025  0.095621 -0.718118  1.005255        1\n",
       "Albania              0.429911 -0.588156 -0.333486 -1.161059        2\n",
       "Algeria             -0.285225 -0.455174  1.221505 -0.868115        3\n",
       "Angola              -2.932423  1.695555  1.525044  0.839625        1\n",
       "Antigua and Barbuda  1.033576  0.136659 -0.225721 -0.847063        2"
      ]
     },
     "execution_count": 50,
     "metadata": {},
     "output_type": "execute_result"
    }
   ],
   "source": [
    "pca_df_2d_noutlier['cluster'] = pd.Series(clusters.labels_, index=pca_df_2d_noutlier.index)\n",
    "pca_df_2d_noutlier.head()"
   ]
  },
  {
   "cell_type": "code",
   "execution_count": 51,
   "metadata": {},
   "outputs": [
    {
     "name": "stdout",
     "output_type": "stream",
     "text": [
      "<class 'pandas.core.frame.DataFrame'>\n",
      "Index: 167 entries, Afghanistan to Zambia\n",
      "Data columns (total 9 columns):\n",
      "child_mort    167 non-null float64\n",
      "exports       167 non-null float64\n",
      "health        167 non-null float64\n",
      "imports       167 non-null float64\n",
      "income        167 non-null int64\n",
      "inflation     167 non-null float64\n",
      "life_expec    167 non-null float64\n",
      "total_fer     167 non-null float64\n",
      "gdpp          167 non-null int64\n",
      "dtypes: float64(7), int64(2)\n",
      "memory usage: 13.0+ KB\n"
     ]
    }
   ],
   "source": [
    "country_data.info()"
   ]
  },
  {
   "cell_type": "code",
   "execution_count": 52,
   "metadata": {},
   "outputs": [
    {
     "data": {
      "text/html": [
       "<div>\n",
       "<style scoped>\n",
       "    .dataframe tbody tr th:only-of-type {\n",
       "        vertical-align: middle;\n",
       "    }\n",
       "\n",
       "    .dataframe tbody tr th {\n",
       "        vertical-align: top;\n",
       "    }\n",
       "\n",
       "    .dataframe thead th {\n",
       "        text-align: right;\n",
       "    }\n",
       "</style>\n",
       "<table border=\"1\" class=\"dataframe\">\n",
       "  <thead>\n",
       "    <tr style=\"text-align: right;\">\n",
       "      <th></th>\n",
       "      <th>child_mort</th>\n",
       "      <th>exports</th>\n",
       "      <th>health</th>\n",
       "      <th>imports</th>\n",
       "      <th>income</th>\n",
       "      <th>inflation</th>\n",
       "      <th>life_expec</th>\n",
       "      <th>total_fer</th>\n",
       "      <th>gdpp</th>\n",
       "    </tr>\n",
       "    <tr>\n",
       "      <th>country</th>\n",
       "      <th></th>\n",
       "      <th></th>\n",
       "      <th></th>\n",
       "      <th></th>\n",
       "      <th></th>\n",
       "      <th></th>\n",
       "      <th></th>\n",
       "      <th></th>\n",
       "      <th></th>\n",
       "    </tr>\n",
       "  </thead>\n",
       "  <tbody>\n",
       "    <tr>\n",
       "      <th>Afghanistan</th>\n",
       "      <td>90.2</td>\n",
       "      <td>10.0</td>\n",
       "      <td>7.58</td>\n",
       "      <td>44.9</td>\n",
       "      <td>1610</td>\n",
       "      <td>9.44</td>\n",
       "      <td>56.2</td>\n",
       "      <td>5.82</td>\n",
       "      <td>553</td>\n",
       "    </tr>\n",
       "    <tr>\n",
       "      <th>Albania</th>\n",
       "      <td>16.6</td>\n",
       "      <td>28.0</td>\n",
       "      <td>6.55</td>\n",
       "      <td>48.6</td>\n",
       "      <td>9930</td>\n",
       "      <td>4.49</td>\n",
       "      <td>76.3</td>\n",
       "      <td>1.65</td>\n",
       "      <td>4090</td>\n",
       "    </tr>\n",
       "    <tr>\n",
       "      <th>Algeria</th>\n",
       "      <td>27.3</td>\n",
       "      <td>38.4</td>\n",
       "      <td>4.17</td>\n",
       "      <td>31.4</td>\n",
       "      <td>12900</td>\n",
       "      <td>16.10</td>\n",
       "      <td>76.5</td>\n",
       "      <td>2.89</td>\n",
       "      <td>4460</td>\n",
       "    </tr>\n",
       "    <tr>\n",
       "      <th>Angola</th>\n",
       "      <td>119.0</td>\n",
       "      <td>62.3</td>\n",
       "      <td>2.85</td>\n",
       "      <td>42.9</td>\n",
       "      <td>5900</td>\n",
       "      <td>22.40</td>\n",
       "      <td>60.1</td>\n",
       "      <td>6.16</td>\n",
       "      <td>3530</td>\n",
       "    </tr>\n",
       "    <tr>\n",
       "      <th>Antigua and Barbuda</th>\n",
       "      <td>10.3</td>\n",
       "      <td>45.5</td>\n",
       "      <td>6.03</td>\n",
       "      <td>58.9</td>\n",
       "      <td>19100</td>\n",
       "      <td>1.44</td>\n",
       "      <td>76.8</td>\n",
       "      <td>2.13</td>\n",
       "      <td>12200</td>\n",
       "    </tr>\n",
       "  </tbody>\n",
       "</table>\n",
       "</div>"
      ],
      "text/plain": [
       "                     child_mort  exports  health  imports  income  inflation  \\\n",
       "country                                                                        \n",
       "Afghanistan                90.2     10.0    7.58     44.9    1610       9.44   \n",
       "Albania                    16.6     28.0    6.55     48.6    9930       4.49   \n",
       "Algeria                    27.3     38.4    4.17     31.4   12900      16.10   \n",
       "Angola                    119.0     62.3    2.85     42.9    5900      22.40   \n",
       "Antigua and Barbuda        10.3     45.5    6.03     58.9   19100       1.44   \n",
       "\n",
       "                     life_expec  total_fer   gdpp  \n",
       "country                                            \n",
       "Afghanistan                56.2       5.82    553  \n",
       "Albania                    76.3       1.65   4090  \n",
       "Algeria                    76.5       2.89   4460  \n",
       "Angola                     60.1       6.16   3530  \n",
       "Antigua and Barbuda        76.8       2.13  12200  "
      ]
     },
     "execution_count": 52,
     "metadata": {},
     "output_type": "execute_result"
    }
   ],
   "source": [
    "country_data.head()"
   ]
  },
  {
   "cell_type": "markdown",
   "metadata": {},
   "source": [
    "## Merge the data to main dataframe to perform visualization"
   ]
  },
  {
   "cell_type": "code",
   "execution_count": 53,
   "metadata": {},
   "outputs": [],
   "source": [
    "final_df = pd.merge(country_data, pca_df_2d_noutlier, left_index=True, right_index=True)"
   ]
  },
  {
   "cell_type": "code",
   "execution_count": 54,
   "metadata": {},
   "outputs": [
    {
     "name": "stdout",
     "output_type": "stream",
     "text": [
      "<class 'pandas.core.frame.DataFrame'>\n",
      "Index: 149 entries, Afghanistan to Zambia\n",
      "Data columns (total 14 columns):\n",
      "child_mort    149 non-null float64\n",
      "exports       149 non-null float64\n",
      "health        149 non-null float64\n",
      "imports       149 non-null float64\n",
      "income        149 non-null int64\n",
      "inflation     149 non-null float64\n",
      "life_expec    149 non-null float64\n",
      "total_fer     149 non-null float64\n",
      "gdpp          149 non-null int64\n",
      "PC1           149 non-null float64\n",
      "PC2           149 non-null float64\n",
      "PC3           149 non-null float64\n",
      "PC4           149 non-null float64\n",
      "cluster       149 non-null int32\n",
      "dtypes: float64(11), int32(1), int64(2)\n",
      "memory usage: 16.9+ KB\n"
     ]
    }
   ],
   "source": [
    "final_df.info()"
   ]
  },
  {
   "cell_type": "code",
   "execution_count": 55,
   "metadata": {},
   "outputs": [
    {
     "data": {
      "text/html": [
       "<div>\n",
       "<style scoped>\n",
       "    .dataframe tbody tr th:only-of-type {\n",
       "        vertical-align: middle;\n",
       "    }\n",
       "\n",
       "    .dataframe tbody tr th {\n",
       "        vertical-align: top;\n",
       "    }\n",
       "\n",
       "    .dataframe thead th {\n",
       "        text-align: right;\n",
       "    }\n",
       "</style>\n",
       "<table border=\"1\" class=\"dataframe\">\n",
       "  <thead>\n",
       "    <tr style=\"text-align: right;\">\n",
       "      <th></th>\n",
       "      <th>child_mort</th>\n",
       "      <th>exports</th>\n",
       "      <th>health</th>\n",
       "      <th>imports</th>\n",
       "      <th>income</th>\n",
       "      <th>inflation</th>\n",
       "      <th>life_expec</th>\n",
       "      <th>total_fer</th>\n",
       "      <th>gdpp</th>\n",
       "      <th>PC1</th>\n",
       "      <th>PC2</th>\n",
       "      <th>PC3</th>\n",
       "      <th>PC4</th>\n",
       "      <th>cluster</th>\n",
       "    </tr>\n",
       "    <tr>\n",
       "      <th>country</th>\n",
       "      <th></th>\n",
       "      <th></th>\n",
       "      <th></th>\n",
       "      <th></th>\n",
       "      <th></th>\n",
       "      <th></th>\n",
       "      <th></th>\n",
       "      <th></th>\n",
       "      <th></th>\n",
       "      <th></th>\n",
       "      <th></th>\n",
       "      <th></th>\n",
       "      <th></th>\n",
       "      <th></th>\n",
       "    </tr>\n",
       "  </thead>\n",
       "  <tbody>\n",
       "    <tr>\n",
       "      <th>Afghanistan</th>\n",
       "      <td>90.2</td>\n",
       "      <td>10.0</td>\n",
       "      <td>7.58</td>\n",
       "      <td>44.9</td>\n",
       "      <td>1610</td>\n",
       "      <td>9.44</td>\n",
       "      <td>56.2</td>\n",
       "      <td>5.82</td>\n",
       "      <td>553</td>\n",
       "      <td>-2.913025</td>\n",
       "      <td>0.095621</td>\n",
       "      <td>-0.718118</td>\n",
       "      <td>1.005255</td>\n",
       "      <td>1</td>\n",
       "    </tr>\n",
       "    <tr>\n",
       "      <th>Albania</th>\n",
       "      <td>16.6</td>\n",
       "      <td>28.0</td>\n",
       "      <td>6.55</td>\n",
       "      <td>48.6</td>\n",
       "      <td>9930</td>\n",
       "      <td>4.49</td>\n",
       "      <td>76.3</td>\n",
       "      <td>1.65</td>\n",
       "      <td>4090</td>\n",
       "      <td>0.429911</td>\n",
       "      <td>-0.588156</td>\n",
       "      <td>-0.333486</td>\n",
       "      <td>-1.161059</td>\n",
       "      <td>2</td>\n",
       "    </tr>\n",
       "    <tr>\n",
       "      <th>Algeria</th>\n",
       "      <td>27.3</td>\n",
       "      <td>38.4</td>\n",
       "      <td>4.17</td>\n",
       "      <td>31.4</td>\n",
       "      <td>12900</td>\n",
       "      <td>16.10</td>\n",
       "      <td>76.5</td>\n",
       "      <td>2.89</td>\n",
       "      <td>4460</td>\n",
       "      <td>-0.285225</td>\n",
       "      <td>-0.455174</td>\n",
       "      <td>1.221505</td>\n",
       "      <td>-0.868115</td>\n",
       "      <td>3</td>\n",
       "    </tr>\n",
       "    <tr>\n",
       "      <th>Angola</th>\n",
       "      <td>119.0</td>\n",
       "      <td>62.3</td>\n",
       "      <td>2.85</td>\n",
       "      <td>42.9</td>\n",
       "      <td>5900</td>\n",
       "      <td>22.40</td>\n",
       "      <td>60.1</td>\n",
       "      <td>6.16</td>\n",
       "      <td>3530</td>\n",
       "      <td>-2.932423</td>\n",
       "      <td>1.695555</td>\n",
       "      <td>1.525044</td>\n",
       "      <td>0.839625</td>\n",
       "      <td>1</td>\n",
       "    </tr>\n",
       "    <tr>\n",
       "      <th>Antigua and Barbuda</th>\n",
       "      <td>10.3</td>\n",
       "      <td>45.5</td>\n",
       "      <td>6.03</td>\n",
       "      <td>58.9</td>\n",
       "      <td>19100</td>\n",
       "      <td>1.44</td>\n",
       "      <td>76.8</td>\n",
       "      <td>2.13</td>\n",
       "      <td>12200</td>\n",
       "      <td>1.033576</td>\n",
       "      <td>0.136659</td>\n",
       "      <td>-0.225721</td>\n",
       "      <td>-0.847063</td>\n",
       "      <td>2</td>\n",
       "    </tr>\n",
       "  </tbody>\n",
       "</table>\n",
       "</div>"
      ],
      "text/plain": [
       "                     child_mort  exports  health  imports  income  inflation  \\\n",
       "country                                                                        \n",
       "Afghanistan                90.2     10.0    7.58     44.9    1610       9.44   \n",
       "Albania                    16.6     28.0    6.55     48.6    9930       4.49   \n",
       "Algeria                    27.3     38.4    4.17     31.4   12900      16.10   \n",
       "Angola                    119.0     62.3    2.85     42.9    5900      22.40   \n",
       "Antigua and Barbuda        10.3     45.5    6.03     58.9   19100       1.44   \n",
       "\n",
       "                     life_expec  total_fer   gdpp       PC1       PC2  \\\n",
       "country                                                                 \n",
       "Afghanistan                56.2       5.82    553 -2.913025  0.095621   \n",
       "Albania                    76.3       1.65   4090  0.429911 -0.588156   \n",
       "Algeria                    76.5       2.89   4460 -0.285225 -0.455174   \n",
       "Angola                     60.1       6.16   3530 -2.932423  1.695555   \n",
       "Antigua and Barbuda        76.8       2.13  12200  1.033576  0.136659   \n",
       "\n",
       "                          PC3       PC4  cluster  \n",
       "country                                           \n",
       "Afghanistan         -0.718118  1.005255        1  \n",
       "Albania             -0.333486 -1.161059        2  \n",
       "Algeria              1.221505 -0.868115        3  \n",
       "Angola               1.525044  0.839625        1  \n",
       "Antigua and Barbuda -0.225721 -0.847063        2  "
      ]
     },
     "execution_count": 55,
     "metadata": {},
     "output_type": "execute_result"
    }
   ],
   "source": [
    "final_df.head()"
   ]
  },
  {
   "cell_type": "code",
   "execution_count": 56,
   "metadata": {},
   "outputs": [
    {
     "data": {
      "text/html": [
       "<div>\n",
       "<style scoped>\n",
       "    .dataframe tbody tr th:only-of-type {\n",
       "        vertical-align: middle;\n",
       "    }\n",
       "\n",
       "    .dataframe tbody tr th {\n",
       "        vertical-align: top;\n",
       "    }\n",
       "\n",
       "    .dataframe thead th {\n",
       "        text-align: right;\n",
       "    }\n",
       "</style>\n",
       "<table border=\"1\" class=\"dataframe\">\n",
       "  <thead>\n",
       "    <tr style=\"text-align: right;\">\n",
       "      <th></th>\n",
       "      <th>child_mort</th>\n",
       "      <th>inflation</th>\n",
       "      <th>gdpp</th>\n",
       "      <th>health</th>\n",
       "    </tr>\n",
       "  </thead>\n",
       "  <tbody>\n",
       "    <tr>\n",
       "      <th>count</th>\n",
       "      <td>23.000000</td>\n",
       "      <td>23.000000</td>\n",
       "      <td>23.000000</td>\n",
       "      <td>23.000000</td>\n",
       "    </tr>\n",
       "    <tr>\n",
       "      <th>mean</th>\n",
       "      <td>4.117391</td>\n",
       "      <td>1.238957</td>\n",
       "      <td>44330.434783</td>\n",
       "      <td>10.144348</td>\n",
       "    </tr>\n",
       "    <tr>\n",
       "      <th>std</th>\n",
       "      <td>0.864266</td>\n",
       "      <td>2.059617</td>\n",
       "      <td>15104.076355</td>\n",
       "      <td>1.142501</td>\n",
       "    </tr>\n",
       "    <tr>\n",
       "      <th>min</th>\n",
       "      <td>2.600000</td>\n",
       "      <td>-3.220000</td>\n",
       "      <td>22500.000000</td>\n",
       "      <td>7.630000</td>\n",
       "    </tr>\n",
       "    <tr>\n",
       "      <th>25%</th>\n",
       "      <td>3.500000</td>\n",
       "      <td>0.335000</td>\n",
       "      <td>34750.000000</td>\n",
       "      <td>9.445000</td>\n",
       "    </tr>\n",
       "    <tr>\n",
       "      <th>50%</th>\n",
       "      <td>4.200000</td>\n",
       "      <td>0.873000</td>\n",
       "      <td>44400.000000</td>\n",
       "      <td>9.640000</td>\n",
       "    </tr>\n",
       "    <tr>\n",
       "      <th>75%</th>\n",
       "      <td>4.500000</td>\n",
       "      <td>1.825000</td>\n",
       "      <td>49500.000000</td>\n",
       "      <td>11.150000</td>\n",
       "    </tr>\n",
       "    <tr>\n",
       "      <th>max</th>\n",
       "      <td>6.200000</td>\n",
       "      <td>5.950000</td>\n",
       "      <td>87800.000000</td>\n",
       "      <td>11.900000</td>\n",
       "    </tr>\n",
       "  </tbody>\n",
       "</table>\n",
       "</div>"
      ],
      "text/plain": [
       "       child_mort  inflation          gdpp     health\n",
       "count   23.000000  23.000000     23.000000  23.000000\n",
       "mean     4.117391   1.238957  44330.434783  10.144348\n",
       "std      0.864266   2.059617  15104.076355   1.142501\n",
       "min      2.600000  -3.220000  22500.000000   7.630000\n",
       "25%      3.500000   0.335000  34750.000000   9.445000\n",
       "50%      4.200000   0.873000  44400.000000   9.640000\n",
       "75%      4.500000   1.825000  49500.000000  11.150000\n",
       "max      6.200000   5.950000  87800.000000  11.900000"
      ]
     },
     "execution_count": 56,
     "metadata": {},
     "output_type": "execute_result"
    }
   ],
   "source": [
    "final_cluster_0=final_df.loc[(final_df['cluster'] == 0)] [['child_mort','inflation','gdpp','health']]\n",
    "final_cluster_0.describe()\n"
   ]
  },
  {
   "cell_type": "code",
   "execution_count": 57,
   "metadata": {},
   "outputs": [
    {
     "data": {
      "text/plain": [
       "44330.434782608696"
      ]
     },
     "execution_count": 57,
     "metadata": {},
     "output_type": "execute_result"
    }
   ],
   "source": [
    "final_cluster_0.gdpp.mean()"
   ]
  },
  {
   "cell_type": "code",
   "execution_count": 58,
   "metadata": {},
   "outputs": [
    {
     "data": {
      "text/plain": [
       "0.885"
      ]
     },
     "execution_count": 58,
     "metadata": {},
     "output_type": "execute_result"
    }
   ],
   "source": [
    "final_cluster_1=final_df.loc[(final_df['cluster'] == 1)] [['child_mort','inflation','income','gdpp','health']]\n",
    "final_cluster_1.gdpp.mean()\n",
    "final_cluster_1.inflation.min()"
   ]
  },
  {
   "cell_type": "code",
   "execution_count": 59,
   "metadata": {},
   "outputs": [
    {
     "data": {
      "text/html": [
       "<div>\n",
       "<style scoped>\n",
       "    .dataframe tbody tr th:only-of-type {\n",
       "        vertical-align: middle;\n",
       "    }\n",
       "\n",
       "    .dataframe tbody tr th {\n",
       "        vertical-align: top;\n",
       "    }\n",
       "\n",
       "    .dataframe thead th {\n",
       "        text-align: right;\n",
       "    }\n",
       "</style>\n",
       "<table border=\"1\" class=\"dataframe\">\n",
       "  <thead>\n",
       "    <tr style=\"text-align: right;\">\n",
       "      <th></th>\n",
       "      <th>child_mort</th>\n",
       "      <th>inflation</th>\n",
       "      <th>income</th>\n",
       "      <th>gdpp</th>\n",
       "      <th>health</th>\n",
       "    </tr>\n",
       "    <tr>\n",
       "      <th>country</th>\n",
       "      <th></th>\n",
       "      <th></th>\n",
       "      <th></th>\n",
       "      <th></th>\n",
       "      <th></th>\n",
       "    </tr>\n",
       "  </thead>\n",
       "  <tbody>\n",
       "    <tr>\n",
       "      <th>Afghanistan</th>\n",
       "      <td>90.2</td>\n",
       "      <td>9.440</td>\n",
       "      <td>1610</td>\n",
       "      <td>553</td>\n",
       "      <td>7.58</td>\n",
       "    </tr>\n",
       "    <tr>\n",
       "      <th>Angola</th>\n",
       "      <td>119.0</td>\n",
       "      <td>22.400</td>\n",
       "      <td>5900</td>\n",
       "      <td>3530</td>\n",
       "      <td>2.85</td>\n",
       "    </tr>\n",
       "    <tr>\n",
       "      <th>Benin</th>\n",
       "      <td>111.0</td>\n",
       "      <td>0.885</td>\n",
       "      <td>1820</td>\n",
       "      <td>758</td>\n",
       "      <td>4.10</td>\n",
       "    </tr>\n",
       "    <tr>\n",
       "      <th>Botswana</th>\n",
       "      <td>52.5</td>\n",
       "      <td>8.920</td>\n",
       "      <td>13300</td>\n",
       "      <td>6350</td>\n",
       "      <td>8.30</td>\n",
       "    </tr>\n",
       "    <tr>\n",
       "      <th>Burkina Faso</th>\n",
       "      <td>116.0</td>\n",
       "      <td>6.810</td>\n",
       "      <td>1430</td>\n",
       "      <td>575</td>\n",
       "      <td>6.74</td>\n",
       "    </tr>\n",
       "  </tbody>\n",
       "</table>\n",
       "</div>"
      ],
      "text/plain": [
       "              child_mort  inflation  income  gdpp  health\n",
       "country                                                  \n",
       "Afghanistan         90.2      9.440    1610   553    7.58\n",
       "Angola             119.0     22.400    5900  3530    2.85\n",
       "Benin              111.0      0.885    1820   758    4.10\n",
       "Botswana            52.5      8.920   13300  6350    8.30\n",
       "Burkina Faso       116.0      6.810    1430   575    6.74"
      ]
     },
     "execution_count": 59,
     "metadata": {},
     "output_type": "execute_result"
    }
   ],
   "source": [
    "final_cluster_1.head()"
   ]
  },
  {
   "cell_type": "code",
   "execution_count": 60,
   "metadata": {
    "scrolled": true
   },
   "outputs": [
    {
     "data": {
      "text/plain": [
       "8295.5"
      ]
     },
     "execution_count": 60,
     "metadata": {},
     "output_type": "execute_result"
    }
   ],
   "source": [
    "final_cluster_2=final_df.loc[(final_df['cluster'] == 2)] [['child_mort','inflation','gdpp','health']]\n",
    "final_cluster_2.gdpp.mean()"
   ]
  },
  {
   "cell_type": "code",
   "execution_count": 61,
   "metadata": {},
   "outputs": [
    {
     "data": {
      "text/html": [
       "<div>\n",
       "<style scoped>\n",
       "    .dataframe tbody tr th:only-of-type {\n",
       "        vertical-align: middle;\n",
       "    }\n",
       "\n",
       "    .dataframe tbody tr th {\n",
       "        vertical-align: top;\n",
       "    }\n",
       "\n",
       "    .dataframe thead th {\n",
       "        text-align: right;\n",
       "    }\n",
       "</style>\n",
       "<table border=\"1\" class=\"dataframe\">\n",
       "  <thead>\n",
       "    <tr style=\"text-align: right;\">\n",
       "      <th></th>\n",
       "      <th>child_mort</th>\n",
       "      <th>inflation</th>\n",
       "      <th>gdpp</th>\n",
       "      <th>health</th>\n",
       "    </tr>\n",
       "    <tr>\n",
       "      <th>country</th>\n",
       "      <th></th>\n",
       "      <th></th>\n",
       "      <th></th>\n",
       "      <th></th>\n",
       "    </tr>\n",
       "  </thead>\n",
       "  <tbody>\n",
       "    <tr>\n",
       "      <th>Algeria</th>\n",
       "      <td>27.3</td>\n",
       "      <td>16.10</td>\n",
       "      <td>4460</td>\n",
       "      <td>4.17</td>\n",
       "    </tr>\n",
       "    <tr>\n",
       "      <th>Argentina</th>\n",
       "      <td>14.5</td>\n",
       "      <td>20.90</td>\n",
       "      <td>10300</td>\n",
       "      <td>8.10</td>\n",
       "    </tr>\n",
       "    <tr>\n",
       "      <th>Armenia</th>\n",
       "      <td>18.1</td>\n",
       "      <td>7.77</td>\n",
       "      <td>3220</td>\n",
       "      <td>4.40</td>\n",
       "    </tr>\n",
       "    <tr>\n",
       "      <th>Azerbaijan</th>\n",
       "      <td>39.2</td>\n",
       "      <td>13.80</td>\n",
       "      <td>5840</td>\n",
       "      <td>5.88</td>\n",
       "    </tr>\n",
       "    <tr>\n",
       "      <th>Bangladesh</th>\n",
       "      <td>49.4</td>\n",
       "      <td>7.14</td>\n",
       "      <td>758</td>\n",
       "      <td>3.52</td>\n",
       "    </tr>\n",
       "  </tbody>\n",
       "</table>\n",
       "</div>"
      ],
      "text/plain": [
       "            child_mort  inflation   gdpp  health\n",
       "country                                         \n",
       "Algeria           27.3      16.10   4460    4.17\n",
       "Argentina         14.5      20.90  10300    8.10\n",
       "Armenia           18.1       7.77   3220    4.40\n",
       "Azerbaijan        39.2      13.80   5840    5.88\n",
       "Bangladesh        49.4       7.14    758    3.52"
      ]
     },
     "execution_count": 61,
     "metadata": {},
     "output_type": "execute_result"
    }
   ],
   "source": [
    "final_cluster_3=final_df.loc[(final_df['cluster'] == 3)] [['child_mort','inflation','gdpp','health']]\n",
    "final_cluster_3.head()"
   ]
  },
  {
   "cell_type": "code",
   "execution_count": 62,
   "metadata": {},
   "outputs": [],
   "source": [
    "clusters_child_mor = \tpd.DataFrame(final_df.groupby([\"cluster\"]).child_mort.mean())\n",
    "clusters_exports = \tpd.DataFrame(final_df.groupby([\"cluster\"]).exports.mean())\n",
    "clusters_health = \tpd.DataFrame(final_df.groupby([\"cluster\"]).health.mean())\n",
    "clusters_imports = \tpd.DataFrame(final_df.groupby([\"cluster\"]).exports.mean())\n",
    "clusters_income = \tpd.DataFrame(final_df.groupby([\"cluster\"]).income.mean())\n",
    "clusters_inflation = \tpd.DataFrame(final_df.groupby([\"cluster\"]).inflation.mean())\n",
    "clusters_life_expec = \tpd.DataFrame(final_df.groupby([\"cluster\"]).life_expec.mean())\n",
    "clusters_total_fertility = \tpd.DataFrame(final_df.groupby([\"cluster\"]).total_fer.mean())\n",
    "clusters_gdpp = \tpd.DataFrame(final_df.groupby([\"cluster\"]).gdpp.mean())"
   ]
  },
  {
   "cell_type": "code",
   "execution_count": 63,
   "metadata": {},
   "outputs": [
    {
     "name": "stdout",
     "output_type": "stream",
     "text": [
      "         child_mort\n",
      "cluster            \n",
      "0          4.117391\n",
      "1         94.061905\n",
      "2         16.473077\n",
      "3         28.871875\n",
      "           exports\n",
      "cluster           \n",
      "0        42.986957\n",
      "1        29.371667\n",
      "2        50.007692\n",
      "3        25.721531\n",
      "            health\n",
      "cluster           \n",
      "0        10.144348\n",
      "1         6.013810\n",
      "2         6.762308\n",
      "3         5.536875\n",
      "           exports\n",
      "cluster           \n",
      "0        42.986957\n",
      "1        29.371667\n",
      "2        50.007692\n",
      "3        25.721531\n",
      "               income\n",
      "cluster              \n",
      "0        39365.217391\n",
      "1         3872.214286\n",
      "2        14159.230769\n",
      "3        10323.125000\n",
      "         inflation\n",
      "cluster           \n",
      "0         1.238957\n",
      "1        10.313929\n",
      "2         4.186635\n",
      "3        10.360812\n",
      "         life_expec\n",
      "cluster            \n",
      "0         80.926087\n",
      "1         59.192857\n",
      "2         73.538462\n",
      "3         72.406250\n",
      "         total_fer\n",
      "cluster           \n",
      "0         1.795217\n",
      "1         5.067143\n",
      "2         2.092308\n",
      "3         2.523125\n",
      "                 gdpp\n",
      "cluster              \n",
      "0        44330.434783\n",
      "1         1917.500000\n",
      "2         8295.500000\n",
      "3         4987.062500\n"
     ]
    }
   ],
   "source": [
    "print(clusters_child_mor)\n",
    "print(clusters_exports)\n",
    "print(clusters_health)\n",
    "print(clusters_imports)\n",
    "print(clusters_income)\n",
    "print(clusters_inflation)\n",
    "print(clusters_life_expec)\n",
    "print(clusters_total_fertility)\n",
    "print(clusters_gdpp)\n"
   ]
  },
  {
   "cell_type": "code",
   "execution_count": 64,
   "metadata": {},
   "outputs": [
    {
     "data": {
      "text/html": [
       "<div>\n",
       "<style scoped>\n",
       "    .dataframe tbody tr th:only-of-type {\n",
       "        vertical-align: middle;\n",
       "    }\n",
       "\n",
       "    .dataframe tbody tr th {\n",
       "        vertical-align: top;\n",
       "    }\n",
       "\n",
       "    .dataframe thead th {\n",
       "        text-align: right;\n",
       "    }\n",
       "</style>\n",
       "<table border=\"1\" class=\"dataframe\">\n",
       "  <thead>\n",
       "    <tr style=\"text-align: right;\">\n",
       "      <th></th>\n",
       "      <th>ClusterID</th>\n",
       "      <th>Child_Mor</th>\n",
       "      <th>Exports</th>\n",
       "      <th>Health</th>\n",
       "      <th>import1</th>\n",
       "      <th>income</th>\n",
       "      <th>inflation</th>\n",
       "      <th>life_expectancy</th>\n",
       "      <th>Fertility</th>\n",
       "      <th>gdpp</th>\n",
       "    </tr>\n",
       "  </thead>\n",
       "  <tbody>\n",
       "    <tr>\n",
       "      <th>0</th>\n",
       "      <td>0</td>\n",
       "      <td>4.117391</td>\n",
       "      <td>42.986957</td>\n",
       "      <td>10.144348</td>\n",
       "      <td>42.986957</td>\n",
       "      <td>39365.217391</td>\n",
       "      <td>1.238957</td>\n",
       "      <td>80.926087</td>\n",
       "      <td>1.795217</td>\n",
       "      <td>44330.434783</td>\n",
       "    </tr>\n",
       "    <tr>\n",
       "      <th>1</th>\n",
       "      <td>1</td>\n",
       "      <td>94.061905</td>\n",
       "      <td>29.371667</td>\n",
       "      <td>6.013810</td>\n",
       "      <td>29.371667</td>\n",
       "      <td>3872.214286</td>\n",
       "      <td>10.313929</td>\n",
       "      <td>59.192857</td>\n",
       "      <td>5.067143</td>\n",
       "      <td>1917.500000</td>\n",
       "    </tr>\n",
       "    <tr>\n",
       "      <th>2</th>\n",
       "      <td>2</td>\n",
       "      <td>16.473077</td>\n",
       "      <td>50.007692</td>\n",
       "      <td>6.762308</td>\n",
       "      <td>50.007692</td>\n",
       "      <td>14159.230769</td>\n",
       "      <td>4.186635</td>\n",
       "      <td>73.538462</td>\n",
       "      <td>2.092308</td>\n",
       "      <td>8295.500000</td>\n",
       "    </tr>\n",
       "    <tr>\n",
       "      <th>3</th>\n",
       "      <td>3</td>\n",
       "      <td>28.871875</td>\n",
       "      <td>25.721531</td>\n",
       "      <td>5.536875</td>\n",
       "      <td>25.721531</td>\n",
       "      <td>10323.125000</td>\n",
       "      <td>10.360812</td>\n",
       "      <td>72.406250</td>\n",
       "      <td>2.523125</td>\n",
       "      <td>4987.062500</td>\n",
       "    </tr>\n",
       "  </tbody>\n",
       "</table>\n",
       "</div>"
      ],
      "text/plain": [
       "   ClusterID  Child_Mor    Exports     Health    import1        income  \\\n",
       "0          0   4.117391  42.986957  10.144348  42.986957  39365.217391   \n",
       "1          1  94.061905  29.371667   6.013810  29.371667   3872.214286   \n",
       "2          2  16.473077  50.007692   6.762308  50.007692  14159.230769   \n",
       "3          3  28.871875  25.721531   5.536875  25.721531  10323.125000   \n",
       "\n",
       "   inflation  life_expectancy  Fertility          gdpp  \n",
       "0   1.238957        80.926087   1.795217  44330.434783  \n",
       "1  10.313929        59.192857   5.067143   1917.500000  \n",
       "2   4.186635        73.538462   2.092308   8295.500000  \n",
       "3  10.360812        72.406250   2.523125   4987.062500  "
      ]
     },
     "execution_count": 64,
     "metadata": {},
     "output_type": "execute_result"
    }
   ],
   "source": [
    "final_cluster_df = pd.concat([pd.Series([0,1,2,3]),clusters_child_mor,clusters_exports,clusters_health,clusters_imports,clusters_income,clusters_inflation,clusters_life_expec,clusters_total_fertility,clusters_gdpp], axis=1)\n",
    "final_cluster_df.columns = [\"ClusterID\", \"Child_Mor\",\"Exports\",\"Health\",\"import1\",\"income\",\"inflation\",\"life_expectancy\", \"Fertility\",\"gdpp\"]\n",
    "final_cluster_df.head()\n",
    "\n"
   ]
  },
  {
   "cell_type": "code",
   "execution_count": 65,
   "metadata": {
    "scrolled": true
   },
   "outputs": [
    {
     "data": {
      "text/plain": [
       "<matplotlib.axes._subplots.AxesSubplot at 0xbab5e48>"
      ]
     },
     "execution_count": 65,
     "metadata": {},
     "output_type": "execute_result"
    },
    {
     "data": {
      "image/png": "[encoded data removed]",
      "text/plain": [
       "<Figure size 432x288 with 1 Axes>"
      ]
     },
     "metadata": {
      "needs_background": "light"
     },
     "output_type": "display_data"
    }
   ],
   "source": [
    "#plotting barplot for Child_Mor\n",
    "sns.barplot(x=final_cluster_df.ClusterID, y=final_cluster_df.Child_Mor)"
   ]
  },
  {
   "cell_type": "markdown",
   "metadata": {},
   "source": [
    "# Child mortality is high on cluster 1 and 3"
   ]
  },
  {
   "cell_type": "code",
   "execution_count": 67,
   "metadata": {
    "scrolled": true
   },
   "outputs": [
    {
     "data": {
      "text/plain": [
       "<matplotlib.axes._subplots.AxesSubplot at 0x5421e80>"
      ]
     },
     "execution_count": 67,
     "metadata": {},
     "output_type": "execute_result"
    },
    {
     "data": {
      "image/png": "[encoded data removed]",
      "text/plain": [
       "<Figure size 432x288 with 1 Axes>"
      ]
     },
     "metadata": {
      "needs_background": "light"
     },
     "output_type": "display_data"
    }
   ],
   "source": [
    "#plotting barplot for Exports\n",
    "sns.barplot(x=final_cluster_df.ClusterID, y=final_cluster_df.Exports)"
   ]
  },
  {
   "cell_type": "markdown",
   "metadata": {},
   "source": [
    "## Export is high on cluster 2,0 and 1"
   ]
  },
  {
   "cell_type": "code",
   "execution_count": 68,
   "metadata": {},
   "outputs": [
    {
     "data": {
      "text/plain": [
       "<matplotlib.axes._subplots.AxesSubplot at 0xb89dc50>"
      ]
     },
     "execution_count": 68,
     "metadata": {},
     "output_type": "execute_result"
    },
    {
     "data": {
      "image/png": "[encoded data removed]",
      "text/plain": [
       "<Figure size 432x288 with 1 Axes>"
      ]
     },
     "metadata": {
      "needs_background": "light"
     },
     "output_type": "display_data"
    }
   ],
   "source": [
    "#plotting barplot for Health\n",
    "sns.barplot(x=final_cluster_df.ClusterID, y=final_cluster_df.Health)"
   ]
  },
  {
   "cell_type": "markdown",
   "metadata": {},
   "source": [
    "## Health Spent is high on cluster 0,2 "
   ]
  },
  {
   "cell_type": "code",
   "execution_count": 69,
   "metadata": {},
   "outputs": [
    {
     "data": {
      "text/plain": [
       "<matplotlib.axes._subplots.AxesSubplot at 0xb882198>"
      ]
     },
     "execution_count": 69,
     "metadata": {},
     "output_type": "execute_result"
    },
    {
     "data": {
      "image/png": "[encoded data removed]",
      "text/plain": [
       "<Figure size 432x288 with 1 Axes>"
      ]
     },
     "metadata": {
      "needs_background": "light"
     },
     "output_type": "display_data"
    }
   ],
   "source": [
    "#plotting barplot for Import\n",
    "sns.barplot(x=final_cluster_df.ClusterID, y=final_cluster_df.import1)"
   ]
  },
  {
   "cell_type": "code",
   "execution_count": 70,
   "metadata": {
    "scrolled": true
   },
   "outputs": [
    {
     "data": {
      "text/plain": [
       "<matplotlib.axes._subplots.AxesSubplot at 0x54e1b00>"
      ]
     },
     "execution_count": 70,
     "metadata": {},
     "output_type": "execute_result"
    },
    {
     "data": {
      "image/png": "[encoded data removed]",
      "text/plain": [
       "<Figure size 432x288 with 1 Axes>"
      ]
     },
     "metadata": {
      "needs_background": "light"
     },
     "output_type": "display_data"
    }
   ],
   "source": [
    "#plotting barplot for Child_Mor\n",
    "sns.barplot(x=final_cluster_df.ClusterID, y=final_cluster_df.income)"
   ]
  },
  {
   "cell_type": "code",
   "execution_count": 72,
   "metadata": {},
   "outputs": [
    {
     "data": {
      "text/plain": [
       "<matplotlib.axes._subplots.AxesSubplot at 0x54d8b00>"
      ]
     },
     "execution_count": 72,
     "metadata": {},
     "output_type": "execute_result"
    },
    {
     "data": {
      "image/png": "[encoded data removed]",
      "text/plain": [
       "<Figure size 432x288 with 1 Axes>"
      ]
     },
     "metadata": {
      "needs_background": "light"
     },
     "output_type": "display_data"
    }
   ],
   "source": [
    "#plotting barplot for inflation\n",
    "sns.barplot(x=final_cluster_df.ClusterID, y=final_cluster_df.inflation)"
   ]
  },
  {
   "cell_type": "code",
   "execution_count": 73,
   "metadata": {},
   "outputs": [
    {
     "data": {
      "text/plain": [
       "<matplotlib.axes._subplots.AxesSubplot at 0x69ed358>"
      ]
     },
     "execution_count": 73,
     "metadata": {},
     "output_type": "execute_result"
    },
    {
     "data": {
      "image/png": "[encoded data removed]",
      "text/plain": [
       "<Figure size 432x288 with 1 Axes>"
      ]
     },
     "metadata": {
      "needs_background": "light"
     },
     "output_type": "display_data"
    }
   ],
   "source": [
    "#plotting barplot for life_expectancy\n",
    "sns.barplot(x=final_cluster_df.ClusterID, y=final_cluster_df.life_expectancy)"
   ]
  },
  {
   "cell_type": "code",
   "execution_count": 74,
   "metadata": {},
   "outputs": [
    {
     "data": {
      "text/plain": [
       "<matplotlib.axes._subplots.AxesSubplot at 0x54e1b38>"
      ]
     },
     "execution_count": 74,
     "metadata": {},
     "output_type": "execute_result"
    },
    {
     "data": {
      "image/png": "[encoded data removed]",
      "text/plain": [
       "<Figure size 432x288 with 1 Axes>"
      ]
     },
     "metadata": {
      "needs_background": "light"
     },
     "output_type": "display_data"
    }
   ],
   "source": [
    "#plotting barplot for Child_Mor\n",
    "sns.barplot(x=final_cluster_df.ClusterID, y=final_cluster_df.Fertility)"
   ]
  },
  {
   "cell_type": "code",
   "execution_count": 75,
   "metadata": {},
   "outputs": [
    {
     "data": {
      "text/plain": [
       "<matplotlib.axes._subplots.AxesSubplot at 0x6ae5f28>"
      ]
     },
     "execution_count": 75,
     "metadata": {},
     "output_type": "execute_result"
    },
    {
     "data": {
      "image/png": "[encoded data removed]",
      "text/plain": [
       "<Figure size 432x288 with 1 Axes>"
      ]
     },
     "metadata": {
      "needs_background": "light"
     },
     "output_type": "display_data"
    }
   ],
   "source": [
    "#plotting barplot for Child_Mor\n",
    "sns.barplot(x=final_cluster_df.ClusterID, y=final_cluster_df.gdpp)"
   ]
  },
  {
   "cell_type": "markdown",
   "metadata": {},
   "source": [
    "## Cluster 0 has highest GDP,life_expectancy,income,export,import,health and  low in inflation ,child mortality,total_fertility ---> these are the developed countries\n",
    "\n",
    "## Cluster 2 has higher GDP,life_expectancy,income,export,import,health spending and lowest inflation,child mortality, total_fertility---> \n",
    "\n",
    "## Cluster 3 has lower GDP,imports ,export, income,export,import and  higher inflation,child mortality, total_fertility---> this cluster needs help compared to cluster 3 and 0\n",
    "\n",
    "## Cluster 1 has lowest GDP,income,health,life_expectancy and highest inflation,child mortality,total_fertility---> this cluster is need for help\n",
    "\n",
    "\n",
    "\n"
   ]
  },
  {
   "cell_type": "markdown",
   "metadata": {},
   "source": [
    "## Check on Outlier dataframe"
   ]
  },
  {
   "cell_type": "code",
   "execution_count": 76,
   "metadata": {},
   "outputs": [
    {
     "data": {
      "text/html": [
       "<div>\n",
       "<style scoped>\n",
       "    .dataframe tbody tr th:only-of-type {\n",
       "        vertical-align: middle;\n",
       "    }\n",
       "\n",
       "    .dataframe tbody tr th {\n",
       "        vertical-align: top;\n",
       "    }\n",
       "\n",
       "    .dataframe thead th {\n",
       "        text-align: right;\n",
       "    }\n",
       "</style>\n",
       "<table border=\"1\" class=\"dataframe\">\n",
       "  <thead>\n",
       "    <tr style=\"text-align: right;\">\n",
       "      <th></th>\n",
       "      <th>child_mort</th>\n",
       "      <th>exports</th>\n",
       "      <th>health</th>\n",
       "      <th>imports</th>\n",
       "      <th>income</th>\n",
       "      <th>inflation</th>\n",
       "      <th>life_expec</th>\n",
       "      <th>total_fer</th>\n",
       "      <th>gdpp</th>\n",
       "      <th>PC1</th>\n",
       "      <th>PC2</th>\n",
       "      <th>PC3</th>\n",
       "      <th>PC4</th>\n",
       "    </tr>\n",
       "    <tr>\n",
       "      <th>country</th>\n",
       "      <th></th>\n",
       "      <th></th>\n",
       "      <th></th>\n",
       "      <th></th>\n",
       "      <th></th>\n",
       "      <th></th>\n",
       "      <th></th>\n",
       "      <th></th>\n",
       "      <th></th>\n",
       "      <th></th>\n",
       "      <th></th>\n",
       "      <th></th>\n",
       "      <th></th>\n",
       "    </tr>\n",
       "  </thead>\n",
       "  <tbody>\n",
       "    <tr>\n",
       "      <th>Brunei</th>\n",
       "      <td>10.5</td>\n",
       "      <td>67.4</td>\n",
       "      <td>2.84</td>\n",
       "      <td>28.0</td>\n",
       "      <td>80600</td>\n",
       "      <td>16.700</td>\n",
       "      <td>77.1</td>\n",
       "      <td>1.84</td>\n",
       "      <td>35300</td>\n",
       "      <td>2.460086</td>\n",
       "      <td>0.016454</td>\n",
       "      <td>3.019840</td>\n",
       "      <td>0.776841</td>\n",
       "    </tr>\n",
       "    <tr>\n",
       "      <th>Kiribati</th>\n",
       "      <td>62.7</td>\n",
       "      <td>13.3</td>\n",
       "      <td>11.30</td>\n",
       "      <td>79.9</td>\n",
       "      <td>1730</td>\n",
       "      <td>1.520</td>\n",
       "      <td>60.7</td>\n",
       "      <td>3.84</td>\n",
       "      <td>1490</td>\n",
       "      <td>-1.239217</td>\n",
       "      <td>0.369138</td>\n",
       "      <td>-2.368274</td>\n",
       "      <td>0.592231</td>\n",
       "    </tr>\n",
       "    <tr>\n",
       "      <th>Kuwait</th>\n",
       "      <td>10.8</td>\n",
       "      <td>66.7</td>\n",
       "      <td>2.63</td>\n",
       "      <td>30.4</td>\n",
       "      <td>75200</td>\n",
       "      <td>11.200</td>\n",
       "      <td>78.2</td>\n",
       "      <td>2.21</td>\n",
       "      <td>38500</td>\n",
       "      <td>2.465659</td>\n",
       "      <td>0.088050</td>\n",
       "      <td>2.652268</td>\n",
       "      <td>0.708884</td>\n",
       "    </tr>\n",
       "    <tr>\n",
       "      <th>Lesotho</th>\n",
       "      <td>99.7</td>\n",
       "      <td>39.4</td>\n",
       "      <td>11.10</td>\n",
       "      <td>101.0</td>\n",
       "      <td>2380</td>\n",
       "      <td>4.150</td>\n",
       "      <td>46.5</td>\n",
       "      <td>3.30</td>\n",
       "      <td>1170</td>\n",
       "      <td>-1.803151</td>\n",
       "      <td>2.037851</td>\n",
       "      <td>-2.496885</td>\n",
       "      <td>1.072199</td>\n",
       "    </tr>\n",
       "    <tr>\n",
       "      <th>Liberia</th>\n",
       "      <td>89.3</td>\n",
       "      <td>19.1</td>\n",
       "      <td>11.80</td>\n",
       "      <td>92.6</td>\n",
       "      <td>700</td>\n",
       "      <td>5.470</td>\n",
       "      <td>60.8</td>\n",
       "      <td>5.02</td>\n",
       "      <td>327</td>\n",
       "      <td>-1.773580</td>\n",
       "      <td>1.053399</td>\n",
       "      <td>-2.390440</td>\n",
       "      <td>1.179569</td>\n",
       "    </tr>\n",
       "    <tr>\n",
       "      <th>Luxembourg</th>\n",
       "      <td>2.8</td>\n",
       "      <td>175.0</td>\n",
       "      <td>7.77</td>\n",
       "      <td>142.0</td>\n",
       "      <td>91700</td>\n",
       "      <td>3.620</td>\n",
       "      <td>81.3</td>\n",
       "      <td>1.63</td>\n",
       "      <td>105000</td>\n",
       "      <td>6.917755</td>\n",
       "      <td>4.849844</td>\n",
       "      <td>1.001837</td>\n",
       "      <td>3.129643</td>\n",
       "    </tr>\n",
       "    <tr>\n",
       "      <th>Malta</th>\n",
       "      <td>6.8</td>\n",
       "      <td>153.0</td>\n",
       "      <td>8.65</td>\n",
       "      <td>154.0</td>\n",
       "      <td>28300</td>\n",
       "      <td>3.830</td>\n",
       "      <td>80.3</td>\n",
       "      <td>1.36</td>\n",
       "      <td>21100</td>\n",
       "      <td>3.679543</td>\n",
       "      <td>4.765486</td>\n",
       "      <td>-1.021313</td>\n",
       "      <td>-0.501107</td>\n",
       "    </tr>\n",
       "    <tr>\n",
       "      <th>Micronesia, Fed. Sts.</th>\n",
       "      <td>40.0</td>\n",
       "      <td>23.5</td>\n",
       "      <td>14.20</td>\n",
       "      <td>81.0</td>\n",
       "      <td>3340</td>\n",
       "      <td>3.800</td>\n",
       "      <td>65.4</td>\n",
       "      <td>3.46</td>\n",
       "      <td>2860</td>\n",
       "      <td>-0.380929</td>\n",
       "      <td>0.101774</td>\n",
       "      <td>-2.714085</td>\n",
       "      <td>0.771974</td>\n",
       "    </tr>\n",
       "    <tr>\n",
       "      <th>Mongolia</th>\n",
       "      <td>26.1</td>\n",
       "      <td>46.7</td>\n",
       "      <td>5.44</td>\n",
       "      <td>56.7</td>\n",
       "      <td>7710</td>\n",
       "      <td>39.200</td>\n",
       "      <td>66.2</td>\n",
       "      <td>2.64</td>\n",
       "      <td>2650</td>\n",
       "      <td>-0.944976</td>\n",
       "      <td>0.529800</td>\n",
       "      <td>1.854419</td>\n",
       "      <td>-0.394166</td>\n",
       "    </tr>\n",
       "    <tr>\n",
       "      <th>Nigeria</th>\n",
       "      <td>130.0</td>\n",
       "      <td>25.3</td>\n",
       "      <td>5.07</td>\n",
       "      <td>17.4</td>\n",
       "      <td>5150</td>\n",
       "      <td>104.000</td>\n",
       "      <td>60.5</td>\n",
       "      <td>5.84</td>\n",
       "      <td>2330</td>\n",
       "      <td>-4.912066</td>\n",
       "      <td>-0.094499</td>\n",
       "      <td>6.110158</td>\n",
       "      <td>2.412421</td>\n",
       "    </tr>\n",
       "    <tr>\n",
       "      <th>Oman</th>\n",
       "      <td>11.7</td>\n",
       "      <td>65.7</td>\n",
       "      <td>2.77</td>\n",
       "      <td>41.2</td>\n",
       "      <td>45300</td>\n",
       "      <td>15.600</td>\n",
       "      <td>76.1</td>\n",
       "      <td>2.90</td>\n",
       "      <td>19300</td>\n",
       "      <td>1.127387</td>\n",
       "      <td>0.491611</td>\n",
       "      <td>2.133501</td>\n",
       "      <td>-0.176492</td>\n",
       "    </tr>\n",
       "    <tr>\n",
       "      <th>Qatar</th>\n",
       "      <td>9.0</td>\n",
       "      <td>62.3</td>\n",
       "      <td>1.81</td>\n",
       "      <td>23.8</td>\n",
       "      <td>125000</td>\n",
       "      <td>6.980</td>\n",
       "      <td>79.5</td>\n",
       "      <td>2.07</td>\n",
       "      <td>70300</td>\n",
       "      <td>4.242296</td>\n",
       "      <td>-0.195604</td>\n",
       "      <td>3.643875</td>\n",
       "      <td>2.389811</td>\n",
       "    </tr>\n",
       "    <tr>\n",
       "      <th>Saudi Arabia</th>\n",
       "      <td>15.7</td>\n",
       "      <td>49.6</td>\n",
       "      <td>4.29</td>\n",
       "      <td>33.0</td>\n",
       "      <td>45400</td>\n",
       "      <td>17.200</td>\n",
       "      <td>75.1</td>\n",
       "      <td>2.96</td>\n",
       "      <td>19300</td>\n",
       "      <td>0.855936</td>\n",
       "      <td>-0.183441</td>\n",
       "      <td>1.903072</td>\n",
       "      <td>0.202259</td>\n",
       "    </tr>\n",
       "    <tr>\n",
       "      <th>Seychelles</th>\n",
       "      <td>14.4</td>\n",
       "      <td>93.8</td>\n",
       "      <td>3.40</td>\n",
       "      <td>108.0</td>\n",
       "      <td>20400</td>\n",
       "      <td>-4.210</td>\n",
       "      <td>73.4</td>\n",
       "      <td>2.17</td>\n",
       "      <td>10800</td>\n",
       "      <td>1.602598</td>\n",
       "      <td>2.939121</td>\n",
       "      <td>-0.386691</td>\n",
       "      <td>-1.400371</td>\n",
       "    </tr>\n",
       "    <tr>\n",
       "      <th>Singapore</th>\n",
       "      <td>2.8</td>\n",
       "      <td>200.0</td>\n",
       "      <td>3.96</td>\n",
       "      <td>174.0</td>\n",
       "      <td>72100</td>\n",
       "      <td>-0.046</td>\n",
       "      <td>82.7</td>\n",
       "      <td>1.15</td>\n",
       "      <td>46600</td>\n",
       "      <td>5.783376</td>\n",
       "      <td>6.682090</td>\n",
       "      <td>0.654420</td>\n",
       "      <td>0.089638</td>\n",
       "    </tr>\n",
       "    <tr>\n",
       "      <th>United Arab Emirates</th>\n",
       "      <td>8.6</td>\n",
       "      <td>77.7</td>\n",
       "      <td>3.66</td>\n",
       "      <td>63.6</td>\n",
       "      <td>57600</td>\n",
       "      <td>12.500</td>\n",
       "      <td>76.5</td>\n",
       "      <td>1.87</td>\n",
       "      <td>35000</td>\n",
       "      <td>2.427141</td>\n",
       "      <td>1.151813</td>\n",
       "      <td>1.828538</td>\n",
       "      <td>0.276080</td>\n",
       "    </tr>\n",
       "    <tr>\n",
       "      <th>United States</th>\n",
       "      <td>7.3</td>\n",
       "      <td>12.4</td>\n",
       "      <td>17.90</td>\n",
       "      <td>15.8</td>\n",
       "      <td>49400</td>\n",
       "      <td>1.220</td>\n",
       "      <td>78.7</td>\n",
       "      <td>1.93</td>\n",
       "      <td>48400</td>\n",
       "      <td>2.641206</td>\n",
       "      <td>-2.997364</td>\n",
       "      <td>-1.721878</td>\n",
       "      <td>2.827110</td>\n",
       "    </tr>\n",
       "    <tr>\n",
       "      <th>Venezuela</th>\n",
       "      <td>17.1</td>\n",
       "      <td>28.5</td>\n",
       "      <td>4.91</td>\n",
       "      <td>17.6</td>\n",
       "      <td>16500</td>\n",
       "      <td>45.900</td>\n",
       "      <td>75.4</td>\n",
       "      <td>2.47</td>\n",
       "      <td>13500</td>\n",
       "      <td>-0.551036</td>\n",
       "      <td>-1.233886</td>\n",
       "      <td>3.101350</td>\n",
       "      <td>-0.115311</td>\n",
       "    </tr>\n",
       "  </tbody>\n",
       "</table>\n",
       "</div>"
      ],
      "text/plain": [
       "                       child_mort  exports  health  imports  income  \\\n",
       "country                                                               \n",
       "Brunei                       10.5     67.4    2.84     28.0   80600   \n",
       "Kiribati                     62.7     13.3   11.30     79.9    1730   \n",
       "Kuwait                       10.8     66.7    2.63     30.4   75200   \n",
       "Lesotho                      99.7     39.4   11.10    101.0    2380   \n",
       "Liberia                      89.3     19.1   11.80     92.6     700   \n",
       "Luxembourg                    2.8    175.0    7.77    142.0   91700   \n",
       "Malta                         6.8    153.0    8.65    154.0   28300   \n",
       "Micronesia, Fed. Sts.        40.0     23.5   14.20     81.0    3340   \n",
       "Mongolia                     26.1     46.7    5.44     56.7    7710   \n",
       "Nigeria                     130.0     25.3    5.07     17.4    5150   \n",
       "Oman                         11.7     65.7    2.77     41.2   45300   \n",
       "Qatar                         9.0     62.3    1.81     23.8  125000   \n",
       "Saudi Arabia                 15.7     49.6    4.29     33.0   45400   \n",
       "Seychelles                   14.4     93.8    3.40    108.0   20400   \n",
       "Singapore                     2.8    200.0    3.96    174.0   72100   \n",
       "United Arab Emirates          8.6     77.7    3.66     63.6   57600   \n",
       "United States                 7.3     12.4   17.90     15.8   49400   \n",
       "Venezuela                    17.1     28.5    4.91     17.6   16500   \n",
       "\n",
       "                       inflation  life_expec  total_fer    gdpp       PC1  \\\n",
       "country                                                                     \n",
       "Brunei                    16.700        77.1       1.84   35300  2.460086   \n",
       "Kiribati                   1.520        60.7       3.84    1490 -1.239217   \n",
       "Kuwait                    11.200        78.2       2.21   38500  2.465659   \n",
       "Lesotho                    4.150        46.5       3.30    1170 -1.803151   \n",
       "Liberia                    5.470        60.8       5.02     327 -1.773580   \n",
       "Luxembourg                 3.620        81.3       1.63  105000  6.917755   \n",
       "Malta                      3.830        80.3       1.36   21100  3.679543   \n",
       "Micronesia, Fed. Sts.      3.800        65.4       3.46    2860 -0.380929   \n",
       "Mongolia                  39.200        66.2       2.64    2650 -0.944976   \n",
       "Nigeria                  104.000        60.5       5.84    2330 -4.912066   \n",
       "Oman                      15.600        76.1       2.90   19300  1.127387   \n",
       "Qatar                      6.980        79.5       2.07   70300  4.242296   \n",
       "Saudi Arabia              17.200        75.1       2.96   19300  0.855936   \n",
       "Seychelles                -4.210        73.4       2.17   10800  1.602598   \n",
       "Singapore                 -0.046        82.7       1.15   46600  5.783376   \n",
       "United Arab Emirates      12.500        76.5       1.87   35000  2.427141   \n",
       "United States              1.220        78.7       1.93   48400  2.641206   \n",
       "Venezuela                 45.900        75.4       2.47   13500 -0.551036   \n",
       "\n",
       "                            PC2       PC3       PC4  \n",
       "country                                              \n",
       "Brunei                 0.016454  3.019840  0.776841  \n",
       "Kiribati               0.369138 -2.368274  0.592231  \n",
       "Kuwait                 0.088050  2.652268  0.708884  \n",
       "Lesotho                2.037851 -2.496885  1.072199  \n",
       "Liberia                1.053399 -2.390440  1.179569  \n",
       "Luxembourg             4.849844  1.001837  3.129643  \n",
       "Malta                  4.765486 -1.021313 -0.501107  \n",
       "Micronesia, Fed. Sts.  0.101774 -2.714085  0.771974  \n",
       "Mongolia               0.529800  1.854419 -0.394166  \n",
       "Nigeria               -0.094499  6.110158  2.412421  \n",
       "Oman                   0.491611  2.133501 -0.176492  \n",
       "Qatar                 -0.195604  3.643875  2.389811  \n",
       "Saudi Arabia          -0.183441  1.903072  0.202259  \n",
       "Seychelles             2.939121 -0.386691 -1.400371  \n",
       "Singapore              6.682090  0.654420  0.089638  \n",
       "United Arab Emirates   1.151813  1.828538  0.276080  \n",
       "United States         -2.997364 -1.721878  2.827110  \n",
       "Venezuela             -1.233886  3.101350 -0.115311  "
      ]
     },
     "execution_count": 76,
     "metadata": {},
     "output_type": "execute_result"
    }
   ],
   "source": [
    "\n",
    "final_outlier_df = pd.merge(country_data, pca_df_2d_outlier, left_index=True, right_index=True)\n",
    "final_outlier_df.head(18)"
   ]
  },
  {
   "cell_type": "code",
   "execution_count": 78,
   "metadata": {},
   "outputs": [],
   "source": [
    "final_outlier_df.loc[((final_outlier_df['child_mort'] <= 8.6)), 'cluster'] = 0\n",
    "final_outlier_df.loc[((final_outlier_df['child_mort'] >= 9)  & (final_outlier_df['child_mort'] <=45)), 'cluster'] = 2\n",
    "final_outlier_df.loc[((final_outlier_df['child_mort'] >= 46) & (final_outlier_df['child_mort'] <= 65)), 'cluster'] = 3\n",
    "final_outlier_df.loc[( (final_outlier_df['child_mort'] >= 66)), 'cluster'] = 1\n"
   ]
  },
  {
   "cell_type": "code",
   "execution_count": 79,
   "metadata": {},
   "outputs": [
    {
     "data": {
      "text/html": [
       "<div>\n",
       "<style scoped>\n",
       "    .dataframe tbody tr th:only-of-type {\n",
       "        vertical-align: middle;\n",
       "    }\n",
       "\n",
       "    .dataframe tbody tr th {\n",
       "        vertical-align: top;\n",
       "    }\n",
       "\n",
       "    .dataframe thead th {\n",
       "        text-align: right;\n",
       "    }\n",
       "</style>\n",
       "<table border=\"1\" class=\"dataframe\">\n",
       "  <thead>\n",
       "    <tr style=\"text-align: right;\">\n",
       "      <th></th>\n",
       "      <th>child_mort</th>\n",
       "      <th>exports</th>\n",
       "      <th>health</th>\n",
       "      <th>imports</th>\n",
       "      <th>income</th>\n",
       "      <th>inflation</th>\n",
       "      <th>life_expec</th>\n",
       "      <th>total_fer</th>\n",
       "      <th>gdpp</th>\n",
       "      <th>PC1</th>\n",
       "      <th>PC2</th>\n",
       "      <th>PC3</th>\n",
       "      <th>PC4</th>\n",
       "      <th>cluster</th>\n",
       "    </tr>\n",
       "    <tr>\n",
       "      <th>country</th>\n",
       "      <th></th>\n",
       "      <th></th>\n",
       "      <th></th>\n",
       "      <th></th>\n",
       "      <th></th>\n",
       "      <th></th>\n",
       "      <th></th>\n",
       "      <th></th>\n",
       "      <th></th>\n",
       "      <th></th>\n",
       "      <th></th>\n",
       "      <th></th>\n",
       "      <th></th>\n",
       "      <th></th>\n",
       "    </tr>\n",
       "  </thead>\n",
       "  <tbody>\n",
       "    <tr>\n",
       "      <th>Brunei</th>\n",
       "      <td>10.5</td>\n",
       "      <td>67.4</td>\n",
       "      <td>2.84</td>\n",
       "      <td>28.0</td>\n",
       "      <td>80600</td>\n",
       "      <td>16.700</td>\n",
       "      <td>77.1</td>\n",
       "      <td>1.84</td>\n",
       "      <td>35300</td>\n",
       "      <td>2.460086</td>\n",
       "      <td>0.016454</td>\n",
       "      <td>3.019840</td>\n",
       "      <td>0.776841</td>\n",
       "      <td>2.0</td>\n",
       "    </tr>\n",
       "    <tr>\n",
       "      <th>Kiribati</th>\n",
       "      <td>62.7</td>\n",
       "      <td>13.3</td>\n",
       "      <td>11.30</td>\n",
       "      <td>79.9</td>\n",
       "      <td>1730</td>\n",
       "      <td>1.520</td>\n",
       "      <td>60.7</td>\n",
       "      <td>3.84</td>\n",
       "      <td>1490</td>\n",
       "      <td>-1.239217</td>\n",
       "      <td>0.369138</td>\n",
       "      <td>-2.368274</td>\n",
       "      <td>0.592231</td>\n",
       "      <td>3.0</td>\n",
       "    </tr>\n",
       "    <tr>\n",
       "      <th>Kuwait</th>\n",
       "      <td>10.8</td>\n",
       "      <td>66.7</td>\n",
       "      <td>2.63</td>\n",
       "      <td>30.4</td>\n",
       "      <td>75200</td>\n",
       "      <td>11.200</td>\n",
       "      <td>78.2</td>\n",
       "      <td>2.21</td>\n",
       "      <td>38500</td>\n",
       "      <td>2.465659</td>\n",
       "      <td>0.088050</td>\n",
       "      <td>2.652268</td>\n",
       "      <td>0.708884</td>\n",
       "      <td>2.0</td>\n",
       "    </tr>\n",
       "    <tr>\n",
       "      <th>Lesotho</th>\n",
       "      <td>99.7</td>\n",
       "      <td>39.4</td>\n",
       "      <td>11.10</td>\n",
       "      <td>101.0</td>\n",
       "      <td>2380</td>\n",
       "      <td>4.150</td>\n",
       "      <td>46.5</td>\n",
       "      <td>3.30</td>\n",
       "      <td>1170</td>\n",
       "      <td>-1.803151</td>\n",
       "      <td>2.037851</td>\n",
       "      <td>-2.496885</td>\n",
       "      <td>1.072199</td>\n",
       "      <td>1.0</td>\n",
       "    </tr>\n",
       "    <tr>\n",
       "      <th>Liberia</th>\n",
       "      <td>89.3</td>\n",
       "      <td>19.1</td>\n",
       "      <td>11.80</td>\n",
       "      <td>92.6</td>\n",
       "      <td>700</td>\n",
       "      <td>5.470</td>\n",
       "      <td>60.8</td>\n",
       "      <td>5.02</td>\n",
       "      <td>327</td>\n",
       "      <td>-1.773580</td>\n",
       "      <td>1.053399</td>\n",
       "      <td>-2.390440</td>\n",
       "      <td>1.179569</td>\n",
       "      <td>1.0</td>\n",
       "    </tr>\n",
       "    <tr>\n",
       "      <th>Luxembourg</th>\n",
       "      <td>2.8</td>\n",
       "      <td>175.0</td>\n",
       "      <td>7.77</td>\n",
       "      <td>142.0</td>\n",
       "      <td>91700</td>\n",
       "      <td>3.620</td>\n",
       "      <td>81.3</td>\n",
       "      <td>1.63</td>\n",
       "      <td>105000</td>\n",
       "      <td>6.917755</td>\n",
       "      <td>4.849844</td>\n",
       "      <td>1.001837</td>\n",
       "      <td>3.129643</td>\n",
       "      <td>0.0</td>\n",
       "    </tr>\n",
       "    <tr>\n",
       "      <th>Malta</th>\n",
       "      <td>6.8</td>\n",
       "      <td>153.0</td>\n",
       "      <td>8.65</td>\n",
       "      <td>154.0</td>\n",
       "      <td>28300</td>\n",
       "      <td>3.830</td>\n",
       "      <td>80.3</td>\n",
       "      <td>1.36</td>\n",
       "      <td>21100</td>\n",
       "      <td>3.679543</td>\n",
       "      <td>4.765486</td>\n",
       "      <td>-1.021313</td>\n",
       "      <td>-0.501107</td>\n",
       "      <td>0.0</td>\n",
       "    </tr>\n",
       "    <tr>\n",
       "      <th>Micronesia, Fed. Sts.</th>\n",
       "      <td>40.0</td>\n",
       "      <td>23.5</td>\n",
       "      <td>14.20</td>\n",
       "      <td>81.0</td>\n",
       "      <td>3340</td>\n",
       "      <td>3.800</td>\n",
       "      <td>65.4</td>\n",
       "      <td>3.46</td>\n",
       "      <td>2860</td>\n",
       "      <td>-0.380929</td>\n",
       "      <td>0.101774</td>\n",
       "      <td>-2.714085</td>\n",
       "      <td>0.771974</td>\n",
       "      <td>2.0</td>\n",
       "    </tr>\n",
       "    <tr>\n",
       "      <th>Mongolia</th>\n",
       "      <td>26.1</td>\n",
       "      <td>46.7</td>\n",
       "      <td>5.44</td>\n",
       "      <td>56.7</td>\n",
       "      <td>7710</td>\n",
       "      <td>39.200</td>\n",
       "      <td>66.2</td>\n",
       "      <td>2.64</td>\n",
       "      <td>2650</td>\n",
       "      <td>-0.944976</td>\n",
       "      <td>0.529800</td>\n",
       "      <td>1.854419</td>\n",
       "      <td>-0.394166</td>\n",
       "      <td>2.0</td>\n",
       "    </tr>\n",
       "    <tr>\n",
       "      <th>Nigeria</th>\n",
       "      <td>130.0</td>\n",
       "      <td>25.3</td>\n",
       "      <td>5.07</td>\n",
       "      <td>17.4</td>\n",
       "      <td>5150</td>\n",
       "      <td>104.000</td>\n",
       "      <td>60.5</td>\n",
       "      <td>5.84</td>\n",
       "      <td>2330</td>\n",
       "      <td>-4.912066</td>\n",
       "      <td>-0.094499</td>\n",
       "      <td>6.110158</td>\n",
       "      <td>2.412421</td>\n",
       "      <td>1.0</td>\n",
       "    </tr>\n",
       "    <tr>\n",
       "      <th>Oman</th>\n",
       "      <td>11.7</td>\n",
       "      <td>65.7</td>\n",
       "      <td>2.77</td>\n",
       "      <td>41.2</td>\n",
       "      <td>45300</td>\n",
       "      <td>15.600</td>\n",
       "      <td>76.1</td>\n",
       "      <td>2.90</td>\n",
       "      <td>19300</td>\n",
       "      <td>1.127387</td>\n",
       "      <td>0.491611</td>\n",
       "      <td>2.133501</td>\n",
       "      <td>-0.176492</td>\n",
       "      <td>2.0</td>\n",
       "    </tr>\n",
       "    <tr>\n",
       "      <th>Qatar</th>\n",
       "      <td>9.0</td>\n",
       "      <td>62.3</td>\n",
       "      <td>1.81</td>\n",
       "      <td>23.8</td>\n",
       "      <td>125000</td>\n",
       "      <td>6.980</td>\n",
       "      <td>79.5</td>\n",
       "      <td>2.07</td>\n",
       "      <td>70300</td>\n",
       "      <td>4.242296</td>\n",
       "      <td>-0.195604</td>\n",
       "      <td>3.643875</td>\n",
       "      <td>2.389811</td>\n",
       "      <td>2.0</td>\n",
       "    </tr>\n",
       "    <tr>\n",
       "      <th>Saudi Arabia</th>\n",
       "      <td>15.7</td>\n",
       "      <td>49.6</td>\n",
       "      <td>4.29</td>\n",
       "      <td>33.0</td>\n",
       "      <td>45400</td>\n",
       "      <td>17.200</td>\n",
       "      <td>75.1</td>\n",
       "      <td>2.96</td>\n",
       "      <td>19300</td>\n",
       "      <td>0.855936</td>\n",
       "      <td>-0.183441</td>\n",
       "      <td>1.903072</td>\n",
       "      <td>0.202259</td>\n",
       "      <td>2.0</td>\n",
       "    </tr>\n",
       "    <tr>\n",
       "      <th>Seychelles</th>\n",
       "      <td>14.4</td>\n",
       "      <td>93.8</td>\n",
       "      <td>3.40</td>\n",
       "      <td>108.0</td>\n",
       "      <td>20400</td>\n",
       "      <td>-4.210</td>\n",
       "      <td>73.4</td>\n",
       "      <td>2.17</td>\n",
       "      <td>10800</td>\n",
       "      <td>1.602598</td>\n",
       "      <td>2.939121</td>\n",
       "      <td>-0.386691</td>\n",
       "      <td>-1.400371</td>\n",
       "      <td>2.0</td>\n",
       "    </tr>\n",
       "    <tr>\n",
       "      <th>Singapore</th>\n",
       "      <td>2.8</td>\n",
       "      <td>200.0</td>\n",
       "      <td>3.96</td>\n",
       "      <td>174.0</td>\n",
       "      <td>72100</td>\n",
       "      <td>-0.046</td>\n",
       "      <td>82.7</td>\n",
       "      <td>1.15</td>\n",
       "      <td>46600</td>\n",
       "      <td>5.783376</td>\n",
       "      <td>6.682090</td>\n",
       "      <td>0.654420</td>\n",
       "      <td>0.089638</td>\n",
       "      <td>0.0</td>\n",
       "    </tr>\n",
       "    <tr>\n",
       "      <th>United Arab Emirates</th>\n",
       "      <td>8.6</td>\n",
       "      <td>77.7</td>\n",
       "      <td>3.66</td>\n",
       "      <td>63.6</td>\n",
       "      <td>57600</td>\n",
       "      <td>12.500</td>\n",
       "      <td>76.5</td>\n",
       "      <td>1.87</td>\n",
       "      <td>35000</td>\n",
       "      <td>2.427141</td>\n",
       "      <td>1.151813</td>\n",
       "      <td>1.828538</td>\n",
       "      <td>0.276080</td>\n",
       "      <td>0.0</td>\n",
       "    </tr>\n",
       "    <tr>\n",
       "      <th>United States</th>\n",
       "      <td>7.3</td>\n",
       "      <td>12.4</td>\n",
       "      <td>17.90</td>\n",
       "      <td>15.8</td>\n",
       "      <td>49400</td>\n",
       "      <td>1.220</td>\n",
       "      <td>78.7</td>\n",
       "      <td>1.93</td>\n",
       "      <td>48400</td>\n",
       "      <td>2.641206</td>\n",
       "      <td>-2.997364</td>\n",
       "      <td>-1.721878</td>\n",
       "      <td>2.827110</td>\n",
       "      <td>0.0</td>\n",
       "    </tr>\n",
       "    <tr>\n",
       "      <th>Venezuela</th>\n",
       "      <td>17.1</td>\n",
       "      <td>28.5</td>\n",
       "      <td>4.91</td>\n",
       "      <td>17.6</td>\n",
       "      <td>16500</td>\n",
       "      <td>45.900</td>\n",
       "      <td>75.4</td>\n",
       "      <td>2.47</td>\n",
       "      <td>13500</td>\n",
       "      <td>-0.551036</td>\n",
       "      <td>-1.233886</td>\n",
       "      <td>3.101350</td>\n",
       "      <td>-0.115311</td>\n",
       "      <td>2.0</td>\n",
       "    </tr>\n",
       "  </tbody>\n",
       "</table>\n",
       "</div>"
      ],
      "text/plain": [
       "                       child_mort  exports  health  imports  income  \\\n",
       "country                                                               \n",
       "Brunei                       10.5     67.4    2.84     28.0   80600   \n",
       "Kiribati                     62.7     13.3   11.30     79.9    1730   \n",
       "Kuwait                       10.8     66.7    2.63     30.4   75200   \n",
       "Lesotho                      99.7     39.4   11.10    101.0    2380   \n",
       "Liberia                      89.3     19.1   11.80     92.6     700   \n",
       "Luxembourg                    2.8    175.0    7.77    142.0   91700   \n",
       "Malta                         6.8    153.0    8.65    154.0   28300   \n",
       "Micronesia, Fed. Sts.        40.0     23.5   14.20     81.0    3340   \n",
       "Mongolia                     26.1     46.7    5.44     56.7    7710   \n",
       "Nigeria                     130.0     25.3    5.07     17.4    5150   \n",
       "Oman                         11.7     65.7    2.77     41.2   45300   \n",
       "Qatar                         9.0     62.3    1.81     23.8  125000   \n",
       "Saudi Arabia                 15.7     49.6    4.29     33.0   45400   \n",
       "Seychelles                   14.4     93.8    3.40    108.0   20400   \n",
       "Singapore                     2.8    200.0    3.96    174.0   72100   \n",
       "United Arab Emirates          8.6     77.7    3.66     63.6   57600   \n",
       "United States                 7.3     12.4   17.90     15.8   49400   \n",
       "Venezuela                    17.1     28.5    4.91     17.6   16500   \n",
       "\n",
       "                       inflation  life_expec  total_fer    gdpp       PC1  \\\n",
       "country                                                                     \n",
       "Brunei                    16.700        77.1       1.84   35300  2.460086   \n",
       "Kiribati                   1.520        60.7       3.84    1490 -1.239217   \n",
       "Kuwait                    11.200        78.2       2.21   38500  2.465659   \n",
       "Lesotho                    4.150        46.5       3.30    1170 -1.803151   \n",
       "Liberia                    5.470        60.8       5.02     327 -1.773580   \n",
       "Luxembourg                 3.620        81.3       1.63  105000  6.917755   \n",
       "Malta                      3.830        80.3       1.36   21100  3.679543   \n",
       "Micronesia, Fed. Sts.      3.800        65.4       3.46    2860 -0.380929   \n",
       "Mongolia                  39.200        66.2       2.64    2650 -0.944976   \n",
       "Nigeria                  104.000        60.5       5.84    2330 -4.912066   \n",
       "Oman                      15.600        76.1       2.90   19300  1.127387   \n",
       "Qatar                      6.980        79.5       2.07   70300  4.242296   \n",
       "Saudi Arabia              17.200        75.1       2.96   19300  0.855936   \n",
       "Seychelles                -4.210        73.4       2.17   10800  1.602598   \n",
       "Singapore                 -0.046        82.7       1.15   46600  5.783376   \n",
       "United Arab Emirates      12.500        76.5       1.87   35000  2.427141   \n",
       "United States              1.220        78.7       1.93   48400  2.641206   \n",
       "Venezuela                 45.900        75.4       2.47   13500 -0.551036   \n",
       "\n",
       "                            PC2       PC3       PC4  cluster  \n",
       "country                                                       \n",
       "Brunei                 0.016454  3.019840  0.776841      2.0  \n",
       "Kiribati               0.369138 -2.368274  0.592231      3.0  \n",
       "Kuwait                 0.088050  2.652268  0.708884      2.0  \n",
       "Lesotho                2.037851 -2.496885  1.072199      1.0  \n",
       "Liberia                1.053399 -2.390440  1.179569      1.0  \n",
       "Luxembourg             4.849844  1.001837  3.129643      0.0  \n",
       "Malta                  4.765486 -1.021313 -0.501107      0.0  \n",
       "Micronesia, Fed. Sts.  0.101774 -2.714085  0.771974      2.0  \n",
       "Mongolia               0.529800  1.854419 -0.394166      2.0  \n",
       "Nigeria               -0.094499  6.110158  2.412421      1.0  \n",
       "Oman                   0.491611  2.133501 -0.176492      2.0  \n",
       "Qatar                 -0.195604  3.643875  2.389811      2.0  \n",
       "Saudi Arabia          -0.183441  1.903072  0.202259      2.0  \n",
       "Seychelles             2.939121 -0.386691 -1.400371      2.0  \n",
       "Singapore              6.682090  0.654420  0.089638      0.0  \n",
       "United Arab Emirates   1.151813  1.828538  0.276080      0.0  \n",
       "United States         -2.997364 -1.721878  2.827110      0.0  \n",
       "Venezuela             -1.233886  3.101350 -0.115311      2.0  "
      ]
     },
     "execution_count": 79,
     "metadata": {},
     "output_type": "execute_result"
    }
   ],
   "source": [
    "final_outlier_df.head(18)"
   ]
  },
  {
   "cell_type": "code",
   "execution_count": 80,
   "metadata": {},
   "outputs": [
    {
     "data": {
      "text/html": [
       "<div>\n",
       "<style scoped>\n",
       "    .dataframe tbody tr th:only-of-type {\n",
       "        vertical-align: middle;\n",
       "    }\n",
       "\n",
       "    .dataframe tbody tr th {\n",
       "        vertical-align: top;\n",
       "    }\n",
       "\n",
       "    .dataframe thead th {\n",
       "        text-align: right;\n",
       "    }\n",
       "</style>\n",
       "<table border=\"1\" class=\"dataframe\">\n",
       "  <thead>\n",
       "    <tr style=\"text-align: right;\">\n",
       "      <th></th>\n",
       "      <th>child_mort</th>\n",
       "      <th>exports</th>\n",
       "      <th>health</th>\n",
       "      <th>imports</th>\n",
       "      <th>income</th>\n",
       "      <th>inflation</th>\n",
       "      <th>life_expec</th>\n",
       "      <th>total_fer</th>\n",
       "      <th>gdpp</th>\n",
       "      <th>PC1</th>\n",
       "      <th>PC2</th>\n",
       "      <th>PC3</th>\n",
       "      <th>PC4</th>\n",
       "      <th>cluster</th>\n",
       "    </tr>\n",
       "    <tr>\n",
       "      <th>country</th>\n",
       "      <th></th>\n",
       "      <th></th>\n",
       "      <th></th>\n",
       "      <th></th>\n",
       "      <th></th>\n",
       "      <th></th>\n",
       "      <th></th>\n",
       "      <th></th>\n",
       "      <th></th>\n",
       "      <th></th>\n",
       "      <th></th>\n",
       "      <th></th>\n",
       "      <th></th>\n",
       "      <th></th>\n",
       "    </tr>\n",
       "  </thead>\n",
       "  <tbody>\n",
       "    <tr>\n",
       "      <th>Brunei</th>\n",
       "      <td>10.5</td>\n",
       "      <td>67.4</td>\n",
       "      <td>2.84</td>\n",
       "      <td>28.0</td>\n",
       "      <td>80600</td>\n",
       "      <td>16.700</td>\n",
       "      <td>77.1</td>\n",
       "      <td>1.84</td>\n",
       "      <td>35300</td>\n",
       "      <td>2.460086</td>\n",
       "      <td>0.016454</td>\n",
       "      <td>3.019840</td>\n",
       "      <td>0.776841</td>\n",
       "      <td>2.0</td>\n",
       "    </tr>\n",
       "    <tr>\n",
       "      <th>Kiribati</th>\n",
       "      <td>62.7</td>\n",
       "      <td>13.3</td>\n",
       "      <td>11.30</td>\n",
       "      <td>79.9</td>\n",
       "      <td>1730</td>\n",
       "      <td>1.520</td>\n",
       "      <td>60.7</td>\n",
       "      <td>3.84</td>\n",
       "      <td>1490</td>\n",
       "      <td>-1.239217</td>\n",
       "      <td>0.369138</td>\n",
       "      <td>-2.368274</td>\n",
       "      <td>0.592231</td>\n",
       "      <td>3.0</td>\n",
       "    </tr>\n",
       "    <tr>\n",
       "      <th>Kuwait</th>\n",
       "      <td>10.8</td>\n",
       "      <td>66.7</td>\n",
       "      <td>2.63</td>\n",
       "      <td>30.4</td>\n",
       "      <td>75200</td>\n",
       "      <td>11.200</td>\n",
       "      <td>78.2</td>\n",
       "      <td>2.21</td>\n",
       "      <td>38500</td>\n",
       "      <td>2.465659</td>\n",
       "      <td>0.088050</td>\n",
       "      <td>2.652268</td>\n",
       "      <td>0.708884</td>\n",
       "      <td>2.0</td>\n",
       "    </tr>\n",
       "    <tr>\n",
       "      <th>Lesotho</th>\n",
       "      <td>99.7</td>\n",
       "      <td>39.4</td>\n",
       "      <td>11.10</td>\n",
       "      <td>101.0</td>\n",
       "      <td>2380</td>\n",
       "      <td>4.150</td>\n",
       "      <td>46.5</td>\n",
       "      <td>3.30</td>\n",
       "      <td>1170</td>\n",
       "      <td>-1.803151</td>\n",
       "      <td>2.037851</td>\n",
       "      <td>-2.496885</td>\n",
       "      <td>1.072199</td>\n",
       "      <td>1.0</td>\n",
       "    </tr>\n",
       "    <tr>\n",
       "      <th>Liberia</th>\n",
       "      <td>89.3</td>\n",
       "      <td>19.1</td>\n",
       "      <td>11.80</td>\n",
       "      <td>92.6</td>\n",
       "      <td>700</td>\n",
       "      <td>5.470</td>\n",
       "      <td>60.8</td>\n",
       "      <td>5.02</td>\n",
       "      <td>327</td>\n",
       "      <td>-1.773580</td>\n",
       "      <td>1.053399</td>\n",
       "      <td>-2.390440</td>\n",
       "      <td>1.179569</td>\n",
       "      <td>1.0</td>\n",
       "    </tr>\n",
       "    <tr>\n",
       "      <th>Luxembourg</th>\n",
       "      <td>2.8</td>\n",
       "      <td>175.0</td>\n",
       "      <td>7.77</td>\n",
       "      <td>142.0</td>\n",
       "      <td>91700</td>\n",
       "      <td>3.620</td>\n",
       "      <td>81.3</td>\n",
       "      <td>1.63</td>\n",
       "      <td>105000</td>\n",
       "      <td>6.917755</td>\n",
       "      <td>4.849844</td>\n",
       "      <td>1.001837</td>\n",
       "      <td>3.129643</td>\n",
       "      <td>0.0</td>\n",
       "    </tr>\n",
       "    <tr>\n",
       "      <th>Malta</th>\n",
       "      <td>6.8</td>\n",
       "      <td>153.0</td>\n",
       "      <td>8.65</td>\n",
       "      <td>154.0</td>\n",
       "      <td>28300</td>\n",
       "      <td>3.830</td>\n",
       "      <td>80.3</td>\n",
       "      <td>1.36</td>\n",
       "      <td>21100</td>\n",
       "      <td>3.679543</td>\n",
       "      <td>4.765486</td>\n",
       "      <td>-1.021313</td>\n",
       "      <td>-0.501107</td>\n",
       "      <td>0.0</td>\n",
       "    </tr>\n",
       "    <tr>\n",
       "      <th>Micronesia, Fed. Sts.</th>\n",
       "      <td>40.0</td>\n",
       "      <td>23.5</td>\n",
       "      <td>14.20</td>\n",
       "      <td>81.0</td>\n",
       "      <td>3340</td>\n",
       "      <td>3.800</td>\n",
       "      <td>65.4</td>\n",
       "      <td>3.46</td>\n",
       "      <td>2860</td>\n",
       "      <td>-0.380929</td>\n",
       "      <td>0.101774</td>\n",
       "      <td>-2.714085</td>\n",
       "      <td>0.771974</td>\n",
       "      <td>2.0</td>\n",
       "    </tr>\n",
       "    <tr>\n",
       "      <th>Mongolia</th>\n",
       "      <td>26.1</td>\n",
       "      <td>46.7</td>\n",
       "      <td>5.44</td>\n",
       "      <td>56.7</td>\n",
       "      <td>7710</td>\n",
       "      <td>39.200</td>\n",
       "      <td>66.2</td>\n",
       "      <td>2.64</td>\n",
       "      <td>2650</td>\n",
       "      <td>-0.944976</td>\n",
       "      <td>0.529800</td>\n",
       "      <td>1.854419</td>\n",
       "      <td>-0.394166</td>\n",
       "      <td>2.0</td>\n",
       "    </tr>\n",
       "    <tr>\n",
       "      <th>Nigeria</th>\n",
       "      <td>130.0</td>\n",
       "      <td>25.3</td>\n",
       "      <td>5.07</td>\n",
       "      <td>17.4</td>\n",
       "      <td>5150</td>\n",
       "      <td>104.000</td>\n",
       "      <td>60.5</td>\n",
       "      <td>5.84</td>\n",
       "      <td>2330</td>\n",
       "      <td>-4.912066</td>\n",
       "      <td>-0.094499</td>\n",
       "      <td>6.110158</td>\n",
       "      <td>2.412421</td>\n",
       "      <td>1.0</td>\n",
       "    </tr>\n",
       "    <tr>\n",
       "      <th>Oman</th>\n",
       "      <td>11.7</td>\n",
       "      <td>65.7</td>\n",
       "      <td>2.77</td>\n",
       "      <td>41.2</td>\n",
       "      <td>45300</td>\n",
       "      <td>15.600</td>\n",
       "      <td>76.1</td>\n",
       "      <td>2.90</td>\n",
       "      <td>19300</td>\n",
       "      <td>1.127387</td>\n",
       "      <td>0.491611</td>\n",
       "      <td>2.133501</td>\n",
       "      <td>-0.176492</td>\n",
       "      <td>2.0</td>\n",
       "    </tr>\n",
       "    <tr>\n",
       "      <th>Qatar</th>\n",
       "      <td>9.0</td>\n",
       "      <td>62.3</td>\n",
       "      <td>1.81</td>\n",
       "      <td>23.8</td>\n",
       "      <td>125000</td>\n",
       "      <td>6.980</td>\n",
       "      <td>79.5</td>\n",
       "      <td>2.07</td>\n",
       "      <td>70300</td>\n",
       "      <td>4.242296</td>\n",
       "      <td>-0.195604</td>\n",
       "      <td>3.643875</td>\n",
       "      <td>2.389811</td>\n",
       "      <td>2.0</td>\n",
       "    </tr>\n",
       "    <tr>\n",
       "      <th>Saudi Arabia</th>\n",
       "      <td>15.7</td>\n",
       "      <td>49.6</td>\n",
       "      <td>4.29</td>\n",
       "      <td>33.0</td>\n",
       "      <td>45400</td>\n",
       "      <td>17.200</td>\n",
       "      <td>75.1</td>\n",
       "      <td>2.96</td>\n",
       "      <td>19300</td>\n",
       "      <td>0.855936</td>\n",
       "      <td>-0.183441</td>\n",
       "      <td>1.903072</td>\n",
       "      <td>0.202259</td>\n",
       "      <td>2.0</td>\n",
       "    </tr>\n",
       "    <tr>\n",
       "      <th>Seychelles</th>\n",
       "      <td>14.4</td>\n",
       "      <td>93.8</td>\n",
       "      <td>3.40</td>\n",
       "      <td>108.0</td>\n",
       "      <td>20400</td>\n",
       "      <td>-4.210</td>\n",
       "      <td>73.4</td>\n",
       "      <td>2.17</td>\n",
       "      <td>10800</td>\n",
       "      <td>1.602598</td>\n",
       "      <td>2.939121</td>\n",
       "      <td>-0.386691</td>\n",
       "      <td>-1.400371</td>\n",
       "      <td>2.0</td>\n",
       "    </tr>\n",
       "    <tr>\n",
       "      <th>Singapore</th>\n",
       "      <td>2.8</td>\n",
       "      <td>200.0</td>\n",
       "      <td>3.96</td>\n",
       "      <td>174.0</td>\n",
       "      <td>72100</td>\n",
       "      <td>-0.046</td>\n",
       "      <td>82.7</td>\n",
       "      <td>1.15</td>\n",
       "      <td>46600</td>\n",
       "      <td>5.783376</td>\n",
       "      <td>6.682090</td>\n",
       "      <td>0.654420</td>\n",
       "      <td>0.089638</td>\n",
       "      <td>0.0</td>\n",
       "    </tr>\n",
       "    <tr>\n",
       "      <th>United Arab Emirates</th>\n",
       "      <td>8.6</td>\n",
       "      <td>77.7</td>\n",
       "      <td>3.66</td>\n",
       "      <td>63.6</td>\n",
       "      <td>57600</td>\n",
       "      <td>12.500</td>\n",
       "      <td>76.5</td>\n",
       "      <td>1.87</td>\n",
       "      <td>35000</td>\n",
       "      <td>2.427141</td>\n",
       "      <td>1.151813</td>\n",
       "      <td>1.828538</td>\n",
       "      <td>0.276080</td>\n",
       "      <td>0.0</td>\n",
       "    </tr>\n",
       "    <tr>\n",
       "      <th>United States</th>\n",
       "      <td>7.3</td>\n",
       "      <td>12.4</td>\n",
       "      <td>17.90</td>\n",
       "      <td>15.8</td>\n",
       "      <td>49400</td>\n",
       "      <td>1.220</td>\n",
       "      <td>78.7</td>\n",
       "      <td>1.93</td>\n",
       "      <td>48400</td>\n",
       "      <td>2.641206</td>\n",
       "      <td>-2.997364</td>\n",
       "      <td>-1.721878</td>\n",
       "      <td>2.827110</td>\n",
       "      <td>0.0</td>\n",
       "    </tr>\n",
       "    <tr>\n",
       "      <th>Venezuela</th>\n",
       "      <td>17.1</td>\n",
       "      <td>28.5</td>\n",
       "      <td>4.91</td>\n",
       "      <td>17.6</td>\n",
       "      <td>16500</td>\n",
       "      <td>45.900</td>\n",
       "      <td>75.4</td>\n",
       "      <td>2.47</td>\n",
       "      <td>13500</td>\n",
       "      <td>-0.551036</td>\n",
       "      <td>-1.233886</td>\n",
       "      <td>3.101350</td>\n",
       "      <td>-0.115311</td>\n",
       "      <td>2.0</td>\n",
       "    </tr>\n",
       "  </tbody>\n",
       "</table>\n",
       "</div>"
      ],
      "text/plain": [
       "                       child_mort  exports  health  imports  income  \\\n",
       "country                                                               \n",
       "Brunei                       10.5     67.4    2.84     28.0   80600   \n",
       "Kiribati                     62.7     13.3   11.30     79.9    1730   \n",
       "Kuwait                       10.8     66.7    2.63     30.4   75200   \n",
       "Lesotho                      99.7     39.4   11.10    101.0    2380   \n",
       "Liberia                      89.3     19.1   11.80     92.6     700   \n",
       "Luxembourg                    2.8    175.0    7.77    142.0   91700   \n",
       "Malta                         6.8    153.0    8.65    154.0   28300   \n",
       "Micronesia, Fed. Sts.        40.0     23.5   14.20     81.0    3340   \n",
       "Mongolia                     26.1     46.7    5.44     56.7    7710   \n",
       "Nigeria                     130.0     25.3    5.07     17.4    5150   \n",
       "Oman                         11.7     65.7    2.77     41.2   45300   \n",
       "Qatar                         9.0     62.3    1.81     23.8  125000   \n",
       "Saudi Arabia                 15.7     49.6    4.29     33.0   45400   \n",
       "Seychelles                   14.4     93.8    3.40    108.0   20400   \n",
       "Singapore                     2.8    200.0    3.96    174.0   72100   \n",
       "United Arab Emirates          8.6     77.7    3.66     63.6   57600   \n",
       "United States                 7.3     12.4   17.90     15.8   49400   \n",
       "Venezuela                    17.1     28.5    4.91     17.6   16500   \n",
       "\n",
       "                       inflation  life_expec  total_fer    gdpp       PC1  \\\n",
       "country                                                                     \n",
       "Brunei                    16.700        77.1       1.84   35300  2.460086   \n",
       "Kiribati                   1.520        60.7       3.84    1490 -1.239217   \n",
       "Kuwait                    11.200        78.2       2.21   38500  2.465659   \n",
       "Lesotho                    4.150        46.5       3.30    1170 -1.803151   \n",
       "Liberia                    5.470        60.8       5.02     327 -1.773580   \n",
       "Luxembourg                 3.620        81.3       1.63  105000  6.917755   \n",
       "Malta                      3.830        80.3       1.36   21100  3.679543   \n",
       "Micronesia, Fed. Sts.      3.800        65.4       3.46    2860 -0.380929   \n",
       "Mongolia                  39.200        66.2       2.64    2650 -0.944976   \n",
       "Nigeria                  104.000        60.5       5.84    2330 -4.912066   \n",
       "Oman                      15.600        76.1       2.90   19300  1.127387   \n",
       "Qatar                      6.980        79.5       2.07   70300  4.242296   \n",
       "Saudi Arabia              17.200        75.1       2.96   19300  0.855936   \n",
       "Seychelles                -4.210        73.4       2.17   10800  1.602598   \n",
       "Singapore                 -0.046        82.7       1.15   46600  5.783376   \n",
       "United Arab Emirates      12.500        76.5       1.87   35000  2.427141   \n",
       "United States              1.220        78.7       1.93   48400  2.641206   \n",
       "Venezuela                 45.900        75.4       2.47   13500 -0.551036   \n",
       "\n",
       "                            PC2       PC3       PC4  cluster  \n",
       "country                                                       \n",
       "Brunei                 0.016454  3.019840  0.776841      2.0  \n",
       "Kiribati               0.369138 -2.368274  0.592231      3.0  \n",
       "Kuwait                 0.088050  2.652268  0.708884      2.0  \n",
       "Lesotho                2.037851 -2.496885  1.072199      1.0  \n",
       "Liberia                1.053399 -2.390440  1.179569      1.0  \n",
       "Luxembourg             4.849844  1.001837  3.129643      0.0  \n",
       "Malta                  4.765486 -1.021313 -0.501107      0.0  \n",
       "Micronesia, Fed. Sts.  0.101774 -2.714085  0.771974      2.0  \n",
       "Mongolia               0.529800  1.854419 -0.394166      2.0  \n",
       "Nigeria               -0.094499  6.110158  2.412421      1.0  \n",
       "Oman                   0.491611  2.133501 -0.176492      2.0  \n",
       "Qatar                 -0.195604  3.643875  2.389811      2.0  \n",
       "Saudi Arabia          -0.183441  1.903072  0.202259      2.0  \n",
       "Seychelles             2.939121 -0.386691 -1.400371      2.0  \n",
       "Singapore              6.682090  0.654420  0.089638      0.0  \n",
       "United Arab Emirates   1.151813  1.828538  0.276080      0.0  \n",
       "United States         -2.997364 -1.721878  2.827110      0.0  \n",
       "Venezuela             -1.233886  3.101350 -0.115311      2.0  "
      ]
     },
     "execution_count": 80,
     "metadata": {},
     "output_type": "execute_result"
    }
   ],
   "source": [
    "final_outlier_df.head(18)"
   ]
  },
  {
   "cell_type": "code",
   "execution_count": 81,
   "metadata": {},
   "outputs": [],
   "source": [
    "final_outlier_df[\"cluster\"]=final_outlier_df[\"cluster\"].astype(int)"
   ]
  },
  {
   "cell_type": "code",
   "execution_count": 82,
   "metadata": {},
   "outputs": [
    {
     "name": "stdout",
     "output_type": "stream",
     "text": [
      "<class 'pandas.core.frame.DataFrame'>\n",
      "Index: 18 entries, Brunei to Venezuela\n",
      "Data columns (total 14 columns):\n",
      "child_mort    18 non-null float64\n",
      "exports       18 non-null float64\n",
      "health        18 non-null float64\n",
      "imports       18 non-null float64\n",
      "income        18 non-null int64\n",
      "inflation     18 non-null float64\n",
      "life_expec    18 non-null float64\n",
      "total_fer     18 non-null float64\n",
      "gdpp          18 non-null int64\n",
      "PC1           18 non-null float64\n",
      "PC2           18 non-null float64\n",
      "PC3           18 non-null float64\n",
      "PC4           18 non-null float64\n",
      "cluster       18 non-null int32\n",
      "dtypes: float64(11), int32(1), int64(2)\n",
      "memory usage: 2.0+ KB\n"
     ]
    }
   ],
   "source": [
    "final_outlier_df.info()"
   ]
  },
  {
   "cell_type": "markdown",
   "metadata": {},
   "source": [
    "## Appended non-outlier and outlier frame"
   ]
  },
  {
   "cell_type": "code",
   "execution_count": 83,
   "metadata": {},
   "outputs": [],
   "source": [
    "result = final_df.append(final_outlier_df,sort=True)"
   ]
  },
  {
   "cell_type": "code",
   "execution_count": 84,
   "metadata": {},
   "outputs": [
    {
     "data": {
      "text/html": [
       "<div>\n",
       "<style scoped>\n",
       "    .dataframe tbody tr th:only-of-type {\n",
       "        vertical-align: middle;\n",
       "    }\n",
       "\n",
       "    .dataframe tbody tr th {\n",
       "        vertical-align: top;\n",
       "    }\n",
       "\n",
       "    .dataframe thead th {\n",
       "        text-align: right;\n",
       "    }\n",
       "</style>\n",
       "<table border=\"1\" class=\"dataframe\">\n",
       "  <thead>\n",
       "    <tr style=\"text-align: right;\">\n",
       "      <th></th>\n",
       "      <th>PC1</th>\n",
       "      <th>PC2</th>\n",
       "      <th>PC3</th>\n",
       "      <th>PC4</th>\n",
       "      <th>child_mort</th>\n",
       "      <th>cluster</th>\n",
       "      <th>exports</th>\n",
       "      <th>gdpp</th>\n",
       "      <th>health</th>\n",
       "      <th>imports</th>\n",
       "      <th>income</th>\n",
       "      <th>inflation</th>\n",
       "      <th>life_expec</th>\n",
       "      <th>total_fer</th>\n",
       "    </tr>\n",
       "    <tr>\n",
       "      <th>country</th>\n",
       "      <th></th>\n",
       "      <th></th>\n",
       "      <th></th>\n",
       "      <th></th>\n",
       "      <th></th>\n",
       "      <th></th>\n",
       "      <th></th>\n",
       "      <th></th>\n",
       "      <th></th>\n",
       "      <th></th>\n",
       "      <th></th>\n",
       "      <th></th>\n",
       "      <th></th>\n",
       "      <th></th>\n",
       "    </tr>\n",
       "  </thead>\n",
       "  <tbody>\n",
       "    <tr>\n",
       "      <th>Afghanistan</th>\n",
       "      <td>-2.913025</td>\n",
       "      <td>0.095621</td>\n",
       "      <td>-0.718118</td>\n",
       "      <td>1.005255</td>\n",
       "      <td>90.2</td>\n",
       "      <td>1</td>\n",
       "      <td>10.0</td>\n",
       "      <td>553</td>\n",
       "      <td>7.58</td>\n",
       "      <td>44.9</td>\n",
       "      <td>1610</td>\n",
       "      <td>9.44</td>\n",
       "      <td>56.2</td>\n",
       "      <td>5.82</td>\n",
       "    </tr>\n",
       "    <tr>\n",
       "      <th>Albania</th>\n",
       "      <td>0.429911</td>\n",
       "      <td>-0.588156</td>\n",
       "      <td>-0.333486</td>\n",
       "      <td>-1.161059</td>\n",
       "      <td>16.6</td>\n",
       "      <td>2</td>\n",
       "      <td>28.0</td>\n",
       "      <td>4090</td>\n",
       "      <td>6.55</td>\n",
       "      <td>48.6</td>\n",
       "      <td>9930</td>\n",
       "      <td>4.49</td>\n",
       "      <td>76.3</td>\n",
       "      <td>1.65</td>\n",
       "    </tr>\n",
       "    <tr>\n",
       "      <th>Algeria</th>\n",
       "      <td>-0.285225</td>\n",
       "      <td>-0.455174</td>\n",
       "      <td>1.221505</td>\n",
       "      <td>-0.868115</td>\n",
       "      <td>27.3</td>\n",
       "      <td>3</td>\n",
       "      <td>38.4</td>\n",
       "      <td>4460</td>\n",
       "      <td>4.17</td>\n",
       "      <td>31.4</td>\n",
       "      <td>12900</td>\n",
       "      <td>16.10</td>\n",
       "      <td>76.5</td>\n",
       "      <td>2.89</td>\n",
       "    </tr>\n",
       "    <tr>\n",
       "      <th>Angola</th>\n",
       "      <td>-2.932423</td>\n",
       "      <td>1.695555</td>\n",
       "      <td>1.525044</td>\n",
       "      <td>0.839625</td>\n",
       "      <td>119.0</td>\n",
       "      <td>1</td>\n",
       "      <td>62.3</td>\n",
       "      <td>3530</td>\n",
       "      <td>2.85</td>\n",
       "      <td>42.9</td>\n",
       "      <td>5900</td>\n",
       "      <td>22.40</td>\n",
       "      <td>60.1</td>\n",
       "      <td>6.16</td>\n",
       "    </tr>\n",
       "    <tr>\n",
       "      <th>Antigua and Barbuda</th>\n",
       "      <td>1.033576</td>\n",
       "      <td>0.136659</td>\n",
       "      <td>-0.225721</td>\n",
       "      <td>-0.847063</td>\n",
       "      <td>10.3</td>\n",
       "      <td>2</td>\n",
       "      <td>45.5</td>\n",
       "      <td>12200</td>\n",
       "      <td>6.03</td>\n",
       "      <td>58.9</td>\n",
       "      <td>19100</td>\n",
       "      <td>1.44</td>\n",
       "      <td>76.8</td>\n",
       "      <td>2.13</td>\n",
       "    </tr>\n",
       "  </tbody>\n",
       "</table>\n",
       "</div>"
      ],
      "text/plain": [
       "                          PC1       PC2       PC3       PC4  child_mort  \\\n",
       "country                                                                   \n",
       "Afghanistan         -2.913025  0.095621 -0.718118  1.005255        90.2   \n",
       "Albania              0.429911 -0.588156 -0.333486 -1.161059        16.6   \n",
       "Algeria             -0.285225 -0.455174  1.221505 -0.868115        27.3   \n",
       "Angola              -2.932423  1.695555  1.525044  0.839625       119.0   \n",
       "Antigua and Barbuda  1.033576  0.136659 -0.225721 -0.847063        10.3   \n",
       "\n",
       "                     cluster  exports   gdpp  health  imports  income  \\\n",
       "country                                                                 \n",
       "Afghanistan                1     10.0    553    7.58     44.9    1610   \n",
       "Albania                    2     28.0   4090    6.55     48.6    9930   \n",
       "Algeria                    3     38.4   4460    4.17     31.4   12900   \n",
       "Angola                     1     62.3   3530    2.85     42.9    5900   \n",
       "Antigua and Barbuda        2     45.5  12200    6.03     58.9   19100   \n",
       "\n",
       "                     inflation  life_expec  total_fer  \n",
       "country                                                \n",
       "Afghanistan               9.44        56.2       5.82  \n",
       "Albania                   4.49        76.3       1.65  \n",
       "Algeria                  16.10        76.5       2.89  \n",
       "Angola                   22.40        60.1       6.16  \n",
       "Antigua and Barbuda       1.44        76.8       2.13  "
      ]
     },
     "execution_count": 84,
     "metadata": {},
     "output_type": "execute_result"
    }
   ],
   "source": [
    "result.head()"
   ]
  },
  {
   "cell_type": "code",
   "execution_count": 85,
   "metadata": {},
   "outputs": [
    {
     "name": "stdout",
     "output_type": "stream",
     "text": [
      "<class 'pandas.core.frame.DataFrame'>\n",
      "Index: 167 entries, Afghanistan to Venezuela\n",
      "Data columns (total 14 columns):\n",
      "PC1           167 non-null float64\n",
      "PC2           167 non-null float64\n",
      "PC3           167 non-null float64\n",
      "PC4           167 non-null float64\n",
      "child_mort    167 non-null float64\n",
      "cluster       167 non-null int32\n",
      "exports       167 non-null float64\n",
      "gdpp          167 non-null int64\n",
      "health        167 non-null float64\n",
      "imports       167 non-null float64\n",
      "income        167 non-null int64\n",
      "inflation     167 non-null float64\n",
      "life_expec    167 non-null float64\n",
      "total_fer     167 non-null float64\n",
      "dtypes: float64(11), int32(1), int64(2)\n",
      "memory usage: 18.9+ KB\n"
     ]
    }
   ],
   "source": [
    "result.info()"
   ]
  },
  {
   "cell_type": "code",
   "execution_count": 86,
   "metadata": {},
   "outputs": [],
   "source": [
    "result.to_csv(\"K_means_Cluster.csv\")"
   ]
  },
  {
   "cell_type": "code",
   "execution_count": 87,
   "metadata": {},
   "outputs": [],
   "source": [
    "clusters_child_mor = \tpd.DataFrame(result.groupby([\"cluster\"]).child_mort.mean())\n",
    "clusters_exports = \tpd.DataFrame(result.groupby([\"cluster\"]).exports.mean())\n",
    "clusters_health = \tpd.DataFrame(result.groupby([\"cluster\"]).health.mean())\n",
    "clusters_imports = \tpd.DataFrame(result.groupby([\"cluster\"]).exports.mean())\n",
    "clusters_income = \tpd.DataFrame(result.groupby([\"cluster\"]).income.mean())\n",
    "clusters_inflation = \tpd.DataFrame(result.groupby([\"cluster\"]).inflation.mean())\n",
    "clusters_life_expec = \tpd.DataFrame(result.groupby([\"cluster\"]).life_expec.mean())\n",
    "clusters_total_fertility = \tpd.DataFrame(result.groupby([\"cluster\"]).total_fer.mean())\n",
    "clusters_gdpp = \tpd.DataFrame(result.groupby([\"cluster\"]).gdpp.mean())"
   ]
  },
  {
   "cell_type": "markdown",
   "metadata": {},
   "source": [
    "## Visualizing combined data frame and the result looks same"
   ]
  },
  {
   "cell_type": "code",
   "execution_count": 88,
   "metadata": {},
   "outputs": [
    {
     "data": {
      "text/html": [
       "<div>\n",
       "<style scoped>\n",
       "    .dataframe tbody tr th:only-of-type {\n",
       "        vertical-align: middle;\n",
       "    }\n",
       "\n",
       "    .dataframe tbody tr th {\n",
       "        vertical-align: top;\n",
       "    }\n",
       "\n",
       "    .dataframe thead th {\n",
       "        text-align: right;\n",
       "    }\n",
       "</style>\n",
       "<table border=\"1\" class=\"dataframe\">\n",
       "  <thead>\n",
       "    <tr style=\"text-align: right;\">\n",
       "      <th></th>\n",
       "      <th>ClusterID</th>\n",
       "      <th>Child_Mor</th>\n",
       "      <th>Exports</th>\n",
       "      <th>Health</th>\n",
       "      <th>import1</th>\n",
       "      <th>income</th>\n",
       "      <th>inflation</th>\n",
       "      <th>life_expectancy</th>\n",
       "      <th>Fertility</th>\n",
       "      <th>gdpp</th>\n",
       "    </tr>\n",
       "  </thead>\n",
       "  <tbody>\n",
       "    <tr>\n",
       "      <th>0</th>\n",
       "      <td>0</td>\n",
       "      <td>4.392857</td>\n",
       "      <td>57.385714</td>\n",
       "      <td>9.830714</td>\n",
       "      <td>57.385714</td>\n",
       "      <td>43017.857143</td>\n",
       "      <td>1.772143</td>\n",
       "      <td>80.742857</td>\n",
       "      <td>1.758214</td>\n",
       "      <td>45560.714286</td>\n",
       "    </tr>\n",
       "    <tr>\n",
       "      <th>1</th>\n",
       "      <td>1</td>\n",
       "      <td>94.880000</td>\n",
       "      <td>29.275778</td>\n",
       "      <td>6.234444</td>\n",
       "      <td>29.275778</td>\n",
       "      <td>3796.955556</td>\n",
       "      <td>12.151222</td>\n",
       "      <td>58.975556</td>\n",
       "      <td>5.044000</td>\n",
       "      <td>1874.711111</td>\n",
       "    </tr>\n",
       "    <tr>\n",
       "      <th>2</th>\n",
       "      <td>2</td>\n",
       "      <td>16.588525</td>\n",
       "      <td>50.895082</td>\n",
       "      <td>6.457869</td>\n",
       "      <td>50.895082</td>\n",
       "      <td>18946.393443</td>\n",
       "      <td>6.066803</td>\n",
       "      <td>73.613115</td>\n",
       "      <td>2.156066</td>\n",
       "      <td>10555.344262</td>\n",
       "    </tr>\n",
       "    <tr>\n",
       "      <th>3</th>\n",
       "      <td>3</td>\n",
       "      <td>29.896970</td>\n",
       "      <td>25.345121</td>\n",
       "      <td>5.711515</td>\n",
       "      <td>25.345121</td>\n",
       "      <td>10062.727273</td>\n",
       "      <td>10.092909</td>\n",
       "      <td>72.051515</td>\n",
       "      <td>2.563030</td>\n",
       "      <td>4881.090909</td>\n",
       "    </tr>\n",
       "  </tbody>\n",
       "</table>\n",
       "</div>"
      ],
      "text/plain": [
       "   ClusterID  Child_Mor    Exports    Health    import1        income  \\\n",
       "0          0   4.392857  57.385714  9.830714  57.385714  43017.857143   \n",
       "1          1  94.880000  29.275778  6.234444  29.275778   3796.955556   \n",
       "2          2  16.588525  50.895082  6.457869  50.895082  18946.393443   \n",
       "3          3  29.896970  25.345121  5.711515  25.345121  10062.727273   \n",
       "\n",
       "   inflation  life_expectancy  Fertility          gdpp  \n",
       "0   1.772143        80.742857   1.758214  45560.714286  \n",
       "1  12.151222        58.975556   5.044000   1874.711111  \n",
       "2   6.066803        73.613115   2.156066  10555.344262  \n",
       "3  10.092909        72.051515   2.563030   4881.090909  "
      ]
     },
     "execution_count": 88,
     "metadata": {},
     "output_type": "execute_result"
    }
   ],
   "source": [
    "final_cluster = pd.concat([pd.Series([0,1,2,3]),clusters_child_mor,clusters_exports,clusters_health,clusters_imports,clusters_income,clusters_inflation,clusters_life_expec,clusters_total_fertility,clusters_gdpp], axis=1)\n",
    "final_cluster.columns = [\"ClusterID\", \"Child_Mor\",\"Exports\",\"Health\",\"import1\",\"income\",\"inflation\",\"life_expectancy\", \"Fertility\",\"gdpp\"]\n",
    "final_cluster.head()"
   ]
  },
  {
   "cell_type": "markdown",
   "metadata": {},
   "source": [
    "## Final plotting based on Total data"
   ]
  },
  {
   "cell_type": "code",
   "execution_count": 89,
   "metadata": {},
   "outputs": [
    {
     "data": {
      "text/plain": [
       "<matplotlib.axes._subplots.AxesSubplot at 0x6b05ac8>"
      ]
     },
     "execution_count": 89,
     "metadata": {},
     "output_type": "execute_result"
    },
    {
     "data": {
      "image/png": "[encoded data removed]",
      "text/plain": [
       "<Figure size 432x288 with 1 Axes>"
      ]
     },
     "metadata": {
      "needs_background": "light"
     },
     "output_type": "display_data"
    }
   ],
   "source": [
    "#plotting barplot for Child_Mor\n",
    "sns.barplot(x=final_cluster.ClusterID, y=final_cluster.Child_Mor)"
   ]
  },
  {
   "cell_type": "code",
   "execution_count": 90,
   "metadata": {},
   "outputs": [
    {
     "data": {
      "text/plain": [
       "<matplotlib.axes._subplots.AxesSubplot at 0x6bdff60>"
      ]
     },
     "execution_count": 90,
     "metadata": {},
     "output_type": "execute_result"
    },
    {
     "data": {
      "image/png": "[encoded data removed]",
      "text/plain": [
       "<Figure size 432x288 with 1 Axes>"
      ]
     },
     "metadata": {
      "needs_background": "light"
     },
     "output_type": "display_data"
    }
   ],
   "source": [
    "#plotting barplot for Health\n",
    "sns.barplot(x=final_cluster.ClusterID, y=final_cluster.Health)"
   ]
  },
  {
   "cell_type": "code",
   "execution_count": 91,
   "metadata": {},
   "outputs": [
    {
     "data": {
      "text/plain": [
       "<matplotlib.axes._subplots.AxesSubplot at 0x6c3ecf8>"
      ]
     },
     "execution_count": 91,
     "metadata": {},
     "output_type": "execute_result"
    },
    {
     "data": {
      "image/png": "[encoded data removed]",
      "text/plain": [
       "<Figure size 432x288 with 1 Axes>"
      ]
     },
     "metadata": {
      "needs_background": "light"
     },
     "output_type": "display_data"
    }
   ],
   "source": [
    "#plotting barplot for income\n",
    "sns.barplot(x=final_cluster.ClusterID, y=final_cluster.income)"
   ]
  },
  {
   "cell_type": "code",
   "execution_count": 92,
   "metadata": {},
   "outputs": [
    {
     "data": {
      "text/plain": [
       "<matplotlib.axes._subplots.AxesSubplot at 0xbff4ef0>"
      ]
     },
     "execution_count": 92,
     "metadata": {},
     "output_type": "execute_result"
    },
    {
     "data": {
      "image/png": "[encoded data removed]",
      "text/plain": [
       "<Figure size 432x288 with 1 Axes>"
      ]
     },
     "metadata": {
      "needs_background": "light"
     },
     "output_type": "display_data"
    }
   ],
   "source": [
    "#plotting barplot for life_expectancy\n",
    "sns.barplot(x=final_cluster.ClusterID, y=final_cluster.life_expectancy)"
   ]
  },
  {
   "cell_type": "code",
   "execution_count": 93,
   "metadata": {},
   "outputs": [
    {
     "data": {
      "text/plain": [
       "<matplotlib.axes._subplots.AxesSubplot at 0xc2804e0>"
      ]
     },
     "execution_count": 93,
     "metadata": {},
     "output_type": "execute_result"
    },
    {
     "data": {
      "image/png": "[encoded data removed]",
      "text/plain": [
       "<Figure size 432x288 with 1 Axes>"
      ]
     },
     "metadata": {
      "needs_background": "light"
     },
     "output_type": "display_data"
    }
   ],
   "source": [
    "#plotting barplot for Inflation\n",
    "sns.barplot(x=final_cluster.ClusterID, y=final_cluster.inflation)"
   ]
  },
  {
   "cell_type": "code",
   "execution_count": 94,
   "metadata": {},
   "outputs": [
    {
     "data": {
      "text/plain": [
       "<matplotlib.axes._subplots.AxesSubplot at 0x6bd8be0>"
      ]
     },
     "execution_count": 94,
     "metadata": {},
     "output_type": "execute_result"
    },
    {
     "data": {
      "image/png": "[encoded data removed]",
      "text/plain": [
       "<Figure size 432x288 with 1 Axes>"
      ]
     },
     "metadata": {
      "needs_background": "light"
     },
     "output_type": "display_data"
    }
   ],
   "source": [
    "#plotting barplot for export\n",
    "sns.barplot(x=final_cluster.ClusterID, y=final_cluster.Exports)"
   ]
  },
  {
   "cell_type": "code",
   "execution_count": 95,
   "metadata": {},
   "outputs": [
    {
     "data": {
      "text/plain": [
       "<matplotlib.axes._subplots.AxesSubplot at 0xc32f780>"
      ]
     },
     "execution_count": 95,
     "metadata": {},
     "output_type": "execute_result"
    },
    {
     "data": {
      "image/png": "[encoded data removed]",
      "text/plain": [
       "<Figure size 432x288 with 1 Axes>"
      ]
     },
     "metadata": {
      "needs_background": "light"
     },
     "output_type": "display_data"
    }
   ],
   "source": [
    "#plotting barplot for import\n",
    "sns.barplot(x=final_cluster.ClusterID, y=final_cluster.import1)"
   ]
  },
  {
   "cell_type": "code",
   "execution_count": 96,
   "metadata": {},
   "outputs": [
    {
     "data": {
      "text/plain": [
       "<matplotlib.axes._subplots.AxesSubplot at 0xca4e5f8>"
      ]
     },
     "execution_count": 96,
     "metadata": {},
     "output_type": "execute_result"
    },
    {
     "data": {
      "image/png": "[encoded data removed]",
      "text/plain": [
       "<Figure size 432x288 with 1 Axes>"
      ]
     },
     "metadata": {
      "needs_background": "light"
     },
     "output_type": "display_data"
    }
   ],
   "source": [
    "#plotting barplot for gdpp\n",
    "sns.barplot(x=final_cluster.ClusterID, y=final_cluster.gdpp)"
   ]
  },
  {
   "cell_type": "code",
   "execution_count": null,
   "metadata": {},
   "outputs": [],
   "source": []
  },
  {
   "cell_type": "markdown",
   "metadata": {},
   "source": [
    "## Hierarchical Clustering"
   ]
  },
  {
   "cell_type": "markdown",
   "metadata": {},
   "source": [
    "### Single Hierarchical Clustering method"
   ]
  },
  {
   "cell_type": "code",
   "execution_count": 97,
   "metadata": {
    "scrolled": true
   },
   "outputs": [
    {
     "data": {
      "image/png": "[encoded data removed]",
      "text/plain": [
       "<Figure size 1440x360 with 1 Axes>"
      ]
     },
     "metadata": {
      "needs_background": "light"
     },
     "output_type": "display_data"
    }
   ],
   "source": [
    "mergings = linkage(pca_df_2d_noutlier, method = \"single\", metric='euclidean')\n",
    "plt.figure(figsize=(20,5))\n",
    "dendrogram(mergings)\n",
    "plt.title('Hierarchical Clustering Dendrogram')\n",
    "plt.xlabel('sample index')\n",
    "plt.ylabel('distance')\n",
    "plt.show()"
   ]
  },
  {
   "cell_type": "markdown",
   "metadata": {},
   "source": [
    "## Complete Hierarchical Clustering method"
   ]
  },
  {
   "cell_type": "code",
   "execution_count": 98,
   "metadata": {},
   "outputs": [
    {
     "data": {
      "image/png": "[encoded data removed]",
      "text/plain": [
       "<Figure size 1800x1440 with 1 Axes>"
      ]
     },
     "metadata": {
      "needs_background": "light"
     },
     "output_type": "display_data"
    }
   ],
   "source": [
    "mergings = linkage(pca_df_2d_noutlier, method = \"complete\", metric='euclidean')\n",
    "plt.figure(figsize=(25,20))\n",
    "dendrogram(mergings)\n",
    "plt.title('Hierarchical Clustering Dendrogram')\n",
    "plt.xlabel('sample index')\n",
    "plt.ylabel('distance')\n",
    "plt.show()"
   ]
  },
  {
   "cell_type": "markdown",
   "metadata": {},
   "source": [
    "## AgglomerativeClustering"
   ]
  },
  {
   "cell_type": "code",
   "execution_count": 99,
   "metadata": {},
   "outputs": [
    {
     "data": {
      "text/plain": [
       "array([0, 1, 3, 0, 1, 3, 3, 2, 2, 3, 1, 1, 3, 1, 1, 2, 1, 0, 1, 3, 1, 0,\n",
       "       3, 1, 0, 0, 1, 0, 2, 1, 0, 0, 3, 3, 3, 0, 0, 0, 1, 0, 1, 1, 1, 2,\n",
       "       3, 3, 3, 1, 0, 0, 1, 1, 2, 2, 0, 0, 1, 2, 0, 2, 1, 3, 0, 0, 1, 0,\n",
       "       1, 2, 3, 3, 3, 3, 2, 2, 2, 3, 2, 1, 3, 0, 1, 0, 1, 1, 1, 1, 1, 0,\n",
       "       0, 1, 1, 0, 0, 1, 1, 1, 3, 0, 3, 0, 3, 2, 2, 0, 2, 0, 1, 1, 3, 3,\n",
       "       1, 2, 1, 3, 0, 1, 0, 1, 0, 1, 2, 0, 0, 1, 2, 3, 1, 0, 1, 2, 2, 3,\n",
       "       0, 1, 0, 0, 3, 1, 3, 1, 0, 1, 2, 3, 3, 1, 1, 0, 0], dtype=int64)"
      ]
     },
     "execution_count": 99,
     "metadata": {},
     "output_type": "execute_result"
    }
   ],
   "source": [
    "from sklearn.cluster import AgglomerativeClustering\n",
    "\n",
    "cluster = AgglomerativeClustering(n_clusters=4, affinity='euclidean', linkage='ward')  \n",
    "cluster.fit_predict(pca_df_2d_noutlier)  "
   ]
  },
  {
   "cell_type": "code",
   "execution_count": 100,
   "metadata": {},
   "outputs": [
    {
     "name": "stderr",
     "output_type": "stream",
     "text": [
      "C:\\Users\\parida\\AppData\\Local\\Continuum\\anaconda3\\lib\\site-packages\\ipykernel_launcher.py:1: SettingWithCopyWarning: \n",
      "A value is trying to be set on a copy of a slice from a DataFrame.\n",
      "Try using .loc[row_indexer,col_indexer] = value instead\n",
      "\n",
      "See the caveats in the documentation: http://pandas.pydata.org/pandas-docs/stable/indexing.html#indexing-view-versus-copy\n",
      "  \"\"\"Entry point for launching an IPython kernel.\n"
     ]
    },
    {
     "data": {
      "text/html": [
       "<div>\n",
       "<style scoped>\n",
       "    .dataframe tbody tr th:only-of-type {\n",
       "        vertical-align: middle;\n",
       "    }\n",
       "\n",
       "    .dataframe tbody tr th {\n",
       "        vertical-align: top;\n",
       "    }\n",
       "\n",
       "    .dataframe thead th {\n",
       "        text-align: right;\n",
       "    }\n",
       "</style>\n",
       "<table border=\"1\" class=\"dataframe\">\n",
       "  <thead>\n",
       "    <tr style=\"text-align: right;\">\n",
       "      <th></th>\n",
       "      <th>PC1</th>\n",
       "      <th>PC2</th>\n",
       "      <th>PC3</th>\n",
       "      <th>PC4</th>\n",
       "      <th>cluster</th>\n",
       "      <th>cluster_new</th>\n",
       "    </tr>\n",
       "    <tr>\n",
       "      <th>country</th>\n",
       "      <th></th>\n",
       "      <th></th>\n",
       "      <th></th>\n",
       "      <th></th>\n",
       "      <th></th>\n",
       "      <th></th>\n",
       "    </tr>\n",
       "  </thead>\n",
       "  <tbody>\n",
       "    <tr>\n",
       "      <th>Afghanistan</th>\n",
       "      <td>-2.913025</td>\n",
       "      <td>0.095621</td>\n",
       "      <td>-0.718118</td>\n",
       "      <td>1.005255</td>\n",
       "      <td>1</td>\n",
       "      <td>0</td>\n",
       "    </tr>\n",
       "    <tr>\n",
       "      <th>Albania</th>\n",
       "      <td>0.429911</td>\n",
       "      <td>-0.588156</td>\n",
       "      <td>-0.333486</td>\n",
       "      <td>-1.161059</td>\n",
       "      <td>2</td>\n",
       "      <td>1</td>\n",
       "    </tr>\n",
       "    <tr>\n",
       "      <th>Algeria</th>\n",
       "      <td>-0.285225</td>\n",
       "      <td>-0.455174</td>\n",
       "      <td>1.221505</td>\n",
       "      <td>-0.868115</td>\n",
       "      <td>3</td>\n",
       "      <td>3</td>\n",
       "    </tr>\n",
       "    <tr>\n",
       "      <th>Angola</th>\n",
       "      <td>-2.932423</td>\n",
       "      <td>1.695555</td>\n",
       "      <td>1.525044</td>\n",
       "      <td>0.839625</td>\n",
       "      <td>1</td>\n",
       "      <td>0</td>\n",
       "    </tr>\n",
       "    <tr>\n",
       "      <th>Antigua and Barbuda</th>\n",
       "      <td>1.033576</td>\n",
       "      <td>0.136659</td>\n",
       "      <td>-0.225721</td>\n",
       "      <td>-0.847063</td>\n",
       "      <td>2</td>\n",
       "      <td>1</td>\n",
       "    </tr>\n",
       "  </tbody>\n",
       "</table>\n",
       "</div>"
      ],
      "text/plain": [
       "                          PC1       PC2       PC3       PC4  cluster  \\\n",
       "country                                                                \n",
       "Afghanistan         -2.913025  0.095621 -0.718118  1.005255        1   \n",
       "Albania              0.429911 -0.588156 -0.333486 -1.161059        2   \n",
       "Algeria             -0.285225 -0.455174  1.221505 -0.868115        3   \n",
       "Angola              -2.932423  1.695555  1.525044  0.839625        1   \n",
       "Antigua and Barbuda  1.033576  0.136659 -0.225721 -0.847063        2   \n",
       "\n",
       "                     cluster_new  \n",
       "country                           \n",
       "Afghanistan                    0  \n",
       "Albania                        1  \n",
       "Algeria                        3  \n",
       "Angola                         0  \n",
       "Antigua and Barbuda            1  "
      ]
     },
     "execution_count": 100,
     "metadata": {},
     "output_type": "execute_result"
    }
   ],
   "source": [
    "pca_df_2d_noutlier['cluster_new'] = pd.Series(cluster.labels_, index=pca_df_2d_noutlier.index)\n",
    "pca_df_2d_noutlier.head()"
   ]
  },
  {
   "cell_type": "code",
   "execution_count": 101,
   "metadata": {},
   "outputs": [
    {
     "data": {
      "text/plain": [
       "<matplotlib.collections.PathCollection at 0xda99cf8>"
      ]
     },
     "execution_count": 101,
     "metadata": {},
     "output_type": "execute_result"
    },
    {
     "data": {
      "image/png": "[encoded data removed]",
      "text/plain": [
       "<Figure size 720x504 with 1 Axes>"
      ]
     },
     "metadata": {
      "needs_background": "light"
     },
     "output_type": "display_data"
    }
   ],
   "source": [
    "plt.figure(figsize=(10, 7))  \n",
    "plt.scatter(pca_df_2d_noutlier.iloc[:,0], pca_df_2d_noutlier.iloc[:,1], c=cluster.labels_, cmap='rainbow')  "
   ]
  },
  {
   "cell_type": "code",
   "execution_count": 102,
   "metadata": {},
   "outputs": [
    {
     "name": "stdout",
     "output_type": "stream",
     "text": [
      "<class 'pandas.core.frame.DataFrame'>\n",
      "Index: 167 entries, Afghanistan to Zambia\n",
      "Data columns (total 9 columns):\n",
      "child_mort    167 non-null float64\n",
      "exports       167 non-null float64\n",
      "health        167 non-null float64\n",
      "imports       167 non-null float64\n",
      "income        167 non-null int64\n",
      "inflation     167 non-null float64\n",
      "life_expec    167 non-null float64\n",
      "total_fer     167 non-null float64\n",
      "gdpp          167 non-null int64\n",
      "dtypes: float64(7), int64(2)\n",
      "memory usage: 18.0+ KB\n"
     ]
    }
   ],
   "source": [
    "country_data.info()"
   ]
  },
  {
   "cell_type": "code",
   "execution_count": 103,
   "metadata": {},
   "outputs": [
    {
     "name": "stdout",
     "output_type": "stream",
     "text": [
      "<class 'pandas.core.frame.DataFrame'>\n",
      "Index: 149 entries, Afghanistan to Zambia\n",
      "Data columns (total 6 columns):\n",
      "PC1            149 non-null float64\n",
      "PC2            149 non-null float64\n",
      "PC3            149 non-null float64\n",
      "PC4            149 non-null float64\n",
      "cluster        149 non-null int32\n",
      "cluster_new    149 non-null int64\n",
      "dtypes: float64(4), int32(1), int64(1)\n",
      "memory usage: 12.6+ KB\n"
     ]
    }
   ],
   "source": [
    "pca_df_2d_noutlier.info()"
   ]
  },
  {
   "cell_type": "code",
   "execution_count": 104,
   "metadata": {
    "scrolled": true
   },
   "outputs": [
    {
     "data": {
      "text/html": [
       "<div>\n",
       "<style scoped>\n",
       "    .dataframe tbody tr th:only-of-type {\n",
       "        vertical-align: middle;\n",
       "    }\n",
       "\n",
       "    .dataframe tbody tr th {\n",
       "        vertical-align: top;\n",
       "    }\n",
       "\n",
       "    .dataframe thead th {\n",
       "        text-align: right;\n",
       "    }\n",
       "</style>\n",
       "<table border=\"1\" class=\"dataframe\">\n",
       "  <thead>\n",
       "    <tr style=\"text-align: right;\">\n",
       "      <th></th>\n",
       "      <th>child_mort</th>\n",
       "      <th>exports</th>\n",
       "      <th>health</th>\n",
       "      <th>imports</th>\n",
       "      <th>income</th>\n",
       "      <th>inflation</th>\n",
       "      <th>life_expec</th>\n",
       "      <th>total_fer</th>\n",
       "      <th>gdpp</th>\n",
       "      <th>PC1</th>\n",
       "      <th>PC2</th>\n",
       "      <th>PC3</th>\n",
       "      <th>PC4</th>\n",
       "      <th>cluster</th>\n",
       "      <th>cluster_new</th>\n",
       "    </tr>\n",
       "    <tr>\n",
       "      <th>country</th>\n",
       "      <th></th>\n",
       "      <th></th>\n",
       "      <th></th>\n",
       "      <th></th>\n",
       "      <th></th>\n",
       "      <th></th>\n",
       "      <th></th>\n",
       "      <th></th>\n",
       "      <th></th>\n",
       "      <th></th>\n",
       "      <th></th>\n",
       "      <th></th>\n",
       "      <th></th>\n",
       "      <th></th>\n",
       "      <th></th>\n",
       "    </tr>\n",
       "  </thead>\n",
       "  <tbody>\n",
       "    <tr>\n",
       "      <th>Afghanistan</th>\n",
       "      <td>90.2</td>\n",
       "      <td>10.0</td>\n",
       "      <td>7.58</td>\n",
       "      <td>44.9</td>\n",
       "      <td>1610</td>\n",
       "      <td>9.440</td>\n",
       "      <td>56.2</td>\n",
       "      <td>5.82</td>\n",
       "      <td>553</td>\n",
       "      <td>-2.913025</td>\n",
       "      <td>0.095621</td>\n",
       "      <td>-0.718118</td>\n",
       "      <td>1.005255</td>\n",
       "      <td>1</td>\n",
       "      <td>0</td>\n",
       "    </tr>\n",
       "    <tr>\n",
       "      <th>Albania</th>\n",
       "      <td>16.6</td>\n",
       "      <td>28.0</td>\n",
       "      <td>6.55</td>\n",
       "      <td>48.6</td>\n",
       "      <td>9930</td>\n",
       "      <td>4.490</td>\n",
       "      <td>76.3</td>\n",
       "      <td>1.65</td>\n",
       "      <td>4090</td>\n",
       "      <td>0.429911</td>\n",
       "      <td>-0.588156</td>\n",
       "      <td>-0.333486</td>\n",
       "      <td>-1.161059</td>\n",
       "      <td>2</td>\n",
       "      <td>1</td>\n",
       "    </tr>\n",
       "    <tr>\n",
       "      <th>Algeria</th>\n",
       "      <td>27.3</td>\n",
       "      <td>38.4</td>\n",
       "      <td>4.17</td>\n",
       "      <td>31.4</td>\n",
       "      <td>12900</td>\n",
       "      <td>16.100</td>\n",
       "      <td>76.5</td>\n",
       "      <td>2.89</td>\n",
       "      <td>4460</td>\n",
       "      <td>-0.285225</td>\n",
       "      <td>-0.455174</td>\n",
       "      <td>1.221505</td>\n",
       "      <td>-0.868115</td>\n",
       "      <td>3</td>\n",
       "      <td>3</td>\n",
       "    </tr>\n",
       "    <tr>\n",
       "      <th>Angola</th>\n",
       "      <td>119.0</td>\n",
       "      <td>62.3</td>\n",
       "      <td>2.85</td>\n",
       "      <td>42.9</td>\n",
       "      <td>5900</td>\n",
       "      <td>22.400</td>\n",
       "      <td>60.1</td>\n",
       "      <td>6.16</td>\n",
       "      <td>3530</td>\n",
       "      <td>-2.932423</td>\n",
       "      <td>1.695555</td>\n",
       "      <td>1.525044</td>\n",
       "      <td>0.839625</td>\n",
       "      <td>1</td>\n",
       "      <td>0</td>\n",
       "    </tr>\n",
       "    <tr>\n",
       "      <th>Antigua and Barbuda</th>\n",
       "      <td>10.3</td>\n",
       "      <td>45.5</td>\n",
       "      <td>6.03</td>\n",
       "      <td>58.9</td>\n",
       "      <td>19100</td>\n",
       "      <td>1.440</td>\n",
       "      <td>76.8</td>\n",
       "      <td>2.13</td>\n",
       "      <td>12200</td>\n",
       "      <td>1.033576</td>\n",
       "      <td>0.136659</td>\n",
       "      <td>-0.225721</td>\n",
       "      <td>-0.847063</td>\n",
       "      <td>2</td>\n",
       "      <td>1</td>\n",
       "    </tr>\n",
       "    <tr>\n",
       "      <th>Argentina</th>\n",
       "      <td>14.5</td>\n",
       "      <td>18.9</td>\n",
       "      <td>8.10</td>\n",
       "      <td>16.0</td>\n",
       "      <td>18700</td>\n",
       "      <td>20.900</td>\n",
       "      <td>75.8</td>\n",
       "      <td>2.37</td>\n",
       "      <td>10300</td>\n",
       "      <td>0.022407</td>\n",
       "      <td>-1.779187</td>\n",
       "      <td>0.869997</td>\n",
       "      <td>-0.036967</td>\n",
       "      <td>3</td>\n",
       "      <td>3</td>\n",
       "    </tr>\n",
       "    <tr>\n",
       "      <th>Armenia</th>\n",
       "      <td>18.1</td>\n",
       "      <td>20.8</td>\n",
       "      <td>4.40</td>\n",
       "      <td>45.3</td>\n",
       "      <td>6700</td>\n",
       "      <td>7.770</td>\n",
       "      <td>73.3</td>\n",
       "      <td>1.69</td>\n",
       "      <td>3220</td>\n",
       "      <td>-0.101584</td>\n",
       "      <td>-0.568252</td>\n",
       "      <td>0.242092</td>\n",
       "      <td>-1.466266</td>\n",
       "      <td>3</td>\n",
       "      <td>3</td>\n",
       "    </tr>\n",
       "    <tr>\n",
       "      <th>Australia</th>\n",
       "      <td>4.8</td>\n",
       "      <td>19.8</td>\n",
       "      <td>8.73</td>\n",
       "      <td>20.9</td>\n",
       "      <td>41400</td>\n",
       "      <td>1.160</td>\n",
       "      <td>82.0</td>\n",
       "      <td>1.93</td>\n",
       "      <td>51900</td>\n",
       "      <td>2.342165</td>\n",
       "      <td>-1.988459</td>\n",
       "      <td>0.190344</td>\n",
       "      <td>1.105038</td>\n",
       "      <td>0</td>\n",
       "      <td>2</td>\n",
       "    </tr>\n",
       "    <tr>\n",
       "      <th>Austria</th>\n",
       "      <td>4.3</td>\n",
       "      <td>51.3</td>\n",
       "      <td>11.00</td>\n",
       "      <td>47.8</td>\n",
       "      <td>43200</td>\n",
       "      <td>0.873</td>\n",
       "      <td>80.5</td>\n",
       "      <td>1.44</td>\n",
       "      <td>46900</td>\n",
       "      <td>2.973764</td>\n",
       "      <td>-0.734689</td>\n",
       "      <td>-0.519766</td>\n",
       "      <td>1.205442</td>\n",
       "      <td>0</td>\n",
       "      <td>2</td>\n",
       "    </tr>\n",
       "    <tr>\n",
       "      <th>Azerbaijan</th>\n",
       "      <td>39.2</td>\n",
       "      <td>54.3</td>\n",
       "      <td>5.88</td>\n",
       "      <td>20.7</td>\n",
       "      <td>16000</td>\n",
       "      <td>13.800</td>\n",
       "      <td>69.1</td>\n",
       "      <td>1.92</td>\n",
       "      <td>5840</td>\n",
       "      <td>-0.181487</td>\n",
       "      <td>-0.402866</td>\n",
       "      <td>0.867459</td>\n",
       "      <td>-0.438773</td>\n",
       "      <td>3</td>\n",
       "      <td>3</td>\n",
       "    </tr>\n",
       "    <tr>\n",
       "      <th>Bahamas</th>\n",
       "      <td>13.8</td>\n",
       "      <td>35.0</td>\n",
       "      <td>7.89</td>\n",
       "      <td>43.7</td>\n",
       "      <td>22900</td>\n",
       "      <td>-0.393</td>\n",
       "      <td>73.8</td>\n",
       "      <td>1.86</td>\n",
       "      <td>28000</td>\n",
       "      <td>1.268744</td>\n",
       "      <td>-0.656588</td>\n",
       "      <td>-0.488098</td>\n",
       "      <td>0.055634</td>\n",
       "      <td>2</td>\n",
       "      <td>1</td>\n",
       "    </tr>\n",
       "    <tr>\n",
       "      <th>Bahrain</th>\n",
       "      <td>8.6</td>\n",
       "      <td>69.5</td>\n",
       "      <td>4.97</td>\n",
       "      <td>50.9</td>\n",
       "      <td>41100</td>\n",
       "      <td>7.440</td>\n",
       "      <td>76.0</td>\n",
       "      <td>2.16</td>\n",
       "      <td>20700</td>\n",
       "      <td>1.670996</td>\n",
       "      <td>0.561162</td>\n",
       "      <td>0.991258</td>\n",
       "      <td>-0.207080</td>\n",
       "      <td>2</td>\n",
       "      <td>1</td>\n",
       "    </tr>\n",
       "    <tr>\n",
       "      <th>Bangladesh</th>\n",
       "      <td>49.4</td>\n",
       "      <td>16.0</td>\n",
       "      <td>3.52</td>\n",
       "      <td>21.8</td>\n",
       "      <td>2440</td>\n",
       "      <td>7.140</td>\n",
       "      <td>70.4</td>\n",
       "      <td>2.33</td>\n",
       "      <td>758</td>\n",
       "      <td>-1.123851</td>\n",
       "      <td>-0.961397</td>\n",
       "      <td>0.526615</td>\n",
       "      <td>-1.197201</td>\n",
       "      <td>3</td>\n",
       "      <td>3</td>\n",
       "    </tr>\n",
       "    <tr>\n",
       "      <th>Barbados</th>\n",
       "      <td>14.2</td>\n",
       "      <td>39.5</td>\n",
       "      <td>7.97</td>\n",
       "      <td>48.7</td>\n",
       "      <td>15300</td>\n",
       "      <td>0.321</td>\n",
       "      <td>76.7</td>\n",
       "      <td>1.78</td>\n",
       "      <td>16000</td>\n",
       "      <td>1.081374</td>\n",
       "      <td>-0.481970</td>\n",
       "      <td>-0.664355</td>\n",
       "      <td>-0.522505</td>\n",
       "      <td>2</td>\n",
       "      <td>1</td>\n",
       "    </tr>\n",
       "    <tr>\n",
       "      <th>Belarus</th>\n",
       "      <td>5.5</td>\n",
       "      <td>51.4</td>\n",
       "      <td>5.61</td>\n",
       "      <td>64.5</td>\n",
       "      <td>16200</td>\n",
       "      <td>15.100</td>\n",
       "      <td>70.4</td>\n",
       "      <td>1.49</td>\n",
       "      <td>6030</td>\n",
       "      <td>0.580025</td>\n",
       "      <td>0.535327</td>\n",
       "      <td>0.486228</td>\n",
       "      <td>-1.035275</td>\n",
       "      <td>2</td>\n",
       "      <td>1</td>\n",
       "    </tr>\n",
       "    <tr>\n",
       "      <th>Belgium</th>\n",
       "      <td>4.5</td>\n",
       "      <td>76.4</td>\n",
       "      <td>10.70</td>\n",
       "      <td>74.7</td>\n",
       "      <td>41100</td>\n",
       "      <td>1.880</td>\n",
       "      <td>80.0</td>\n",
       "      <td>1.86</td>\n",
       "      <td>44400</td>\n",
       "      <td>3.143786</td>\n",
       "      <td>0.663548</td>\n",
       "      <td>-0.645228</td>\n",
       "      <td>1.094898</td>\n",
       "      <td>0</td>\n",
       "      <td>2</td>\n",
       "    </tr>\n",
       "    <tr>\n",
       "      <th>Belize</th>\n",
       "      <td>18.8</td>\n",
       "      <td>58.2</td>\n",
       "      <td>5.20</td>\n",
       "      <td>57.5</td>\n",
       "      <td>7880</td>\n",
       "      <td>1.140</td>\n",
       "      <td>71.4</td>\n",
       "      <td>2.71</td>\n",
       "      <td>4340</td>\n",
       "      <td>0.211255</td>\n",
       "      <td>0.699243</td>\n",
       "      <td>-0.275561</td>\n",
       "      <td>-1.095627</td>\n",
       "      <td>2</td>\n",
       "      <td>1</td>\n",
       "    </tr>\n",
       "    <tr>\n",
       "      <th>Benin</th>\n",
       "      <td>111.0</td>\n",
       "      <td>23.8</td>\n",
       "      <td>4.10</td>\n",
       "      <td>37.2</td>\n",
       "      <td>1820</td>\n",
       "      <td>0.885</td>\n",
       "      <td>61.8</td>\n",
       "      <td>5.36</td>\n",
       "      <td>758</td>\n",
       "      <td>-2.672314</td>\n",
       "      <td>0.418172</td>\n",
       "      <td>-0.257368</td>\n",
       "      <td>0.278672</td>\n",
       "      <td>1</td>\n",
       "      <td>0</td>\n",
       "    </tr>\n",
       "  </tbody>\n",
       "</table>\n",
       "</div>"
      ],
      "text/plain": [
       "                     child_mort  exports  health  imports  income  inflation  \\\n",
       "country                                                                        \n",
       "Afghanistan                90.2     10.0    7.58     44.9    1610      9.440   \n",
       "Albania                    16.6     28.0    6.55     48.6    9930      4.490   \n",
       "Algeria                    27.3     38.4    4.17     31.4   12900     16.100   \n",
       "Angola                    119.0     62.3    2.85     42.9    5900     22.400   \n",
       "Antigua and Barbuda        10.3     45.5    6.03     58.9   19100      1.440   \n",
       "Argentina                  14.5     18.9    8.10     16.0   18700     20.900   \n",
       "Armenia                    18.1     20.8    4.40     45.3    6700      7.770   \n",
       "Australia                   4.8     19.8    8.73     20.9   41400      1.160   \n",
       "Austria                     4.3     51.3   11.00     47.8   43200      0.873   \n",
       "Azerbaijan                 39.2     54.3    5.88     20.7   16000     13.800   \n",
       "Bahamas                    13.8     35.0    7.89     43.7   22900     -0.393   \n",
       "Bahrain                     8.6     69.5    4.97     50.9   41100      7.440   \n",
       "Bangladesh                 49.4     16.0    3.52     21.8    2440      7.140   \n",
       "Barbados                   14.2     39.5    7.97     48.7   15300      0.321   \n",
       "Belarus                     5.5     51.4    5.61     64.5   16200     15.100   \n",
       "Belgium                     4.5     76.4   10.70     74.7   41100      1.880   \n",
       "Belize                     18.8     58.2    5.20     57.5    7880      1.140   \n",
       "Benin                     111.0     23.8    4.10     37.2    1820      0.885   \n",
       "\n",
       "                     life_expec  total_fer   gdpp       PC1       PC2  \\\n",
       "country                                                                 \n",
       "Afghanistan                56.2       5.82    553 -2.913025  0.095621   \n",
       "Albania                    76.3       1.65   4090  0.429911 -0.588156   \n",
       "Algeria                    76.5       2.89   4460 -0.285225 -0.455174   \n",
       "Angola                     60.1       6.16   3530 -2.932423  1.695555   \n",
       "Antigua and Barbuda        76.8       2.13  12200  1.033576  0.136659   \n",
       "Argentina                  75.8       2.37  10300  0.022407 -1.779187   \n",
       "Armenia                    73.3       1.69   3220 -0.101584 -0.568252   \n",
       "Australia                  82.0       1.93  51900  2.342165 -1.988459   \n",
       "Austria                    80.5       1.44  46900  2.973764 -0.734689   \n",
       "Azerbaijan                 69.1       1.92   5840 -0.181487 -0.402866   \n",
       "Bahamas                    73.8       1.86  28000  1.268744 -0.656588   \n",
       "Bahrain                    76.0       2.16  20700  1.670996  0.561162   \n",
       "Bangladesh                 70.4       2.33    758 -1.123851 -0.961397   \n",
       "Barbados                   76.7       1.78  16000  1.081374 -0.481970   \n",
       "Belarus                    70.4       1.49   6030  0.580025  0.535327   \n",
       "Belgium                    80.0       1.86  44400  3.143786  0.663548   \n",
       "Belize                     71.4       2.71   4340  0.211255  0.699243   \n",
       "Benin                      61.8       5.36    758 -2.672314  0.418172   \n",
       "\n",
       "                          PC3       PC4  cluster  cluster_new  \n",
       "country                                                        \n",
       "Afghanistan         -0.718118  1.005255        1            0  \n",
       "Albania             -0.333486 -1.161059        2            1  \n",
       "Algeria              1.221505 -0.868115        3            3  \n",
       "Angola               1.525044  0.839625        1            0  \n",
       "Antigua and Barbuda -0.225721 -0.847063        2            1  \n",
       "Argentina            0.869997 -0.036967        3            3  \n",
       "Armenia              0.242092 -1.466266        3            3  \n",
       "Australia            0.190344  1.105038        0            2  \n",
       "Austria             -0.519766  1.205442        0            2  \n",
       "Azerbaijan           0.867459 -0.438773        3            3  \n",
       "Bahamas             -0.488098  0.055634        2            1  \n",
       "Bahrain              0.991258 -0.207080        2            1  \n",
       "Bangladesh           0.526615 -1.197201        3            3  \n",
       "Barbados            -0.664355 -0.522505        2            1  \n",
       "Belarus              0.486228 -1.035275        2            1  \n",
       "Belgium             -0.645228  1.094898        0            2  \n",
       "Belize              -0.275561 -1.095627        2            1  \n",
       "Benin               -0.257368  0.278672        1            0  "
      ]
     },
     "execution_count": 104,
     "metadata": {},
     "output_type": "execute_result"
    }
   ],
   "source": [
    "final_noutlier_hierar_df = pd.merge(country_data, pca_df_2d_noutlier, left_index=True, right_index=True)\n",
    "final_noutlier_hierar_df.head(18)"
   ]
  },
  {
   "cell_type": "code",
   "execution_count": 105,
   "metadata": {},
   "outputs": [
    {
     "data": {
      "text/html": [
       "<div>\n",
       "<style scoped>\n",
       "    .dataframe tbody tr th:only-of-type {\n",
       "        vertical-align: middle;\n",
       "    }\n",
       "\n",
       "    .dataframe tbody tr th {\n",
       "        vertical-align: top;\n",
       "    }\n",
       "\n",
       "    .dataframe thead th {\n",
       "        text-align: right;\n",
       "    }\n",
       "</style>\n",
       "<table border=\"1\" class=\"dataframe\">\n",
       "  <thead>\n",
       "    <tr style=\"text-align: right;\">\n",
       "      <th></th>\n",
       "      <th>child_mort</th>\n",
       "      <th>inflation</th>\n",
       "      <th>gdpp</th>\n",
       "      <th>health</th>\n",
       "    </tr>\n",
       "    <tr>\n",
       "      <th>country</th>\n",
       "      <th></th>\n",
       "      <th></th>\n",
       "      <th></th>\n",
       "      <th></th>\n",
       "    </tr>\n",
       "  </thead>\n",
       "  <tbody>\n",
       "    <tr>\n",
       "      <th>Afghanistan</th>\n",
       "      <td>90.2</td>\n",
       "      <td>9.440</td>\n",
       "      <td>553</td>\n",
       "      <td>7.58</td>\n",
       "    </tr>\n",
       "    <tr>\n",
       "      <th>Angola</th>\n",
       "      <td>119.0</td>\n",
       "      <td>22.400</td>\n",
       "      <td>3530</td>\n",
       "      <td>2.85</td>\n",
       "    </tr>\n",
       "    <tr>\n",
       "      <th>Benin</th>\n",
       "      <td>111.0</td>\n",
       "      <td>0.885</td>\n",
       "      <td>758</td>\n",
       "      <td>4.10</td>\n",
       "    </tr>\n",
       "    <tr>\n",
       "      <th>Botswana</th>\n",
       "      <td>52.5</td>\n",
       "      <td>8.920</td>\n",
       "      <td>6350</td>\n",
       "      <td>8.30</td>\n",
       "    </tr>\n",
       "    <tr>\n",
       "      <th>Burkina Faso</th>\n",
       "      <td>116.0</td>\n",
       "      <td>6.810</td>\n",
       "      <td>575</td>\n",
       "      <td>6.74</td>\n",
       "    </tr>\n",
       "  </tbody>\n",
       "</table>\n",
       "</div>"
      ],
      "text/plain": [
       "              child_mort  inflation  gdpp  health\n",
       "country                                          \n",
       "Afghanistan         90.2      9.440   553    7.58\n",
       "Angola             119.0     22.400  3530    2.85\n",
       "Benin              111.0      0.885   758    4.10\n",
       "Botswana            52.5      8.920  6350    8.30\n",
       "Burkina Faso       116.0      6.810   575    6.74"
      ]
     },
     "execution_count": 105,
     "metadata": {},
     "output_type": "execute_result"
    }
   ],
   "source": [
    "final_noutlier_hierar_df_0=final_noutlier_hierar_df.loc[(final_noutlier_hierar_df['cluster_new'] == 0)] [['child_mort','inflation','gdpp','health']]\n",
    "final_noutlier_hierar_df_0.head()"
   ]
  },
  {
   "cell_type": "code",
   "execution_count": 106,
   "metadata": {},
   "outputs": [
    {
     "data": {
      "text/html": [
       "<div>\n",
       "<style scoped>\n",
       "    .dataframe tbody tr th:only-of-type {\n",
       "        vertical-align: middle;\n",
       "    }\n",
       "\n",
       "    .dataframe tbody tr th {\n",
       "        vertical-align: top;\n",
       "    }\n",
       "\n",
       "    .dataframe thead th {\n",
       "        text-align: right;\n",
       "    }\n",
       "</style>\n",
       "<table border=\"1\" class=\"dataframe\">\n",
       "  <thead>\n",
       "    <tr style=\"text-align: right;\">\n",
       "      <th></th>\n",
       "      <th>child_mort</th>\n",
       "      <th>inflation</th>\n",
       "      <th>gdpp</th>\n",
       "      <th>health</th>\n",
       "    </tr>\n",
       "    <tr>\n",
       "      <th>country</th>\n",
       "      <th></th>\n",
       "      <th></th>\n",
       "      <th></th>\n",
       "      <th></th>\n",
       "    </tr>\n",
       "  </thead>\n",
       "  <tbody>\n",
       "    <tr>\n",
       "      <th>Albania</th>\n",
       "      <td>16.6</td>\n",
       "      <td>4.490</td>\n",
       "      <td>4090</td>\n",
       "      <td>6.55</td>\n",
       "    </tr>\n",
       "    <tr>\n",
       "      <th>Antigua and Barbuda</th>\n",
       "      <td>10.3</td>\n",
       "      <td>1.440</td>\n",
       "      <td>12200</td>\n",
       "      <td>6.03</td>\n",
       "    </tr>\n",
       "    <tr>\n",
       "      <th>Bahamas</th>\n",
       "      <td>13.8</td>\n",
       "      <td>-0.393</td>\n",
       "      <td>28000</td>\n",
       "      <td>7.89</td>\n",
       "    </tr>\n",
       "    <tr>\n",
       "      <th>Bahrain</th>\n",
       "      <td>8.6</td>\n",
       "      <td>7.440</td>\n",
       "      <td>20700</td>\n",
       "      <td>4.97</td>\n",
       "    </tr>\n",
       "    <tr>\n",
       "      <th>Barbados</th>\n",
       "      <td>14.2</td>\n",
       "      <td>0.321</td>\n",
       "      <td>16000</td>\n",
       "      <td>7.97</td>\n",
       "    </tr>\n",
       "  </tbody>\n",
       "</table>\n",
       "</div>"
      ],
      "text/plain": [
       "                     child_mort  inflation   gdpp  health\n",
       "country                                                  \n",
       "Albania                    16.6      4.490   4090    6.55\n",
       "Antigua and Barbuda        10.3      1.440  12200    6.03\n",
       "Bahamas                    13.8     -0.393  28000    7.89\n",
       "Bahrain                     8.6      7.440  20700    4.97\n",
       "Barbados                   14.2      0.321  16000    7.97"
      ]
     },
     "execution_count": 106,
     "metadata": {},
     "output_type": "execute_result"
    }
   ],
   "source": [
    "final_noutlier_hierar_df_1=final_noutlier_hierar_df.loc[(final_noutlier_hierar_df['cluster_new'] == 1)] [['child_mort','inflation','gdpp','health']]\n",
    "final_noutlier_hierar_df_1.head()"
   ]
  },
  {
   "cell_type": "code",
   "execution_count": 107,
   "metadata": {},
   "outputs": [
    {
     "data": {
      "text/html": [
       "<div>\n",
       "<style scoped>\n",
       "    .dataframe tbody tr th:only-of-type {\n",
       "        vertical-align: middle;\n",
       "    }\n",
       "\n",
       "    .dataframe tbody tr th {\n",
       "        vertical-align: top;\n",
       "    }\n",
       "\n",
       "    .dataframe thead th {\n",
       "        text-align: right;\n",
       "    }\n",
       "</style>\n",
       "<table border=\"1\" class=\"dataframe\">\n",
       "  <thead>\n",
       "    <tr style=\"text-align: right;\">\n",
       "      <th></th>\n",
       "      <th>child_mort</th>\n",
       "      <th>inflation</th>\n",
       "      <th>gdpp</th>\n",
       "      <th>health</th>\n",
       "    </tr>\n",
       "    <tr>\n",
       "      <th>country</th>\n",
       "      <th></th>\n",
       "      <th></th>\n",
       "      <th></th>\n",
       "      <th></th>\n",
       "    </tr>\n",
       "  </thead>\n",
       "  <tbody>\n",
       "    <tr>\n",
       "      <th>Australia</th>\n",
       "      <td>4.8</td>\n",
       "      <td>1.160</td>\n",
       "      <td>51900</td>\n",
       "      <td>8.73</td>\n",
       "    </tr>\n",
       "    <tr>\n",
       "      <th>Austria</th>\n",
       "      <td>4.3</td>\n",
       "      <td>0.873</td>\n",
       "      <td>46900</td>\n",
       "      <td>11.00</td>\n",
       "    </tr>\n",
       "    <tr>\n",
       "      <th>Belgium</th>\n",
       "      <td>4.5</td>\n",
       "      <td>1.880</td>\n",
       "      <td>44400</td>\n",
       "      <td>10.70</td>\n",
       "    </tr>\n",
       "    <tr>\n",
       "      <th>Canada</th>\n",
       "      <td>5.6</td>\n",
       "      <td>2.870</td>\n",
       "      <td>47400</td>\n",
       "      <td>11.30</td>\n",
       "    </tr>\n",
       "    <tr>\n",
       "      <th>Denmark</th>\n",
       "      <td>4.1</td>\n",
       "      <td>3.220</td>\n",
       "      <td>58000</td>\n",
       "      <td>11.40</td>\n",
       "    </tr>\n",
       "  </tbody>\n",
       "</table>\n",
       "</div>"
      ],
      "text/plain": [
       "           child_mort  inflation   gdpp  health\n",
       "country                                        \n",
       "Australia         4.8      1.160  51900    8.73\n",
       "Austria           4.3      0.873  46900   11.00\n",
       "Belgium           4.5      1.880  44400   10.70\n",
       "Canada            5.6      2.870  47400   11.30\n",
       "Denmark           4.1      3.220  58000   11.40"
      ]
     },
     "execution_count": 107,
     "metadata": {},
     "output_type": "execute_result"
    }
   ],
   "source": [
    "final_noutlier_hierar_df_2=final_noutlier_hierar_df.loc[(final_noutlier_hierar_df['cluster_new'] == 2)] [['child_mort','inflation','gdpp','health']]\n",
    "final_noutlier_hierar_df_2.head()"
   ]
  },
  {
   "cell_type": "code",
   "execution_count": 108,
   "metadata": {},
   "outputs": [
    {
     "data": {
      "text/html": [
       "<div>\n",
       "<style scoped>\n",
       "    .dataframe tbody tr th:only-of-type {\n",
       "        vertical-align: middle;\n",
       "    }\n",
       "\n",
       "    .dataframe tbody tr th {\n",
       "        vertical-align: top;\n",
       "    }\n",
       "\n",
       "    .dataframe thead th {\n",
       "        text-align: right;\n",
       "    }\n",
       "</style>\n",
       "<table border=\"1\" class=\"dataframe\">\n",
       "  <thead>\n",
       "    <tr style=\"text-align: right;\">\n",
       "      <th></th>\n",
       "      <th>child_mort</th>\n",
       "      <th>inflation</th>\n",
       "      <th>gdpp</th>\n",
       "      <th>health</th>\n",
       "    </tr>\n",
       "    <tr>\n",
       "      <th>country</th>\n",
       "      <th></th>\n",
       "      <th></th>\n",
       "      <th></th>\n",
       "      <th></th>\n",
       "    </tr>\n",
       "  </thead>\n",
       "  <tbody>\n",
       "    <tr>\n",
       "      <th>Algeria</th>\n",
       "      <td>27.3</td>\n",
       "      <td>16.10</td>\n",
       "      <td>4460</td>\n",
       "      <td>4.17</td>\n",
       "    </tr>\n",
       "    <tr>\n",
       "      <th>Argentina</th>\n",
       "      <td>14.5</td>\n",
       "      <td>20.90</td>\n",
       "      <td>10300</td>\n",
       "      <td>8.10</td>\n",
       "    </tr>\n",
       "    <tr>\n",
       "      <th>Armenia</th>\n",
       "      <td>18.1</td>\n",
       "      <td>7.77</td>\n",
       "      <td>3220</td>\n",
       "      <td>4.40</td>\n",
       "    </tr>\n",
       "    <tr>\n",
       "      <th>Azerbaijan</th>\n",
       "      <td>39.2</td>\n",
       "      <td>13.80</td>\n",
       "      <td>5840</td>\n",
       "      <td>5.88</td>\n",
       "    </tr>\n",
       "    <tr>\n",
       "      <th>Bangladesh</th>\n",
       "      <td>49.4</td>\n",
       "      <td>7.14</td>\n",
       "      <td>758</td>\n",
       "      <td>3.52</td>\n",
       "    </tr>\n",
       "  </tbody>\n",
       "</table>\n",
       "</div>"
      ],
      "text/plain": [
       "            child_mort  inflation   gdpp  health\n",
       "country                                         \n",
       "Algeria           27.3      16.10   4460    4.17\n",
       "Argentina         14.5      20.90  10300    8.10\n",
       "Armenia           18.1       7.77   3220    4.40\n",
       "Azerbaijan        39.2      13.80   5840    5.88\n",
       "Bangladesh        49.4       7.14    758    3.52"
      ]
     },
     "execution_count": 108,
     "metadata": {},
     "output_type": "execute_result"
    }
   ],
   "source": [
    "final_noutlier_hierar_df_3=final_noutlier_hierar_df.loc[(final_noutlier_hierar_df['cluster_new'] == 3)] [['child_mort','inflation','gdpp','health']]\n",
    "final_noutlier_hierar_df_3.head()"
   ]
  },
  {
   "cell_type": "code",
   "execution_count": 109,
   "metadata": {},
   "outputs": [],
   "source": [
    "clusters_child_mor = \tpd.DataFrame(final_noutlier_hierar_df.groupby([\"cluster_new\"]).child_mort.mean())\n",
    "clusters_exports = \tpd.DataFrame(final_noutlier_hierar_df.groupby([\"cluster_new\"]).exports.mean())\n",
    "clusters_health = \tpd.DataFrame(final_noutlier_hierar_df.groupby([\"cluster_new\"]).health.mean())\n",
    "clusters_imports = \tpd.DataFrame(final_noutlier_hierar_df.groupby([\"cluster_new\"]).exports.mean())\n",
    "clusters_income = \tpd.DataFrame(final_noutlier_hierar_df.groupby([\"cluster_new\"]).income.mean())\n",
    "clusters_inflation = \tpd.DataFrame(final_noutlier_hierar_df.groupby([\"cluster_new\"]).inflation.mean())\n",
    "clusters_life_expec = \tpd.DataFrame(final_noutlier_hierar_df.groupby([\"cluster_new\"]).life_expec.mean())\n",
    "clusters_total_fertility = \tpd.DataFrame(final_noutlier_hierar_df.groupby([\"cluster_new\"]).total_fer.mean())\n",
    "clusters_gdpp = \tpd.DataFrame(final_noutlier_hierar_df.groupby([\"cluster_new\"]).gdpp.mean())"
   ]
  },
  {
   "cell_type": "code",
   "execution_count": 110,
   "metadata": {},
   "outputs": [
    {
     "data": {
      "text/html": [
       "<div>\n",
       "<style scoped>\n",
       "    .dataframe tbody tr th:only-of-type {\n",
       "        vertical-align: middle;\n",
       "    }\n",
       "\n",
       "    .dataframe tbody tr th {\n",
       "        vertical-align: top;\n",
       "    }\n",
       "\n",
       "    .dataframe thead th {\n",
       "        text-align: right;\n",
       "    }\n",
       "</style>\n",
       "<table border=\"1\" class=\"dataframe\">\n",
       "  <thead>\n",
       "    <tr style=\"text-align: right;\">\n",
       "      <th></th>\n",
       "      <th>ClusterID</th>\n",
       "      <th>Child_Mor</th>\n",
       "      <th>Exports</th>\n",
       "      <th>Health</th>\n",
       "      <th>import1</th>\n",
       "      <th>income</th>\n",
       "      <th>inflation</th>\n",
       "      <th>life_expectancy</th>\n",
       "      <th>Fertility</th>\n",
       "      <th>gdpp</th>\n",
       "    </tr>\n",
       "  </thead>\n",
       "  <tbody>\n",
       "    <tr>\n",
       "      <th>0</th>\n",
       "      <td>0</td>\n",
       "      <td>92.527907</td>\n",
       "      <td>29.835116</td>\n",
       "      <td>6.072791</td>\n",
       "      <td>29.835116</td>\n",
       "      <td>3823.558140</td>\n",
       "      <td>10.232442</td>\n",
       "      <td>59.251163</td>\n",
       "      <td>5.047907</td>\n",
       "      <td>1902.906977</td>\n",
       "    </tr>\n",
       "    <tr>\n",
       "      <th>1</th>\n",
       "      <td>1</td>\n",
       "      <td>16.245098</td>\n",
       "      <td>50.021569</td>\n",
       "      <td>6.727255</td>\n",
       "      <td>50.021569</td>\n",
       "      <td>14401.960784</td>\n",
       "      <td>4.135196</td>\n",
       "      <td>73.770588</td>\n",
       "      <td>2.050196</td>\n",
       "      <td>8432.862745</td>\n",
       "    </tr>\n",
       "    <tr>\n",
       "      <th>2</th>\n",
       "      <td>2</td>\n",
       "      <td>4.117391</td>\n",
       "      <td>42.986957</td>\n",
       "      <td>10.144348</td>\n",
       "      <td>42.986957</td>\n",
       "      <td>39365.217391</td>\n",
       "      <td>1.238957</td>\n",
       "      <td>80.926087</td>\n",
       "      <td>1.795217</td>\n",
       "      <td>44330.434783</td>\n",
       "    </tr>\n",
       "    <tr>\n",
       "      <th>3</th>\n",
       "      <td>3</td>\n",
       "      <td>28.871875</td>\n",
       "      <td>25.721531</td>\n",
       "      <td>5.536875</td>\n",
       "      <td>25.721531</td>\n",
       "      <td>10323.125000</td>\n",
       "      <td>10.360812</td>\n",
       "      <td>72.406250</td>\n",
       "      <td>2.523125</td>\n",
       "      <td>4987.062500</td>\n",
       "    </tr>\n",
       "  </tbody>\n",
       "</table>\n",
       "</div>"
      ],
      "text/plain": [
       "   ClusterID  Child_Mor    Exports     Health    import1        income  \\\n",
       "0          0  92.527907  29.835116   6.072791  29.835116   3823.558140   \n",
       "1          1  16.245098  50.021569   6.727255  50.021569  14401.960784   \n",
       "2          2   4.117391  42.986957  10.144348  42.986957  39365.217391   \n",
       "3          3  28.871875  25.721531   5.536875  25.721531  10323.125000   \n",
       "\n",
       "   inflation  life_expectancy  Fertility          gdpp  \n",
       "0  10.232442        59.251163   5.047907   1902.906977  \n",
       "1   4.135196        73.770588   2.050196   8432.862745  \n",
       "2   1.238957        80.926087   1.795217  44330.434783  \n",
       "3  10.360812        72.406250   2.523125   4987.062500  "
      ]
     },
     "execution_count": 110,
     "metadata": {},
     "output_type": "execute_result"
    }
   ],
   "source": [
    "final_cluster_hi_df = pd.concat([pd.Series([0,1,2,3]),clusters_child_mor,clusters_exports,clusters_health,clusters_imports,clusters_income,clusters_inflation,clusters_life_expec,clusters_total_fertility,clusters_gdpp], axis=1)\n",
    "final_cluster_hi_df.columns = [\"ClusterID\", \"Child_Mor\",\"Exports\",\"Health\",\"import1\",\"income\",\"inflation\",\"life_expectancy\", \"Fertility\",\"gdpp\"]\n",
    "final_cluster_hi_df.head()\n",
    "\n"
   ]
  },
  {
   "cell_type": "code",
   "execution_count": 111,
   "metadata": {},
   "outputs": [
    {
     "data": {
      "text/plain": [
       "<matplotlib.axes._subplots.AxesSubplot at 0xdabbe10>"
      ]
     },
     "execution_count": 111,
     "metadata": {},
     "output_type": "execute_result"
    },
    {
     "data": {
      "image/png": "[encoded data removed]",
      "text/plain": [
       "<Figure size 432x288 with 1 Axes>"
      ]
     },
     "metadata": {
      "needs_background": "light"
     },
     "output_type": "display_data"
    }
   ],
   "source": [
    "#plotting barplot for Child_Mor\n",
    "sns.barplot(x=final_cluster_hi_df.ClusterID, y=final_cluster_hi_df.Child_Mor)"
   ]
  },
  {
   "cell_type": "code",
   "execution_count": 112,
   "metadata": {},
   "outputs": [
    {
     "data": {
      "text/plain": [
       "<matplotlib.axes._subplots.AxesSubplot at 0xdcf7400>"
      ]
     },
     "execution_count": 112,
     "metadata": {},
     "output_type": "execute_result"
    },
    {
     "data": {
      "image/png": "[encoded data removed]",
      "text/plain": [
       "<Figure size 432x288 with 1 Axes>"
      ]
     },
     "metadata": {
      "needs_background": "light"
     },
     "output_type": "display_data"
    }
   ],
   "source": [
    "#plotting barplot for Child_Mor\n",
    "sns.barplot(x=final_cluster_hi_df.ClusterID, y=final_cluster_hi_df.Exports)"
   ]
  },
  {
   "cell_type": "code",
   "execution_count": 113,
   "metadata": {},
   "outputs": [
    {
     "data": {
      "text/plain": [
       "<matplotlib.axes._subplots.AxesSubplot at 0xdbff470>"
      ]
     },
     "execution_count": 113,
     "metadata": {},
     "output_type": "execute_result"
    },
    {
     "data": {
      "image/png": "[encoded data removed]",
      "text/plain": [
       "<Figure size 432x288 with 1 Axes>"
      ]
     },
     "metadata": {
      "needs_background": "light"
     },
     "output_type": "display_data"
    }
   ],
   "source": [
    "#plotting barplot for Child_Mor\n",
    "sns.barplot(x=final_cluster_hi_df.ClusterID, y=final_cluster_hi_df.Health)"
   ]
  },
  {
   "cell_type": "code",
   "execution_count": 114,
   "metadata": {},
   "outputs": [
    {
     "data": {
      "text/plain": [
       "<matplotlib.axes._subplots.AxesSubplot at 0xdbeb0f0>"
      ]
     },
     "execution_count": 114,
     "metadata": {},
     "output_type": "execute_result"
    },
    {
     "data": {
      "image/png": "[encoded data removed]",
      "text/plain": [
       "<Figure size 432x288 with 1 Axes>"
      ]
     },
     "metadata": {
      "needs_background": "light"
     },
     "output_type": "display_data"
    }
   ],
   "source": [
    "#plotting barplot for Child_Mor\n",
    "sns.barplot(x=final_cluster_hi_df.ClusterID, y=final_cluster_hi_df.import1)"
   ]
  },
  {
   "cell_type": "code",
   "execution_count": 115,
   "metadata": {},
   "outputs": [
    {
     "data": {
      "text/plain": [
       "<matplotlib.axes._subplots.AxesSubplot at 0xdc4f908>"
      ]
     },
     "execution_count": 115,
     "metadata": {},
     "output_type": "execute_result"
    },
    {
     "data": {
      "image/png": "[encoded data removed]",
      "text/plain": [
       "<Figure size 432x288 with 1 Axes>"
      ]
     },
     "metadata": {
      "needs_background": "light"
     },
     "output_type": "display_data"
    }
   ],
   "source": [
    "#plotting barplot for Child_Mor\n",
    "sns.barplot(x=final_cluster_hi_df.ClusterID, y=final_cluster_hi_df.income)"
   ]
  },
  {
   "cell_type": "code",
   "execution_count": 116,
   "metadata": {},
   "outputs": [
    {
     "data": {
      "text/plain": [
       "<matplotlib.axes._subplots.AxesSubplot at 0xda68978>"
      ]
     },
     "execution_count": 116,
     "metadata": {},
     "output_type": "execute_result"
    },
    {
     "data": {
      "image/png": "[encoded data removed]",
      "text/plain": [
       "<Figure size 432x288 with 1 Axes>"
      ]
     },
     "metadata": {
      "needs_background": "light"
     },
     "output_type": "display_data"
    }
   ],
   "source": [
    "#plotting barplot for Child_Mor\n",
    "sns.barplot(x=final_cluster_hi_df.ClusterID, y=final_cluster_hi_df.inflation)"
   ]
  },
  {
   "cell_type": "code",
   "execution_count": 117,
   "metadata": {},
   "outputs": [
    {
     "data": {
      "text/plain": [
       "<matplotlib.axes._subplots.AxesSubplot at 0xdb417b8>"
      ]
     },
     "execution_count": 117,
     "metadata": {},
     "output_type": "execute_result"
    },
    {
     "data": {
      "image/png": "[encoded data removed]",
      "text/plain": [
       "<Figure size 432x288 with 1 Axes>"
      ]
     },
     "metadata": {
      "needs_background": "light"
     },
     "output_type": "display_data"
    }
   ],
   "source": [
    "#plotting barplot for Child_Mor\n",
    "sns.barplot(x=final_cluster_hi_df.ClusterID, y=final_cluster_hi_df.life_expectancy)"
   ]
  },
  {
   "cell_type": "code",
   "execution_count": 118,
   "metadata": {},
   "outputs": [
    {
     "data": {
      "text/plain": [
       "<matplotlib.axes._subplots.AxesSubplot at 0xdb55198>"
      ]
     },
     "execution_count": 118,
     "metadata": {},
     "output_type": "execute_result"
    },
    {
     "data": {
      "image/png": "[encoded data removed]",
      "text/plain": [
       "<Figure size 432x288 with 1 Axes>"
      ]
     },
     "metadata": {
      "needs_background": "light"
     },
     "output_type": "display_data"
    }
   ],
   "source": [
    "#plotting barplot for Child_Mor\n",
    "sns.barplot(x=final_cluster_hi_df.ClusterID, y=final_cluster_hi_df.Fertility)"
   ]
  },
  {
   "cell_type": "code",
   "execution_count": 119,
   "metadata": {},
   "outputs": [
    {
     "data": {
      "text/plain": [
       "<matplotlib.axes._subplots.AxesSubplot at 0xdb13a90>"
      ]
     },
     "execution_count": 119,
     "metadata": {},
     "output_type": "execute_result"
    },
    {
     "data": {
      "image/png": "[encoded data removed]",
      "text/plain": [
       "<Figure size 432x288 with 1 Axes>"
      ]
     },
     "metadata": {
      "needs_background": "light"
     },
     "output_type": "display_data"
    }
   ],
   "source": [
    "#plotting barplot for gdpp\n",
    "sns.barplot(x=final_cluster_hi_df.ClusterID, y=final_cluster_hi_df.gdpp)"
   ]
  },
  {
   "cell_type": "code",
   "execution_count": 120,
   "metadata": {},
   "outputs": [
    {
     "data": {
      "text/html": [
       "<div>\n",
       "<style scoped>\n",
       "    .dataframe tbody tr th:only-of-type {\n",
       "        vertical-align: middle;\n",
       "    }\n",
       "\n",
       "    .dataframe tbody tr th {\n",
       "        vertical-align: top;\n",
       "    }\n",
       "\n",
       "    .dataframe thead th {\n",
       "        text-align: right;\n",
       "    }\n",
       "</style>\n",
       "<table border=\"1\" class=\"dataframe\">\n",
       "  <thead>\n",
       "    <tr style=\"text-align: right;\">\n",
       "      <th></th>\n",
       "      <th>child_mort</th>\n",
       "      <th>exports</th>\n",
       "      <th>health</th>\n",
       "      <th>imports</th>\n",
       "      <th>income</th>\n",
       "      <th>inflation</th>\n",
       "      <th>life_expec</th>\n",
       "      <th>total_fer</th>\n",
       "      <th>gdpp</th>\n",
       "      <th>PC1</th>\n",
       "      <th>PC2</th>\n",
       "      <th>PC3</th>\n",
       "      <th>PC4</th>\n",
       "    </tr>\n",
       "    <tr>\n",
       "      <th>country</th>\n",
       "      <th></th>\n",
       "      <th></th>\n",
       "      <th></th>\n",
       "      <th></th>\n",
       "      <th></th>\n",
       "      <th></th>\n",
       "      <th></th>\n",
       "      <th></th>\n",
       "      <th></th>\n",
       "      <th></th>\n",
       "      <th></th>\n",
       "      <th></th>\n",
       "      <th></th>\n",
       "    </tr>\n",
       "  </thead>\n",
       "  <tbody>\n",
       "    <tr>\n",
       "      <th>Brunei</th>\n",
       "      <td>10.5</td>\n",
       "      <td>67.4</td>\n",
       "      <td>2.84</td>\n",
       "      <td>28.0</td>\n",
       "      <td>80600</td>\n",
       "      <td>16.700</td>\n",
       "      <td>77.1</td>\n",
       "      <td>1.84</td>\n",
       "      <td>35300</td>\n",
       "      <td>2.460086</td>\n",
       "      <td>0.016454</td>\n",
       "      <td>3.019840</td>\n",
       "      <td>0.776841</td>\n",
       "    </tr>\n",
       "    <tr>\n",
       "      <th>Kiribati</th>\n",
       "      <td>62.7</td>\n",
       "      <td>13.3</td>\n",
       "      <td>11.30</td>\n",
       "      <td>79.9</td>\n",
       "      <td>1730</td>\n",
       "      <td>1.520</td>\n",
       "      <td>60.7</td>\n",
       "      <td>3.84</td>\n",
       "      <td>1490</td>\n",
       "      <td>-1.239217</td>\n",
       "      <td>0.369138</td>\n",
       "      <td>-2.368274</td>\n",
       "      <td>0.592231</td>\n",
       "    </tr>\n",
       "    <tr>\n",
       "      <th>Kuwait</th>\n",
       "      <td>10.8</td>\n",
       "      <td>66.7</td>\n",
       "      <td>2.63</td>\n",
       "      <td>30.4</td>\n",
       "      <td>75200</td>\n",
       "      <td>11.200</td>\n",
       "      <td>78.2</td>\n",
       "      <td>2.21</td>\n",
       "      <td>38500</td>\n",
       "      <td>2.465659</td>\n",
       "      <td>0.088050</td>\n",
       "      <td>2.652268</td>\n",
       "      <td>0.708884</td>\n",
       "    </tr>\n",
       "    <tr>\n",
       "      <th>Lesotho</th>\n",
       "      <td>99.7</td>\n",
       "      <td>39.4</td>\n",
       "      <td>11.10</td>\n",
       "      <td>101.0</td>\n",
       "      <td>2380</td>\n",
       "      <td>4.150</td>\n",
       "      <td>46.5</td>\n",
       "      <td>3.30</td>\n",
       "      <td>1170</td>\n",
       "      <td>-1.803151</td>\n",
       "      <td>2.037851</td>\n",
       "      <td>-2.496885</td>\n",
       "      <td>1.072199</td>\n",
       "    </tr>\n",
       "    <tr>\n",
       "      <th>Liberia</th>\n",
       "      <td>89.3</td>\n",
       "      <td>19.1</td>\n",
       "      <td>11.80</td>\n",
       "      <td>92.6</td>\n",
       "      <td>700</td>\n",
       "      <td>5.470</td>\n",
       "      <td>60.8</td>\n",
       "      <td>5.02</td>\n",
       "      <td>327</td>\n",
       "      <td>-1.773580</td>\n",
       "      <td>1.053399</td>\n",
       "      <td>-2.390440</td>\n",
       "      <td>1.179569</td>\n",
       "    </tr>\n",
       "    <tr>\n",
       "      <th>Luxembourg</th>\n",
       "      <td>2.8</td>\n",
       "      <td>175.0</td>\n",
       "      <td>7.77</td>\n",
       "      <td>142.0</td>\n",
       "      <td>91700</td>\n",
       "      <td>3.620</td>\n",
       "      <td>81.3</td>\n",
       "      <td>1.63</td>\n",
       "      <td>105000</td>\n",
       "      <td>6.917755</td>\n",
       "      <td>4.849844</td>\n",
       "      <td>1.001837</td>\n",
       "      <td>3.129643</td>\n",
       "    </tr>\n",
       "    <tr>\n",
       "      <th>Malta</th>\n",
       "      <td>6.8</td>\n",
       "      <td>153.0</td>\n",
       "      <td>8.65</td>\n",
       "      <td>154.0</td>\n",
       "      <td>28300</td>\n",
       "      <td>3.830</td>\n",
       "      <td>80.3</td>\n",
       "      <td>1.36</td>\n",
       "      <td>21100</td>\n",
       "      <td>3.679543</td>\n",
       "      <td>4.765486</td>\n",
       "      <td>-1.021313</td>\n",
       "      <td>-0.501107</td>\n",
       "    </tr>\n",
       "    <tr>\n",
       "      <th>Micronesia, Fed. Sts.</th>\n",
       "      <td>40.0</td>\n",
       "      <td>23.5</td>\n",
       "      <td>14.20</td>\n",
       "      <td>81.0</td>\n",
       "      <td>3340</td>\n",
       "      <td>3.800</td>\n",
       "      <td>65.4</td>\n",
       "      <td>3.46</td>\n",
       "      <td>2860</td>\n",
       "      <td>-0.380929</td>\n",
       "      <td>0.101774</td>\n",
       "      <td>-2.714085</td>\n",
       "      <td>0.771974</td>\n",
       "    </tr>\n",
       "    <tr>\n",
       "      <th>Mongolia</th>\n",
       "      <td>26.1</td>\n",
       "      <td>46.7</td>\n",
       "      <td>5.44</td>\n",
       "      <td>56.7</td>\n",
       "      <td>7710</td>\n",
       "      <td>39.200</td>\n",
       "      <td>66.2</td>\n",
       "      <td>2.64</td>\n",
       "      <td>2650</td>\n",
       "      <td>-0.944976</td>\n",
       "      <td>0.529800</td>\n",
       "      <td>1.854419</td>\n",
       "      <td>-0.394166</td>\n",
       "    </tr>\n",
       "    <tr>\n",
       "      <th>Nigeria</th>\n",
       "      <td>130.0</td>\n",
       "      <td>25.3</td>\n",
       "      <td>5.07</td>\n",
       "      <td>17.4</td>\n",
       "      <td>5150</td>\n",
       "      <td>104.000</td>\n",
       "      <td>60.5</td>\n",
       "      <td>5.84</td>\n",
       "      <td>2330</td>\n",
       "      <td>-4.912066</td>\n",
       "      <td>-0.094499</td>\n",
       "      <td>6.110158</td>\n",
       "      <td>2.412421</td>\n",
       "    </tr>\n",
       "    <tr>\n",
       "      <th>Oman</th>\n",
       "      <td>11.7</td>\n",
       "      <td>65.7</td>\n",
       "      <td>2.77</td>\n",
       "      <td>41.2</td>\n",
       "      <td>45300</td>\n",
       "      <td>15.600</td>\n",
       "      <td>76.1</td>\n",
       "      <td>2.90</td>\n",
       "      <td>19300</td>\n",
       "      <td>1.127387</td>\n",
       "      <td>0.491611</td>\n",
       "      <td>2.133501</td>\n",
       "      <td>-0.176492</td>\n",
       "    </tr>\n",
       "    <tr>\n",
       "      <th>Qatar</th>\n",
       "      <td>9.0</td>\n",
       "      <td>62.3</td>\n",
       "      <td>1.81</td>\n",
       "      <td>23.8</td>\n",
       "      <td>125000</td>\n",
       "      <td>6.980</td>\n",
       "      <td>79.5</td>\n",
       "      <td>2.07</td>\n",
       "      <td>70300</td>\n",
       "      <td>4.242296</td>\n",
       "      <td>-0.195604</td>\n",
       "      <td>3.643875</td>\n",
       "      <td>2.389811</td>\n",
       "    </tr>\n",
       "    <tr>\n",
       "      <th>Saudi Arabia</th>\n",
       "      <td>15.7</td>\n",
       "      <td>49.6</td>\n",
       "      <td>4.29</td>\n",
       "      <td>33.0</td>\n",
       "      <td>45400</td>\n",
       "      <td>17.200</td>\n",
       "      <td>75.1</td>\n",
       "      <td>2.96</td>\n",
       "      <td>19300</td>\n",
       "      <td>0.855936</td>\n",
       "      <td>-0.183441</td>\n",
       "      <td>1.903072</td>\n",
       "      <td>0.202259</td>\n",
       "    </tr>\n",
       "    <tr>\n",
       "      <th>Seychelles</th>\n",
       "      <td>14.4</td>\n",
       "      <td>93.8</td>\n",
       "      <td>3.40</td>\n",
       "      <td>108.0</td>\n",
       "      <td>20400</td>\n",
       "      <td>-4.210</td>\n",
       "      <td>73.4</td>\n",
       "      <td>2.17</td>\n",
       "      <td>10800</td>\n",
       "      <td>1.602598</td>\n",
       "      <td>2.939121</td>\n",
       "      <td>-0.386691</td>\n",
       "      <td>-1.400371</td>\n",
       "    </tr>\n",
       "    <tr>\n",
       "      <th>Singapore</th>\n",
       "      <td>2.8</td>\n",
       "      <td>200.0</td>\n",
       "      <td>3.96</td>\n",
       "      <td>174.0</td>\n",
       "      <td>72100</td>\n",
       "      <td>-0.046</td>\n",
       "      <td>82.7</td>\n",
       "      <td>1.15</td>\n",
       "      <td>46600</td>\n",
       "      <td>5.783376</td>\n",
       "      <td>6.682090</td>\n",
       "      <td>0.654420</td>\n",
       "      <td>0.089638</td>\n",
       "    </tr>\n",
       "    <tr>\n",
       "      <th>United Arab Emirates</th>\n",
       "      <td>8.6</td>\n",
       "      <td>77.7</td>\n",
       "      <td>3.66</td>\n",
       "      <td>63.6</td>\n",
       "      <td>57600</td>\n",
       "      <td>12.500</td>\n",
       "      <td>76.5</td>\n",
       "      <td>1.87</td>\n",
       "      <td>35000</td>\n",
       "      <td>2.427141</td>\n",
       "      <td>1.151813</td>\n",
       "      <td>1.828538</td>\n",
       "      <td>0.276080</td>\n",
       "    </tr>\n",
       "    <tr>\n",
       "      <th>United States</th>\n",
       "      <td>7.3</td>\n",
       "      <td>12.4</td>\n",
       "      <td>17.90</td>\n",
       "      <td>15.8</td>\n",
       "      <td>49400</td>\n",
       "      <td>1.220</td>\n",
       "      <td>78.7</td>\n",
       "      <td>1.93</td>\n",
       "      <td>48400</td>\n",
       "      <td>2.641206</td>\n",
       "      <td>-2.997364</td>\n",
       "      <td>-1.721878</td>\n",
       "      <td>2.827110</td>\n",
       "    </tr>\n",
       "    <tr>\n",
       "      <th>Venezuela</th>\n",
       "      <td>17.1</td>\n",
       "      <td>28.5</td>\n",
       "      <td>4.91</td>\n",
       "      <td>17.6</td>\n",
       "      <td>16500</td>\n",
       "      <td>45.900</td>\n",
       "      <td>75.4</td>\n",
       "      <td>2.47</td>\n",
       "      <td>13500</td>\n",
       "      <td>-0.551036</td>\n",
       "      <td>-1.233886</td>\n",
       "      <td>3.101350</td>\n",
       "      <td>-0.115311</td>\n",
       "    </tr>\n",
       "  </tbody>\n",
       "</table>\n",
       "</div>"
      ],
      "text/plain": [
       "                       child_mort  exports  health  imports  income  \\\n",
       "country                                                               \n",
       "Brunei                       10.5     67.4    2.84     28.0   80600   \n",
       "Kiribati                     62.7     13.3   11.30     79.9    1730   \n",
       "Kuwait                       10.8     66.7    2.63     30.4   75200   \n",
       "Lesotho                      99.7     39.4   11.10    101.0    2380   \n",
       "Liberia                      89.3     19.1   11.80     92.6     700   \n",
       "Luxembourg                    2.8    175.0    7.77    142.0   91700   \n",
       "Malta                         6.8    153.0    8.65    154.0   28300   \n",
       "Micronesia, Fed. Sts.        40.0     23.5   14.20     81.0    3340   \n",
       "Mongolia                     26.1     46.7    5.44     56.7    7710   \n",
       "Nigeria                     130.0     25.3    5.07     17.4    5150   \n",
       "Oman                         11.7     65.7    2.77     41.2   45300   \n",
       "Qatar                         9.0     62.3    1.81     23.8  125000   \n",
       "Saudi Arabia                 15.7     49.6    4.29     33.0   45400   \n",
       "Seychelles                   14.4     93.8    3.40    108.0   20400   \n",
       "Singapore                     2.8    200.0    3.96    174.0   72100   \n",
       "United Arab Emirates          8.6     77.7    3.66     63.6   57600   \n",
       "United States                 7.3     12.4   17.90     15.8   49400   \n",
       "Venezuela                    17.1     28.5    4.91     17.6   16500   \n",
       "\n",
       "                       inflation  life_expec  total_fer    gdpp       PC1  \\\n",
       "country                                                                     \n",
       "Brunei                    16.700        77.1       1.84   35300  2.460086   \n",
       "Kiribati                   1.520        60.7       3.84    1490 -1.239217   \n",
       "Kuwait                    11.200        78.2       2.21   38500  2.465659   \n",
       "Lesotho                    4.150        46.5       3.30    1170 -1.803151   \n",
       "Liberia                    5.470        60.8       5.02     327 -1.773580   \n",
       "Luxembourg                 3.620        81.3       1.63  105000  6.917755   \n",
       "Malta                      3.830        80.3       1.36   21100  3.679543   \n",
       "Micronesia, Fed. Sts.      3.800        65.4       3.46    2860 -0.380929   \n",
       "Mongolia                  39.200        66.2       2.64    2650 -0.944976   \n",
       "Nigeria                  104.000        60.5       5.84    2330 -4.912066   \n",
       "Oman                      15.600        76.1       2.90   19300  1.127387   \n",
       "Qatar                      6.980        79.5       2.07   70300  4.242296   \n",
       "Saudi Arabia              17.200        75.1       2.96   19300  0.855936   \n",
       "Seychelles                -4.210        73.4       2.17   10800  1.602598   \n",
       "Singapore                 -0.046        82.7       1.15   46600  5.783376   \n",
       "United Arab Emirates      12.500        76.5       1.87   35000  2.427141   \n",
       "United States              1.220        78.7       1.93   48400  2.641206   \n",
       "Venezuela                 45.900        75.4       2.47   13500 -0.551036   \n",
       "\n",
       "                            PC2       PC3       PC4  \n",
       "country                                              \n",
       "Brunei                 0.016454  3.019840  0.776841  \n",
       "Kiribati               0.369138 -2.368274  0.592231  \n",
       "Kuwait                 0.088050  2.652268  0.708884  \n",
       "Lesotho                2.037851 -2.496885  1.072199  \n",
       "Liberia                1.053399 -2.390440  1.179569  \n",
       "Luxembourg             4.849844  1.001837  3.129643  \n",
       "Malta                  4.765486 -1.021313 -0.501107  \n",
       "Micronesia, Fed. Sts.  0.101774 -2.714085  0.771974  \n",
       "Mongolia               0.529800  1.854419 -0.394166  \n",
       "Nigeria               -0.094499  6.110158  2.412421  \n",
       "Oman                   0.491611  2.133501 -0.176492  \n",
       "Qatar                 -0.195604  3.643875  2.389811  \n",
       "Saudi Arabia          -0.183441  1.903072  0.202259  \n",
       "Seychelles             2.939121 -0.386691 -1.400371  \n",
       "Singapore              6.682090  0.654420  0.089638  \n",
       "United Arab Emirates   1.151813  1.828538  0.276080  \n",
       "United States         -2.997364 -1.721878  2.827110  \n",
       "Venezuela             -1.233886  3.101350 -0.115311  "
      ]
     },
     "execution_count": 120,
     "metadata": {},
     "output_type": "execute_result"
    }
   ],
   "source": [
    "final_outlier_hierar_df = pd.merge(country_data, pca_df_2d_outlier, left_index=True, right_index=True)\n",
    "final_outlier_hierar_df.head(18)"
   ]
  },
  {
   "cell_type": "code",
   "execution_count": 121,
   "metadata": {},
   "outputs": [],
   "source": [
    "final_outlier_hierar_df.loc[((final_outlier_hierar_df['child_mort'] <= 8.6)), 'cluster_new'] = 2\n",
    "final_outlier_hierar_df.loc[((final_outlier_hierar_df['child_mort'] >= 9)  & (final_outlier_hierar_df['child_mort'] <=45)), 'cluster_new'] = 1\n",
    "final_outlier_hierar_df.loc[((final_outlier_hierar_df['child_mort'] >= 46) & (final_outlier_hierar_df['child_mort'] <= 65)), 'cluster_new'] = 3\n",
    "final_outlier_hierar_df.loc[( (final_outlier_hierar_df['child_mort'] >= 66)), 'cluster_new'] = 0\n"
   ]
  },
  {
   "cell_type": "code",
   "execution_count": 122,
   "metadata": {},
   "outputs": [
    {
     "data": {
      "text/html": [
       "<div>\n",
       "<style scoped>\n",
       "    .dataframe tbody tr th:only-of-type {\n",
       "        vertical-align: middle;\n",
       "    }\n",
       "\n",
       "    .dataframe tbody tr th {\n",
       "        vertical-align: top;\n",
       "    }\n",
       "\n",
       "    .dataframe thead th {\n",
       "        text-align: right;\n",
       "    }\n",
       "</style>\n",
       "<table border=\"1\" class=\"dataframe\">\n",
       "  <thead>\n",
       "    <tr style=\"text-align: right;\">\n",
       "      <th></th>\n",
       "      <th>child_mort</th>\n",
       "      <th>exports</th>\n",
       "      <th>health</th>\n",
       "      <th>imports</th>\n",
       "      <th>income</th>\n",
       "      <th>inflation</th>\n",
       "      <th>life_expec</th>\n",
       "      <th>total_fer</th>\n",
       "      <th>gdpp</th>\n",
       "      <th>PC1</th>\n",
       "      <th>PC2</th>\n",
       "      <th>PC3</th>\n",
       "      <th>PC4</th>\n",
       "      <th>cluster_new</th>\n",
       "    </tr>\n",
       "    <tr>\n",
       "      <th>country</th>\n",
       "      <th></th>\n",
       "      <th></th>\n",
       "      <th></th>\n",
       "      <th></th>\n",
       "      <th></th>\n",
       "      <th></th>\n",
       "      <th></th>\n",
       "      <th></th>\n",
       "      <th></th>\n",
       "      <th></th>\n",
       "      <th></th>\n",
       "      <th></th>\n",
       "      <th></th>\n",
       "      <th></th>\n",
       "    </tr>\n",
       "  </thead>\n",
       "  <tbody>\n",
       "    <tr>\n",
       "      <th>Brunei</th>\n",
       "      <td>10.5</td>\n",
       "      <td>67.4</td>\n",
       "      <td>2.84</td>\n",
       "      <td>28.0</td>\n",
       "      <td>80600</td>\n",
       "      <td>16.700</td>\n",
       "      <td>77.1</td>\n",
       "      <td>1.84</td>\n",
       "      <td>35300</td>\n",
       "      <td>2.460086</td>\n",
       "      <td>0.016454</td>\n",
       "      <td>3.019840</td>\n",
       "      <td>0.776841</td>\n",
       "      <td>1.0</td>\n",
       "    </tr>\n",
       "    <tr>\n",
       "      <th>Kiribati</th>\n",
       "      <td>62.7</td>\n",
       "      <td>13.3</td>\n",
       "      <td>11.30</td>\n",
       "      <td>79.9</td>\n",
       "      <td>1730</td>\n",
       "      <td>1.520</td>\n",
       "      <td>60.7</td>\n",
       "      <td>3.84</td>\n",
       "      <td>1490</td>\n",
       "      <td>-1.239217</td>\n",
       "      <td>0.369138</td>\n",
       "      <td>-2.368274</td>\n",
       "      <td>0.592231</td>\n",
       "      <td>3.0</td>\n",
       "    </tr>\n",
       "    <tr>\n",
       "      <th>Kuwait</th>\n",
       "      <td>10.8</td>\n",
       "      <td>66.7</td>\n",
       "      <td>2.63</td>\n",
       "      <td>30.4</td>\n",
       "      <td>75200</td>\n",
       "      <td>11.200</td>\n",
       "      <td>78.2</td>\n",
       "      <td>2.21</td>\n",
       "      <td>38500</td>\n",
       "      <td>2.465659</td>\n",
       "      <td>0.088050</td>\n",
       "      <td>2.652268</td>\n",
       "      <td>0.708884</td>\n",
       "      <td>1.0</td>\n",
       "    </tr>\n",
       "    <tr>\n",
       "      <th>Lesotho</th>\n",
       "      <td>99.7</td>\n",
       "      <td>39.4</td>\n",
       "      <td>11.10</td>\n",
       "      <td>101.0</td>\n",
       "      <td>2380</td>\n",
       "      <td>4.150</td>\n",
       "      <td>46.5</td>\n",
       "      <td>3.30</td>\n",
       "      <td>1170</td>\n",
       "      <td>-1.803151</td>\n",
       "      <td>2.037851</td>\n",
       "      <td>-2.496885</td>\n",
       "      <td>1.072199</td>\n",
       "      <td>0.0</td>\n",
       "    </tr>\n",
       "    <tr>\n",
       "      <th>Liberia</th>\n",
       "      <td>89.3</td>\n",
       "      <td>19.1</td>\n",
       "      <td>11.80</td>\n",
       "      <td>92.6</td>\n",
       "      <td>700</td>\n",
       "      <td>5.470</td>\n",
       "      <td>60.8</td>\n",
       "      <td>5.02</td>\n",
       "      <td>327</td>\n",
       "      <td>-1.773580</td>\n",
       "      <td>1.053399</td>\n",
       "      <td>-2.390440</td>\n",
       "      <td>1.179569</td>\n",
       "      <td>0.0</td>\n",
       "    </tr>\n",
       "    <tr>\n",
       "      <th>Luxembourg</th>\n",
       "      <td>2.8</td>\n",
       "      <td>175.0</td>\n",
       "      <td>7.77</td>\n",
       "      <td>142.0</td>\n",
       "      <td>91700</td>\n",
       "      <td>3.620</td>\n",
       "      <td>81.3</td>\n",
       "      <td>1.63</td>\n",
       "      <td>105000</td>\n",
       "      <td>6.917755</td>\n",
       "      <td>4.849844</td>\n",
       "      <td>1.001837</td>\n",
       "      <td>3.129643</td>\n",
       "      <td>2.0</td>\n",
       "    </tr>\n",
       "    <tr>\n",
       "      <th>Malta</th>\n",
       "      <td>6.8</td>\n",
       "      <td>153.0</td>\n",
       "      <td>8.65</td>\n",
       "      <td>154.0</td>\n",
       "      <td>28300</td>\n",
       "      <td>3.830</td>\n",
       "      <td>80.3</td>\n",
       "      <td>1.36</td>\n",
       "      <td>21100</td>\n",
       "      <td>3.679543</td>\n",
       "      <td>4.765486</td>\n",
       "      <td>-1.021313</td>\n",
       "      <td>-0.501107</td>\n",
       "      <td>2.0</td>\n",
       "    </tr>\n",
       "    <tr>\n",
       "      <th>Micronesia, Fed. Sts.</th>\n",
       "      <td>40.0</td>\n",
       "      <td>23.5</td>\n",
       "      <td>14.20</td>\n",
       "      <td>81.0</td>\n",
       "      <td>3340</td>\n",
       "      <td>3.800</td>\n",
       "      <td>65.4</td>\n",
       "      <td>3.46</td>\n",
       "      <td>2860</td>\n",
       "      <td>-0.380929</td>\n",
       "      <td>0.101774</td>\n",
       "      <td>-2.714085</td>\n",
       "      <td>0.771974</td>\n",
       "      <td>1.0</td>\n",
       "    </tr>\n",
       "    <tr>\n",
       "      <th>Mongolia</th>\n",
       "      <td>26.1</td>\n",
       "      <td>46.7</td>\n",
       "      <td>5.44</td>\n",
       "      <td>56.7</td>\n",
       "      <td>7710</td>\n",
       "      <td>39.200</td>\n",
       "      <td>66.2</td>\n",
       "      <td>2.64</td>\n",
       "      <td>2650</td>\n",
       "      <td>-0.944976</td>\n",
       "      <td>0.529800</td>\n",
       "      <td>1.854419</td>\n",
       "      <td>-0.394166</td>\n",
       "      <td>1.0</td>\n",
       "    </tr>\n",
       "    <tr>\n",
       "      <th>Nigeria</th>\n",
       "      <td>130.0</td>\n",
       "      <td>25.3</td>\n",
       "      <td>5.07</td>\n",
       "      <td>17.4</td>\n",
       "      <td>5150</td>\n",
       "      <td>104.000</td>\n",
       "      <td>60.5</td>\n",
       "      <td>5.84</td>\n",
       "      <td>2330</td>\n",
       "      <td>-4.912066</td>\n",
       "      <td>-0.094499</td>\n",
       "      <td>6.110158</td>\n",
       "      <td>2.412421</td>\n",
       "      <td>0.0</td>\n",
       "    </tr>\n",
       "    <tr>\n",
       "      <th>Oman</th>\n",
       "      <td>11.7</td>\n",
       "      <td>65.7</td>\n",
       "      <td>2.77</td>\n",
       "      <td>41.2</td>\n",
       "      <td>45300</td>\n",
       "      <td>15.600</td>\n",
       "      <td>76.1</td>\n",
       "      <td>2.90</td>\n",
       "      <td>19300</td>\n",
       "      <td>1.127387</td>\n",
       "      <td>0.491611</td>\n",
       "      <td>2.133501</td>\n",
       "      <td>-0.176492</td>\n",
       "      <td>1.0</td>\n",
       "    </tr>\n",
       "    <tr>\n",
       "      <th>Qatar</th>\n",
       "      <td>9.0</td>\n",
       "      <td>62.3</td>\n",
       "      <td>1.81</td>\n",
       "      <td>23.8</td>\n",
       "      <td>125000</td>\n",
       "      <td>6.980</td>\n",
       "      <td>79.5</td>\n",
       "      <td>2.07</td>\n",
       "      <td>70300</td>\n",
       "      <td>4.242296</td>\n",
       "      <td>-0.195604</td>\n",
       "      <td>3.643875</td>\n",
       "      <td>2.389811</td>\n",
       "      <td>1.0</td>\n",
       "    </tr>\n",
       "    <tr>\n",
       "      <th>Saudi Arabia</th>\n",
       "      <td>15.7</td>\n",
       "      <td>49.6</td>\n",
       "      <td>4.29</td>\n",
       "      <td>33.0</td>\n",
       "      <td>45400</td>\n",
       "      <td>17.200</td>\n",
       "      <td>75.1</td>\n",
       "      <td>2.96</td>\n",
       "      <td>19300</td>\n",
       "      <td>0.855936</td>\n",
       "      <td>-0.183441</td>\n",
       "      <td>1.903072</td>\n",
       "      <td>0.202259</td>\n",
       "      <td>1.0</td>\n",
       "    </tr>\n",
       "    <tr>\n",
       "      <th>Seychelles</th>\n",
       "      <td>14.4</td>\n",
       "      <td>93.8</td>\n",
       "      <td>3.40</td>\n",
       "      <td>108.0</td>\n",
       "      <td>20400</td>\n",
       "      <td>-4.210</td>\n",
       "      <td>73.4</td>\n",
       "      <td>2.17</td>\n",
       "      <td>10800</td>\n",
       "      <td>1.602598</td>\n",
       "      <td>2.939121</td>\n",
       "      <td>-0.386691</td>\n",
       "      <td>-1.400371</td>\n",
       "      <td>1.0</td>\n",
       "    </tr>\n",
       "    <tr>\n",
       "      <th>Singapore</th>\n",
       "      <td>2.8</td>\n",
       "      <td>200.0</td>\n",
       "      <td>3.96</td>\n",
       "      <td>174.0</td>\n",
       "      <td>72100</td>\n",
       "      <td>-0.046</td>\n",
       "      <td>82.7</td>\n",
       "      <td>1.15</td>\n",
       "      <td>46600</td>\n",
       "      <td>5.783376</td>\n",
       "      <td>6.682090</td>\n",
       "      <td>0.654420</td>\n",
       "      <td>0.089638</td>\n",
       "      <td>2.0</td>\n",
       "    </tr>\n",
       "    <tr>\n",
       "      <th>United Arab Emirates</th>\n",
       "      <td>8.6</td>\n",
       "      <td>77.7</td>\n",
       "      <td>3.66</td>\n",
       "      <td>63.6</td>\n",
       "      <td>57600</td>\n",
       "      <td>12.500</td>\n",
       "      <td>76.5</td>\n",
       "      <td>1.87</td>\n",
       "      <td>35000</td>\n",
       "      <td>2.427141</td>\n",
       "      <td>1.151813</td>\n",
       "      <td>1.828538</td>\n",
       "      <td>0.276080</td>\n",
       "      <td>2.0</td>\n",
       "    </tr>\n",
       "    <tr>\n",
       "      <th>United States</th>\n",
       "      <td>7.3</td>\n",
       "      <td>12.4</td>\n",
       "      <td>17.90</td>\n",
       "      <td>15.8</td>\n",
       "      <td>49400</td>\n",
       "      <td>1.220</td>\n",
       "      <td>78.7</td>\n",
       "      <td>1.93</td>\n",
       "      <td>48400</td>\n",
       "      <td>2.641206</td>\n",
       "      <td>-2.997364</td>\n",
       "      <td>-1.721878</td>\n",
       "      <td>2.827110</td>\n",
       "      <td>2.0</td>\n",
       "    </tr>\n",
       "    <tr>\n",
       "      <th>Venezuela</th>\n",
       "      <td>17.1</td>\n",
       "      <td>28.5</td>\n",
       "      <td>4.91</td>\n",
       "      <td>17.6</td>\n",
       "      <td>16500</td>\n",
       "      <td>45.900</td>\n",
       "      <td>75.4</td>\n",
       "      <td>2.47</td>\n",
       "      <td>13500</td>\n",
       "      <td>-0.551036</td>\n",
       "      <td>-1.233886</td>\n",
       "      <td>3.101350</td>\n",
       "      <td>-0.115311</td>\n",
       "      <td>1.0</td>\n",
       "    </tr>\n",
       "  </tbody>\n",
       "</table>\n",
       "</div>"
      ],
      "text/plain": [
       "                       child_mort  exports  health  imports  income  \\\n",
       "country                                                               \n",
       "Brunei                       10.5     67.4    2.84     28.0   80600   \n",
       "Kiribati                     62.7     13.3   11.30     79.9    1730   \n",
       "Kuwait                       10.8     66.7    2.63     30.4   75200   \n",
       "Lesotho                      99.7     39.4   11.10    101.0    2380   \n",
       "Liberia                      89.3     19.1   11.80     92.6     700   \n",
       "Luxembourg                    2.8    175.0    7.77    142.0   91700   \n",
       "Malta                         6.8    153.0    8.65    154.0   28300   \n",
       "Micronesia, Fed. Sts.        40.0     23.5   14.20     81.0    3340   \n",
       "Mongolia                     26.1     46.7    5.44     56.7    7710   \n",
       "Nigeria                     130.0     25.3    5.07     17.4    5150   \n",
       "Oman                         11.7     65.7    2.77     41.2   45300   \n",
       "Qatar                         9.0     62.3    1.81     23.8  125000   \n",
       "Saudi Arabia                 15.7     49.6    4.29     33.0   45400   \n",
       "Seychelles                   14.4     93.8    3.40    108.0   20400   \n",
       "Singapore                     2.8    200.0    3.96    174.0   72100   \n",
       "United Arab Emirates          8.6     77.7    3.66     63.6   57600   \n",
       "United States                 7.3     12.4   17.90     15.8   49400   \n",
       "Venezuela                    17.1     28.5    4.91     17.6   16500   \n",
       "\n",
       "                       inflation  life_expec  total_fer    gdpp       PC1  \\\n",
       "country                                                                     \n",
       "Brunei                    16.700        77.1       1.84   35300  2.460086   \n",
       "Kiribati                   1.520        60.7       3.84    1490 -1.239217   \n",
       "Kuwait                    11.200        78.2       2.21   38500  2.465659   \n",
       "Lesotho                    4.150        46.5       3.30    1170 -1.803151   \n",
       "Liberia                    5.470        60.8       5.02     327 -1.773580   \n",
       "Luxembourg                 3.620        81.3       1.63  105000  6.917755   \n",
       "Malta                      3.830        80.3       1.36   21100  3.679543   \n",
       "Micronesia, Fed. Sts.      3.800        65.4       3.46    2860 -0.380929   \n",
       "Mongolia                  39.200        66.2       2.64    2650 -0.944976   \n",
       "Nigeria                  104.000        60.5       5.84    2330 -4.912066   \n",
       "Oman                      15.600        76.1       2.90   19300  1.127387   \n",
       "Qatar                      6.980        79.5       2.07   70300  4.242296   \n",
       "Saudi Arabia              17.200        75.1       2.96   19300  0.855936   \n",
       "Seychelles                -4.210        73.4       2.17   10800  1.602598   \n",
       "Singapore                 -0.046        82.7       1.15   46600  5.783376   \n",
       "United Arab Emirates      12.500        76.5       1.87   35000  2.427141   \n",
       "United States              1.220        78.7       1.93   48400  2.641206   \n",
       "Venezuela                 45.900        75.4       2.47   13500 -0.551036   \n",
       "\n",
       "                            PC2       PC3       PC4  cluster_new  \n",
       "country                                                           \n",
       "Brunei                 0.016454  3.019840  0.776841          1.0  \n",
       "Kiribati               0.369138 -2.368274  0.592231          3.0  \n",
       "Kuwait                 0.088050  2.652268  0.708884          1.0  \n",
       "Lesotho                2.037851 -2.496885  1.072199          0.0  \n",
       "Liberia                1.053399 -2.390440  1.179569          0.0  \n",
       "Luxembourg             4.849844  1.001837  3.129643          2.0  \n",
       "Malta                  4.765486 -1.021313 -0.501107          2.0  \n",
       "Micronesia, Fed. Sts.  0.101774 -2.714085  0.771974          1.0  \n",
       "Mongolia               0.529800  1.854419 -0.394166          1.0  \n",
       "Nigeria               -0.094499  6.110158  2.412421          0.0  \n",
       "Oman                   0.491611  2.133501 -0.176492          1.0  \n",
       "Qatar                 -0.195604  3.643875  2.389811          1.0  \n",
       "Saudi Arabia          -0.183441  1.903072  0.202259          1.0  \n",
       "Seychelles             2.939121 -0.386691 -1.400371          1.0  \n",
       "Singapore              6.682090  0.654420  0.089638          2.0  \n",
       "United Arab Emirates   1.151813  1.828538  0.276080          2.0  \n",
       "United States         -2.997364 -1.721878  2.827110          2.0  \n",
       "Venezuela             -1.233886  3.101350 -0.115311          1.0  "
      ]
     },
     "execution_count": 122,
     "metadata": {},
     "output_type": "execute_result"
    }
   ],
   "source": [
    "final_outlier_hierar_df.head(18)"
   ]
  },
  {
   "cell_type": "code",
   "execution_count": 123,
   "metadata": {},
   "outputs": [],
   "source": [
    "final_outlier_hierar_df[\"cluster_new\"]=final_outlier_hierar_df[\"cluster_new\"].astype(int)"
   ]
  },
  {
   "cell_type": "code",
   "execution_count": 124,
   "metadata": {},
   "outputs": [
    {
     "name": "stdout",
     "output_type": "stream",
     "text": [
      "<class 'pandas.core.frame.DataFrame'>\n",
      "Index: 18 entries, Brunei to Venezuela\n",
      "Data columns (total 14 columns):\n",
      "child_mort     18 non-null float64\n",
      "exports        18 non-null float64\n",
      "health         18 non-null float64\n",
      "imports        18 non-null float64\n",
      "income         18 non-null int64\n",
      "inflation      18 non-null float64\n",
      "life_expec     18 non-null float64\n",
      "total_fer      18 non-null float64\n",
      "gdpp           18 non-null int64\n",
      "PC1            18 non-null float64\n",
      "PC2            18 non-null float64\n",
      "PC3            18 non-null float64\n",
      "PC4            18 non-null float64\n",
      "cluster_new    18 non-null int32\n",
      "dtypes: float64(11), int32(1), int64(2)\n",
      "memory usage: 2.0+ KB\n"
     ]
    }
   ],
   "source": [
    "final_outlier_hierar_df.info()"
   ]
  },
  {
   "cell_type": "code",
   "execution_count": 125,
   "metadata": {},
   "outputs": [
    {
     "data": {
      "text/html": [
       "<div>\n",
       "<style scoped>\n",
       "    .dataframe tbody tr th:only-of-type {\n",
       "        vertical-align: middle;\n",
       "    }\n",
       "\n",
       "    .dataframe tbody tr th {\n",
       "        vertical-align: top;\n",
       "    }\n",
       "\n",
       "    .dataframe thead th {\n",
       "        text-align: right;\n",
       "    }\n",
       "</style>\n",
       "<table border=\"1\" class=\"dataframe\">\n",
       "  <thead>\n",
       "    <tr style=\"text-align: right;\">\n",
       "      <th></th>\n",
       "      <th>child_mort</th>\n",
       "      <th>exports</th>\n",
       "      <th>health</th>\n",
       "      <th>imports</th>\n",
       "      <th>income</th>\n",
       "      <th>inflation</th>\n",
       "      <th>life_expec</th>\n",
       "      <th>total_fer</th>\n",
       "      <th>gdpp</th>\n",
       "      <th>PC1</th>\n",
       "      <th>PC2</th>\n",
       "      <th>PC3</th>\n",
       "      <th>PC4</th>\n",
       "      <th>cluster_new</th>\n",
       "    </tr>\n",
       "    <tr>\n",
       "      <th>country</th>\n",
       "      <th></th>\n",
       "      <th></th>\n",
       "      <th></th>\n",
       "      <th></th>\n",
       "      <th></th>\n",
       "      <th></th>\n",
       "      <th></th>\n",
       "      <th></th>\n",
       "      <th></th>\n",
       "      <th></th>\n",
       "      <th></th>\n",
       "      <th></th>\n",
       "      <th></th>\n",
       "      <th></th>\n",
       "    </tr>\n",
       "  </thead>\n",
       "  <tbody>\n",
       "    <tr>\n",
       "      <th>Brunei</th>\n",
       "      <td>10.5</td>\n",
       "      <td>67.4</td>\n",
       "      <td>2.84</td>\n",
       "      <td>28.0</td>\n",
       "      <td>80600</td>\n",
       "      <td>16.700</td>\n",
       "      <td>77.1</td>\n",
       "      <td>1.84</td>\n",
       "      <td>35300</td>\n",
       "      <td>2.460086</td>\n",
       "      <td>0.016454</td>\n",
       "      <td>3.019840</td>\n",
       "      <td>0.776841</td>\n",
       "      <td>1</td>\n",
       "    </tr>\n",
       "    <tr>\n",
       "      <th>Kiribati</th>\n",
       "      <td>62.7</td>\n",
       "      <td>13.3</td>\n",
       "      <td>11.30</td>\n",
       "      <td>79.9</td>\n",
       "      <td>1730</td>\n",
       "      <td>1.520</td>\n",
       "      <td>60.7</td>\n",
       "      <td>3.84</td>\n",
       "      <td>1490</td>\n",
       "      <td>-1.239217</td>\n",
       "      <td>0.369138</td>\n",
       "      <td>-2.368274</td>\n",
       "      <td>0.592231</td>\n",
       "      <td>3</td>\n",
       "    </tr>\n",
       "    <tr>\n",
       "      <th>Kuwait</th>\n",
       "      <td>10.8</td>\n",
       "      <td>66.7</td>\n",
       "      <td>2.63</td>\n",
       "      <td>30.4</td>\n",
       "      <td>75200</td>\n",
       "      <td>11.200</td>\n",
       "      <td>78.2</td>\n",
       "      <td>2.21</td>\n",
       "      <td>38500</td>\n",
       "      <td>2.465659</td>\n",
       "      <td>0.088050</td>\n",
       "      <td>2.652268</td>\n",
       "      <td>0.708884</td>\n",
       "      <td>1</td>\n",
       "    </tr>\n",
       "    <tr>\n",
       "      <th>Lesotho</th>\n",
       "      <td>99.7</td>\n",
       "      <td>39.4</td>\n",
       "      <td>11.10</td>\n",
       "      <td>101.0</td>\n",
       "      <td>2380</td>\n",
       "      <td>4.150</td>\n",
       "      <td>46.5</td>\n",
       "      <td>3.30</td>\n",
       "      <td>1170</td>\n",
       "      <td>-1.803151</td>\n",
       "      <td>2.037851</td>\n",
       "      <td>-2.496885</td>\n",
       "      <td>1.072199</td>\n",
       "      <td>0</td>\n",
       "    </tr>\n",
       "    <tr>\n",
       "      <th>Liberia</th>\n",
       "      <td>89.3</td>\n",
       "      <td>19.1</td>\n",
       "      <td>11.80</td>\n",
       "      <td>92.6</td>\n",
       "      <td>700</td>\n",
       "      <td>5.470</td>\n",
       "      <td>60.8</td>\n",
       "      <td>5.02</td>\n",
       "      <td>327</td>\n",
       "      <td>-1.773580</td>\n",
       "      <td>1.053399</td>\n",
       "      <td>-2.390440</td>\n",
       "      <td>1.179569</td>\n",
       "      <td>0</td>\n",
       "    </tr>\n",
       "    <tr>\n",
       "      <th>Luxembourg</th>\n",
       "      <td>2.8</td>\n",
       "      <td>175.0</td>\n",
       "      <td>7.77</td>\n",
       "      <td>142.0</td>\n",
       "      <td>91700</td>\n",
       "      <td>3.620</td>\n",
       "      <td>81.3</td>\n",
       "      <td>1.63</td>\n",
       "      <td>105000</td>\n",
       "      <td>6.917755</td>\n",
       "      <td>4.849844</td>\n",
       "      <td>1.001837</td>\n",
       "      <td>3.129643</td>\n",
       "      <td>2</td>\n",
       "    </tr>\n",
       "    <tr>\n",
       "      <th>Malta</th>\n",
       "      <td>6.8</td>\n",
       "      <td>153.0</td>\n",
       "      <td>8.65</td>\n",
       "      <td>154.0</td>\n",
       "      <td>28300</td>\n",
       "      <td>3.830</td>\n",
       "      <td>80.3</td>\n",
       "      <td>1.36</td>\n",
       "      <td>21100</td>\n",
       "      <td>3.679543</td>\n",
       "      <td>4.765486</td>\n",
       "      <td>-1.021313</td>\n",
       "      <td>-0.501107</td>\n",
       "      <td>2</td>\n",
       "    </tr>\n",
       "    <tr>\n",
       "      <th>Micronesia, Fed. Sts.</th>\n",
       "      <td>40.0</td>\n",
       "      <td>23.5</td>\n",
       "      <td>14.20</td>\n",
       "      <td>81.0</td>\n",
       "      <td>3340</td>\n",
       "      <td>3.800</td>\n",
       "      <td>65.4</td>\n",
       "      <td>3.46</td>\n",
       "      <td>2860</td>\n",
       "      <td>-0.380929</td>\n",
       "      <td>0.101774</td>\n",
       "      <td>-2.714085</td>\n",
       "      <td>0.771974</td>\n",
       "      <td>1</td>\n",
       "    </tr>\n",
       "    <tr>\n",
       "      <th>Mongolia</th>\n",
       "      <td>26.1</td>\n",
       "      <td>46.7</td>\n",
       "      <td>5.44</td>\n",
       "      <td>56.7</td>\n",
       "      <td>7710</td>\n",
       "      <td>39.200</td>\n",
       "      <td>66.2</td>\n",
       "      <td>2.64</td>\n",
       "      <td>2650</td>\n",
       "      <td>-0.944976</td>\n",
       "      <td>0.529800</td>\n",
       "      <td>1.854419</td>\n",
       "      <td>-0.394166</td>\n",
       "      <td>1</td>\n",
       "    </tr>\n",
       "    <tr>\n",
       "      <th>Nigeria</th>\n",
       "      <td>130.0</td>\n",
       "      <td>25.3</td>\n",
       "      <td>5.07</td>\n",
       "      <td>17.4</td>\n",
       "      <td>5150</td>\n",
       "      <td>104.000</td>\n",
       "      <td>60.5</td>\n",
       "      <td>5.84</td>\n",
       "      <td>2330</td>\n",
       "      <td>-4.912066</td>\n",
       "      <td>-0.094499</td>\n",
       "      <td>6.110158</td>\n",
       "      <td>2.412421</td>\n",
       "      <td>0</td>\n",
       "    </tr>\n",
       "    <tr>\n",
       "      <th>Oman</th>\n",
       "      <td>11.7</td>\n",
       "      <td>65.7</td>\n",
       "      <td>2.77</td>\n",
       "      <td>41.2</td>\n",
       "      <td>45300</td>\n",
       "      <td>15.600</td>\n",
       "      <td>76.1</td>\n",
       "      <td>2.90</td>\n",
       "      <td>19300</td>\n",
       "      <td>1.127387</td>\n",
       "      <td>0.491611</td>\n",
       "      <td>2.133501</td>\n",
       "      <td>-0.176492</td>\n",
       "      <td>1</td>\n",
       "    </tr>\n",
       "    <tr>\n",
       "      <th>Qatar</th>\n",
       "      <td>9.0</td>\n",
       "      <td>62.3</td>\n",
       "      <td>1.81</td>\n",
       "      <td>23.8</td>\n",
       "      <td>125000</td>\n",
       "      <td>6.980</td>\n",
       "      <td>79.5</td>\n",
       "      <td>2.07</td>\n",
       "      <td>70300</td>\n",
       "      <td>4.242296</td>\n",
       "      <td>-0.195604</td>\n",
       "      <td>3.643875</td>\n",
       "      <td>2.389811</td>\n",
       "      <td>1</td>\n",
       "    </tr>\n",
       "    <tr>\n",
       "      <th>Saudi Arabia</th>\n",
       "      <td>15.7</td>\n",
       "      <td>49.6</td>\n",
       "      <td>4.29</td>\n",
       "      <td>33.0</td>\n",
       "      <td>45400</td>\n",
       "      <td>17.200</td>\n",
       "      <td>75.1</td>\n",
       "      <td>2.96</td>\n",
       "      <td>19300</td>\n",
       "      <td>0.855936</td>\n",
       "      <td>-0.183441</td>\n",
       "      <td>1.903072</td>\n",
       "      <td>0.202259</td>\n",
       "      <td>1</td>\n",
       "    </tr>\n",
       "    <tr>\n",
       "      <th>Seychelles</th>\n",
       "      <td>14.4</td>\n",
       "      <td>93.8</td>\n",
       "      <td>3.40</td>\n",
       "      <td>108.0</td>\n",
       "      <td>20400</td>\n",
       "      <td>-4.210</td>\n",
       "      <td>73.4</td>\n",
       "      <td>2.17</td>\n",
       "      <td>10800</td>\n",
       "      <td>1.602598</td>\n",
       "      <td>2.939121</td>\n",
       "      <td>-0.386691</td>\n",
       "      <td>-1.400371</td>\n",
       "      <td>1</td>\n",
       "    </tr>\n",
       "    <tr>\n",
       "      <th>Singapore</th>\n",
       "      <td>2.8</td>\n",
       "      <td>200.0</td>\n",
       "      <td>3.96</td>\n",
       "      <td>174.0</td>\n",
       "      <td>72100</td>\n",
       "      <td>-0.046</td>\n",
       "      <td>82.7</td>\n",
       "      <td>1.15</td>\n",
       "      <td>46600</td>\n",
       "      <td>5.783376</td>\n",
       "      <td>6.682090</td>\n",
       "      <td>0.654420</td>\n",
       "      <td>0.089638</td>\n",
       "      <td>2</td>\n",
       "    </tr>\n",
       "    <tr>\n",
       "      <th>United Arab Emirates</th>\n",
       "      <td>8.6</td>\n",
       "      <td>77.7</td>\n",
       "      <td>3.66</td>\n",
       "      <td>63.6</td>\n",
       "      <td>57600</td>\n",
       "      <td>12.500</td>\n",
       "      <td>76.5</td>\n",
       "      <td>1.87</td>\n",
       "      <td>35000</td>\n",
       "      <td>2.427141</td>\n",
       "      <td>1.151813</td>\n",
       "      <td>1.828538</td>\n",
       "      <td>0.276080</td>\n",
       "      <td>2</td>\n",
       "    </tr>\n",
       "    <tr>\n",
       "      <th>United States</th>\n",
       "      <td>7.3</td>\n",
       "      <td>12.4</td>\n",
       "      <td>17.90</td>\n",
       "      <td>15.8</td>\n",
       "      <td>49400</td>\n",
       "      <td>1.220</td>\n",
       "      <td>78.7</td>\n",
       "      <td>1.93</td>\n",
       "      <td>48400</td>\n",
       "      <td>2.641206</td>\n",
       "      <td>-2.997364</td>\n",
       "      <td>-1.721878</td>\n",
       "      <td>2.827110</td>\n",
       "      <td>2</td>\n",
       "    </tr>\n",
       "    <tr>\n",
       "      <th>Venezuela</th>\n",
       "      <td>17.1</td>\n",
       "      <td>28.5</td>\n",
       "      <td>4.91</td>\n",
       "      <td>17.6</td>\n",
       "      <td>16500</td>\n",
       "      <td>45.900</td>\n",
       "      <td>75.4</td>\n",
       "      <td>2.47</td>\n",
       "      <td>13500</td>\n",
       "      <td>-0.551036</td>\n",
       "      <td>-1.233886</td>\n",
       "      <td>3.101350</td>\n",
       "      <td>-0.115311</td>\n",
       "      <td>1</td>\n",
       "    </tr>\n",
       "  </tbody>\n",
       "</table>\n",
       "</div>"
      ],
      "text/plain": [
       "                       child_mort  exports  health  imports  income  \\\n",
       "country                                                               \n",
       "Brunei                       10.5     67.4    2.84     28.0   80600   \n",
       "Kiribati                     62.7     13.3   11.30     79.9    1730   \n",
       "Kuwait                       10.8     66.7    2.63     30.4   75200   \n",
       "Lesotho                      99.7     39.4   11.10    101.0    2380   \n",
       "Liberia                      89.3     19.1   11.80     92.6     700   \n",
       "Luxembourg                    2.8    175.0    7.77    142.0   91700   \n",
       "Malta                         6.8    153.0    8.65    154.0   28300   \n",
       "Micronesia, Fed. Sts.        40.0     23.5   14.20     81.0    3340   \n",
       "Mongolia                     26.1     46.7    5.44     56.7    7710   \n",
       "Nigeria                     130.0     25.3    5.07     17.4    5150   \n",
       "Oman                         11.7     65.7    2.77     41.2   45300   \n",
       "Qatar                         9.0     62.3    1.81     23.8  125000   \n",
       "Saudi Arabia                 15.7     49.6    4.29     33.0   45400   \n",
       "Seychelles                   14.4     93.8    3.40    108.0   20400   \n",
       "Singapore                     2.8    200.0    3.96    174.0   72100   \n",
       "United Arab Emirates          8.6     77.7    3.66     63.6   57600   \n",
       "United States                 7.3     12.4   17.90     15.8   49400   \n",
       "Venezuela                    17.1     28.5    4.91     17.6   16500   \n",
       "\n",
       "                       inflation  life_expec  total_fer    gdpp       PC1  \\\n",
       "country                                                                     \n",
       "Brunei                    16.700        77.1       1.84   35300  2.460086   \n",
       "Kiribati                   1.520        60.7       3.84    1490 -1.239217   \n",
       "Kuwait                    11.200        78.2       2.21   38500  2.465659   \n",
       "Lesotho                    4.150        46.5       3.30    1170 -1.803151   \n",
       "Liberia                    5.470        60.8       5.02     327 -1.773580   \n",
       "Luxembourg                 3.620        81.3       1.63  105000  6.917755   \n",
       "Malta                      3.830        80.3       1.36   21100  3.679543   \n",
       "Micronesia, Fed. Sts.      3.800        65.4       3.46    2860 -0.380929   \n",
       "Mongolia                  39.200        66.2       2.64    2650 -0.944976   \n",
       "Nigeria                  104.000        60.5       5.84    2330 -4.912066   \n",
       "Oman                      15.600        76.1       2.90   19300  1.127387   \n",
       "Qatar                      6.980        79.5       2.07   70300  4.242296   \n",
       "Saudi Arabia              17.200        75.1       2.96   19300  0.855936   \n",
       "Seychelles                -4.210        73.4       2.17   10800  1.602598   \n",
       "Singapore                 -0.046        82.7       1.15   46600  5.783376   \n",
       "United Arab Emirates      12.500        76.5       1.87   35000  2.427141   \n",
       "United States              1.220        78.7       1.93   48400  2.641206   \n",
       "Venezuela                 45.900        75.4       2.47   13500 -0.551036   \n",
       "\n",
       "                            PC2       PC3       PC4  cluster_new  \n",
       "country                                                           \n",
       "Brunei                 0.016454  3.019840  0.776841            1  \n",
       "Kiribati               0.369138 -2.368274  0.592231            3  \n",
       "Kuwait                 0.088050  2.652268  0.708884            1  \n",
       "Lesotho                2.037851 -2.496885  1.072199            0  \n",
       "Liberia                1.053399 -2.390440  1.179569            0  \n",
       "Luxembourg             4.849844  1.001837  3.129643            2  \n",
       "Malta                  4.765486 -1.021313 -0.501107            2  \n",
       "Micronesia, Fed. Sts.  0.101774 -2.714085  0.771974            1  \n",
       "Mongolia               0.529800  1.854419 -0.394166            1  \n",
       "Nigeria               -0.094499  6.110158  2.412421            0  \n",
       "Oman                   0.491611  2.133501 -0.176492            1  \n",
       "Qatar                 -0.195604  3.643875  2.389811            1  \n",
       "Saudi Arabia          -0.183441  1.903072  0.202259            1  \n",
       "Seychelles             2.939121 -0.386691 -1.400371            1  \n",
       "Singapore              6.682090  0.654420  0.089638            2  \n",
       "United Arab Emirates   1.151813  1.828538  0.276080            2  \n",
       "United States         -2.997364 -1.721878  2.827110            2  \n",
       "Venezuela             -1.233886  3.101350 -0.115311            1  "
      ]
     },
     "execution_count": 125,
     "metadata": {},
     "output_type": "execute_result"
    }
   ],
   "source": [
    "final_outlier_hierar_df.head(18)"
   ]
  },
  {
   "cell_type": "markdown",
   "metadata": {},
   "source": [
    "## Appended non -outlier and outlier dataframes and visualization"
   ]
  },
  {
   "cell_type": "code",
   "execution_count": 126,
   "metadata": {},
   "outputs": [],
   "source": [
    "result_hierarchy = final_noutlier_hierar_df.append(final_outlier_hierar_df,sort=True)"
   ]
  },
  {
   "cell_type": "code",
   "execution_count": 127,
   "metadata": {},
   "outputs": [
    {
     "data": {
      "text/html": [
       "<div>\n",
       "<style scoped>\n",
       "    .dataframe tbody tr th:only-of-type {\n",
       "        vertical-align: middle;\n",
       "    }\n",
       "\n",
       "    .dataframe tbody tr th {\n",
       "        vertical-align: top;\n",
       "    }\n",
       "\n",
       "    .dataframe thead th {\n",
       "        text-align: right;\n",
       "    }\n",
       "</style>\n",
       "<table border=\"1\" class=\"dataframe\">\n",
       "  <thead>\n",
       "    <tr style=\"text-align: right;\">\n",
       "      <th></th>\n",
       "      <th>PC1</th>\n",
       "      <th>PC2</th>\n",
       "      <th>PC3</th>\n",
       "      <th>PC4</th>\n",
       "      <th>child_mort</th>\n",
       "      <th>cluster</th>\n",
       "      <th>cluster_new</th>\n",
       "      <th>exports</th>\n",
       "      <th>gdpp</th>\n",
       "      <th>health</th>\n",
       "      <th>imports</th>\n",
       "      <th>income</th>\n",
       "      <th>inflation</th>\n",
       "      <th>life_expec</th>\n",
       "      <th>total_fer</th>\n",
       "    </tr>\n",
       "    <tr>\n",
       "      <th>country</th>\n",
       "      <th></th>\n",
       "      <th></th>\n",
       "      <th></th>\n",
       "      <th></th>\n",
       "      <th></th>\n",
       "      <th></th>\n",
       "      <th></th>\n",
       "      <th></th>\n",
       "      <th></th>\n",
       "      <th></th>\n",
       "      <th></th>\n",
       "      <th></th>\n",
       "      <th></th>\n",
       "      <th></th>\n",
       "      <th></th>\n",
       "    </tr>\n",
       "  </thead>\n",
       "  <tbody>\n",
       "    <tr>\n",
       "      <th>Afghanistan</th>\n",
       "      <td>-2.913025</td>\n",
       "      <td>0.095621</td>\n",
       "      <td>-0.718118</td>\n",
       "      <td>1.005255</td>\n",
       "      <td>90.2</td>\n",
       "      <td>1.0</td>\n",
       "      <td>0</td>\n",
       "      <td>10.0</td>\n",
       "      <td>553</td>\n",
       "      <td>7.58</td>\n",
       "      <td>44.9</td>\n",
       "      <td>1610</td>\n",
       "      <td>9.44</td>\n",
       "      <td>56.2</td>\n",
       "      <td>5.82</td>\n",
       "    </tr>\n",
       "    <tr>\n",
       "      <th>Albania</th>\n",
       "      <td>0.429911</td>\n",
       "      <td>-0.588156</td>\n",
       "      <td>-0.333486</td>\n",
       "      <td>-1.161059</td>\n",
       "      <td>16.6</td>\n",
       "      <td>2.0</td>\n",
       "      <td>1</td>\n",
       "      <td>28.0</td>\n",
       "      <td>4090</td>\n",
       "      <td>6.55</td>\n",
       "      <td>48.6</td>\n",
       "      <td>9930</td>\n",
       "      <td>4.49</td>\n",
       "      <td>76.3</td>\n",
       "      <td>1.65</td>\n",
       "    </tr>\n",
       "    <tr>\n",
       "      <th>Algeria</th>\n",
       "      <td>-0.285225</td>\n",
       "      <td>-0.455174</td>\n",
       "      <td>1.221505</td>\n",
       "      <td>-0.868115</td>\n",
       "      <td>27.3</td>\n",
       "      <td>3.0</td>\n",
       "      <td>3</td>\n",
       "      <td>38.4</td>\n",
       "      <td>4460</td>\n",
       "      <td>4.17</td>\n",
       "      <td>31.4</td>\n",
       "      <td>12900</td>\n",
       "      <td>16.10</td>\n",
       "      <td>76.5</td>\n",
       "      <td>2.89</td>\n",
       "    </tr>\n",
       "    <tr>\n",
       "      <th>Angola</th>\n",
       "      <td>-2.932423</td>\n",
       "      <td>1.695555</td>\n",
       "      <td>1.525044</td>\n",
       "      <td>0.839625</td>\n",
       "      <td>119.0</td>\n",
       "      <td>1.0</td>\n",
       "      <td>0</td>\n",
       "      <td>62.3</td>\n",
       "      <td>3530</td>\n",
       "      <td>2.85</td>\n",
       "      <td>42.9</td>\n",
       "      <td>5900</td>\n",
       "      <td>22.40</td>\n",
       "      <td>60.1</td>\n",
       "      <td>6.16</td>\n",
       "    </tr>\n",
       "    <tr>\n",
       "      <th>Antigua and Barbuda</th>\n",
       "      <td>1.033576</td>\n",
       "      <td>0.136659</td>\n",
       "      <td>-0.225721</td>\n",
       "      <td>-0.847063</td>\n",
       "      <td>10.3</td>\n",
       "      <td>2.0</td>\n",
       "      <td>1</td>\n",
       "      <td>45.5</td>\n",
       "      <td>12200</td>\n",
       "      <td>6.03</td>\n",
       "      <td>58.9</td>\n",
       "      <td>19100</td>\n",
       "      <td>1.44</td>\n",
       "      <td>76.8</td>\n",
       "      <td>2.13</td>\n",
       "    </tr>\n",
       "  </tbody>\n",
       "</table>\n",
       "</div>"
      ],
      "text/plain": [
       "                          PC1       PC2       PC3       PC4  child_mort  \\\n",
       "country                                                                   \n",
       "Afghanistan         -2.913025  0.095621 -0.718118  1.005255        90.2   \n",
       "Albania              0.429911 -0.588156 -0.333486 -1.161059        16.6   \n",
       "Algeria             -0.285225 -0.455174  1.221505 -0.868115        27.3   \n",
       "Angola              -2.932423  1.695555  1.525044  0.839625       119.0   \n",
       "Antigua and Barbuda  1.033576  0.136659 -0.225721 -0.847063        10.3   \n",
       "\n",
       "                     cluster  cluster_new  exports   gdpp  health  imports  \\\n",
       "country                                                                      \n",
       "Afghanistan              1.0            0     10.0    553    7.58     44.9   \n",
       "Albania                  2.0            1     28.0   4090    6.55     48.6   \n",
       "Algeria                  3.0            3     38.4   4460    4.17     31.4   \n",
       "Angola                   1.0            0     62.3   3530    2.85     42.9   \n",
       "Antigua and Barbuda      2.0            1     45.5  12200    6.03     58.9   \n",
       "\n",
       "                     income  inflation  life_expec  total_fer  \n",
       "country                                                        \n",
       "Afghanistan            1610       9.44        56.2       5.82  \n",
       "Albania                9930       4.49        76.3       1.65  \n",
       "Algeria               12900      16.10        76.5       2.89  \n",
       "Angola                 5900      22.40        60.1       6.16  \n",
       "Antigua and Barbuda   19100       1.44        76.8       2.13  "
      ]
     },
     "execution_count": 127,
     "metadata": {},
     "output_type": "execute_result"
    }
   ],
   "source": [
    "result_hierarchy.head()"
   ]
  },
  {
   "cell_type": "code",
   "execution_count": 128,
   "metadata": {},
   "outputs": [
    {
     "name": "stdout",
     "output_type": "stream",
     "text": [
      "<class 'pandas.core.frame.DataFrame'>\n",
      "Index: 167 entries, Afghanistan to Venezuela\n",
      "Data columns (total 15 columns):\n",
      "PC1            167 non-null float64\n",
      "PC2            167 non-null float64\n",
      "PC3            167 non-null float64\n",
      "PC4            167 non-null float64\n",
      "child_mort     167 non-null float64\n",
      "cluster        149 non-null float64\n",
      "cluster_new    167 non-null int64\n",
      "exports        167 non-null float64\n",
      "gdpp           167 non-null int64\n",
      "health         167 non-null float64\n",
      "imports        167 non-null float64\n",
      "income         167 non-null int64\n",
      "inflation      167 non-null float64\n",
      "life_expec     167 non-null float64\n",
      "total_fer      167 non-null float64\n",
      "dtypes: float64(12), int64(3)\n",
      "memory usage: 20.9+ KB\n"
     ]
    }
   ],
   "source": [
    "result_hierarchy.info()"
   ]
  },
  {
   "cell_type": "code",
   "execution_count": 129,
   "metadata": {},
   "outputs": [],
   "source": [
    "result_hierarchy.to_csv('Hierarchical_clustering.csv')"
   ]
  },
  {
   "cell_type": "code",
   "execution_count": 130,
   "metadata": {},
   "outputs": [],
   "source": [
    "clusters_child_mor = \tpd.DataFrame(result_hierarchy.groupby([\"cluster_new\"]).child_mort.mean())\n",
    "clusters_exports = \tpd.DataFrame(result_hierarchy.groupby([\"cluster_new\"]).exports.mean())\n",
    "clusters_health = \tpd.DataFrame(result_hierarchy.groupby([\"cluster_new\"]).health.mean())\n",
    "clusters_imports = \tpd.DataFrame(result_hierarchy.groupby([\"cluster_new\"]).exports.mean())\n",
    "clusters_income = \tpd.DataFrame(result_hierarchy.groupby([\"cluster_new\"]).income.mean())\n",
    "clusters_inflation = \tpd.DataFrame(result_hierarchy.groupby([\"cluster_new\"]).inflation.mean())\n",
    "clusters_life_expec = \tpd.DataFrame(result_hierarchy.groupby([\"cluster_new\"]).life_expec.mean())\n",
    "clusters_total_fertility = \tpd.DataFrame(result_hierarchy.groupby([\"cluster_new\"]).total_fer.mean())\n",
    "clusters_gdpp = \tpd.DataFrame(result_hierarchy.groupby([\"cluster_new\"]).gdpp.mean())"
   ]
  },
  {
   "cell_type": "code",
   "execution_count": 131,
   "metadata": {},
   "outputs": [
    {
     "data": {
      "text/html": [
       "<div>\n",
       "<style scoped>\n",
       "    .dataframe tbody tr th:only-of-type {\n",
       "        vertical-align: middle;\n",
       "    }\n",
       "\n",
       "    .dataframe tbody tr th {\n",
       "        vertical-align: top;\n",
       "    }\n",
       "\n",
       "    .dataframe thead th {\n",
       "        text-align: right;\n",
       "    }\n",
       "</style>\n",
       "<table border=\"1\" class=\"dataframe\">\n",
       "  <thead>\n",
       "    <tr style=\"text-align: right;\">\n",
       "      <th></th>\n",
       "      <th>ClusterID</th>\n",
       "      <th>Child_Mor</th>\n",
       "      <th>Exports</th>\n",
       "      <th>Health</th>\n",
       "      <th>import1</th>\n",
       "      <th>income</th>\n",
       "      <th>inflation</th>\n",
       "      <th>life_expectancy</th>\n",
       "      <th>Fertility</th>\n",
       "      <th>gdpp</th>\n",
       "    </tr>\n",
       "  </thead>\n",
       "  <tbody>\n",
       "    <tr>\n",
       "      <th>0</th>\n",
       "      <td>0</td>\n",
       "      <td>93.428261</td>\n",
       "      <td>29.711087</td>\n",
       "      <td>6.284783</td>\n",
       "      <td>29.711087</td>\n",
       "      <td>3753.108696</td>\n",
       "      <td>12.035109</td>\n",
       "      <td>59.034783</td>\n",
       "      <td>5.026522</td>\n",
       "      <td>1862.000000</td>\n",
       "    </tr>\n",
       "    <tr>\n",
       "      <th>1</th>\n",
       "      <td>1</td>\n",
       "      <td>16.396667</td>\n",
       "      <td>50.921667</td>\n",
       "      <td>6.423000</td>\n",
       "      <td>50.921667</td>\n",
       "      <td>19232.500000</td>\n",
       "      <td>6.054417</td>\n",
       "      <td>73.811667</td>\n",
       "      <td>2.121333</td>\n",
       "      <td>10709.766667</td>\n",
       "    </tr>\n",
       "    <tr>\n",
       "      <th>2</th>\n",
       "      <td>2</td>\n",
       "      <td>4.392857</td>\n",
       "      <td>57.385714</td>\n",
       "      <td>9.830714</td>\n",
       "      <td>57.385714</td>\n",
       "      <td>43017.857143</td>\n",
       "      <td>1.772143</td>\n",
       "      <td>80.742857</td>\n",
       "      <td>1.758214</td>\n",
       "      <td>45560.714286</td>\n",
       "    </tr>\n",
       "    <tr>\n",
       "      <th>3</th>\n",
       "      <td>3</td>\n",
       "      <td>29.896970</td>\n",
       "      <td>25.345121</td>\n",
       "      <td>5.711515</td>\n",
       "      <td>25.345121</td>\n",
       "      <td>10062.727273</td>\n",
       "      <td>10.092909</td>\n",
       "      <td>72.051515</td>\n",
       "      <td>2.563030</td>\n",
       "      <td>4881.090909</td>\n",
       "    </tr>\n",
       "  </tbody>\n",
       "</table>\n",
       "</div>"
      ],
      "text/plain": [
       "   ClusterID  Child_Mor    Exports    Health    import1        income  \\\n",
       "0          0  93.428261  29.711087  6.284783  29.711087   3753.108696   \n",
       "1          1  16.396667  50.921667  6.423000  50.921667  19232.500000   \n",
       "2          2   4.392857  57.385714  9.830714  57.385714  43017.857143   \n",
       "3          3  29.896970  25.345121  5.711515  25.345121  10062.727273   \n",
       "\n",
       "   inflation  life_expectancy  Fertility          gdpp  \n",
       "0  12.035109        59.034783   5.026522   1862.000000  \n",
       "1   6.054417        73.811667   2.121333  10709.766667  \n",
       "2   1.772143        80.742857   1.758214  45560.714286  \n",
       "3  10.092909        72.051515   2.563030   4881.090909  "
      ]
     },
     "execution_count": 131,
     "metadata": {},
     "output_type": "execute_result"
    }
   ],
   "source": [
    "final_cluster_hierarchy = pd.concat([pd.Series([0,1,2,3]),clusters_child_mor,clusters_exports,clusters_health,clusters_imports,clusters_income,clusters_inflation,clusters_life_expec,clusters_total_fertility,clusters_gdpp], axis=1)\n",
    "final_cluster_hierarchy.columns = [\"ClusterID\", \"Child_Mor\",\"Exports\",\"Health\",\"import1\",\"income\",\"inflation\",\"life_expectancy\", \"Fertility\",\"gdpp\"]\n",
    "final_cluster_hierarchy.head()\n"
   ]
  },
  {
   "cell_type": "code",
   "execution_count": 132,
   "metadata": {},
   "outputs": [
    {
     "data": {
      "text/plain": [
       "<matplotlib.axes._subplots.AxesSubplot at 0xdca7908>"
      ]
     },
     "execution_count": 132,
     "metadata": {},
     "output_type": "execute_result"
    },
    {
     "data": {
      "image/png": "[encoded data removed]",
      "text/plain": [
       "<Figure size 432x288 with 1 Axes>"
      ]
     },
     "metadata": {
      "needs_background": "light"
     },
     "output_type": "display_data"
    }
   ],
   "source": [
    "#plotting barplot for Child_Mor\n",
    "sns.barplot(x=final_cluster_hierarchy.ClusterID, y=final_cluster_hierarchy.Child_Mor)"
   ]
  },
  {
   "cell_type": "code",
   "execution_count": 133,
   "metadata": {},
   "outputs": [
    {
     "data": {
      "text/plain": [
       "<matplotlib.axes._subplots.AxesSubplot at 0xdd7bc50>"
      ]
     },
     "execution_count": 133,
     "metadata": {},
     "output_type": "execute_result"
    },
    {
     "data": {
      "image/png": "[encoded data removed]",
      "text/plain": [
       "<Figure size 432x288 with 1 Axes>"
      ]
     },
     "metadata": {
      "needs_background": "light"
     },
     "output_type": "display_data"
    }
   ],
   "source": [
    "#plotting barplot for Health\n",
    "sns.barplot(x=final_cluster_hierarchy.ClusterID, y=final_cluster_hierarchy.Health)"
   ]
  },
  {
   "cell_type": "code",
   "execution_count": 134,
   "metadata": {},
   "outputs": [
    {
     "data": {
      "text/plain": [
       "<matplotlib.axes._subplots.AxesSubplot at 0xddc5208>"
      ]
     },
     "execution_count": 134,
     "metadata": {},
     "output_type": "execute_result"
    },
    {
     "data": {
      "image/png": "[encoded data removed]",
      "text/plain": [
       "<Figure size 432x288 with 1 Axes>"
      ]
     },
     "metadata": {
      "needs_background": "light"
     },
     "output_type": "display_data"
    }
   ],
   "source": [
    "#plotting barplot for Exports\n",
    "sns.barplot(x=final_cluster_hierarchy.ClusterID, y=final_cluster_hierarchy.Exports)"
   ]
  },
  {
   "cell_type": "code",
   "execution_count": 135,
   "metadata": {},
   "outputs": [
    {
     "data": {
      "text/plain": [
       "<matplotlib.axes._subplots.AxesSubplot at 0xf482c50>"
      ]
     },
     "execution_count": 135,
     "metadata": {},
     "output_type": "execute_result"
    },
    {
     "data": {
      "image/png": "[encoded data removed]",
      "text/plain": [
       "<Figure size 432x288 with 1 Axes>"
      ]
     },
     "metadata": {
      "needs_background": "light"
     },
     "output_type": "display_data"
    }
   ],
   "source": [
    "#plotting barplot for import1\n",
    "sns.barplot(x=final_cluster_hierarchy.ClusterID, y=final_cluster_hierarchy.import1)"
   ]
  },
  {
   "cell_type": "code",
   "execution_count": 136,
   "metadata": {},
   "outputs": [
    {
     "data": {
      "text/plain": [
       "<matplotlib.axes._subplots.AxesSubplot at 0xde22080>"
      ]
     },
     "execution_count": 136,
     "metadata": {},
     "output_type": "execute_result"
    },
    {
     "data": {
      "image/png": "[encoded data removed]",
      "text/plain": [
       "<Figure size 432x288 with 1 Axes>"
      ]
     },
     "metadata": {
      "needs_background": "light"
     },
     "output_type": "display_data"
    }
   ],
   "source": [
    "#plotting barplot for income\n",
    "sns.barplot(x=final_cluster_hierarchy.ClusterID, y=final_cluster_hierarchy.income)"
   ]
  },
  {
   "cell_type": "code",
   "execution_count": 137,
   "metadata": {},
   "outputs": [
    {
     "data": {
      "text/plain": [
       "<matplotlib.axes._subplots.AxesSubplot at 0xf541da0>"
      ]
     },
     "execution_count": 137,
     "metadata": {},
     "output_type": "execute_result"
    },
    {
     "data": {
      "image/png": "[encoded data removed]",
      "text/plain": [
       "<Figure size 432x288 with 1 Axes>"
      ]
     },
     "metadata": {
      "needs_background": "light"
     },
     "output_type": "display_data"
    }
   ],
   "source": [
    "#plotting barplot for life_expectancy\n",
    "sns.barplot(x=final_cluster_hierarchy.ClusterID, y=final_cluster_hierarchy.life_expectancy)"
   ]
  },
  {
   "cell_type": "code",
   "execution_count": 138,
   "metadata": {},
   "outputs": [
    {
     "data": {
      "text/plain": [
       "<matplotlib.axes._subplots.AxesSubplot at 0x10580ac8>"
      ]
     },
     "execution_count": 138,
     "metadata": {},
     "output_type": "execute_result"
    },
    {
     "data": {
      "image/png": "[encoded data removed]",
      "text/plain": [
       "<Figure size 432x288 with 1 Axes>"
      ]
     },
     "metadata": {
      "needs_background": "light"
     },
     "output_type": "display_data"
    }
   ],
   "source": [
    "#plotting barplot for gdpp\n",
    "sns.barplot(x=final_cluster_hierarchy.ClusterID, y=final_cluster_hierarchy.gdpp)"
   ]
  },
  {
   "cell_type": "markdown",
   "metadata": {},
   "source": [
    "## Cluster 2 has highest GDP,life_expectancy,income,export,import,health and  low in inflation ,child mortality,total_fertility\n",
    "## Cluster 1 has higher GDP,life_expectancy,income,export,import,health spending and lowest inflation,child mortality, \n",
    "## Cluster 3 has lower GDP,imports ,export, income,export,import and  higher inflation,child mortality, \n",
    "## Cluster 0 has lowest GDP,income,health,life_expectancy and highest inflation,child\n"
   ]
  },
  {
   "cell_type": "code",
   "execution_count": null,
   "metadata": {},
   "outputs": [],
   "source": []
  },
  {
   "cell_type": "code",
   "execution_count": null,
   "metadata": {},
   "outputs": [],
   "source": []
  },
  {
   "cell_type": "code",
   "execution_count": null,
   "metadata": {},
   "outputs": [],
   "source": []
  },
  {
   "cell_type": "code",
   "execution_count": null,
   "metadata": {},
   "outputs": [],
   "source": []
  }
 ],
 "metadata": {
  "kernelspec": {
   "display_name": "Python 3",
   "language": "python",
   "name": "python3"
  },
  "language_info": {
   "codemirror_mode": {
    "name": "ipython",
    "version": 3
   },
   "file_extension": ".py",
   "mimetype": "text/x-python",
   "name": "python",
   "nbconvert_exporter": "python",
   "pygments_lexer": "ipython3",
   "version": "3.6.6"
  }
 },
 "nbformat": 4,
 "nbformat_minor": 2
}
